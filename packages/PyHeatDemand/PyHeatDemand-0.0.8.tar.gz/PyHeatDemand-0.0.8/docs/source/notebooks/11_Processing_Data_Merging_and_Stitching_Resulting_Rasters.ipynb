{
 "cells": [
  {
   "cell_type": "markdown",
   "id": "ab9c3bab-289c-4a96-864f-b93dfddef7fc",
   "metadata": {},
   "source": [
    "© Alexander Jüstel, Fraunhofer IEG, Institution for Energy Infrastructures and Geothermal Systems, RWTH Aachen University,\n",
    "GNU Lesser General Public License v3.0\n",
    "\n",
    "# 11 Processing: Data Merging and Stitching Rasters\n",
    "\n",
    "This notebook illustrates how to merge and stitch the resulting heat demand rasters to get one final heat demand map. "
   ]
  },
  {
   "cell_type": "markdown",
   "id": "191c5787-31b9-4b08-bf9c-abaf0104a37a",
   "metadata": {},
   "source": [
    "## Importing Libraries"
   ]
  },
  {
   "cell_type": "code",
   "execution_count": 3,
   "id": "cc604b93-c5a1-4763-819d-119ed8844790",
   "metadata": {},
   "outputs": [],
   "source": [
    "import rasterio\n",
    "import os\n",
    "\n",
    "import sys \n",
    "sys.path.insert(0, '../pyhd/')\n",
    "import processing"
   ]
  },
  {
   "cell_type": "markdown",
   "id": "e6222682-6f8f-477b-8398-af77b516596d",
   "metadata": {},
   "source": [
    "## Get List of all Raster Files\n",
    "\n",
    "Loading the rasters from a folder."
   ]
  },
  {
   "cell_type": "code",
   "execution_count": 38,
   "id": "8555e6b9-216f-487f-b893-b9964b1628df",
   "metadata": {},
   "outputs": [
    {
     "data": {
      "text/plain": [
       "['C:\\\\Users\\\\ale93371\\\\Documents\\\\pyhd\\\\data\\\\rasters\\\\HD_Test1.tif',\n",
       " 'C:\\\\Users\\\\ale93371\\\\Documents\\\\pyhd\\\\data\\\\rasters\\\\HD_Test2.tif']"
      ]
     },
     "execution_count": 38,
     "metadata": {},
     "output_type": "execute_result"
    }
   ],
   "source": [
    "raster_list = os.listdir('../data/rasters/')\n",
    "raster_list = [os.path.join(os.path.abspath('../data/rasters/'), path) for path in raster_list] \n",
    "raster_list"
   ]
  },
  {
   "cell_type": "code",
   "execution_count": 39,
   "id": "97574cd9-f793-4b61-a3a0-7f1d8f98311b",
   "metadata": {},
   "outputs": [
    {
     "data": {
      "text/plain": [
       "CRS.from_epsg(3035)"
      ]
     },
     "execution_count": 39,
     "metadata": {},
     "output_type": "execute_result"
    }
   ],
   "source": [
    "rasterio.open(raster_list[0]).crs"
   ]
  },
  {
   "cell_type": "markdown",
   "id": "3196623b-c9be-4f8e-9fb4-4b29af0503f5",
   "metadata": {},
   "source": [
    "## Merging the Datasets\n",
    "\n",
    "The datasets can be merged using the `merge_rasters(...)` function."
   ]
  },
  {
   "cell_type": "code",
   "execution_count": 42,
   "id": "d4e88501-830a-4352-bfda-df9f8639480b",
   "metadata": {},
   "outputs": [
    {
     "name": "stdout",
     "output_type": "stream",
     "text": [
      "Raster successfully merged\n"
     ]
    }
   ],
   "source": [
    "processing.merge_rasters(raster_list, '../data/Raster_merged.tif')"
   ]
  },
  {
   "cell_type": "markdown",
   "id": "2f60e9cd-8674-426c-a651-978af6c02974",
   "metadata": {},
   "source": [
    "## Plotting result"
   ]
  },
  {
   "cell_type": "code",
   "execution_count": 29,
   "id": "e0560002-c981-4c1e-a9c4-d603dd1310cf",
   "metadata": {},
   "outputs": [
    {
     "data": {
      "image/png": "[encoded data removed]",
      "text/plain": [
       "<Figure size 640x480 with 1 Axes>"
      ]
     },
     "metadata": {},
     "output_type": "display_data"
    },
    {
     "data": {
      "text/plain": [
       "<Axes: >"
      ]
     },
     "execution_count": 29,
     "metadata": {},
     "output_type": "execute_result"
    }
   ],
   "source": [
    "from rasterio.plot import show\n",
    "mosaic = rasterio.open('../data/Raster_merged.tif')\n",
    "show(mosaic)"
   ]
  }
 ],
 "metadata": {
  "kernelspec": {
   "display_name": "Python 3 (ipykernel)",
   "language": "python",
   "name": "python3"
  },
  "language_info": {
   "codemirror_mode": {
    "name": "ipython",
    "version": 3
   },
   "file_extension": ".py",
   "mimetype": "text/x-python",
   "name": "python",
   "nbconvert_exporter": "python",
   "pygments_lexer": "ipython3",
   "version": "3.10.12"
  }
 },
 "nbformat": 4,
 "nbformat_minor": 5
}
