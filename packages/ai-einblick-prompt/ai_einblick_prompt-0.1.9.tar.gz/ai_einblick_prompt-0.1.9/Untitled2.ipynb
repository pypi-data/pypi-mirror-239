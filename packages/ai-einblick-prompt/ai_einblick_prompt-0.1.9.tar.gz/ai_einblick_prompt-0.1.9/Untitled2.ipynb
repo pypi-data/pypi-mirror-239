{
 "cells": [
  {
   "cell_type": "code",
   "execution_count": 10,
   "id": "8f574f07-8f64-47d6-9488-01c50d179a78",
   "metadata": {},
   "outputs": [
    {
     "name": "stdout",
     "output_type": "stream",
     "text": [
      "   London  Paris  New York  Tokyo\n",
      "0      72     20         1     41\n",
      "1      75      4        43      1\n",
      "2      83     51        35     78\n",
      "3      65     67        89     72\n",
      "4      96     47        46     79\n",
      "5      90     43        53     10\n",
      "6       6     85        41     42\n",
      "7      31     50        45     23\n",
      "8      73     39        72      3\n",
      "9      24     66        47     72\n"
     ]
    }
   ],
   "source": [
    "import pandas as pd\n",
    "import numpy as np\n",
    "\n",
    "# Create a random dataframe\n",
    "df = pd.DataFrame(np.random.randint(0, 100, size=(10, 4)), columns=list('ABCD'))\n",
    "\n",
    "# Change column names to random cities\n",
    "df.columns = ['London', 'Paris', 'New York', 'Tokyo']\n",
    "\n",
    "# Print the dataframe\n",
    "print(df)"
   ]
  }
 ],
 "metadata": {
  "kernelspec": {
   "display_name": "Python 3 (ipykernel)",
   "language": "python",
   "name": "python3"
  },
  "language_info": {
   "codemirror_mode": {
    "name": "ipython",
    "version": 3
   },
   "file_extension": ".py",
   "mimetype": "text/x-python",
   "name": "python",
   "nbconvert_exporter": "python",
   "pygments_lexer": "ipython3",
   "version": "3.11.6"
  }
 },
 "nbformat": 4,
 "nbformat_minor": 5
}
