{
 "cells": [
  {
   "cell_type": "code",
   "execution_count": 1,
   "metadata": {},
   "outputs": [],
   "source": [
    "import json\n",
    "import logging\n",
    "from pathlib import Path\n",
    "import time\n",
    "from typing import Dict, List, NewType, Iterable\n",
    "import requests\n",
    "\n",
    "from aistore.sdk.ais_source import AISSource\n",
    "from aistore.sdk.etl_const import DEFAULT_ETL_TIMEOUT\n",
    "from aistore.sdk.object_iterator import ObjectIterator\n",
    "from aistore.sdk.const import (\n",
    "    ACT_COPY_BCK,\n",
    "    ACT_CREATE_BCK,\n",
    "    ACT_DESTROY_BCK,\n",
    "    ACT_ETL_BCK,\n",
    "    ACT_EVICT_REMOTE_BCK,\n",
    "    ACT_LIST,\n",
    "    ACT_MOVE_BCK,\n",
    "    ACT_SUMMARY_BCK,\n",
    "    HEADER_ACCEPT,\n",
    "    HEADER_BUCKET_PROPS,\n",
    "    HEADER_BUCKET_SUMM,\n",
    "    HEADER_XACTION_ID,\n",
    "    HTTP_METHOD_DELETE,\n",
    "    HTTP_METHOD_GET,\n",
    "    HTTP_METHOD_HEAD,\n",
    "    HTTP_METHOD_POST,\n",
    "    MSGPACK_CONTENT_TYPE,\n",
    "    PROVIDER_AIS,\n",
    "    QPARAM_BCK_TO,\n",
    "    QPARAM_BSUMM_REMOTE,\n",
    "    QPARAM_FLT_PRESENCE,\n",
    "    QPARAM_KEEP_REMOTE,\n",
    "    QPARAM_NAMESPACE,\n",
    "    QPARAM_PROVIDER,\n",
    "    URL_PATH_BUCKETS,\n",
    "    STATUS_ACCEPTED,\n",
    "    STATUS_OK,\n",
    ")\n",
    "\n",
    "from aistore.sdk.errors import (\n",
    "    InvalidBckProvider,\n",
    "    ErrBckAlreadyExists,\n",
    "    ErrBckNotFound,\n",
    "    UnexpectedHTTPStatusCode,\n",
    ")\n",
    "from aistore.sdk.multiobj import ObjectGroup, ObjectRange\n",
    "from aistore.sdk.request_client import RequestClient\n",
    "from aistore.sdk.object import Object\n",
    "from aistore.sdk.types import (\n",
    "    ActionMsg,\n",
    "    BucketEntry,\n",
    "    BucketList,\n",
    "    BucketModel,\n",
    "    BsummCtrlMsg,\n",
    "    Namespace,\n",
    "    CopyBckMsg,\n",
    "    TransformBckMsg,\n",
    "    TCBckMsg,\n",
    "    ListObjectsMsg,\n",
    ")\n",
    "from aistore.sdk.list_object_flag import ListObjectFlag\n",
    "from aistore.sdk.utils import validate_directory, get_file_size\n",
    "\n",
    "Header = NewType(\"Header\", requests.structures.CaseInsensitiveDict)\n"
   ]
  },
  {
   "cell_type": "code",
   "execution_count": 1,
   "metadata": {},
   "outputs": [],
   "source": [
    "from aistore import Client\n",
    "\n",
    "client = Client(\"http://localhost:8080\")\n"
   ]
  },
  {
   "cell_type": "code",
   "execution_count": 5,
   "metadata": {},
   "outputs": [],
   "source": [
    "params = {QPARAM_PROVIDER: \"ais\"}\n",
    "params.update({QPARAM_FLT_PRESENCE: 0})\n",
    "params[QPARAM_BSUMM_REMOTE] = True\n",
    "\n",
    "response = client.request(\n",
    "    HTTP_METHOD_HEAD,\n",
    "    path=f\"{URL_PATH_BUCKETS}/temp\",\n",
    "    params=params,\n",
    ")\n",
    "\n",
    "bucket_props = response.headers.get(HEADER_BUCKET_PROPS, \"{}\")\n",
    "uuid = response.headers.get(HEADER_BUCKET_SUMM, \"{}\")\n",
    "# bucket_summ = response.headers.get(HEADER_BUCKET_SUMM, \"{}\")\n",
    "\n",
    "# check status code accepted\n",
    "\n",
    "# add uuid to request qparams\n",
    "\n",
    "# sleep for 2 s\n",
    "\n",
    "#\n",
    "\n"
   ]
  },
  {
   "cell_type": "code",
   "execution_count": 6,
   "metadata": {},
   "outputs": [
    {
     "name": "stdout",
     "output_type": "stream",
     "text": [
      "<bound method Bucket.info of <aistore.sdk.bucket.Bucket object at 0x7fb26417e530>>\n"
     ]
    }
   ],
   "source": [
    "print(client.bucket(bck_name=\"temp\").info)"
   ]
  },
  {
   "cell_type": "code",
   "execution_count": null,
   "metadata": {},
   "outputs": [],
   "source": []
  }
 ],
 "metadata": {
  "kernelspec": {
   "display_name": "python_aistore",
   "language": "python",
   "name": "python3"
  },
  "language_info": {
   "codemirror_mode": {
    "name": "ipython",
    "version": 3
   },
   "file_extension": ".py",
   "mimetype": "text/x-python",
   "name": "python",
   "nbconvert_exporter": "python",
   "pygments_lexer": "ipython3",
   "version": "3.10.12"
  },
  "orig_nbformat": 4
 },
 "nbformat": 4,
 "nbformat_minor": 2
}
