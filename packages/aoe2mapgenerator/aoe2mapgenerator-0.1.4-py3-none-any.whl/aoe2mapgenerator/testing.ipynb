{
 "cells": [
  {
   "cell_type": "code",
   "execution_count": 2,
   "metadata": {},
   "outputs": [],
   "source": [
    "from AoE2ScenarioParser.datasets.players import PlayerId\n",
    "from AoE2ScenarioParser.datasets.units import UnitInfo\n",
    "from AoE2ScenarioParser.datasets.buildings import BuildingInfo\n",
    "from AoE2ScenarioParser.datasets.other import OtherInfo\n",
    "from AoE2ScenarioParser.datasets.terrains import TerrainId\n",
    "from aoe2mapgenerator.common.enums.enum import (\n",
    "    MapLayerType, \n",
    "    ObjectSize,\n",
    "    GateTypes, \n",
    "    TemplateTypes, \n",
    "    ObjectRotation, \n",
    "    YamlReplacementKeywords,\n",
    "    CheckPlacementReturnTypes\n",
    ")\n",
    "from aoe2mapgenerator.map.map import Map\n",
    "from aoe2mapgenerator.scenario.scenario import Scenario\n",
    "import numpy\n",
    "import random\n",
    "from time import time"
   ]
  },
  {
   "cell_type": "code",
   "execution_count": 4,
   "metadata": {},
   "outputs": [],
   "source": [
    "input_name = \"1 vs 7 default.aoe2scenario\"\n",
    "output_name = \"0_BASIC_SCENARIO.aoe2scenario\""
   ]
  },
  {
   "cell_type": "code",
   "execution_count": 5,
   "metadata": {},
   "outputs": [],
   "source": [
    "size = 100"
   ]
  },
  {
   "cell_type": "code",
   "execution_count": 6,
   "metadata": {},
   "outputs": [],
   "source": [
    "array = [[0 for i in range(size)] for j in range(size)]"
   ]
  },
  {
   "cell_type": "code",
   "execution_count": null,
   "metadata": {},
   "outputs": [],
   "source": [
    "\n"
   ]
  },
  {
   "cell_type": "code",
   "execution_count": null,
   "metadata": {},
   "outputs": [],
   "source": [
    "map_size = 256\n",
    "map = Map(map_size)\n",
    "map.voronoi(50)\n",
    "\n",
    "map.add_borders_all(\n",
    "    [MapLayerType.UNIT, MapLayerType.TERRAIN, MapLayerType.DECOR],\n",
    "    TerrainId.ROAD_FUNGUS,\n",
    "    margin = 2\n",
    "    )"
   ]
  }
 ],
 "metadata": {
  "kernelspec": {
   "display_name": "Python 3",
   "language": "python",
   "name": "python3"
  },
  "language_info": {
   "codemirror_mode": {
    "name": "ipython",
    "version": 3
   },
   "file_extension": ".py",
   "mimetype": "text/x-python",
   "name": "python",
   "nbconvert_exporter": "python",
   "pygments_lexer": "ipython3",
   "version": "3.10.6"
  },
  "orig_nbformat": 4
 },
 "nbformat": 4,
 "nbformat_minor": 2
}
