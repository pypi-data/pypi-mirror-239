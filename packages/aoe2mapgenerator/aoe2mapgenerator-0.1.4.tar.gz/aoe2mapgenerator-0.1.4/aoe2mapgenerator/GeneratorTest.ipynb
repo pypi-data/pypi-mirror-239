{
 "cells": [
  {
   "cell_type": "code",
   "execution_count": 2,
   "metadata": {},
   "outputs": [],
   "source": [
    "import numpy as np\n",
    "from matplotlib.pylab import matshow\n",
    "import matplotlib.pyplot as plt\n",
    "import random"
   ]
  },
  {
   "cell_type": "code",
   "execution_count": 3,
   "metadata": {},
   "outputs": [],
   "source": [
    "def c():\n",
    "    return int(random.random()*256)\n",
    "\n",
    "a = [[(0,0,0) for i in range(256)] for j in range(256)]"
   ]
  },
  {
   "cell_type": "code",
   "execution_count": 4,
   "metadata": {},
   "outputs": [
    {
     "data": {
      "text/plain": [
       "<matplotlib.image.AxesImage at 0x1ffe505d4e0>"
      ]
     },
     "execution_count": 4,
     "metadata": {},
     "output_type": "execute_result"
    },
    {
     "data": {
      "image/png": "[encoded data removed]",
      "text/plain": [
       "<Figure size 1080x1080 with 1 Axes>"
      ]
     },
     "metadata": {},
     "output_type": "display_data"
    }
   ],
   "source": [
    "fig, ax = plt.subplots(1,1,facecolor = \"white\", figsize = (15,15))\n",
    "\n",
    "ax.matshow(a)"
   ]
  },
  {
   "cell_type": "code",
   "execution_count": 1,
   "metadata": {},
   "outputs": [
    {
     "name": "stdout",
     "output_type": "stream",
     "text": [
      "[103, 109]\n",
      "<class 'list'>\n"
     ]
    },
    {
     "ename": "TypeError",
     "evalue": "Field elements must be 2- or 3-tuples, got '103'",
     "output_type": "error",
     "traceback": [
      "\u001b[1;31m---------------------------------------------------------------------------\u001b[0m",
      "\u001b[1;31mTypeError\u001b[0m                                 Traceback (most recent call last)",
      "\u001b[1;32mc:\\Users\\josep\\OneDrive\\Documents\\GitHub\\AOE2\\GeneratorTest.ipynb Cell 4'\u001b[0m in \u001b[0;36m<cell line: 4>\u001b[1;34m()\u001b[0m\n\u001b[0;32m      <a href='vscode-notebook-cell:/c%3A/Users/josep/OneDrive/Documents/GitHub/AOE2/GeneratorTest.ipynb#ch0000003?line=0'>1</a>\u001b[0m \u001b[39mfrom\u001b[39;00m \u001b[39munits\u001b[39;00m\u001b[39m.\u001b[39;00m\u001b[39mwallgenerator\u001b[39;00m \u001b[39mimport\u001b[39;00m generate_polygonal_wall\n\u001b[0;32m      <a href='vscode-notebook-cell:/c%3A/Users/josep/OneDrive/Documents/GitHub/AOE2/GeneratorTest.ipynb#ch0000003?line=1'>2</a>\u001b[0m \u001b[39mimport\u001b[39;00m \u001b[39mvisualizer\u001b[39;00m\u001b[39m.\u001b[39;00m\u001b[39mvisualizer\u001b[39;00m\n\u001b[1;32m----> <a href='vscode-notebook-cell:/c%3A/Users/josep/OneDrive/Documents/GitHub/AOE2/GeneratorTest.ipynb#ch0000003?line=3'>4</a>\u001b[0m generate_polygonal_wall(\u001b[39m100\u001b[39;49m,\u001b[39m100\u001b[39;49m,\u001b[39m5\u001b[39;49m,\u001b[39m10\u001b[39;49m)\n",
      "File \u001b[1;32mc:\\Users\\josep\\OneDrive\\Documents\\GitHub\\AOE2\\units\\wallgenerator.py:79\u001b[0m, in \u001b[0;36mgenerate_polygonal_wall\u001b[1;34m(x, y, corner_points, radius)\u001b[0m\n\u001b[0;32m     75\u001b[0m \u001b[39m\"\"\"\u001b[39;00m\n\u001b[0;32m     76\u001b[0m \u001b[39mTODO\u001b[39;00m\n\u001b[0;32m     77\u001b[0m \u001b[39m\"\"\"\u001b[39;00m\n\u001b[0;32m     78\u001b[0m points \u001b[39m=\u001b[39m generate_polygonal_wall_points(x, y, corner_points, radius)\n\u001b[1;32m---> 79\u001b[0m points \u001b[39m=\u001b[39m connect_points(points)\n\u001b[0;32m     80\u001b[0m \u001b[39mprint\u001b[39m(\u001b[39m\"\u001b[39m\u001b[39mHERERERERERERe\u001b[39m\u001b[39m\"\u001b[39m)\n\u001b[0;32m     81\u001b[0m \u001b[39mprint\u001b[39m(points)\n",
      "File \u001b[1;32mc:\\Users\\josep\\OneDrive\\Documents\\GitHub\\AOE2\\units\\wallgenerator.py:41\u001b[0m, in \u001b[0;36mconnect_points\u001b[1;34m(point_list)\u001b[0m\n\u001b[0;32m     39\u001b[0m     \u001b[39mprint\u001b[39m(next_point)\n\u001b[0;32m     40\u001b[0m     \u001b[39mprint\u001b[39m(\u001b[39mtype\u001b[39m(next_point))\n\u001b[1;32m---> 41\u001b[0m     new_points \u001b[39m=\u001b[39m connect2(np\u001b[39m.\u001b[39;49marray([x,y], [next_point[\u001b[39m0\u001b[39;49m],next_point[\u001b[39m1\u001b[39;49m]]))\n\u001b[0;32m     42\u001b[0m     returned_points\u001b[39m.\u001b[39mappend(new_points)  \n\u001b[0;32m     44\u001b[0m \u001b[39mfor\u001b[39;00m point \u001b[39min\u001b[39;00m point_list:\n",
      "\u001b[1;31mTypeError\u001b[0m: Field elements must be 2- or 3-tuples, got '103'"
     ]
    }
   ],
   "source": [
    "from units.wallgenerator import generate_polygonal_wall\n",
    "import visualizer.visualizer\n",
    "\n",
    "generate_polygonal_wall(100,100,5,10)"
   ]
  },
  {
   "cell_type": "markdown",
   "metadata": {},
   "source": []
  },
  {
   "cell_type": "code",
   "execution_count": 4,
   "metadata": {},
   "outputs": [],
   "source": [
    "import numpy as np"
   ]
  },
  {
   "cell_type": "code",
   "execution_count": 5,
   "metadata": {},
   "outputs": [],
   "source": [
    "def connect2(ends):\n",
    "    \"\"\"\n",
    "    Creates a list of points connecting two endpoints.\n",
    "\n",
    "    Arg:\n",
    "        ends: list of two [x,y] start and end points.\n",
    "    \n",
    "    Returns:\n",
    "        List of the points in between start and end\n",
    "    \"\"\"\n",
    "    d0, d1 = np.diff(ends, axis=0)[0]\n",
    "    if np.abs(d0) > np.abs(d1): \n",
    "        return np.c_[np.arange(ends[0, 0], ends[1,0] + np.sign(d0), np.sign(d0), dtype=np.int32),\n",
    "                     np.arange(ends[0, 1] * np.abs(d0) + np.abs(d0)//2,\n",
    "                               ends[0, 1] * np.abs(d0) + np.abs(d0)//2 + (np.abs(d0)+1) * d1, d1, dtype=np.int32) // np.abs(d0)]\n",
    "    else:\n",
    "        return np.c_[np.arange(ends[0, 0] * np.abs(d1) + np.abs(d1)//2,\n",
    "                               ends[0, 0] * np.abs(d1) + np.abs(d1)//2 + (np.abs(d1)+1) * d0, d0, dtype=np.int32) // np.abs(d1),\n",
    "                     np.arange(ends[0, 1], ends[1,1] + np.sign(d1), np.sign(d1), dtype=np.int32)]"
   ]
  },
  {
   "cell_type": "code",
   "execution_count": 8,
   "metadata": {},
   "outputs": [
    {
     "data": {
      "text/plain": [
       "array([[ 0,  0],\n",
       "       [ 1,  1],\n",
       "       [ 1,  2],\n",
       "       [ 2,  3],\n",
       "       [ 2,  4],\n",
       "       [ 3,  5],\n",
       "       [ 4,  6],\n",
       "       [ 4,  7],\n",
       "       [ 5,  8],\n",
       "       [ 5,  9],\n",
       "       [ 6, 10],\n",
       "       [ 7, 11],\n",
       "       [ 7, 12],\n",
       "       [ 8, 13],\n",
       "       [ 8, 14],\n",
       "       [ 9, 15]])"
      ]
     },
     "execution_count": 8,
     "metadata": {},
     "output_type": "execute_result"
    }
   ],
   "source": [
    "connect2(np.array([[0,0],[9,15]]))"
   ]
  },
  {
   "cell_type": "code",
   "execution_count": null,
   "metadata": {},
   "outputs": [],
   "source": []
  }
 ],
 "metadata": {
  "kernelspec": {
   "display_name": "Python 3.10.5 64-bit",
   "language": "python",
   "name": "python3"
  },
  "language_info": {
   "codemirror_mode": {
    "name": "ipython",
    "version": 3
   },
   "file_extension": ".py",
   "mimetype": "text/x-python",
   "name": "python",
   "nbconvert_exporter": "python",
   "pygments_lexer": "ipython3",
   "version": "3.10.5"
  },
  "orig_nbformat": 4,
  "vscode": {
   "interpreter": {
    "hash": "369f2c481f4da34e4445cda3fffd2e751bd1c4d706f27375911949ba6bb62e1c"
   }
  }
 },
 "nbformat": 4,
 "nbformat_minor": 2
}
