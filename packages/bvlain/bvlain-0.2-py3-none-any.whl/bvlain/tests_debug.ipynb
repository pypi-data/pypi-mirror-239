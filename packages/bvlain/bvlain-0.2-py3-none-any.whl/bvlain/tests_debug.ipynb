{
 "cells": [
  {
   "cell_type": "code",
   "execution_count": 1,
   "id": "d97f1bf7",
   "metadata": {},
   "outputs": [],
   "source": [
    "from bvlain import Lain as old"
   ]
  },
  {
   "cell_type": "code",
   "execution_count": 5,
   "id": "ced445c2",
   "metadata": {},
   "outputs": [],
   "source": [
    "from core import Lain as new"
   ]
  },
  {
   "cell_type": "code",
   "execution_count": 8,
   "id": "2ce01e96",
   "metadata": {},
   "outputs": [
    {
     "data": {
      "text/plain": [
       "Atoms(symbols='V4P4O16', pbc=True, cell=[5.22171287, 7.79092099, 6.33946366], alpha=..., d0=..., n=..., oxi_states=..., r_c=..., r_min=..., spacegroup_kinds=...)"
      ]
     },
     "execution_count": 8,
     "metadata": {},
     "output_type": "execute_result"
    }
   ],
   "source": [
    "calc.atoms"
   ]
  },
  {
   "cell_type": "code",
   "execution_count": 11,
   "id": "54a1c40b",
   "metadata": {},
   "outputs": [
    {
     "name": "stdout",
     "output_type": "stream",
     "text": [
      "getting void distribution...\n",
      "\tcollecting force field parameters... Li | charge: 1\n",
      "\tcollecting neighbors...\n",
      "\tneighbors found\n",
      "distribution is ready\n",
      "\n"
     ]
    },
    {
     "data": {
      "text/plain": [
       "{'r_1D': 0.316, 'r_2D': 0.1053, 'r_3D': 0.1053}"
      ]
     },
     "execution_count": 11,
     "metadata": {},
     "output_type": "execute_result"
    }
   ],
   "source": [
    "from ase.io import read\n",
    "file = '/Users/artemdembitskiy/Downloads/VPO4.cif'\n",
    "atoms = read(file)\n",
    "\n",
    "calc = new()\n",
    "calc.read_atoms(atoms)\n",
    "calc.void_distribution(mobile_ion = 'Li+')\n",
    "calc.percolation_radii()"
   ]
  },
  {
   "cell_type": "code",
   "execution_count": 3,
   "id": "6a1a12f6",
   "metadata": {},
   "outputs": [],
   "source": [
    "file = '/Users/artemdembitskiy/Downloads/VPO4.cif'\n",
    "#file = '/Users/artemdembitskiy/Downloads/KTiPO5.cif'\n",
    "calc1 = old(verbose = 0)\n",
    "calc2 = new(verbose = 0)"
   ]
  },
  {
   "cell_type": "markdown",
   "id": "99376d62",
   "metadata": {},
   "source": [
    "![BVlain_logo](https://raw.githubusercontent.com/dembart/BVlain/master/BVlain_logo.png)\n",
    "\n",
    "BVlain is the module for bond valence site energy calculations and is about to solve tasks related to ionic conductivity of a tracer ion in a crystal structure.\n",
    "\n",
    "For more details, see [documentation.](https://bvlain.readthedocs.io/en/latest/index.html)\n",
    "\n",
    "\n",
    "## Installation\n",
    "\n",
    "To install bvlain\n",
    "```console\n",
    "$ pip install bvlain\n",
    "```\n",
    "\n",
    "## Usage example\n",
    "\n",
    "```python\n",
    "from bvlain import Lain\n",
    "\n",
    "file = 'LiFePO4_mp-19017_symmetrized.cif'\n",
    "calc = Lain(verbose = False)\n",
    "st = calc.read_file(file)\n",
    "\n",
    "params = {'mobile_ion': 'Li1+',    # Mobile specie\n",
    "\t\t  'r_cut': 10.0,           # cutoff for interaction between the mobile species and framework\n",
    "\t\t  'resolution': 0.2,\t   # distance between points in the grid for getting BVSE distribution\n",
    "\t\t  'k': 100                 # maximum number of neighbors to be collected for a given point\n",
    "}\n",
    "_ = calc.bvse_distribution(**params)\n",
    "energies = calc.percolation_analysis(encut = 5.0)\n",
    "```\n",
    "The output is threshold energies for 1-3D percolation \n",
    "\n",
    "```python\n",
    ">>> {'E_1D': 0.4395, 'E_2D': 3.3301, 'E_3D': 3.3594}\n",
    "```\n",
    "For more examples, see [documentation.](https://bvlain.readthedocs.io/en/latest/index.html)\n",
    "\n",
    "The library is under active development and it is not guaranteed that there are no bugs. If you observe not expected results, errors, please report an issue at github.\n",
    "\n",
    "\n",
    "\n",
    "\n"
   ]
  },
  {
   "cell_type": "code",
   "execution_count": 7,
   "id": "6719f807",
   "metadata": {},
   "outputs": [
    {
     "name": "stdout",
     "output_type": "stream",
     "text": [
      "Oops. No BVSE data for a given combination of oxidation states.\n"
     ]
    },
    {
     "name": "stderr",
     "output_type": "stream",
     "text": [
      "/Users/artemdembitskiy/opt/anaconda3/lib/python3.8/site-packages/pymatgen/io/cif.py:1153: UserWarning: Issues encountered while parsing CIF: Some fractional coordinates rounded to ideal values to avoid issues with finite precision.\n",
      "  warnings.warn(\"Issues encountered while parsing CIF: \" + \"\\n\".join(self.warnings))\n"
     ]
    },
    {
     "name": "stdout",
     "output_type": "stream",
     "text": [
      "True /Users/artemdembitskiy/Desktop/projects/GNN/content/Na_dataset_mpi/mp-8696.cif\n",
      "True /Users/artemdembitskiy/Desktop/projects/GNN/content/Na_dataset_mpi/mp-643788.cif\n",
      "True /Users/artemdembitskiy/Desktop/projects/GNN/content/Na_dataset_mpi/mp-1112014.cif\n",
      "True /Users/artemdembitskiy/Desktop/projects/GNN/content/Na_dataset_mpi/mp-22984.cif\n",
      "True /Users/artemdembitskiy/Desktop/projects/GNN/content/Na_dataset_mpi/mp-1232368.cif\n",
      "True /Users/artemdembitskiy/Desktop/projects/GNN/content/Na_dataset_mpi/mp-40873.cif\n",
      "True /Users/artemdembitskiy/Desktop/projects/GNN/content/Na_dataset_mpi/mp-772555.cif\n",
      "True /Users/artemdembitskiy/Desktop/projects/GNN/content/Na_dataset_mpi/mp-505771.cif\n",
      "True /Users/artemdembitskiy/Desktop/projects/GNN/content/Na_dataset_mpi/mp-1221472.cif\n",
      "True /Users/artemdembitskiy/Desktop/projects/GNN/content/Na_dataset_mpi/mp-1221314.cif\n",
      "True /Users/artemdembitskiy/Desktop/projects/GNN/content/Na_dataset_mpi/mp-560843.cif\n",
      "True /Users/artemdembitskiy/Desktop/projects/GNN/content/Na_dataset_mpi/mp-23330.cif\n",
      "True /Users/artemdembitskiy/Desktop/projects/GNN/content/Na_dataset_mpi/mp-1080210.cif\n",
      "True /Users/artemdembitskiy/Desktop/projects/GNN/content/Na_dataset_mpi/mp-733509.cif\n",
      "True /Users/artemdembitskiy/Desktop/projects/GNN/content/Na_dataset_mpi/mp-774642.cif\n",
      "True /Users/artemdembitskiy/Desktop/projects/GNN/content/Na_dataset_mpi/mp-8872.cif\n",
      "True /Users/artemdembitskiy/Desktop/projects/GNN/content/Na_dataset_mpi/mp-804970.cif\n",
      "True /Users/artemdembitskiy/Desktop/projects/GNN/content/Na_dataset_mpi/mp-555608.cif\n",
      "True /Users/artemdembitskiy/Desktop/projects/GNN/content/Na_dataset_mpi/mp-773663.cif\n",
      "True /Users/artemdembitskiy/Desktop/projects/GNN/content/Na_dataset_mpi/mp-27618.cif\n",
      "True /Users/artemdembitskiy/Desktop/projects/GNN/content/Na_dataset_mpi/mp-1220744.cif\n",
      "True /Users/artemdembitskiy/Desktop/projects/GNN/content/Na_dataset_mpi/mp-771060.cif\n",
      "True /Users/artemdembitskiy/Desktop/projects/GNN/content/Na_dataset_mpi/mp-1220988.cif\n"
     ]
    },
    {
     "name": "stderr",
     "output_type": "stream",
     "text": [
      "/Users/artemdembitskiy/opt/anaconda3/lib/python3.8/site-packages/bvlain/core.py:642: RuntimeWarning: divide by zero encountered in true_divide\n",
      "  energy = 14.4 * (q1 * q2 / (nx * n_mi) ** (1/2)) * (1 / (R)) * erfc(R / (f * (R_c + rc_mi)))\n",
      "/Users/artemdembitskiy/Desktop/lain_revised/src/src/bvlain/core.py:648: RuntimeWarning: divide by zero encountered in true_divide\n",
      "  energy = 14.4 * (q1 * q2 / (nx * n_mi) ** (1/2)) * (1 / (R)) * erfc(R / (f * (R_c + rc_mi)))\n"
     ]
    },
    {
     "name": "stdout",
     "output_type": "stream",
     "text": [
      "True /Users/artemdembitskiy/Desktop/projects/GNN/content/Na_dataset_mpi/mp-768257.cif\n",
      "True /Users/artemdembitskiy/Desktop/projects/GNN/content/Na_dataset_mpi/mp-24488.cif\n",
      "True /Users/artemdembitskiy/Desktop/projects/GNN/content/Na_dataset_mpi/mp-755883.cif\n",
      "True /Users/artemdembitskiy/Desktop/projects/GNN/content/Na_dataset_mpi/mp-17724.cif\n",
      "True /Users/artemdembitskiy/Desktop/projects/GNN/content/Na_dataset_mpi/mp-1220963.cif\n",
      "True /Users/artemdembitskiy/Desktop/projects/GNN/content/Na_dataset_mpi/mp-561234.cif\n",
      "True /Users/artemdembitskiy/Desktop/projects/GNN/content/Na_dataset_mpi/mp-2217453.cif\n",
      "True /Users/artemdembitskiy/Desktop/projects/GNN/content/Na_dataset_mpi/mp-1220977.cif\n",
      "True /Users/artemdembitskiy/Desktop/projects/GNN/content/Na_dataset_mpi/mp-9239.cif\n",
      "True /Users/artemdembitskiy/Desktop/projects/GNN/content/Na_dataset_mpi/mp-40668.cif\n",
      "True /Users/artemdembitskiy/Desktop/projects/GNN/content/Na_dataset_mpi/mp-21282.cif\n",
      "Oops. No BVSE data for a given combination of oxidation states.\n",
      "True /Users/artemdembitskiy/Desktop/projects/GNN/content/Na_dataset_mpi/mp-560658.cif\n",
      "True /Users/artemdembitskiy/Desktop/projects/GNN/content/Na_dataset_mpi/mp-1210122.cif\n",
      "True /Users/artemdembitskiy/Desktop/projects/GNN/content/Na_dataset_mpi/mp-1220787.cif\n",
      "True /Users/artemdembitskiy/Desktop/projects/GNN/content/Na_dataset_mpi/mp-17718.cif\n",
      "True /Users/artemdembitskiy/Desktop/projects/GNN/content/Na_dataset_mpi/mp-557976.cif\n",
      "True /Users/artemdembitskiy/Desktop/projects/GNN/content/Na_dataset_mpi/mp-559783.cif\n",
      "Oops. No BVSE data for a given combination of oxidation states.\n",
      "True /Users/artemdembitskiy/Desktop/projects/GNN/content/Na_dataset_mpi/mp-1517370.cif\n",
      "True /Users/artemdembitskiy/Desktop/projects/GNN/content/Na_dataset_mpi/mp-1179886.cif\n",
      "True /Users/artemdembitskiy/Desktop/projects/GNN/content/Na_dataset_mpi/mp-1110830.cif\n",
      "True /Users/artemdembitskiy/Desktop/projects/GNN/content/Na_dataset_mpi/mp-38089.cif\n",
      "True /Users/artemdembitskiy/Desktop/projects/GNN/content/Na_dataset_mpi/mp-1194067.cif\n",
      "True /Users/artemdembitskiy/Desktop/projects/GNN/content/Na_dataset_mpi/mp-1112570.cif\n",
      "True /Users/artemdembitskiy/Desktop/projects/GNN/content/Na_dataset_mpi/mp-558674.cif\n",
      "True /Users/artemdembitskiy/Desktop/projects/GNN/content/Na_dataset_mpi/mp-1221102.cif\n",
      "True /Users/artemdembitskiy/Desktop/projects/GNN/content/Na_dataset_mpi/mp-1192370.cif\n",
      "True /Users/artemdembitskiy/Desktop/projects/GNN/content/Na_dataset_mpi/mp-774454.cif\n",
      "True /Users/artemdembitskiy/Desktop/projects/GNN/content/Na_dataset_mpi/mp-17297.cif\n",
      "True /Users/artemdembitskiy/Desktop/projects/GNN/content/Na_dataset_mpi/mp-1221116.cif\n",
      "Oops. No BVSE data for a given combination of oxidation states.\n",
      "True /Users/artemdembitskiy/Desktop/projects/GNN/content/Na_dataset_mpi/mp-1200866.cif\n",
      "True /Users/artemdembitskiy/Desktop/projects/GNN/content/Na_dataset_mpi/mp-13797.cif\n",
      "True /Users/artemdembitskiy/Desktop/projects/GNN/content/Na_dataset_mpi/mp-1574416.cif\n",
      "Oops. No BVSE data for a given combination of oxidation states.\n",
      "True /Users/artemdembitskiy/Desktop/projects/GNN/content/Na_dataset_mpi/mp-43188.cif\n",
      "True /Users/artemdembitskiy/Desktop/projects/GNN/content/Na_dataset_mpi/mp-1210485.cif\n",
      "True /Users/artemdembitskiy/Desktop/projects/GNN/content/Na_dataset_mpi/mp-1518296.cif\n",
      "True /Users/artemdembitskiy/Desktop/projects/GNN/content/Na_dataset_mpi/mp-999489.cif\n",
      "True /Users/artemdembitskiy/Desktop/projects/GNN/content/Na_dataset_mpi/mp-6491.cif\n",
      "True /Users/artemdembitskiy/Desktop/projects/GNN/content/Na_dataset_mpi/mp-1032844.cif\n",
      "True /Users/artemdembitskiy/Desktop/projects/GNN/content/Na_dataset_mpi/mp-1111737.cif\n",
      "True /Users/artemdembitskiy/Desktop/projects/GNN/content/Na_dataset_mpi/mp-640915.cif\n",
      "True /Users/artemdembitskiy/Desktop/projects/GNN/content/Na_dataset_mpi/mp-757528.cif\n",
      "True /Users/artemdembitskiy/Desktop/projects/GNN/content/Na_dataset_mpi/mp-2227786.cif\n",
      "True /Users/artemdembitskiy/Desktop/projects/GNN/content/Na_dataset_mpi/mp-17240.cif\n",
      "True /Users/artemdembitskiy/Desktop/projects/GNN/content/Na_dataset_mpi/mp-770829.cif\n",
      "True /Users/artemdembitskiy/Desktop/projects/GNN/content/Na_dataset_mpi/mp-776294.cif\n",
      "True /Users/artemdembitskiy/Desktop/projects/GNN/content/Na_dataset_mpi/mp-1210308.cif\n",
      "True /Users/artemdembitskiy/Desktop/projects/GNN/content/Na_dataset_mpi/mp-676280.cif\n",
      "True /Users/artemdembitskiy/Desktop/projects/GNN/content/Na_dataset_mpi/mp-1522693.cif\n",
      "True /Users/artemdembitskiy/Desktop/projects/GNN/content/Na_dataset_mpi/mp-686601.cif\n",
      "True /Users/artemdembitskiy/Desktop/projects/GNN/content/Na_dataset_mpi/mp-1305077.cif\n",
      "True /Users/artemdembitskiy/Desktop/projects/GNN/content/Na_dataset_mpi/mp-18629.cif\n",
      "True /Users/artemdembitskiy/Desktop/projects/GNN/content/Na_dataset_mpi/mp-42255.cif\n",
      "Oops. No BVSE data for a given combination of oxidation states.\n",
      "True /Users/artemdembitskiy/Desktop/projects/GNN/content/Na_dataset_mpi/mp-1210320.cif\n",
      "True /Users/artemdembitskiy/Desktop/projects/GNN/content/Na_dataset_mpi/mp-753000.cif\n",
      "True /Users/artemdembitskiy/Desktop/projects/GNN/content/Na_dataset_mpi/mp-1094098.cif\n",
      "True /Users/artemdembitskiy/Desktop/projects/GNN/content/Na_dataset_mpi/mp-553912.cif\n",
      "True /Users/artemdembitskiy/Desktop/projects/GNN/content/Na_dataset_mpi/mp-772970.cif\n",
      "True /Users/artemdembitskiy/Desktop/projects/GNN/content/Na_dataset_mpi/mp-752478.cif\n",
      "True /Users/artemdembitskiy/Desktop/projects/GNN/content/Na_dataset_mpi/mp-1111092.cif\n",
      "True /Users/artemdembitskiy/Desktop/projects/GNN/content/Na_dataset_mpi/mp-772637.cif\n",
      "Oops. No BVSE data for a given combination of oxidation states.\n",
      "True /Users/artemdembitskiy/Desktop/projects/GNN/content/Na_dataset_mpi/mp-1221076.cif\n",
      "True /Users/artemdembitskiy/Desktop/projects/GNN/content/Na_dataset_mpi/mp-1039695.cif\n",
      "True /Users/artemdembitskiy/Desktop/projects/GNN/content/Na_dataset_mpi/mp-1173788.cif\n",
      "True /Users/artemdembitskiy/Desktop/projects/GNN/content/Na_dataset_mpi/mp-1094107.cif\n"
     ]
    }
   ],
   "source": [
    "import os\n",
    "pth = '/Users/artemdembitskiy/Desktop/projects/GNN/content/Na_dataset_mpi'\n",
    "for i, name in enumerate(os.listdir(pth)):\n",
    "    try:\n",
    "        file = f'{pth}/{name}'\n",
    "        calc1.read_file(file)\n",
    "        calc2.read_file(file)\n",
    "        d1 = calc1.bvse_distribution(mobile_ion = 'Na1+', resolution = 0.25)\n",
    "        d2 = calc2.bvse_distribution(mobile_ion = 'Na1+', resolution = 0.25)\n",
    "        r1 = calc1.percolation_analysis()\n",
    "        r2 = calc2.percolation_analysis()\n",
    "        print(r2 == r1, file)\n",
    "    \n",
    "    except:\n",
    "        continue\n",
    "    if i > 100:\n",
    "        break\n",
    "    "
   ]
  },
  {
   "cell_type": "code",
   "execution_count": 4,
   "id": "33c799b6",
   "metadata": {},
   "outputs": [],
   "source": [
    "file = '/Users/artemdembitskiy/Desktop/projects/GNN/content/Na_dataset_mpi/mp-757528.cif'\n",
    "calc1.read_file(file)\n",
    "calc2.read_file(file)\n",
    "d1 = calc1.bvse_distribution(mobile_ion = 'Na1+', resolution = 0.25)\n",
    "d2 = calc2.bvse_distribution(mobile_ion = 'Na1+', resolution = 0.25)\n",
    "r1 = calc1.percolation_analysis()\n",
    "r2 = calc2.percolation_analysis()\n"
   ]
  },
  {
   "cell_type": "code",
   "execution_count": 6,
   "id": "f0d919b4",
   "metadata": {},
   "outputs": [
    {
     "data": {
      "text/plain": [
       "({'E_1D': 3.0664, 'E_2D': 3.2227, 'E_3D': 3.252},\n",
       " {'E_1D': 3.0664, 'E_2D': 3.2227, 'E_3D': 3.252})"
      ]
     },
     "execution_count": 6,
     "metadata": {},
     "output_type": "execute_result"
    }
   ],
   "source": [
    "r1, r2"
   ]
  },
  {
   "cell_type": "code",
   "execution_count": 17,
   "id": "d0f3b36c",
   "metadata": {},
   "outputs": [],
   "source": [
    "calc1.grd(path = '/Users/artemdembitskiy/Downloads/')"
   ]
  },
  {
   "cell_type": "code",
   "execution_count": 8,
   "id": "bca1a967",
   "metadata": {},
   "outputs": [
    {
     "data": {
      "text/plain": [
       "{'E_1D': 0.5469, 'E_2D': 1.1719, 'E_3D': 1.3184}"
      ]
     },
     "execution_count": 8,
     "metadata": {},
     "output_type": "execute_result"
    }
   ],
   "source": [
    "calc1.percolation_analysis()"
   ]
  },
  {
   "cell_type": "code",
   "execution_count": 9,
   "id": "9f7ff53e",
   "metadata": {},
   "outputs": [
    {
     "data": {
      "text/plain": [
       "{'E_1D': 0.5469, 'E_2D': 1.1719, 'E_3D': 1.3184}"
      ]
     },
     "execution_count": 9,
     "metadata": {},
     "output_type": "execute_result"
    }
   ],
   "source": [
    "calc2.percolation_analysis()"
   ]
  }
 ],
 "metadata": {
  "kernelspec": {
   "display_name": "Python 3.8.8 ('base')",
   "language": "python",
   "name": "python388jvsc74a57bd0d4a8a434c10efe5418b5880476552e6220fac591c99438334bdb9a22091b0f7b"
  },
  "language_info": {
   "codemirror_mode": {
    "name": "ipython",
    "version": 3
   },
   "file_extension": ".py",
   "mimetype": "text/x-python",
   "name": "python",
   "nbconvert_exporter": "python",
   "pygments_lexer": "ipython3",
   "version": "3.8.8"
  }
 },
 "nbformat": 4,
 "nbformat_minor": 5
}
