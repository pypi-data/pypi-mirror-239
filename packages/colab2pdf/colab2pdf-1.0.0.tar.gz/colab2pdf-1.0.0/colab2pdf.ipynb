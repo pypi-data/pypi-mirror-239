{
  "cells": [
    {
      "cell_type": "code",
      "execution_count": null,
      "metadata": {
        "id": "HIZOMJmW3RsJ"
      },
      "outputs": [],
      "source": [
        "# @title Convert to PDF and Download {display-mode:\"form\"}\n",
        "# Colab2PDF v1.0.0 by Drengskapur (https://github.com/drengskapur/colab2pdf)\n",
        "# This code is licensed under the GNU General Public License v3 (GPLv3)\n",
        "def colab2pdf():\n",
        "    import datetime, json, os, pathlib, urllib, warnings, IPython, nbformat, requests, werkzeug, yaml, google\n",
        "    INCLUDE_OUTPUT = True # @param {type:\"boolean\"}\n",
        "    LINE_NUMBERS = False # @param {type:\"boolean\"}\n",
        "    HIGHLIGHT_STYLE = \"arrow\" # @param [\"arrow\", \"atom-one\", \"ayu\", \"breeze\", \"breezedark\", \"dracula\", \"espresso\", \"github\", \"gruvbox\", \"haddock\", \"kate\", \"monochrome\", \"monokai\", \"nord\", \"oblivion\", \"printing\", \"pygments\", \"radical\", \"solarized\", \"tango\", \"vim-dark\", \"zenburn\"]\n",
        "    VERBOSE = False # Set to True to debug\n",
        "    QUIET = '--quiet' if not VERBOSE else ''\n",
        "    TEMP_DIR = pathlib.Path(\"/content/temp\") / datetime.datetime.now().strftime(\"%Y%m%d_%H%M%S\")\n",
        "    TEMP_DIR.mkdir(parents=True, exist_ok=True)\n",
        "    CONFIG_FILE = TEMP_DIR / \"config.yml\"\n",
        "    URL = f\"http://{os.environ['COLAB_JUPYTER_IP']}:{os.environ['KMP_TARGET_PORT']}/api/sessions\"\n",
        "    NB_NAME = pathlib.Path(werkzeug.utils.secure_filename(urllib.parse.unquote(requests.get(URL).json()[0][\"name\"])))\n",
        "    TEMP_NB = TEMP_DIR / NB_NAME.with_suffix(\".ipynb\")\n",
        "    NB_PDF = TEMP_DIR / NB_NAME.with_suffix(\".pdf\")\n",
        "    MARGINS = \"top: 1in, bottom: 1in, left: 1in, right: 1in\"\n",
        "    MT, MB, ML, MR = MARGINS.split(', ')\n",
        "    CONFIG = {\n",
        "        'execute': {'include': INCLUDE_OUTPUT},\n",
        "        'code-line-numbers': LINE_NUMBERS,\n",
        "        'highlight-style': HIGHLIGHT_STYLE,\n",
        "        'margin-top': MT.split(': ')[1], 'margin-bottom': MB.split(': ')[1], 'margin-left': ML.split(': ')[1], 'margin-right': MR.split(': ')[1],\n",
        "        'latex-auto-install': True,\n",
        "        'include-in-header': [{\"text\": r\"\\usepackage{fvextra}\"}, {\"text\": r\"\\DefineVerbatimEnvironment{Highlighting}{Verbatim}{breaksymbolleft={},showspaces=false,showtabs=false,breaklines,breakanywhere,commandchars=\\\\\\{\\}}\"}],\n",
        "        'include-before-body': [{\"text\": r\"\\DefineVerbatimEnvironment{verbatim}{Verbatim}{breaksymbolleft={},showspaces=false,showtabs=false,breaklines}\"}]\n",
        "    }\n",
        "    with CONFIG_FILE.open(\"w\") as patch: yaml.dump(CONFIG, patch)\n",
        "    RAW_NB = google.colab._message.blocking_request(\"get_ipynb\", timeout_sec=30)\n",
        "    warnings.filterwarnings('ignore', category=nbformat.validator.MissingIDFieldWarning)\n",
        "    FILTERED = [cell for cell in nbformat.reads(json.dumps(RAW_NB[\"ipynb\"]), as_version=4).cells if \"--Colab2PDF\" not in cell.source]\n",
        "    if not FILTERED: FILTERED.append(nbformat.v4.new_code_cell(\"#\"))\n",
        "    NOTEBOOK = nbformat.v4.new_notebook(cells=FILTERED)\n",
        "    with TEMP_NB.open(\"w\") as temp_file: nbformat.write(NOTEBOOK, temp_file)\n",
        "    if not pathlib.Path(\"/usr/local/bin/quarto\").exists():\n",
        "        !wget '{QUIET}' \"https://quarto.org/download/latest/quarto-linux-amd64.deb\" --output-document=\"{TEMP_DIR}/quarto-linux-amd64.deb\"\n",
        "        !dpkg --install \"{TEMP_DIR}/quarto-linux-amd64.deb\"\n",
        "        !quarto install tinytex --update-path\n",
        "        IPython.display.clear_output(wait=True)\n",
        "    !quarto render '{TEMP_NB}' --metadata-file='{CONFIG_FILE}' --to pdf '{QUIET}'\n",
        "    google.colab.files.download(NB_PDF)\n",
        "\n",
        "colab2pdf()"
      ]
    }
  ],
  "metadata": {
    "colab": {
      "provenance": []
    },
    "kernelspec": {
      "display_name": "Python 3",
      "name": "python3"
    },
    "language_info": {
      "name": "python"
    }
  },
  "nbformat": 4,
  "nbformat_minor": 0
}
