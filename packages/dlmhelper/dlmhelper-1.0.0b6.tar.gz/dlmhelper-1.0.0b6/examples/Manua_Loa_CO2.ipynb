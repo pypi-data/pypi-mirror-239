{
 "cells": [
  {
   "cell_type": "code",
   "execution_count": null,
   "id": "7a02cc62-6a31-4412-b6c2-5523b7b44c1a",
   "metadata": {},
   "outputs": [],
   "source": [
    "import statsmodels.api as sm\n",
    "import numpy as np\n",
    "import matplotlib.pyplot as plt\n",
    "\n",
    "import dlmhelper.data\n",
    "import dlmhelper.tools"
   ]
  },
  {
   "cell_type": "code",
   "execution_count": null,
   "id": "6c362837-6665-406d-ac77-8f02ee561e45",
   "metadata": {},
   "outputs": [],
   "source": [
    "dataset = sm.datasets.co2.load()"
   ]
  },
  {
   "cell_type": "code",
   "execution_count": null,
   "id": "b63314e0-e222-4fc0-8326-9d5173a33c92",
   "metadata": {},
   "outputs": [],
   "source": [
    "print(sm.datasets.co2.TITLE)"
   ]
  },
  {
   "cell_type": "code",
   "execution_count": null,
   "id": "fb751886-fa6d-4b57-bbd7-a5f2c14ad5c3",
   "metadata": {},
   "outputs": [],
   "source": [
    "dataset.data.co2"
   ]
  },
  {
   "cell_type": "markdown",
   "id": "1b069d03-d157-4be8-bd52-279280731c92",
   "metadata": {},
   "source": [
    "Now we create a time series object from this data using the following inputs:\n",
    "\n",
    "- **time64 & data** : provide the data with corresponding time (given as numpy.datetime64) values\n",
    "- **product_type** : allows to save some identifier with the data\n",
    "- **time_unit** : the time unit declares what a single time step corresponds to\n",
    "\n"
   ]
  },
  {
   "cell_type": "code",
   "execution_count": null,
   "id": "c467431f-7715-4d5a-bac0-1d5192552041",
   "metadata": {},
   "outputs": [],
   "source": [
    "time64 = np.asarray(dataset.data.index)\n",
    "data = np.asarray(dataset.data.co2)\n",
    "\n",
    "product_type=\"Mauna_Loa_CO2\"\n",
    "time_unit = \"week\""
   ]
  },
  {
   "cell_type": "code",
   "execution_count": null,
   "id": "434d0279-41b8-4a2f-ac0e-3cda05e6a5c6",
   "metadata": {},
   "outputs": [],
   "source": [
    "#Uncomment to see the docstring for TimeSeries\n",
    "#?dlmhelper.data.TimeSeries"
   ]
  },
  {
   "cell_type": "code",
   "execution_count": null,
   "id": "7ede2ec2-5a5f-40fd-abb1-c41e5d7c4857",
   "metadata": {},
   "outputs": [],
   "source": [
    "timeseries = dlmhelper.data.TimeSeries(data, time64 = time64, time_unit=time_unit, product_type=product_type)"
   ]
  },
  {
   "cell_type": "markdown",
   "id": "fe992115-a7fc-4e80-b96b-1119553af847",
   "metadata": {},
   "source": [
    "The timeseries can be quickly plotted"
   ]
  },
  {
   "cell_type": "code",
   "execution_count": null,
   "id": "719ff329-6660-45e3-9d05-a2ec50d697b3",
   "metadata": {},
   "outputs": [],
   "source": [
    "_fig, _ax = timeseries.plot()"
   ]
  },
  {
   "cell_type": "markdown",
   "id": "df18053b-7eca-4cf5-b06e-c201f3966a5e",
   "metadata": {},
   "source": [
    "Next we perform a single dynamic linear fit on the time series"
   ]
  },
  {
   "cell_type": "code",
   "execution_count": null,
   "id": "4241900c-2c53-4a92-9344-cacc5daaa6af",
   "metadata": {},
   "outputs": [],
   "source": [
    "result = dlmhelper.tools.dlm_fit(timeseries, \"Mauna_Loa_CO2_test\",level=True, variable_level=False,trend=True, variable_trend=True,\n",
    "                    seasonal=True, autoregressive=1, irregular=True, seasonal_period = [52], \n",
    "                       )"
   ]
  },
  {
   "cell_type": "code",
   "execution_count": null,
   "id": "ff2facce-f3c2-4bf5-8505-0110475caec8",
   "metadata": {},
   "outputs": [],
   "source": [
    "#Uncomment to see the docstring for dlm_fit\n",
    "#?dlmhelper.tools.dlm_fit"
   ]
  },
  {
   "cell_type": "markdown",
   "id": "af27a45e-de85-4b88-8f70-85287f5f253d",
   "metadata": {},
   "source": [
    "We can quicky visualize an overview of the results"
   ]
  },
  {
   "cell_type": "code",
   "execution_count": null,
   "id": "68c51b09-140a-4fb0-acb1-514562903234",
   "metadata": {},
   "outputs": [],
   "source": [
    "fig = result.plot_summary(figsize=(16,8))"
   ]
  },
  {
   "cell_type": "markdown",
   "id": "c686c61c-f070-49ff-b5ba-9e1a31ae8bfc",
   "metadata": {},
   "source": [
    "It is also possible to perform an ensemble fit on the data using a single command. We keep the standard values for the level and trend component and "
   ]
  },
  {
   "cell_type": "code",
   "execution_count": null,
   "id": "af27e773-63da-4483-8319-8cf326806014",
   "metadata": {},
   "outputs": [],
   "source": [
    "seasonal = [True, False]\n",
    "\n",
    "seasonal_period = [\n",
    "                [52]\n",
    "                ]\n",
    "seasonal_harmonics = [\n",
    "                    [[1,2]]\n",
    "                    ]\n",
    "\n",
    "variable_seasonal = [\n",
    "                    [[False]]\n",
    "                    ]\n",
    "\n",
    "autoregressive = [None,1]\n",
    "irregular = [True, False]"
   ]
  },
  {
   "cell_type": "code",
   "execution_count": null,
   "id": "06453da7-ec50-4c81-aca5-c615e27344a5",
   "metadata": {},
   "outputs": [],
   "source": [
    "result_list = dlmhelper.tools.dlm_ensemble(timeseries, \"CO2_ensemble_test\",\n",
    "                                           seasonal=seasonal, seasonal_period=seasonal_period,\n",
    "                                           seasonal_harmonics=seasonal_harmonics,variable_seasonal = variable_seasonal,\n",
    "                                           autoregressive=autoregressive, irregular=irregular)"
   ]
  },
  {
   "cell_type": "code",
   "execution_count": null,
   "id": "32dec29c-3442-4f42-8729-edc20101ebbc",
   "metadata": {},
   "outputs": [],
   "source": [
    "result_list.summary()"
   ]
  },
  {
   "cell_type": "code",
   "execution_count": null,
   "id": "e0c4852f-1d99-4ef2-8c47-c2f074c774af",
   "metadata": {},
   "outputs": [],
   "source": [
    "result_list.plot_summary(num=8, figsize=(16,8))"
   ]
  },
  {
   "cell_type": "markdown",
   "id": "4ddb8281-bc7f-4ce3-afea-3963a52c62e8",
   "metadata": {},
   "source": [
    "The best fit (according to some chose measure) can be also easily extracted:"
   ]
  },
  {
   "cell_type": "code",
   "execution_count": null,
   "id": "c9699795-31bb-4c88-bb3f-6508428eb0d1",
   "metadata": {},
   "outputs": [],
   "source": [
    "best_fit = result_list.get_best_result(sort='aic')\n",
    "fig = best_fit.plot_summary(figsize=(12,8))"
   ]
  },
  {
   "cell_type": "code",
   "execution_count": null,
   "id": "a0d8c346-885a-4d43-b1a5-fcf545cbe60d",
   "metadata": {},
   "outputs": [],
   "source": [
    "gr = []\n",
    "gr_err = []\n",
    "years = np.arange(1960,2000,1)\n",
    "for y in years:\n",
    "    _gr, _gr_err = dlmhelper.tools.annual_level_increase(best_fit, y, tolerance=np.timedelta64(5,'D'))\n",
    "    gr.append(_gr)\n",
    "    gr_err.append(_gr_err)\n",
    "    \n",
    "gr = np.array(gr)\n",
    "gr_err = np.array(gr_err)"
   ]
  },
  {
   "cell_type": "code",
   "execution_count": null,
   "id": "c2025136-fea0-4225-a93f-3127914d6ec7",
   "metadata": {},
   "outputs": [],
   "source": [
    "gr"
   ]
  },
  {
   "cell_type": "code",
   "execution_count": null,
   "id": "054a8bdd-b8f1-4967-aa6e-b7275a27d6fb",
   "metadata": {},
   "outputs": [],
   "source": [
    "fig = plt.figure(figsize=(14,14))\n",
    "ax = fig.add_subplot(111)\n",
    "\n",
    "ax.bar(years,gr,width=1, edgecolor=\"black\", yerr = gr_err)"
   ]
  },
  {
   "cell_type": "code",
   "execution_count": null,
   "id": "dd28cdd2-a6ff-4290-838c-51a59a34b5d1",
   "metadata": {},
   "outputs": [],
   "source": []
  }
 ],
 "metadata": {
  "kernelspec": {
   "display_name": "Python 3",
   "language": "python",
   "name": "python3"
  },
  "language_info": {
   "codemirror_mode": {
    "name": "ipython",
    "version": 3
   },
   "file_extension": ".py",
   "mimetype": "text/x-python",
   "name": "python",
   "nbconvert_exporter": "python",
   "pygments_lexer": "ipython3",
   "version": "3.8.10"
  }
 },
 "nbformat": 4,
 "nbformat_minor": 5
}
