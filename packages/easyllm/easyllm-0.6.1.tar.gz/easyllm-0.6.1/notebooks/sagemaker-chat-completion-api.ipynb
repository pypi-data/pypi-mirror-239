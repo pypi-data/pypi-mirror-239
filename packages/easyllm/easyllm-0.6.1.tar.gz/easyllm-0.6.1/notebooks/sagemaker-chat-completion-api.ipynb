{
 "cells": [
  {
   "attachments": {},
   "cell_type": "markdown",
   "metadata": {},
   "source": [
    "# How to use Chat Completion clients with Amazon SageMaker\n",
    "\n",
    "EasyLLM can be used as an abstract layer to replace `gpt-3.5-turbo` and `gpt-4` with open source models.\n",
    "\n",
    "You can change your own applications from the OpenAI API, by simply changing the client. \n",
    "\n",
    "Chat models take a series of messages as input, and return an AI-written message as output.\n",
    "\n",
    "This guide illustrates the chat format with a few example API calls.\n",
    "\n",
    "## 0. Setup\n",
    "\n",
    "Before you can use `easyllm` with Amazon SageMaker you need to deploy the model to a SageMaker endpoint. You can do this by following one of the bloh posts below:\n",
    "\n",
    "* [Deploy Llama 2 7B/13B/70B on Amazon SageMaker](https://www.philschmid.de/sagemaker-llama-llm)\n",
    "* [Deploy Falcon 7B & 40B on Amazon SageMaker](https://www.philschmid.de/sagemaker-falcon-llm)\n",
    "* [Introducing the Hugging Face LLM Inference Container for Amazon SageMaker](https://www.philschmid.de/sagemaker-huggingface-llm)\n",
    "\n",
    "Once you have your endpoint deploy copy the endpoint name of it. The endpoint name will be our `model` paramter. You can get the endpoint name in the AWS management console for Amazon SageMaker under \"Inference\" -> \"Endpoints\" -> \"Name\" or when you deployed your model using the sagemaker sdk you can get it from the `predictor.endpoint_name` attribute.\n"
   ]
  },
  {
   "attachments": {},
   "cell_type": "markdown",
   "metadata": {},
   "source": [
    "### 1. Import the easyllm library"
   ]
  },
  {
   "cell_type": "code",
   "execution_count": null,
   "metadata": {},
   "outputs": [],
   "source": [
    "# if needed, install and/or upgrade to the latest version of the EasyLLM Python library\n",
    "%pip install --upgrade easyllm "
   ]
  },
  {
   "cell_type": "code",
   "execution_count": 6,
   "metadata": {},
   "outputs": [],
   "source": [
    "# import the EasyLLM Python library for calling the EasyLLM API\n",
    "import easyllm"
   ]
  },
  {
   "attachments": {},
   "cell_type": "markdown",
   "metadata": {},
   "source": [
    "### 2. An example chat API call\n",
    "\n",
    "A chat API call has two required inputs:\n",
    "- `model`: the name of the model you want to use (e.g., `huggingface-pytorch-tgi-inference-2023-08-08-14-15-52-703`) or leave it empty to just call the api\n",
    "- `messages`: a list of message objects, where each object has two required fields:\n",
    "    - `role`: the role of the messenger (either `system`, `user`, or `assistant`)\n",
    "    - `content`: the content of the message (e.g., `Write me a beautiful poem`)\n",
    "\n",
    "Compared to OpenAI api is the `huggingface` module also exposing a `prompt_builder` and `stop_sequences` parameter you can use to customize the prompt and stop sequences. The EasyLLM package comes with prompt builder utilities.\n",
    "\n",
    "Let's look at an example chat API calls to see how the chat format works in practice."
   ]
  },
  {
   "cell_type": "code",
   "execution_count": 6,
   "metadata": {},
   "outputs": [
    {
     "data": {
      "text/plain": [
       "{'id': 'hf-2qYJ06mvpP',\n",
       " 'object': 'chat.completion',\n",
       " 'created': 1691507348,\n",
       " 'model': 'huggingface-pytorch-tgi-inference-2023-08-08-14-15-52-703',\n",
       " 'choices': [{'index': 0,\n",
       "   'message': {'role': 'assistant',\n",
       "    'content': \" Of course! Amazon SageMaker is a cloud-based machine learning platform provided by Amazon Web Services (AWS). It allows data scientists and machine learning practitioners to build, train, and deploy machine learning models more easily and efficiently. With SageMaker, users can perform a wide range of machine learning tasks, including data preparation, model training, and model deployment, all within a single platform.\\nSome of the key features of Amazon SageMaker include:\\n1. Data Wrangling: SageMaker provides a range of tools for data preparation, including data cleaning, feature engineering, and data transformation.\\n2. Training and Hyperparameter Tuning: Users can train machine learning models using SageMaker's built-in algorithms or their own custom algorithms. The platform also provides automated hyperparameter tuning, which can help improve model performance.\\n3. Model Deployment: Once a model is trained and optimized, SageMaker allows users to deploy it to a variety of environments, including AWS services like Amazon S3 and Amazon EC2, as well as on-premises environments.\\n4. Collaboration and Management: SageMaker provides tools for collaboration and model management, including version control, reproducibility, and team-based workflows.\\n5. Integration with Other AWS Services: SageMaker integrates with other AWS services, such as Amazon S3, Amazon Redshift, and Amazon EMR, to provide a comprehensive machine learning platform.\\nOverall, Amazon SageMaker is a powerful platform that can help organizations of all sizes build and deploy machine learning models more efficiently and effectively.\"},\n",
       "   'finish_reason': 'eos_token'}],\n",
       " 'usage': {'prompt_tokens': 148,\n",
       "  'completion_tokens': 353,\n",
       "  'total_tokens': 501}}"
      ]
     },
     "execution_count": 6,
     "metadata": {},
     "output_type": "execute_result"
    }
   ],
   "source": [
    "import os \n",
    "# set env for prompt builder\n",
    "os.environ[\"HUGGINGFACE_PROMPT\"] = \"llama2\" # vicuna, wizardlm, stablebeluga, open_assistant\n",
    "os.environ[\"AWS_REGION\"] = \"us-east-1\"  # change to your region\n",
    "# os.environ[\"AWS_ACCESS_KEY_ID\"] = \"XXX\" # needed if not using boto3 session\n",
    "# os.environ[\"AWS_SECRET_ACCESS_KEY\"] = \"XXX\" # needed if not using boto3 session\n",
    "\n",
    "from easyllm.clients import sagemaker\n",
    "\n",
    "# Changing configuration without using environment variables\n",
    "# sagemaker.prompt_builder = \"llama2\"\n",
    "# sagemaker.api_aws_access_key=\"xxx\"\n",
    "# sagemaker.api_aws_secret_key=\"xxx\"\n",
    "\n",
    "# SageMaker endpoint name\n",
    "MODEL=\"huggingface-pytorch-tgi-inference-2023-08-08-14-15-52-703\"\n",
    "\n",
    "response = sagemaker.ChatCompletion.create(\n",
    "    model=MODEL,\n",
    "    messages=[\n",
    "        {\"role\": \"system\", \"content\": \"\\nYou are a helpful, respectful and honest assistant. Always answer as helpfully as possible, while being safe.  Your answers should not include any harmful, unethical, racist, sexist, toxic, dangerous, or illegal content. Please ensure that your responses are socially unbiased and positive in nature.\\n\\nIf a question does not make any sense, or is not factually coherent, explain why instead of answering something not correct. If you don't know the answer to a question, please don't share false information.\"},\n",
    "        {\"role\": \"user\", \"content\": \"Can you tell me something about Amazon SageMaker?\"},\n",
    "    ],\n",
    "      temperature=0.9,\n",
    "      top_p=0.6,\n",
    "      max_tokens=1024,\n",
    "      debug=False,\n",
    ")\n",
    "response\n",
    "\n"
   ]
  },
  {
   "attachments": {},
   "cell_type": "markdown",
   "metadata": {},
   "source": [
    "As you can see, the response object has a few fields:\n",
    "- `id`: the ID of the request\n",
    "- `object`: the type of object returned (e.g., `chat.completion`)\n",
    "- `created`: the timestamp of the request\n",
    "- `model`: the full name of the model used to generate the response\n",
    "- `usage`: the number of tokens used to generate the replies, counting prompt, completion, and total\n",
    "- `choices`: a list of completion objects (only one, unless you set `n` greater than 1)\n",
    "    - `message`: the message object generated by the model, with `role` and `content`\n",
    "    - `finish_reason`: the reason the model stopped generating text (either `stop`, or `length` if `max_tokens` limit was reached)\n",
    "    - `index`: the index of the completion in the list of choices"
   ]
  },
  {
   "attachments": {},
   "cell_type": "markdown",
   "metadata": {},
   "source": [
    "Extract just the reply with:"
   ]
  },
  {
   "cell_type": "code",
   "execution_count": 7,
   "metadata": {},
   "outputs": [
    {
     "name": "stdout",
     "output_type": "stream",
     "text": [
      " Of course! Amazon SageMaker is a cloud-based machine learning platform provided by Amazon Web Services (AWS). It allows data scientists and machine learning practitioners to build, train, and deploy machine learning models more easily and efficiently. With SageMaker, users can perform a wide range of machine learning tasks, including data preparation, model training, and model deployment, all within a single platform.\n",
      "Some of the key features of Amazon SageMaker include:\n",
      "1. Data Wrangling: SageMaker provides a range of tools for data preparation, including data cleaning, feature engineering, and data transformation.\n",
      "2. Training and Hyperparameter Tuning: Users can train machine learning models using SageMaker's built-in algorithms or their own custom algorithms. The platform also provides automated hyperparameter tuning, which can help improve model performance.\n",
      "3. Model Deployment: Once a model is trained and optimized, SageMaker allows users to deploy it to a variety of environments, including AWS services like Amazon S3 and Amazon EC2, as well as on-premises environments.\n",
      "4. Collaboration and Management: SageMaker provides tools for collaboration and model management, including version control, reproducibility, and team-based workflows.\n",
      "5. Integration with Other AWS Services: SageMaker integrates with other AWS services, such as Amazon S3, Amazon Redshift, and Amazon EMR, to provide a comprehensive machine learning platform.\n",
      "Overall, Amazon SageMaker is a powerful platform that can help organizations of all sizes build and deploy machine learning models more efficiently and effectively.\n"
     ]
    }
   ],
   "source": [
    "print(response['choices'][0]['message']['content'])"
   ]
  },
  {
   "attachments": {},
   "cell_type": "markdown",
   "metadata": {},
   "source": [
    "Even non-conversation-based tasks can fit into the chat format, by placing the instruction in the first user message.\n",
    "\n",
    "For example, to ask the model to explain asynchronous programming in the style of the pirate Blackbeard, we can structure conversation as follows:"
   ]
  },
  {
   "cell_type": "code",
   "execution_count": 3,
   "metadata": {},
   "outputs": [
    {
     "name": "stdout",
     "output_type": "stream",
     "text": [
      " Ah, my dear student, let me explain asynchronous programming in a most delightful and intuitive manner! *adjusts glasses*\n",
      "\n",
      "Asynchronous programming, you see, is like solving a complex equation. *writes on board* You have a problem that requires immediate attention, but you can't just sit there and wait for the solution to appear. *mimes a person twiddling their thumbs* No, no, my young apprentice! You must use your powers of creativity and ingenuity to find a way to solve the problem in parallel! *winks*\n",
      "Now, in math, we often use techniques like substitution, elimination, or even the occasional trickery of complex numbers to solve equations. *nods* But in asynchronous programming, we use something called \"asynchronous operations\" to tackle problems that require more than just a simple \"wait and see\" approach. *smirks*\n",
      "Think of it like this: imagine you have a bunch of tasks that need to be done, but they can't all be done at the same time. Maybe you have to fetch some data from a database, process it, and then perform some calculations. *mimes typing on a keyboard* But wait! You can't just sit there and wait for each task to finish, or you'll be twiddling your thumbs for hours! *chuckles*\n",
      "So, what do you do? *smirks* You break each task into smaller, more manageable pieces, and you give each piece a special \"asynchronous hat\"! *winks* These hats allow each piece to work on its task independently, without waiting for the others to finish. *nods*\n",
      "For example, you could give one piece the task of fetching data from the database, another piece the task of processing it, and another piece the task of performing calculations. *mimes handing out hats* And then, you can just sit back and watch as each piece works on its task, without any of them waiting for the others to finish! *chuckles*\n",
      "But wait, there's more! *excitedly* With asynchronous programming, you can even use something called \"callbacks\" to make sure everything gets done in the right order! *nods* It's like having a team of highly skilled mathematicians working on your problem, each one using their own special hat to solve a different part of the equation! *smirks*\n",
      "So there you have it, my dear student! Asynchronous programming is like solving a complex equation, but instead of just waiting for the answer, you use your powers of creativity and ingenuity to find a way to solve it in parallel! *nods* Now, go forth and conquer those complex problems, my young apprentice! *winks*\n"
     ]
    }
   ],
   "source": [
    "# example with a system message\n",
    "response = sagemaker.ChatCompletion.create(\n",
    "    model=MODEL,\n",
    "    messages=[\n",
    "        {\"role\": \"system\", \"content\": \"You are a helpful assistant.\"},\n",
    "        {\"role\": \"user\", \"content\": \"Explain asynchronous programming in the style of math teacher.\"},\n",
    "    ],\n",
    ")\n",
    "\n",
    "print(response['choices'][0]['message']['content'])\n"
   ]
  },
  {
   "cell_type": "code",
   "execution_count": 4,
   "metadata": {},
   "outputs": [
    {
     "name": "stdout",
     "output_type": "stream",
     "text": [
      " Shiver me timbers! Ye landlubbers be wantin' to know about this here asynchronous programming business? Well, listen close to the tales of the great Blackbeard himself, and I'll spin ye a yarn 'bout how it works!\n",
      "\n",
      "Ahoy, me hearties! Asynchronous programming be like sailin' the high seas. Ye see, ye gotta have a ship, and that ship be called \"Thread\". Now, ye might be thinkin', \"Blackbeard, what be the point o' havin' a ship if ye can't steer it?\" And to that, I say, \"Arrr, ye landlubbers be thinkin' too small!\" See, with asynchronous programming, ye can have multiple \"threads\" sailin' the seas at the same time, each one doin' its own thing. And that be a mighty powerful thing, me hearties!\n",
      "But wait, there be more! Ye see, these threads be like different ships, each one with its own crew and mission. And they be sailin' the seas at different speeds, too! Some might be sailin' fast, while others be sailin' slow. And that be the beauty o' it, me hearties! Ye can have one thread bein' busy with somethin' important, while another thread bein' all relaxed and takin' a nap. It be like havin' a whole fleet o' ships at yer disposal, each one doin' its own thing!\n",
      "Now, I know what ye be thinkin', \"Blackbeard, how do ye keep all these ships from crashin' into each other?\" And to that, I say, \"Arrr, that be the magic o' the asynchronous programming, me hearties!\" Ye see, each thread be runnin' its own course, and they be communicate with each other through messages. It be like sendin' a message to another ship on the high seas, only instead o' usin' a message, ye be usin' a special kind o' code. And that code be like a map, showin' each thread where to go and what to do.\n",
      "But wait, there be more! Ye see, these threads be like different crew members on a ship. Some might be skilled with swords, while others be skilled with navigatin'. And they be workin' together, each one doin' its part to keep the ship sailin' smoothly. And that be the beauty o' asynchronous programming, me hearties! Ye can have different threads bein' responsible for different tasks, each one doin' its own thing, but all workin' together to get the job done!\n",
      "So there ye have it, me hearties! Asynchronous programming be like sailin' the high seas with a fleet o' ships, each one doin' its own thing, but all workin' together to get the job done. And with the right code, ye can be the captain o' yer own ship, sailin' the seas o' computing like a true pirate! Arrr!\n"
     ]
    }
   ],
   "source": [
    "# example without a system message and debug flag on:\n",
    "response = sagemaker.ChatCompletion.create(\n",
    "    model=MODEL,\n",
    "    messages=[\n",
    "        {\"role\": \"user\", \"content\": \"Explain asynchronous programming in the style of the pirate Blackbeard.\"},\n",
    "    ]\n",
    ")\n",
    "\n",
    "print(response['choices'][0]['message']['content'])\n"
   ]
  },
  {
   "attachments": {},
   "cell_type": "markdown",
   "metadata": {},
   "source": [
    "### 3. Few-shot prompting\n",
    "\n",
    "In some cases, it's easier to show the model what you want rather than tell the model what you want.\n",
    "\n",
    "One way to show the model what you want is with faked example messages.\n",
    "\n",
    "For example:"
   ]
  },
  {
   "cell_type": "code",
   "execution_count": 5,
   "metadata": {},
   "outputs": [
    {
     "name": "stdout",
     "output_type": "stream",
     "text": [
      "\"We don't have time to do everything we originally planned for the client, so we'll have to focus on the most important things and 'boil the ocean' later.\"\n"
     ]
    }
   ],
   "source": [
    "# An example of a faked few-shot conversation to prime the model into translating business jargon to simpler speech\n",
    "response = sagemaker.ChatCompletion.create(\n",
    "    model=MODEL,\n",
    "    messages=[\n",
    "        {\"role\": \"system\", \"content\": \"You are a helpful, pattern-following assistant.\"},\n",
    "        {\"role\": \"user\", \"content\": \"Help me translate the following corporate jargon into plain English.\"},\n",
    "        {\"role\": \"assistant\", \"content\": \"Sure, I'd be happy to!\"},\n",
    "        {\"role\": \"user\", \"content\": \"New synergies will help drive top-line growth.\"},\n",
    "        {\"role\": \"assistant\", \"content\": \"Things working well together will increase revenue.\"},\n",
    "        {\"role\": \"user\", \"content\": \"Let's circle back when we have more bandwidth to touch base on opportunities for increased leverage.\"},\n",
    "        {\"role\": \"assistant\", \"content\": \"Let's talk later when we're less busy about how to do better.\"},\n",
    "        {\"role\": \"user\", \"content\": \"This late pivot means we don't have time to boil the ocean for the client deliverable.\"},\n",
    "    ],\n",
    ")\n",
    "\n",
    "print(response[\"choices\"][0][\"message\"][\"content\"])\n"
   ]
  },
  {
   "attachments": {},
   "cell_type": "markdown",
   "metadata": {},
   "source": [
    "Not every attempt at engineering conversations will succeed at first.\n",
    "\n",
    "If your first attempts fail, don't be afraid to experiment with different ways of priming or conditioning the model.\n",
    "\n",
    "As an example, one developer discovered an increase in accuracy when they inserted a user message that said \"Great job so far, these have been perfect\" to help condition the model into providing higher quality responses.\n",
    "\n",
    "For more ideas on how to lift the reliability of the models, consider reading our guide on [techniques to increase reliability](../techniques_to_improve_reliability.md). It was written for non-chat models, but many of its principles still apply."
   ]
  },
  {
   "cell_type": "markdown",
   "metadata": {},
   "source": []
  }
 ],
 "metadata": {
  "kernelspec": {
   "display_name": "openai",
   "language": "python",
   "name": "python3"
  },
  "language_info": {
   "codemirror_mode": {
    "name": "ipython",
    "version": 3
   },
   "file_extension": ".py",
   "mimetype": "text/x-python",
   "name": "python",
   "nbconvert_exporter": "python",
   "pygments_lexer": "ipython3",
   "version": "3.8.12"
  },
  "orig_nbformat": 4,
  "vscode": {
   "interpreter": {
    "hash": "365536dcbde60510dc9073d6b991cd35db2d9bac356a11f5b64279a5e6708b97"
   }
  }
 },
 "nbformat": 4,
 "nbformat_minor": 2
}
