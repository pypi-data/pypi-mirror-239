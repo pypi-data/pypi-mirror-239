{
 "cells": [
  {
   "cell_type": "code",
   "execution_count": 1,
   "metadata": {},
   "outputs": [],
   "source": [
    "from guerrilla.device import Device"
   ]
  },
  {
   "cell_type": "code",
   "execution_count": 2,
   "metadata": {},
   "outputs": [
    {
     "name": "stdout",
     "output_type": "stream",
     "text": [
      "\u001b[32m2023-11-06 02:14:28.457\u001b[0m | \u001b[1mINFO    \u001b[0m | \u001b[36mguerrilla.connection.ssh\u001b[0m:\u001b[36m_establish_connection\u001b[0m:\u001b[36m35\u001b[0m - \u001b[1mCreated EDR-G9010's SSH session to 192.168.127.254:22\u001b[0m\n",
      "\u001b[32m2023-11-06 02:14:28.736\u001b[0m | \u001b[32m\u001b[1mSUCCESS \u001b[0m | \u001b[36mguerrilla.connection.ssh\u001b[0m:\u001b[36m_establish_connection\u001b[0m:\u001b[36m43\u001b[0m - \u001b[32m\u001b[1mConnected to admin 192.168.127.254:22\u001b[0m\n",
      "\u001b[32m2023-11-06 02:14:31.794\u001b[0m | \u001b[1mINFO    \u001b[0m | \u001b[36mguerrilla.connection.session\u001b[0m:\u001b[36mset_base_prompt\u001b[0m:\u001b[36m652\u001b[0m - \u001b[1mDefault Prompt:test123\u001b[0m\n",
      "\u001b[32m2023-11-06 02:14:31.805\u001b[0m | \u001b[1mINFO    \u001b[0m | \u001b[36mguerrilla.device.router.router\u001b[0m:\u001b[36mdisable_paging\u001b[0m:\u001b[36m76\u001b[0m - \u001b[1mDisable Paging Default\u001b[0m\n"
     ]
    }
   ],
   "source": [
    "config = {\n",
    "    \"name\": \"EDR-G9010\",\n",
    "    \"type\": \"router\",\n",
    "    \"host\": \"192.168.127.254\",\n",
    "    \"username\": \"admin\",\n",
    "    \"password\": \"moxa\",\n",
    "    \"protocol\": \"ssh\",\n",
    "    \"global_delay_factor\": 0.5\n",
    "}\n",
    "device = Device(config)\n",
    "device.connect()"
   ]
  },
  {
   "cell_type": "code",
   "execution_count": 5,
   "metadata": {},
   "outputs": [
    {
     "data": {
      "text/plain": [
       "'configure\\ntest123(config)# hostname testabc123\\ntest123(config)# '"
      ]
     },
     "execution_count": 5,
     "metadata": {},
     "output_type": "execute_result"
    }
   ],
   "source": [
    "config_commands = [\n",
    "    'hostname testabc123',\n",
    "]\n",
    "\n",
    "# 發送配置命令集合\n",
    "device.send_config_set(config_commands, exit_config_mode=False)"
   ]
  },
  {
   "cell_type": "code",
   "execution_count": 6,
   "metadata": {},
   "outputs": [
    {
     "data": {
      "text/plain": [
       "'test123(config)#'"
      ]
     },
     "execution_count": 6,
     "metadata": {},
     "output_type": "execute_result"
    }
   ],
   "source": [
    "device.find_prompt()"
   ]
  },
  {
   "cell_type": "code",
   "execution_count": null,
   "metadata": {},
   "outputs": [],
   "source": []
  }
 ],
 "metadata": {
  "kernelspec": {
   "display_name": "Python 3 (ipykernel)",
   "language": "python",
   "name": "python3"
  },
  "language_info": {
   "codemirror_mode": {
    "name": "ipython",
    "version": 3
   },
   "file_extension": ".py",
   "mimetype": "text/x-python",
   "name": "python",
   "nbconvert_exporter": "python",
   "pygments_lexer": "ipython3",
   "version": "3.12.0"
  }
 },
 "nbformat": 4,
 "nbformat_minor": 4
}
