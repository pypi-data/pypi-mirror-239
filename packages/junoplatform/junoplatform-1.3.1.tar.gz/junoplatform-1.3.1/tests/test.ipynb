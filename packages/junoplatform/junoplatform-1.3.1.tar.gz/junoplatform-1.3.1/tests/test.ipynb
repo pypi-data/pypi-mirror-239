{
 "cells": [
  {
   "cell_type": "code",
   "execution_count": 1,
   "metadata": {},
   "outputs": [],
   "source": [
    "import redis\n",
    "\n",
    "cli = redis.Redis.from_url(\"redis://:myredis@192.168.101.158\")"
   ]
  },
  {
   "cell_type": "code",
   "execution_count": 9,
   "metadata": {},
   "outputs": [
    {
     "name": "stdout",
     "output_type": "stream",
     "text": [
      "[7.5]\n"
     ]
    }
   ],
   "source": [
    "import json\n",
    "config_AO_DN = storage.local.io.hget('system.ai.modules', 'wczd.AO_DN')\n",
    "\n",
    "TN_target = None\n",
    "\n",
    "if config_AO_DN is None:\n",
    "    errmsg = \"read config from wczd.AO_DN failed\"\n",
    "    #logging.error(errmsg)\n",
    "    raise Exception(errmsg)\n",
    "else:\n",
    "    TN_target = json.loads(config_AO_DN)[\"config\"][\"TN_target\"]\n",
    "    print(TN_target)\n"
   ]
  },
  {
   "cell_type": "code",
   "execution_count": null,
   "metadata": {},
   "outputs": [],
   "source": []
  }
 ],
 "metadata": {
  "kernelspec": {
   "display_name": "Python 3",
   "language": "python",
   "name": "python3"
  },
  "language_info": {
   "codemirror_mode": {
    "name": "ipython",
    "version": 3
   },
   "file_extension": ".py",
   "mimetype": "text/x-python",
   "name": "python",
   "nbconvert_exporter": "python",
   "pygments_lexer": "ipython3",
   "version": "3.11.6"
  }
 },
 "nbformat": 4,
 "nbformat_minor": 2
}
