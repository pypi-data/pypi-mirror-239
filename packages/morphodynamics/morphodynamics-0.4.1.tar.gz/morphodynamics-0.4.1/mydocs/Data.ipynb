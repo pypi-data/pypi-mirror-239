{
 "cells": [
  {
   "cell_type": "markdown",
   "metadata": {},
   "source": [
    "# Data formats\n",
    "\n",
    "The package can at the moment handle four types of formats:\n",
    "\n",
    "## Tif sequences\n",
    "\n",
    "Each frame of a given channel is stored in folder e.g. ```channel_mcherry``` and all folders are in the same folder e.g. ```Experiment_folder``` so that you have this folder structure:\n",
    "\n",
    "```\n",
    "Experiment_folder\n",
    "├── channel_mcherry\n",
    "│   ├── mcherry_frame_0.tif\n",
    "│   ├── mcherry_frame_1.tif\n",
    "│   └── ...\n",
    "├── channel_GFP\n",
    "│   ├── GFP_frame_0.tif\n",
    "│   ├── GFP_frame_1.tif\n",
    "│   └── ...\n",
    "└── ...\n",
    "```\n",
    "\n",
    "In the UI you have to browse to the ```Experiment_folder``` and then select the appropriate **folders** as channels for segmentation and signal extraction.\n",
    "\n",
    "## Tif stacks\n",
    "\n",
    "All frames of a given channel are grouped into as tif stack so that your data structure is:\n",
    "\n",
    "```\n",
    "Experiment_folder\n",
    "├── channel_mcherry_stack.tif\n",
    "├── channel_GFP_stack.tif\n",
    "└── ...\n",
    "```\n",
    "\n",
    "In the UI you have to browse to the ```Experiment_folder``` and then select the appropriate **stacks** as channels for segmentation and signal extraction.\n",
    "\n",
    "## H5 format\n",
    "\n",
    "You will encounter the ```H5``` format if you aggregated as series of ND2 files into a single file using the [stitching_h5](../notebooks/stitching_h5.ipynb) notebook. Here also you should have one file per channel:\n",
    "\n",
    "```\n",
    "Experiment_folder\n",
    "├── channel_mcherry_stack.h5\n",
    "├── channel_GFP_stack.h5\n",
    "└── ...\n",
    "```\n",
    "\n",
    "In the UI you have to browse to the ```Experiment_folder``` and then select the appropriate **stacks** as channels for segmentation and signal extraction.\n",
    "\n",
    "## ND2 format\n",
    "\n",
    "We offer experimental support for ND2 files. Parsing of metadata with this format is complicated and therefore it is not guaranteed that your multi-dimensional acquisition will be read properly. Here you will have a **single file** that contains all frames and channels:\n",
    "\n",
    "```\n",
    "Experiment_folder\n",
    "├── my_data.nd2\n",
    "```\n",
    "\n",
    "In the UI you have to **select the nd2 file**. Once you have done this, the metadata of this dataset are read, and the available channels made selectable for segmentation and signal extraction."
   ]
  },
  {
   "cell_type": "code",
   "execution_count": null,
   "metadata": {},
   "outputs": [],
   "source": []
  }
 ],
 "metadata": {
  "kernelspec": {
   "display_name": "Python 3",
   "language": "python",
   "name": "python3"
  },
  "language_info": {
   "codemirror_mode": {
    "name": "ipython",
    "version": 3
   },
   "file_extension": ".py",
   "mimetype": "text/x-python",
   "name": "python",
   "nbconvert_exporter": "python",
   "pygments_lexer": "ipython3",
   "version": "3.8.4"
  },
  "toc": {
   "base_numbering": 1,
   "nav_menu": {},
   "number_sections": false,
   "sideBar": true,
   "skip_h1_title": false,
   "title_cell": "Table of Contents",
   "title_sidebar": "Contents",
   "toc_cell": false,
   "toc_position": {},
   "toc_section_display": true,
   "toc_window_display": true
  },
  "varInspector": {
   "cols": {
    "lenName": 16,
    "lenType": 16,
    "lenVar": 40
   },
   "kernels_config": {
    "python": {
     "delete_cmd_postfix": "",
     "delete_cmd_prefix": "del ",
     "library": "var_list.py",
     "varRefreshCmd": "print(var_dic_list())"
    },
    "r": {
     "delete_cmd_postfix": ") ",
     "delete_cmd_prefix": "rm(",
     "library": "var_list.r",
     "varRefreshCmd": "cat(var_dic_list()) "
    }
   },
   "types_to_exclude": [
    "module",
    "function",
    "builtin_function_or_method",
    "instance",
    "_Feature"
   ],
   "window_display": false
  }
 },
 "nbformat": 4,
 "nbformat_minor": 4
}
