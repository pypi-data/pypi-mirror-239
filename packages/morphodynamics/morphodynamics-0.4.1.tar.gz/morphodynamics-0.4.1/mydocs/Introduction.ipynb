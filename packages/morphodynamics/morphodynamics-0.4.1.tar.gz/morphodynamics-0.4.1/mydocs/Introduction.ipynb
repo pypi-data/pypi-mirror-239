{
 "cells": [
  {
   "cell_type": "markdown",
   "metadata": {},
   "source": [
    "# Overview"
   ]
  },
  {
   "cell_type": "markdown",
   "metadata": {},
   "source": [
    "This package is a complete tool for the analysis of cell morphology in time-lapse microscopy acquisitions. It's main purpose is to enable the study of proteins fluxes, via by GFP tagging, by subdividing the observed cell into local \"windows\" that are tracked over time. The package consist of two parts: a first part handling cell segmentation, windowing and tracking over time; and a second part allowing to analyze the content of windows over time and to correlate it with cell dynamics. To run the software we provide Jupyter-based interfaces, but the package can also be used separately from the UI.\n",
    "\n",
    "This package is the result of a collaboration between the Microscopy Imaging Center, the Olivier Pertz lab and Science IT Support at Bern University and has been developed by Cédric Vonesch (ScITS, Pertz lab) and Guillaume Witz (MIC, ScITS) with the collaboration of Jakobus van Unen (Pertz lab)."
   ]
  },
  {
   "cell_type": "markdown",
   "metadata": {},
   "source": [
    "## Installation\n",
    "\n",
    "You can find installation instruction [here](Installation.ipynb). We rely on conda for installation, so if you don't have some form of conda already installed, we recommend installing miniconda by following [these instructions](https://docs.conda.io/en/latest/miniconda.html). Installation works in the same way on a laptop and on a cluster.\n",
    "\n",
    "Most of the computationally heavy aspect of the analysis are parallelized by using [Dask](https://dask.org/), and functions in exactly the same way on a laptop or on a cluster, and as described in detail in later sections, one has just to specify which option is used."
   ]
  },
  {
   "cell_type": "markdown",
   "metadata": {},
   "source": [
    "## What data can be processed\n",
    "\n",
    "A typical dataset consists in a multi-channel time-lapse acquisition. Cells to be analyzed should ideally not be touching and not drift out of the field of view.\n",
    "\n",
    "At the moment four types of datasets are supported:\n",
    "- Each channel is stored in a separate folder which contains a series of tiff files, one per time point.\n",
    "- All channels are individually stored as a multi-page tiff stack and located in a single folder\n",
    "- The data are stored in Nikon's ND2 format (this is very experimental).\n",
    "- All channels are individually stored as h5 files and located in a single folder\n",
    "\n",
    "In the package the datasets are handled by the [dataset](../docs/source/morphodynamics.html#module-morphodynamics.dataset) module.\n",
    "\n",
    "## Typical analysis pipeline\n",
    "\n",
    "The analysis proceeds in the following way: \n",
    "1. The images are segmented, i.e. cells are detected and a binary mask is created for each image. There are multiple options for segmentation, and in principle you can add additional custom function in the code.\n",
    "2. The cell is tracked across frames. This allows to handle images with more than one cell.\n",
    "3. A continuous spline is fitted to the cell in all frames and the the cell area is split into small \"windows\". In this step, great care is taken to \"align\" successive contours so as to best estimate deformation and ensure that the position of windows is not drifting.\n",
    "4. Windows and contours can be used to extract information about fluorescence and contour dynamics.\n",
    "\n",
    "To execute the pipeline, you can either use the napari plugin, the interfaced provided in the notebook or use the package as an API. You can find more information one the whole analysis process in the following sections:\n",
    "- [Running an analysis in napari](Napari_Plugin.ipynb)\n",
    "- [Running an analysis with the notebook UI](Analysis_with_morpho_segmentation.ipynb)\n",
    "- [Running an analysis without UI](Analysis_without_UI.ipynb)\n",
    "- [Performing image segmentation](segmentation.ipynb)\n",
    "- [Data handling](Data.ipynb)\n",
    "- [Doing post-processing](Postprocessing.ipynb)\n",
    "- [General code structure](code_structure.ipynb)\n",
    "- [Step by step description of the analysis pipeline](usage_step_by_step.ipynb)"
   ]
  },
  {
   "cell_type": "code",
   "execution_count": null,
   "metadata": {},
   "outputs": [],
   "source": []
  }
 ],
 "metadata": {
  "kernelspec": {
   "display_name": "Python 3",
   "language": "python",
   "name": "python3"
  },
  "language_info": {
   "codemirror_mode": {
    "name": "ipython",
    "version": 3
   },
   "file_extension": ".py",
   "mimetype": "text/x-python",
   "name": "python",
   "nbconvert_exporter": "python",
   "pygments_lexer": "ipython3",
   "version": "3.8.4"
  },
  "toc": {
   "base_numbering": 1,
   "nav_menu": {},
   "number_sections": false,
   "sideBar": true,
   "skip_h1_title": false,
   "title_cell": "Table of Contents",
   "title_sidebar": "Contents",
   "toc_cell": false,
   "toc_position": {},
   "toc_section_display": true,
   "toc_window_display": true
  },
  "varInspector": {
   "cols": {
    "lenName": 16,
    "lenType": 16,
    "lenVar": 40
   },
   "kernels_config": {
    "python": {
     "delete_cmd_postfix": "",
     "delete_cmd_prefix": "del ",
     "library": "var_list.py",
     "varRefreshCmd": "print(var_dic_list())"
    },
    "r": {
     "delete_cmd_postfix": ") ",
     "delete_cmd_prefix": "rm(",
     "library": "var_list.r",
     "varRefreshCmd": "cat(var_dic_list()) "
    }
   },
   "types_to_exclude": [
    "module",
    "function",
    "builtin_function_or_method",
    "instance",
    "_Feature"
   ],
   "window_display": false
  }
 },
 "nbformat": 4,
 "nbformat_minor": 4
}
