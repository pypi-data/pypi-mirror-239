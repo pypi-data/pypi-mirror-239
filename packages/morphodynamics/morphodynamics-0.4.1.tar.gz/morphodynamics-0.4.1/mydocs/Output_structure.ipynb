{
 "cells": [
  {
   "cell_type": "markdown",
   "metadata": {},
   "source": [
    "# Output\n",
    "\n",
    "When running the complete analysis in a standard way, these are the various outputs that you will find in the analysis folder:\n",
    "\n",
    "The results of the analysis are saved in the following way:\n",
    "- Segmentation images are saved in the ```segmented``` folder as ```segmented_k_0.tif```, ```segmented_k_1.tif``` etc. Those images are labeled masks, i.e. each cell gets one label.\n",
    "- Tracking information is saved as binary images where only the selected cell appear. Images are called ```tracked_k_0.tif```, ```tracked_k_1.tif``` etc.\n",
    "- The rasterized cell contours where pixel values correspond to curvilinear distance are stored as 32-bits images ```rasterized_k_0.tif```, ```rasterized_k_1.tif``` etc.\n",
    "- The binary window images with window boundaries are stored as ```window_image_k_0.tif```, ```window_image_k_1.tif``` etc.\n",
    "- The list of pixel indexes indicating to which window each pixel belongs are stored as pickle files ```window_k_0.pkl```, ```window_k_1.pkl``` etc.\n",
    "- Other information such as spline functions are stored in a pickled ```Results.pkl``` file.\n",
    "- Parameters of the experiments are saved in a human readable ```Parameters.yml``` file."
   ]
  }
 ],
 "metadata": {
  "kernelspec": {
   "display_name": "Python 3 (ipykernel)",
   "language": "python",
   "name": "python3"
  },
  "language_info": {
   "codemirror_mode": {
    "name": "ipython",
    "version": 3
   },
   "file_extension": ".py",
   "mimetype": "text/x-python",
   "name": "python",
   "nbconvert_exporter": "python",
   "pygments_lexer": "ipython3",
   "version": "3.9.18"
  },
  "toc": {
   "base_numbering": 1,
   "nav_menu": {},
   "number_sections": false,
   "sideBar": true,
   "skip_h1_title": false,
   "title_cell": "Table of Contents",
   "title_sidebar": "Contents",
   "toc_cell": false,
   "toc_position": {},
   "toc_section_display": true,
   "toc_window_display": false
  },
  "varInspector": {
   "cols": {
    "lenName": 16,
    "lenType": 16,
    "lenVar": 40
   },
   "kernels_config": {
    "python": {
     "delete_cmd_postfix": "",
     "delete_cmd_prefix": "del ",
     "library": "var_list.py",
     "varRefreshCmd": "print(var_dic_list())"
    },
    "r": {
     "delete_cmd_postfix": ") ",
     "delete_cmd_prefix": "rm(",
     "library": "var_list.r",
     "varRefreshCmd": "cat(var_dic_list()) "
    }
   },
   "types_to_exclude": [
    "module",
    "function",
    "builtin_function_or_method",
    "instance",
    "_Feature"
   ],
   "window_display": false
  }
 },
 "nbformat": 4,
 "nbformat_minor": 4
}
