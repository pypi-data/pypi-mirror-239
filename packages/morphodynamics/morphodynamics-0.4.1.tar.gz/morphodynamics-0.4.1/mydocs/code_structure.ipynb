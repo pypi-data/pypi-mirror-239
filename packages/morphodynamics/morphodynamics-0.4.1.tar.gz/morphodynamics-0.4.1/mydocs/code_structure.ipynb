{
 "cells": [
  {
   "cell_type": "markdown",
   "metadata": {},
   "source": [
    "# General code structure\n",
    "\n",
    "The code is composed of a series of components, allowing for a complete analysis from data conversion to output figures.\n",
    "\n",
    "1. Processing algorithms:\n",
    "    - A [segmentation](../docs/source/morphodynamics.html#module-morphodynamics.segmentation) module which contains code for cell segmentation and tracking.\n",
    "    - A [windowing](../docs/source/morphodynamics.html#module-morphodynamics.windowing) module which handles all questions related to turning a binary mask into a grid of windows.\n",
    "    - A [displacementestimation](../docs/source/morphodynamics.html#module-morphodynamics.displacementestimation) module which handles all questions related to the modeling of the contour as a spline and it's deformation across frames (this uses also the [functionaldefinition](../docs/source/morphodynamics.html#module-morphodynamics.functionaldefinition) module).\n",
    "2. Post-processing algorithms:\n",
    "    - A [correlation](../docs/source/morphodynamics.html#module-morphodynamics.correlation) module that computes time correlations between signals\n",
    "    - A sub-package [plots](../docs/source/morphodynamics.plots.html) that provides tools to produce analysis results plots.\n",
    "3. Analysis pipeline: The [analysis_par](../docs/source/morphodynamics.html#module-morphodynamics.analysis_par) provides a series of functions to perform analysis using the packages described above. Computing heavy functions are designed to work with Dask, a library that makes parallelization easy and deployable on a computing cluster.\n",
    "4. A series of data structures that are passed to functions:\n",
    "    - A [dataset](../docs/source/morphodynamics.html#module-morphodynamics.dataset) module that implements a series of classes handling various data formats (tif series, H5 etc.). All classes offer the same methods, e.g. to  load an image, so that their usage is independent from the underlying format.\n",
    "    - A [parameters](../docs/source/morphodynamics.html#module-morphodynamics.parameters) module that implement the Param structure which stores all important parameters used in an analysis (window size, number of frames, algorithm used etc.). This structure is exported in a human readable (and editable) yml when saving the processing result.\n",
    "    - A [results](../docs/source/morphodynamics.html#module-morphodynamics.results) module that implements a structure to store segmentation and windowing results."
   ]
  },
  {
   "cell_type": "code",
   "execution_count": null,
   "metadata": {},
   "outputs": [],
   "source": []
  }
 ],
 "metadata": {
  "kernelspec": {
   "display_name": "Python 3 (ipykernel)",
   "language": "python",
   "name": "python3"
  },
  "language_info": {
   "codemirror_mode": {
    "name": "ipython",
    "version": 3
   },
   "file_extension": ".py",
   "mimetype": "text/x-python",
   "name": "python",
   "nbconvert_exporter": "python",
   "pygments_lexer": "ipython3",
   "version": "3.9.18"
  },
  "toc": {
   "base_numbering": 1,
   "nav_menu": {},
   "number_sections": false,
   "sideBar": true,
   "skip_h1_title": false,
   "title_cell": "Table of Contents",
   "title_sidebar": "Contents",
   "toc_cell": false,
   "toc_position": {},
   "toc_section_display": true,
   "toc_window_display": true
  },
  "varInspector": {
   "cols": {
    "lenName": 16,
    "lenType": 16,
    "lenVar": 40
   },
   "kernels_config": {
    "python": {
     "delete_cmd_postfix": "",
     "delete_cmd_prefix": "del ",
     "library": "var_list.py",
     "varRefreshCmd": "print(var_dic_list())"
    },
    "r": {
     "delete_cmd_postfix": ") ",
     "delete_cmd_prefix": "rm(",
     "library": "var_list.r",
     "varRefreshCmd": "cat(var_dic_list()) "
    }
   },
   "types_to_exclude": [
    "module",
    "function",
    "builtin_function_or_method",
    "instance",
    "_Feature"
   ],
   "window_display": false
  }
 },
 "nbformat": 4,
 "nbformat_minor": 4
}
