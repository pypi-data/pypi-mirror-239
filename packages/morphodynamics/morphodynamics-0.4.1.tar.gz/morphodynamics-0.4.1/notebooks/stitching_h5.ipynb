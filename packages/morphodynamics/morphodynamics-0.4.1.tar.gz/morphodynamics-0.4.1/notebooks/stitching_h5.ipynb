{
 "cells": [
  {
   "cell_type": "markdown",
   "metadata": {},
   "source": [
    "# Convert ND2 to H5 format"
   ]
  },
  {
   "cell_type": "code",
   "execution_count": 1,
   "metadata": {},
   "outputs": [],
   "source": [
    "import numpy as np\n",
    "import matplotlib.pyplot as plt\n",
    "import skimage.io\n",
    "from pathlib import Path\n",
    "import re\n",
    "import pandas as pd\n",
    "\n",
    "from nd2reader import ND2Reader\n",
    "import h5py"
   ]
  },
  {
   "cell_type": "markdown",
   "metadata": {},
   "source": [
    "## Specify source and target folders\n",
    "\n",
    "It is expected that all nd2 files in a folder should be stiched together. It is also expected that file names conform to ```XXX_ind.nd1``` where ```ind``` is a numeric index. By default **only channels that appear in all nd1 files are exported as h5 stacks**.\n",
    "\n",
    "### Source\n",
    "\n",
    "Point to folder containing datasets"
   ]
  },
  {
   "cell_type": "code",
   "execution_count": 2,
   "metadata": {},
   "outputs": [],
   "source": [
    "main_folder = Path('../test_folders/test_nd2_good/')"
   ]
  },
  {
   "cell_type": "markdown",
   "metadata": {},
   "source": [
    "### Target\n",
    "\n",
    "If you leave ```save_folder = None```, by default a subfolder called H5 is created in the ```main_folder```. If you prefer to store in another place, provide a path."
   ]
  },
  {
   "cell_type": "code",
   "execution_count": 3,
   "metadata": {},
   "outputs": [],
   "source": [
    "save_folder = None\n",
    "#save_folder = Path('/path/where/to/save')"
   ]
  },
  {
   "cell_type": "markdown",
   "metadata": {},
   "source": [
    "## Run nd2 to h5 conversion\n",
    "\n",
    "One h5 file per channel is created. By default only the channels that appear in **all** ND2 files are exported. You can also manually indicate a series of channels to export."
   ]
  },
  {
   "cell_type": "code",
   "execution_count": 26,
   "metadata": {},
   "outputs": [
    {
     "name": "stdout",
     "output_type": "stream",
     "text": [
      "../test_folders/test_nd2_good/H5/cluster_5_FAM_pH_9_0.h5\n",
      "../test_folders/test_nd2_good/H5/cluster_FM_4_64_2__CHAPS.h5\n"
     ]
    },
    {
     "name": "stderr",
     "output_type": "stream",
     "text": [
      "/Users/gw18g940/miniconda3/envs/morphodynamics2021/lib/python3.7/site-packages/nd2reader/parser.py:294: UserWarning: ND2 file contains gap frames which are represented by np.nan-filled arrays; to convert to zeros use e.g. np.nan_to_num(array)\n",
      "  \"ND2 file contains gap frames which are represented by np.nan-filled arrays; to convert to zeros use e.g. np.nan_to_num(array)\")\n"
     ]
    }
   ],
   "source": [
    "# if desired you can manualyl specify a set of channels to export\n",
    "# manually select channels\n",
    "tokeep = None\n",
    "#tokeep = ['DMD-mCherry', 'DMD640']\n",
    "\n",
    "# find all nd2 files and sort them by index\n",
    "nd2files = list(main_folder.glob('*.nd2'))\n",
    "nd2files = [x for x in nd2files if not x.name.startswith('.')]\n",
    "\n",
    "if len(nd2files) > 1:\n",
    "    nd2files = pd.DataFrame({'name': nd2files,\n",
    "                             'numbering': [int(re.findall('_(\\d+).nd2', x.name)[0]) for x in nd2files]})\n",
    "    nd2files = nd2files.sort_values(by = 'numbering').name.values\n",
    "\n",
    "# find which channels appear in all files and keep only those\n",
    "all_ch = []\n",
    "for file in nd2files:\n",
    "    nd2file = ND2Reader(file.as_posix())\n",
    "    all_ch.append(nd2file.metadata['channels'])\n",
    "unique_ch = np.unique(np.concatenate(all_ch))\n",
    "if tokeep is None:\n",
    "    tokeep = unique_ch[[np.all([x in c for c in all_ch]) for x in unique_ch]]\n",
    "\n",
    "# Create target folder\n",
    "if save_folder is None:\n",
    "    save_folder = main_folder.joinpath('H5')\n",
    "    \n",
    "if not save_folder.is_dir():\n",
    "    save_folder.mkdir()\n",
    "\n",
    "# export each channel in a h5 file\n",
    "for ch_index, ch_name in enumerate(tokeep):\n",
    "    removeSpecialChars = ch_name.translate ({ord(c): \"_\" for c in \"!@#$%^&*()[]{};:,./<>?\\|`~-=+ \"})\n",
    "    h5_name = save_folder.joinpath(nd2files[0].name.replace('.nd2','_'+removeSpecialChars+'.h5'))\n",
    "\n",
    "    with h5py.File(h5_name, \"w\") as f_out:\n",
    "        print(h5_name)\n",
    "        for ind, file in enumerate(nd2files):\n",
    "            nd2file = ND2Reader(file.as_posix())\n",
    "            nd2file.metadata[\"z_levels\"] = range(0)\n",
    "            \n",
    "            # load and save each image individually to avoid RAM problems with large nd2 files\n",
    "            image = np.zeros((1, nd2file.metadata['height'],nd2file.metadata['width']), dtype=np.uint16)\n",
    "            for i in range(nd2file.sizes['t']):\n",
    "                ch_nd2_index = nd2file.metadata[\"channels\"].index(tokeep[ch_index])\n",
    "                image[0,:,:] = nd2file.get_frame_2D(\n",
    "                        x=0, y=0, z=0, c=ch_nd2_index, t=i, v=0\n",
    "                    )\n",
    "                if (ind == 0) and (i==0):\n",
    "                    dset = f_out.create_dataset(\"volume\", data=image, chunks=True, compression=\"gzip\", compression_opts=1, maxshape=(None,None,None))\n",
    "                else:\n",
    "                    dset.resize(dset.shape[0]+image.shape[0], axis=0)   \n",
    "                    dset[-image.shape[0]:] = image"
   ]
  }
 ],
 "metadata": {
  "kernelspec": {
   "display_name": "Python 3",
   "language": "python",
   "name": "python3"
  },
  "language_info": {
   "codemirror_mode": {
    "name": "ipython",
    "version": 3
   },
   "file_extension": ".py",
   "mimetype": "text/x-python",
   "name": "python",
   "nbconvert_exporter": "python",
   "pygments_lexer": "ipython3",
   "version": "3.7.9"
  },
  "toc": {
   "base_numbering": 1,
   "nav_menu": {},
   "number_sections": false,
   "sideBar": true,
   "skip_h1_title": false,
   "title_cell": "Table of Contents",
   "title_sidebar": "Contents",
   "toc_cell": false,
   "toc_position": {},
   "toc_section_display": true,
   "toc_window_display": true
  },
  "varInspector": {
   "cols": {
    "lenName": 16,
    "lenType": 16,
    "lenVar": 40
   },
   "kernels_config": {
    "python": {
     "delete_cmd_postfix": "",
     "delete_cmd_prefix": "del ",
     "library": "var_list.py",
     "varRefreshCmd": "print(var_dic_list())"
    },
    "r": {
     "delete_cmd_postfix": ") ",
     "delete_cmd_prefix": "rm(",
     "library": "var_list.r",
     "varRefreshCmd": "cat(var_dic_list()) "
    }
   },
   "types_to_exclude": [
    "module",
    "function",
    "builtin_function_or_method",
    "instance",
    "_Feature"
   ],
   "window_display": false
  }
 },
 "nbformat": 4,
 "nbformat_minor": 4
}
