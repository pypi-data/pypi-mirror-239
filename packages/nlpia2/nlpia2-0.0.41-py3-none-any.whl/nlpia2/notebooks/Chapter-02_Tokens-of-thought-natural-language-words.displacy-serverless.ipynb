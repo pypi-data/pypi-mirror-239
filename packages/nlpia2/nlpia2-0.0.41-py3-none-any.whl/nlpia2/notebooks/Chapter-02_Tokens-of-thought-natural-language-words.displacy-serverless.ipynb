{
 "cells": [
  {
   "cell_type": "markdown",
   "id": "0b659aa1",
   "metadata": {},
   "source": [
    "#### [`Chapter-02_Tokens-of-thought-natural-language-words`](/home/hobs/code/hobs/nlpia-manuscript/manuscript/adoc/Chapter-02_Tokens-of-thought-natural-language-words.adoc)"
   ]
  },
  {
   "cell_type": "markdown",
   "id": "bbe7e621",
   "metadata": {},
   "source": [
    "#### .Example quote from _The Book Thief_ split into tokens"
   ]
  },
  {
   "cell_type": "code",
   "execution_count": 1,
   "id": "b00dc2dc",
   "metadata": {},
   "outputs": [
    {
     "data": {
      "text/plain": [
       "['Trust', 'me,', 'though,', 'the', 'words', 'were', 'on', 'their']"
      ]
     },
     "execution_count": 1,
     "metadata": {},
     "output_type": "execute_result"
    }
   ],
   "source": [
    "text = (\"Trust me, though, the words were on their way, and when \"\n",
    "        \"they arrived, Liesel would hold them in her hands like \"\n",
    "        \"the clouds, and she would wring them out, like the rain.\")\n",
    "tokens = text.split()  # <1>\n",
    "tokens[:8]"
   ]
  },
  {
   "cell_type": "markdown",
   "id": "bb1ca194",
   "metadata": {},
   "source": [
    "#### .Example quote from _The Book Thief_ split into tokens"
   ]
  },
  {
   "cell_type": "code",
   "execution_count": 2,
   "id": "dcd418b8",
   "metadata": {},
   "outputs": [
    {
     "data": {
      "text/plain": [
       "[\"There's\", 'no', 'such', 'thing', 'as', 'survival', 'of', 'the']"
      ]
     },
     "execution_count": 2,
     "metadata": {},
     "output_type": "execute_result"
    }
   ],
   "source": [
    "import re\n",
    "pattern = r'\\w+(?:\\'\\w+)?|[^\\w\\s]'  # <1>\n",
    "texts = [text]\n",
    "texts.append(\"There's no such thing as survival of the fittest. \"\n",
    "             \"Survival of the most adequate, maybe.\")\n",
    "tokens = list(re.findall(pattern, texts[-1]))\n",
    "tokens[:8]"
   ]
  },
  {
   "cell_type": "markdown",
   "id": "9878eea9",
   "metadata": {},
   "source": [
    "#### .Example quote from _The Book Thief_ split into tokens"
   ]
  },
  {
   "cell_type": "code",
   "execution_count": 3,
   "id": "637373d8",
   "metadata": {},
   "outputs": [
    {
     "data": {
      "text/plain": [
       "['fittest', '.', 'Survival', 'of', 'the', 'most', 'adequate', ',']"
      ]
     },
     "execution_count": 3,
     "metadata": {},
     "output_type": "execute_result"
    }
   ],
   "source": [
    "tokens[8:16]"
   ]
  },
  {
   "cell_type": "markdown",
   "id": "633aa4f1",
   "metadata": {},
   "source": [
    "#### .Example quote from _The Book Thief_ split into tokens"
   ]
  },
  {
   "cell_type": "code",
   "execution_count": 4,
   "id": "e43e8544",
   "metadata": {},
   "outputs": [
    {
     "data": {
      "text/plain": [
       "['maybe', '.']"
      ]
     },
     "execution_count": 4,
     "metadata": {},
     "output_type": "execute_result"
    }
   ],
   "source": [
    "tokens[16:]"
   ]
  },
  {
   "cell_type": "markdown",
   "id": "16bd1858",
   "metadata": {},
   "source": [
    "#### "
   ]
  },
  {
   "cell_type": "code",
   "execution_count": 5,
   "id": "b6ce85f9",
   "metadata": {},
   "outputs": [
    {
     "data": {
      "text/plain": [
       "\", . Survival There's adequate as fittest maybe most no of such\""
      ]
     },
     "execution_count": 5,
     "metadata": {},
     "output_type": "execute_result"
    }
   ],
   "source": [
    "import numpy as np\n",
    "vocab = sorted(set(tokens))  # <1>\n",
    "' '.join(vocab[:12])  # <2>"
   ]
  },
  {
   "cell_type": "markdown",
   "id": "d581e472",
   "metadata": {},
   "source": [
    "#### "
   ]
  },
  {
   "cell_type": "code",
   "execution_count": 6,
   "id": "581d9862",
   "metadata": {},
   "outputs": [
    {
     "data": {
      "text/plain": [
       "18"
      ]
     },
     "execution_count": 6,
     "metadata": {},
     "output_type": "execute_result"
    }
   ],
   "source": [
    "num_tokens = len(tokens)\n",
    "num_tokens"
   ]
  },
  {
   "cell_type": "markdown",
   "id": "2c53934d",
   "metadata": {},
   "source": [
    "#### "
   ]
  },
  {
   "cell_type": "code",
   "execution_count": 7,
   "id": "868a030c",
   "metadata": {},
   "outputs": [
    {
     "data": {
      "text/plain": [
       "15"
      ]
     },
     "execution_count": 7,
     "metadata": {},
     "output_type": "execute_result"
    }
   ],
   "source": [
    "vocab_size = len(vocab)\n",
    "vocab_size"
   ]
  },
  {
   "cell_type": "markdown",
   "id": "b5aa7776",
   "metadata": {},
   "source": [
    "#### "
   ]
  },
  {
   "cell_type": "code",
   "execution_count": 8,
   "id": "65502cdc",
   "metadata": {},
   "outputs": [
    {
     "name": "stdout",
     "output_type": "stream",
     "text": [
      "Collecting en-core-web-sm==3.5.0\n",
      "  Downloading https://github.com/explosion/spacy-models/releases/download/en_core_web_sm-3.5.0/en_core_web_sm-3.5.0-py3-none-any.whl (12.8 MB)\n",
      "\u001b[2K     \u001b[38;2;114;156;31m━━━━━━━━━━━━━━━━━━━━━━━━━━━━━━━━━━━━━━━━\u001b[0m \u001b[32m12.8/12.8 MB\u001b[0m \u001b[31m6.4 MB/s\u001b[0m eta \u001b[36m0:00:00\u001b[0mm eta \u001b[36m0:00:01\u001b[0m0:01\u001b[0m:01\u001b[0m\n",
      "\u001b[?25hRequirement already satisfied: spacy<3.6.0,>=3.5.0 in /home/hobs/code/tangibleai/community/nlpia2/.venv/lib/python3.10/site-packages (from en-core-web-sm==3.5.0) (3.5.4)\n",
      "Requirement already satisfied: spacy-legacy<3.1.0,>=3.0.11 in /home/hobs/code/tangibleai/community/nlpia2/.venv/lib/python3.10/site-packages (from spacy<3.6.0,>=3.5.0->en-core-web-sm==3.5.0) (3.0.12)\n",
      "Requirement already satisfied: spacy-loggers<2.0.0,>=1.0.0 in /home/hobs/code/tangibleai/community/nlpia2/.venv/lib/python3.10/site-packages (from spacy<3.6.0,>=3.5.0->en-core-web-sm==3.5.0) (1.0.5)\n",
      "Requirement already satisfied: murmurhash<1.1.0,>=0.28.0 in /home/hobs/code/tangibleai/community/nlpia2/.venv/lib/python3.10/site-packages (from spacy<3.6.0,>=3.5.0->en-core-web-sm==3.5.0) (1.0.10)\n",
      "Requirement already satisfied: cymem<2.1.0,>=2.0.2 in /home/hobs/code/tangibleai/community/nlpia2/.venv/lib/python3.10/site-packages (from spacy<3.6.0,>=3.5.0->en-core-web-sm==3.5.0) (2.0.8)\n",
      "Requirement already satisfied: preshed<3.1.0,>=3.0.2 in /home/hobs/code/tangibleai/community/nlpia2/.venv/lib/python3.10/site-packages (from spacy<3.6.0,>=3.5.0->en-core-web-sm==3.5.0) (3.0.9)\n",
      "Requirement already satisfied: thinc<8.2.0,>=8.1.8 in /home/hobs/code/tangibleai/community/nlpia2/.venv/lib/python3.10/site-packages (from spacy<3.6.0,>=3.5.0->en-core-web-sm==3.5.0) (8.1.12)\n",
      "Requirement already satisfied: wasabi<1.2.0,>=0.9.1 in /home/hobs/code/tangibleai/community/nlpia2/.venv/lib/python3.10/site-packages (from spacy<3.6.0,>=3.5.0->en-core-web-sm==3.5.0) (1.1.2)\n",
      "Requirement already satisfied: srsly<3.0.0,>=2.4.3 in /home/hobs/code/tangibleai/community/nlpia2/.venv/lib/python3.10/site-packages (from spacy<3.6.0,>=3.5.0->en-core-web-sm==3.5.0) (2.4.8)\n",
      "Requirement already satisfied: catalogue<2.1.0,>=2.0.6 in /home/hobs/code/tangibleai/community/nlpia2/.venv/lib/python3.10/site-packages (from spacy<3.6.0,>=3.5.0->en-core-web-sm==3.5.0) (2.0.10)\n",
      "Requirement already satisfied: typer<0.10.0,>=0.3.0 in /home/hobs/code/tangibleai/community/nlpia2/.venv/lib/python3.10/site-packages (from spacy<3.6.0,>=3.5.0->en-core-web-sm==3.5.0) (0.9.0)\n",
      "Requirement already satisfied: pathy>=0.10.0 in /home/hobs/code/tangibleai/community/nlpia2/.venv/lib/python3.10/site-packages (from spacy<3.6.0,>=3.5.0->en-core-web-sm==3.5.0) (0.10.2)\n",
      "Requirement already satisfied: smart-open<7.0.0,>=5.2.1 in /home/hobs/code/tangibleai/community/nlpia2/.venv/lib/python3.10/site-packages (from spacy<3.6.0,>=3.5.0->en-core-web-sm==3.5.0) (6.4.0)\n",
      "Requirement already satisfied: tqdm<5.0.0,>=4.38.0 in /home/hobs/code/tangibleai/community/nlpia2/.venv/lib/python3.10/site-packages (from spacy<3.6.0,>=3.5.0->en-core-web-sm==3.5.0) (4.66.1)\n",
      "Requirement already satisfied: numpy>=1.15.0 in /home/hobs/code/tangibleai/community/nlpia2/.venv/lib/python3.10/site-packages (from spacy<3.6.0,>=3.5.0->en-core-web-sm==3.5.0) (1.25.2)\n",
      "Requirement already satisfied: requests<3.0.0,>=2.13.0 in /home/hobs/code/tangibleai/community/nlpia2/.venv/lib/python3.10/site-packages (from spacy<3.6.0,>=3.5.0->en-core-web-sm==3.5.0) (2.31.0)\n",
      "Requirement already satisfied: pydantic!=1.8,!=1.8.1,<1.11.0,>=1.7.4 in /home/hobs/code/tangibleai/community/nlpia2/.venv/lib/python3.10/site-packages (from spacy<3.6.0,>=3.5.0->en-core-web-sm==3.5.0) (1.10.13)\n",
      "Requirement already satisfied: jinja2 in /home/hobs/code/tangibleai/community/nlpia2/.venv/lib/python3.10/site-packages (from spacy<3.6.0,>=3.5.0->en-core-web-sm==3.5.0) (3.1.2)\n",
      "Requirement already satisfied: setuptools in /home/hobs/code/tangibleai/community/nlpia2/.venv/lib/python3.10/site-packages (from spacy<3.6.0,>=3.5.0->en-core-web-sm==3.5.0) (68.2.2)\n",
      "Requirement already satisfied: packaging>=20.0 in /home/hobs/code/tangibleai/community/nlpia2/.venv/lib/python3.10/site-packages (from spacy<3.6.0,>=3.5.0->en-core-web-sm==3.5.0) (23.2)\n",
      "Requirement already satisfied: langcodes<4.0.0,>=3.2.0 in /home/hobs/code/tangibleai/community/nlpia2/.venv/lib/python3.10/site-packages (from spacy<3.6.0,>=3.5.0->en-core-web-sm==3.5.0) (3.3.0)\n",
      "Requirement already satisfied: typing-extensions>=4.2.0 in /home/hobs/code/tangibleai/community/nlpia2/.venv/lib/python3.10/site-packages (from pydantic!=1.8,!=1.8.1,<1.11.0,>=1.7.4->spacy<3.6.0,>=3.5.0->en-core-web-sm==3.5.0) (4.8.0)\n",
      "Requirement already satisfied: charset-normalizer<4,>=2 in /home/hobs/code/tangibleai/community/nlpia2/.venv/lib/python3.10/site-packages (from requests<3.0.0,>=2.13.0->spacy<3.6.0,>=3.5.0->en-core-web-sm==3.5.0) (3.3.0)\n",
      "Requirement already satisfied: idna<4,>=2.5 in /home/hobs/code/tangibleai/community/nlpia2/.venv/lib/python3.10/site-packages (from requests<3.0.0,>=2.13.0->spacy<3.6.0,>=3.5.0->en-core-web-sm==3.5.0) (3.4)\n",
      "Requirement already satisfied: urllib3<3,>=1.21.1 in /home/hobs/code/tangibleai/community/nlpia2/.venv/lib/python3.10/site-packages (from requests<3.0.0,>=2.13.0->spacy<3.6.0,>=3.5.0->en-core-web-sm==3.5.0) (2.0.7)\n",
      "Requirement already satisfied: certifi>=2017.4.17 in /home/hobs/code/tangibleai/community/nlpia2/.venv/lib/python3.10/site-packages (from requests<3.0.0,>=2.13.0->spacy<3.6.0,>=3.5.0->en-core-web-sm==3.5.0) (2023.7.22)\n",
      "Requirement already satisfied: blis<0.8.0,>=0.7.8 in /home/hobs/code/tangibleai/community/nlpia2/.venv/lib/python3.10/site-packages (from thinc<8.2.0,>=8.1.8->spacy<3.6.0,>=3.5.0->en-core-web-sm==3.5.0) (0.7.11)\n",
      "Requirement already satisfied: confection<1.0.0,>=0.0.1 in /home/hobs/code/tangibleai/community/nlpia2/.venv/lib/python3.10/site-packages (from thinc<8.2.0,>=8.1.8->spacy<3.6.0,>=3.5.0->en-core-web-sm==3.5.0) (0.1.3)\n",
      "Requirement already satisfied: click<9.0.0,>=7.1.1 in /home/hobs/code/tangibleai/community/nlpia2/.venv/lib/python3.10/site-packages (from typer<0.10.0,>=0.3.0->spacy<3.6.0,>=3.5.0->en-core-web-sm==3.5.0) (8.1.7)\n",
      "Requirement already satisfied: MarkupSafe>=2.0 in /home/hobs/code/tangibleai/community/nlpia2/.venv/lib/python3.10/site-packages (from jinja2->spacy<3.6.0,>=3.5.0->en-core-web-sm==3.5.0) (2.1.3)\n"
     ]
    },
    {
     "name": "stderr",
     "output_type": "stream",
     "text": [
      "\u001b[33mWARNING: There was an error checking the latest version of pip.\u001b[0m\u001b[33m\n",
      "\u001b[0m"
     ]
    },
    {
     "name": "stdout",
     "output_type": "stream",
     "text": [
      "\u001b[38;5;2m✔ Download and installation successful\u001b[0m\n",
      "You can now load the package via spacy.load('en_core_web_sm')\n"
     ]
    },
    {
     "data": {
      "text/plain": [
       "spacy.tokens.doc.Doc"
      ]
     },
     "execution_count": 8,
     "metadata": {},
     "output_type": "execute_result"
    }
   ],
   "source": [
    "import spacy  # <1>\n",
    "spacy.cli.download('en_core_web_sm')  # <2>\n",
    "nlp = spacy.load('en_core_web_sm')  # <3>\n",
    "doc = nlp(texts[-1])\n",
    "type(doc)"
   ]
  },
  {
   "cell_type": "markdown",
   "id": "925589a4",
   "metadata": {},
   "source": [
    "#### "
   ]
  },
  {
   "cell_type": "code",
   "execution_count": 9,
   "id": "9dadd164",
   "metadata": {},
   "outputs": [
    {
     "data": {
      "text/plain": [
       "['There', \"'s\", 'no', 'such', 'thing', 'as', 'survival', 'of', 'the']"
      ]
     },
     "execution_count": 9,
     "metadata": {},
     "output_type": "execute_result"
    }
   ],
   "source": [
    "tokens = [tok.text for tok in doc]\n",
    "tokens[:9]"
   ]
  },
  {
   "cell_type": "markdown",
   "id": "ab298410",
   "metadata": {},
   "source": [
    "#### "
   ]
  },
  {
   "cell_type": "code",
   "execution_count": 10,
   "id": "aaeb5854",
   "metadata": {},
   "outputs": [
    {
     "data": {
      "text/plain": [
       "['fittest', '.', 'Survival', 'of', 'the', 'most', 'adequate', ',']"
      ]
     },
     "execution_count": 10,
     "metadata": {},
     "output_type": "execute_result"
    }
   ],
   "source": [
    "tokens[9:17]"
   ]
  },
  {
   "cell_type": "markdown",
   "id": "0dedcaf8",
   "metadata": {},
   "source": [
    "#### "
   ]
  },
  {
   "cell_type": "code",
   "execution_count": 11,
   "id": "1e70190f",
   "metadata": {},
   "outputs": [
    {
     "data": {
      "text/html": [
       "<span class=\"tex2jax_ignore\"><svg xmlns=\"http://www.w3.org/2000/svg\" xmlns:xlink=\"http://www.w3.org/1999/xlink\" xml:lang=\"en\" id=\"09039636090345b28d0eebdca3104312-0\" class=\"displacy\" width=\"1800\" height=\"399.5\" direction=\"ltr\" style=\"max-width: none; height: 399.5px; color: #000000; background: #ffffff; font-family: Arial; direction: ltr\">\n",
       "<text class=\"displacy-token\" fill=\"currentColor\" text-anchor=\"middle\" y=\"309.5\">\n",
       "    <tspan class=\"displacy-word\" fill=\"currentColor\" x=\"50\">There</tspan>\n",
       "    <tspan class=\"displacy-tag\" dy=\"2em\" fill=\"currentColor\" x=\"50\">PRON</tspan>\n",
       "</text>\n",
       "\n",
       "<text class=\"displacy-token\" fill=\"currentColor\" text-anchor=\"middle\" y=\"309.5\">\n",
       "    <tspan class=\"displacy-word\" fill=\"currentColor\" x=\"225\">'s</tspan>\n",
       "    <tspan class=\"displacy-tag\" dy=\"2em\" fill=\"currentColor\" x=\"225\">VERB</tspan>\n",
       "</text>\n",
       "\n",
       "<text class=\"displacy-token\" fill=\"currentColor\" text-anchor=\"middle\" y=\"309.5\">\n",
       "    <tspan class=\"displacy-word\" fill=\"currentColor\" x=\"400\">no</tspan>\n",
       "    <tspan class=\"displacy-tag\" dy=\"2em\" fill=\"currentColor\" x=\"400\">DET</tspan>\n",
       "</text>\n",
       "\n",
       "<text class=\"displacy-token\" fill=\"currentColor\" text-anchor=\"middle\" y=\"309.5\">\n",
       "    <tspan class=\"displacy-word\" fill=\"currentColor\" x=\"575\">such</tspan>\n",
       "    <tspan class=\"displacy-tag\" dy=\"2em\" fill=\"currentColor\" x=\"575\">ADJ</tspan>\n",
       "</text>\n",
       "\n",
       "<text class=\"displacy-token\" fill=\"currentColor\" text-anchor=\"middle\" y=\"309.5\">\n",
       "    <tspan class=\"displacy-word\" fill=\"currentColor\" x=\"750\">thing</tspan>\n",
       "    <tspan class=\"displacy-tag\" dy=\"2em\" fill=\"currentColor\" x=\"750\">NOUN</tspan>\n",
       "</text>\n",
       "\n",
       "<text class=\"displacy-token\" fill=\"currentColor\" text-anchor=\"middle\" y=\"309.5\">\n",
       "    <tspan class=\"displacy-word\" fill=\"currentColor\" x=\"925\">as</tspan>\n",
       "    <tspan class=\"displacy-tag\" dy=\"2em\" fill=\"currentColor\" x=\"925\">ADP</tspan>\n",
       "</text>\n",
       "\n",
       "<text class=\"displacy-token\" fill=\"currentColor\" text-anchor=\"middle\" y=\"309.5\">\n",
       "    <tspan class=\"displacy-word\" fill=\"currentColor\" x=\"1100\">survival</tspan>\n",
       "    <tspan class=\"displacy-tag\" dy=\"2em\" fill=\"currentColor\" x=\"1100\">NOUN</tspan>\n",
       "</text>\n",
       "\n",
       "<text class=\"displacy-token\" fill=\"currentColor\" text-anchor=\"middle\" y=\"309.5\">\n",
       "    <tspan class=\"displacy-word\" fill=\"currentColor\" x=\"1275\">of</tspan>\n",
       "    <tspan class=\"displacy-tag\" dy=\"2em\" fill=\"currentColor\" x=\"1275\">ADP</tspan>\n",
       "</text>\n",
       "\n",
       "<text class=\"displacy-token\" fill=\"currentColor\" text-anchor=\"middle\" y=\"309.5\">\n",
       "    <tspan class=\"displacy-word\" fill=\"currentColor\" x=\"1450\">the</tspan>\n",
       "    <tspan class=\"displacy-tag\" dy=\"2em\" fill=\"currentColor\" x=\"1450\">DET</tspan>\n",
       "</text>\n",
       "\n",
       "<text class=\"displacy-token\" fill=\"currentColor\" text-anchor=\"middle\" y=\"309.5\">\n",
       "    <tspan class=\"displacy-word\" fill=\"currentColor\" x=\"1625\">fittest.</tspan>\n",
       "    <tspan class=\"displacy-tag\" dy=\"2em\" fill=\"currentColor\" x=\"1625\">ADJ</tspan>\n",
       "</text>\n",
       "\n",
       "<g class=\"displacy-arrow\">\n",
       "    <path class=\"displacy-arc\" id=\"arrow-09039636090345b28d0eebdca3104312-0-0\" stroke-width=\"2px\" d=\"M70,264.5 C70,177.0 215.0,177.0 215.0,264.5\" fill=\"none\" stroke=\"currentColor\"/>\n",
       "    <text dy=\"1.25em\" style=\"font-size: 0.8em; letter-spacing: 1px\">\n",
       "        <textPath xlink:href=\"#arrow-09039636090345b28d0eebdca3104312-0-0\" class=\"displacy-label\" startOffset=\"50%\" side=\"left\" fill=\"currentColor\" text-anchor=\"middle\">expl</textPath>\n",
       "    </text>\n",
       "    <path class=\"displacy-arrowhead\" d=\"M70,266.5 L62,254.5 78,254.5\" fill=\"currentColor\"/>\n",
       "</g>\n",
       "\n",
       "<g class=\"displacy-arrow\">\n",
       "    <path class=\"displacy-arc\" id=\"arrow-09039636090345b28d0eebdca3104312-0-1\" stroke-width=\"2px\" d=\"M420,264.5 C420,89.5 745.0,89.5 745.0,264.5\" fill=\"none\" stroke=\"currentColor\"/>\n",
       "    <text dy=\"1.25em\" style=\"font-size: 0.8em; letter-spacing: 1px\">\n",
       "        <textPath xlink:href=\"#arrow-09039636090345b28d0eebdca3104312-0-1\" class=\"displacy-label\" startOffset=\"50%\" side=\"left\" fill=\"currentColor\" text-anchor=\"middle\">det</textPath>\n",
       "    </text>\n",
       "    <path class=\"displacy-arrowhead\" d=\"M420,266.5 L412,254.5 428,254.5\" fill=\"currentColor\"/>\n",
       "</g>\n",
       "\n",
       "<g class=\"displacy-arrow\">\n",
       "    <path class=\"displacy-arc\" id=\"arrow-09039636090345b28d0eebdca3104312-0-2\" stroke-width=\"2px\" d=\"M595,264.5 C595,177.0 740.0,177.0 740.0,264.5\" fill=\"none\" stroke=\"currentColor\"/>\n",
       "    <text dy=\"1.25em\" style=\"font-size: 0.8em; letter-spacing: 1px\">\n",
       "        <textPath xlink:href=\"#arrow-09039636090345b28d0eebdca3104312-0-2\" class=\"displacy-label\" startOffset=\"50%\" side=\"left\" fill=\"currentColor\" text-anchor=\"middle\">amod</textPath>\n",
       "    </text>\n",
       "    <path class=\"displacy-arrowhead\" d=\"M595,266.5 L587,254.5 603,254.5\" fill=\"currentColor\"/>\n",
       "</g>\n",
       "\n",
       "<g class=\"displacy-arrow\">\n",
       "    <path class=\"displacy-arc\" id=\"arrow-09039636090345b28d0eebdca3104312-0-3\" stroke-width=\"2px\" d=\"M245,264.5 C245,2.0 750.0,2.0 750.0,264.5\" fill=\"none\" stroke=\"currentColor\"/>\n",
       "    <text dy=\"1.25em\" style=\"font-size: 0.8em; letter-spacing: 1px\">\n",
       "        <textPath xlink:href=\"#arrow-09039636090345b28d0eebdca3104312-0-3\" class=\"displacy-label\" startOffset=\"50%\" side=\"left\" fill=\"currentColor\" text-anchor=\"middle\">attr</textPath>\n",
       "    </text>\n",
       "    <path class=\"displacy-arrowhead\" d=\"M750.0,266.5 L758.0,254.5 742.0,254.5\" fill=\"currentColor\"/>\n",
       "</g>\n",
       "\n",
       "<g class=\"displacy-arrow\">\n",
       "    <path class=\"displacy-arc\" id=\"arrow-09039636090345b28d0eebdca3104312-0-4\" stroke-width=\"2px\" d=\"M770,264.5 C770,177.0 915.0,177.0 915.0,264.5\" fill=\"none\" stroke=\"currentColor\"/>\n",
       "    <text dy=\"1.25em\" style=\"font-size: 0.8em; letter-spacing: 1px\">\n",
       "        <textPath xlink:href=\"#arrow-09039636090345b28d0eebdca3104312-0-4\" class=\"displacy-label\" startOffset=\"50%\" side=\"left\" fill=\"currentColor\" text-anchor=\"middle\">prep</textPath>\n",
       "    </text>\n",
       "    <path class=\"displacy-arrowhead\" d=\"M915.0,266.5 L923.0,254.5 907.0,254.5\" fill=\"currentColor\"/>\n",
       "</g>\n",
       "\n",
       "<g class=\"displacy-arrow\">\n",
       "    <path class=\"displacy-arc\" id=\"arrow-09039636090345b28d0eebdca3104312-0-5\" stroke-width=\"2px\" d=\"M945,264.5 C945,177.0 1090.0,177.0 1090.0,264.5\" fill=\"none\" stroke=\"currentColor\"/>\n",
       "    <text dy=\"1.25em\" style=\"font-size: 0.8em; letter-spacing: 1px\">\n",
       "        <textPath xlink:href=\"#arrow-09039636090345b28d0eebdca3104312-0-5\" class=\"displacy-label\" startOffset=\"50%\" side=\"left\" fill=\"currentColor\" text-anchor=\"middle\">pobj</textPath>\n",
       "    </text>\n",
       "    <path class=\"displacy-arrowhead\" d=\"M1090.0,266.5 L1098.0,254.5 1082.0,254.5\" fill=\"currentColor\"/>\n",
       "</g>\n",
       "\n",
       "<g class=\"displacy-arrow\">\n",
       "    <path class=\"displacy-arc\" id=\"arrow-09039636090345b28d0eebdca3104312-0-6\" stroke-width=\"2px\" d=\"M1120,264.5 C1120,177.0 1265.0,177.0 1265.0,264.5\" fill=\"none\" stroke=\"currentColor\"/>\n",
       "    <text dy=\"1.25em\" style=\"font-size: 0.8em; letter-spacing: 1px\">\n",
       "        <textPath xlink:href=\"#arrow-09039636090345b28d0eebdca3104312-0-6\" class=\"displacy-label\" startOffset=\"50%\" side=\"left\" fill=\"currentColor\" text-anchor=\"middle\">prep</textPath>\n",
       "    </text>\n",
       "    <path class=\"displacy-arrowhead\" d=\"M1265.0,266.5 L1273.0,254.5 1257.0,254.5\" fill=\"currentColor\"/>\n",
       "</g>\n",
       "\n",
       "<g class=\"displacy-arrow\">\n",
       "    <path class=\"displacy-arc\" id=\"arrow-09039636090345b28d0eebdca3104312-0-7\" stroke-width=\"2px\" d=\"M1470,264.5 C1470,177.0 1615.0,177.0 1615.0,264.5\" fill=\"none\" stroke=\"currentColor\"/>\n",
       "    <text dy=\"1.25em\" style=\"font-size: 0.8em; letter-spacing: 1px\">\n",
       "        <textPath xlink:href=\"#arrow-09039636090345b28d0eebdca3104312-0-7\" class=\"displacy-label\" startOffset=\"50%\" side=\"left\" fill=\"currentColor\" text-anchor=\"middle\">det</textPath>\n",
       "    </text>\n",
       "    <path class=\"displacy-arrowhead\" d=\"M1470,266.5 L1462,254.5 1478,254.5\" fill=\"currentColor\"/>\n",
       "</g>\n",
       "\n",
       "<g class=\"displacy-arrow\">\n",
       "    <path class=\"displacy-arc\" id=\"arrow-09039636090345b28d0eebdca3104312-0-8\" stroke-width=\"2px\" d=\"M1295,264.5 C1295,89.5 1620.0,89.5 1620.0,264.5\" fill=\"none\" stroke=\"currentColor\"/>\n",
       "    <text dy=\"1.25em\" style=\"font-size: 0.8em; letter-spacing: 1px\">\n",
       "        <textPath xlink:href=\"#arrow-09039636090345b28d0eebdca3104312-0-8\" class=\"displacy-label\" startOffset=\"50%\" side=\"left\" fill=\"currentColor\" text-anchor=\"middle\">pobj</textPath>\n",
       "    </text>\n",
       "    <path class=\"displacy-arrowhead\" d=\"M1620.0,266.5 L1628.0,254.5 1612.0,254.5\" fill=\"currentColor\"/>\n",
       "</g>\n",
       "</svg></span>"
      ],
      "text/plain": [
       "<IPython.core.display.HTML object>"
      ]
     },
     "metadata": {},
     "output_type": "display_data"
    }
   ],
   "source": [
    "from spacy import displacy\n",
    "sentence = list(doc.sents)[0]  # <1>\n",
    "svg = displacy.render(sentence, style=\"dep\")  # <2>\n",
    "# displacy.serve(sentence, style=\"dep\")\n",
    "# !firefox 127.0.0.1:5000"
   ]
  },
  {
   "cell_type": "markdown",
   "id": "f349a59c",
   "metadata": {},
   "source": [
    "#### "
   ]
  },
  {
   "cell_type": "code",
   "execution_count": null,
   "id": "63c80a3c",
   "metadata": {},
   "outputs": [],
   "source": [
    "import requests\n",
    "text = requests.get('https://proai.org/nlpia2-ch2.adoc').text\n",
    "f'{round(len(text) / 10_000)}0k'  # <1>"
   ]
  },
  {
   "cell_type": "markdown",
   "id": "3f70c2bf",
   "metadata": {},
   "source": [
    "#### "
   ]
  },
  {
   "cell_type": "code",
   "execution_count": null,
   "id": "53f45dc4",
   "metadata": {},
   "outputs": [],
   "source": [
    "import spacy\n",
    "nlp = spacy.load('en_core_web_sm')\n",
    "%timeit nlp(text)  # <1>"
   ]
  },
  {
   "cell_type": "markdown",
   "id": "18ab8c91",
   "metadata": {},
   "source": [
    "#### "
   ]
  },
  {
   "cell_type": "code",
   "execution_count": null,
   "id": "3d544ce4",
   "metadata": {},
   "outputs": [],
   "source": [
    "f'{round(len(text) / 10_000)}0k'"
   ]
  },
  {
   "cell_type": "markdown",
   "id": "18a22e3d",
   "metadata": {},
   "source": [
    "#### "
   ]
  },
  {
   "cell_type": "code",
   "execution_count": null,
   "id": "faa75189",
   "metadata": {},
   "outputs": [],
   "source": [
    "doc = nlp(text)\n",
    "f'{round(len(list(doc)) / 10_000)}0k'"
   ]
  },
  {
   "cell_type": "markdown",
   "id": "f2114885",
   "metadata": {},
   "source": [
    "#### "
   ]
  },
  {
   "cell_type": "code",
   "execution_count": null,
   "id": "9a4855e0",
   "metadata": {},
   "outputs": [],
   "source": [
    "f'{round(len(doc) / 1_000 / 4.67)}kWPS'  # <2>"
   ]
  },
  {
   "cell_type": "markdown",
   "id": "1548c455",
   "metadata": {},
   "source": [
    "#### "
   ]
  },
  {
   "cell_type": "code",
   "execution_count": null,
   "id": "d6817043",
   "metadata": {},
   "outputs": [],
   "source": [
    "nlp.pipe_names  # <1>"
   ]
  },
  {
   "cell_type": "markdown",
   "id": "3da329f1",
   "metadata": {},
   "source": [
    "#### "
   ]
  },
  {
   "cell_type": "code",
   "execution_count": null,
   "id": "bd2dc91c",
   "metadata": {},
   "outputs": [],
   "source": [
    "nlp = spacy.load('en_core_web_sm', disable=nlp.pipe_names)\n",
    "%timeit nlp(text)"
   ]
  },
  {
   "cell_type": "markdown",
   "id": "92a7a9e9",
   "metadata": {},
   "source": [
    "#### "
   ]
  },
  {
   "cell_type": "code",
   "execution_count": null,
   "id": "d6c2f643",
   "metadata": {},
   "outputs": [],
   "source": [
    "import nltk\n",
    "nltk.download('punkt')"
   ]
  },
  {
   "cell_type": "markdown",
   "id": "f99de2dc",
   "metadata": {},
   "source": [
    "#### "
   ]
  },
  {
   "cell_type": "code",
   "execution_count": null,
   "id": "7be7042a",
   "metadata": {},
   "outputs": [],
   "source": [
    "from nltk.tokenize import word_tokenize\n",
    "%timeit word_tokenize(text)"
   ]
  },
  {
   "cell_type": "markdown",
   "id": "9251e544",
   "metadata": {},
   "source": [
    "#### "
   ]
  },
  {
   "cell_type": "code",
   "execution_count": null,
   "id": "86ae0c07",
   "metadata": {},
   "outputs": [],
   "source": [
    "tokens = word_tokenize(text)\n",
    "f'{round(len(tokens) / 10_000)}0k'"
   ]
  },
  {
   "cell_type": "markdown",
   "id": "949eac5d",
   "metadata": {},
   "source": [
    "#### "
   ]
  },
  {
   "cell_type": "code",
   "execution_count": null,
   "id": "b5564aa0",
   "metadata": {},
   "outputs": [],
   "source": [
    "pattern = r'\\w+(?:\\'\\w+)?|[^\\w\\s]'\n",
    "tokens = re.findall(pattern, text)  # <1>\n",
    "f'{round(len(tokens) / 10_000)}0k'"
   ]
  },
  {
   "cell_type": "markdown",
   "id": "43fcd08d",
   "metadata": {},
   "source": [
    "#### "
   ]
  },
  {
   "cell_type": "code",
   "execution_count": null,
   "id": "48d07e14",
   "metadata": {},
   "outputs": [],
   "source": [
    "%timeit re.findall(pattern, text)"
   ]
  },
  {
   "cell_type": "markdown",
   "id": "67976465",
   "metadata": {},
   "source": [
    "#### "
   ]
  },
  {
   "cell_type": "code",
   "execution_count": null,
   "id": "63ba4391",
   "metadata": {},
   "outputs": [],
   "source": [
    "import pandas as pd\n",
    "from sklearn.feature_extraction.text import CountVectorizer\n",
    "vectorizer = CountVectorizer(ngram_range=(1, 2), analyzer='char')\n",
    "vectorizer.fit(texts)"
   ]
  },
  {
   "cell_type": "markdown",
   "id": "d41ca4c4",
   "metadata": {},
   "source": [
    "#### "
   ]
  },
  {
   "cell_type": "code",
   "execution_count": null,
   "id": "0db0c316",
   "metadata": {},
   "outputs": [],
   "source": [
    "bpevocab_list = [\n",
    "   sorted((i, s) for s, i in vectorizer.vocabulary_.items())]\n",
    "bpevocab_dict = dict(bpevocab_list[0])\n",
    "list(bpevocab_dict.values())[:7]"
   ]
  },
  {
   "cell_type": "markdown",
   "id": "06c680db",
   "metadata": {},
   "source": [
    "#### "
   ]
  },
  {
   "cell_type": "code",
   "execution_count": null,
   "id": "0ad30377",
   "metadata": {},
   "outputs": [],
   "source": [
    "vectors = vectorizer.transform(texts)\n",
    "df = pd.DataFrame(\n",
    "    vectors.todense(), \n",
    "    columns=vectorizer.vocabulary_)\n",
    "df.index = [t[:8] + '...' for t in texts]\n",
    "df = df.T\n",
    "df['total'] = df.T.sum()\n",
    "df"
   ]
  },
  {
   "cell_type": "markdown",
   "id": "91b5d53b",
   "metadata": {},
   "source": [
    "#### "
   ]
  },
  {
   "cell_type": "code",
   "execution_count": null,
   "id": "02df87f2",
   "metadata": {},
   "outputs": [],
   "source": [
    "df.sort_values('total').tail()"
   ]
  },
  {
   "cell_type": "markdown",
   "id": "24e7dae8",
   "metadata": {},
   "source": [
    "#### "
   ]
  },
  {
   "cell_type": "code",
   "execution_count": null,
   "id": "2ae2b557",
   "metadata": {},
   "outputs": [],
   "source": [
    "df['n'] = [len(tok) for tok in vectorizer.vocabulary_]\n",
    "df[df['n'] > 1].sort_values('total').tail()"
   ]
  },
  {
   "cell_type": "markdown",
   "id": "fca57cc3",
   "metadata": {},
   "source": [
    "#### "
   ]
  },
  {
   "cell_type": "code",
   "execution_count": null,
   "id": "fafdabad",
   "metadata": {},
   "outputs": [],
   "source": [
    "hi_text = 'Hiking home now'\n",
    "hi_text.startswith('Hi')"
   ]
  },
  {
   "cell_type": "markdown",
   "id": "ea2f35d2",
   "metadata": {},
   "source": [
    "#### "
   ]
  },
  {
   "cell_type": "code",
   "execution_count": null,
   "id": "34c539db",
   "metadata": {},
   "outputs": [],
   "source": [
    "pattern = r'\\w+(?:\\'\\w+)?|[^\\w\\s]'  # <1>\n",
    "'Hi' in re.findall(pattern, hi_text)  # <2>"
   ]
  },
  {
   "cell_type": "markdown",
   "id": "3794292f",
   "metadata": {},
   "source": [
    "#### "
   ]
  },
  {
   "cell_type": "code",
   "execution_count": null,
   "id": "19d34f14",
   "metadata": {},
   "outputs": [],
   "source": [
    "'Hi' == re.findall(pattern, hi_text)[0]  # <3>"
   ]
  },
  {
   "cell_type": "markdown",
   "id": "1a16e486",
   "metadata": {},
   "source": [
    "#### "
   ]
  },
  {
   "cell_type": "code",
   "execution_count": null,
   "id": "248ed29d",
   "metadata": {},
   "outputs": [],
   "source": [
    "import pandas as pd\n",
    "onehot_vectors = np.zeros(\n",
    "    (len(tokens), vocab_size), int)  # <1>\n",
    "for i, tok in enumerate(tokens):\n",
    "    if tok not in vocab:\n",
    "        continue\n",
    "    onehot_vectors[i, vocab.index(tok)] = 1  # <2>\n",
    "df_onehot = pd.DataFrame(onehot_vectors, columns=vocab)\n",
    "df_onehot.shape"
   ]
  },
  {
   "cell_type": "markdown",
   "id": "e7b813d6",
   "metadata": {},
   "source": [
    "#### "
   ]
  },
  {
   "cell_type": "code",
   "execution_count": null,
   "id": "6a7b290a",
   "metadata": {},
   "outputs": [],
   "source": [
    "df_onehot.iloc[:,:8].replace(0, '')  # <3>"
   ]
  },
  {
   "cell_type": "markdown",
   "id": "2ee4001e",
   "metadata": {},
   "source": [
    "#### "
   ]
  },
  {
   "cell_type": "code",
   "execution_count": null,
   "id": "e32b2355",
   "metadata": {},
   "outputs": [],
   "source": [
    "import spacy  # <1>\n",
    "from nlpia2.spacy_language_model import load  # <2>\n",
    "nlp = load('en_core_web_sm')  # <3>\n",
    "nlp"
   ]
  },
  {
   "cell_type": "markdown",
   "id": "8e8e548b",
   "metadata": {},
   "source": [
    "#### "
   ]
  },
  {
   "cell_type": "code",
   "execution_count": null,
   "id": "5ad032e8",
   "metadata": {},
   "outputs": [],
   "source": [
    "doc = nlp(texts[-1])\n",
    "type(doc)"
   ]
  },
  {
   "cell_type": "markdown",
   "id": "e2d63ae1",
   "metadata": {},
   "source": [
    "#### "
   ]
  },
  {
   "cell_type": "code",
   "execution_count": null,
   "id": "325cedf8",
   "metadata": {},
   "outputs": [],
   "source": [
    "tokens = [tok.text for tok in doc]  # <1>\n",
    "tokens[:9]  # <2>"
   ]
  },
  {
   "cell_type": "markdown",
   "id": "e26c91c3",
   "metadata": {},
   "source": [
    "#### "
   ]
  },
  {
   "cell_type": "code",
   "execution_count": null,
   "id": "ffbc839e",
   "metadata": {},
   "outputs": [],
   "source": [
    "tokens[9:17]"
   ]
  },
  {
   "cell_type": "markdown",
   "id": "323b6f5b",
   "metadata": {},
   "source": [
    "#### "
   ]
  },
  {
   "cell_type": "code",
   "execution_count": null,
   "id": "e4674e2c",
   "metadata": {},
   "outputs": [],
   "source": [
    "from spacy import displacy\n",
    "sentence = list(doc.sents)[0] # <1>\n",
    "displacy.serve(sentence, style=\"dep\")\n",
    "!firefox 127.0.0.1:5000"
   ]
  },
  {
   "cell_type": "markdown",
   "id": "6b807700",
   "metadata": {},
   "source": [
    "#### "
   ]
  },
  {
   "cell_type": "code",
   "execution_count": null,
   "id": "f3d46455",
   "metadata": {},
   "outputs": [],
   "source": [
    "import requests\n",
    "text = requests.get('https://proai.org/nlpia2-ch2.adoc').text\n",
    "f'{round(len(text) / 10_000)}0k'  # <1>"
   ]
  },
  {
   "cell_type": "markdown",
   "id": "7ef5fbb8",
   "metadata": {},
   "source": [
    "#### "
   ]
  },
  {
   "cell_type": "code",
   "execution_count": null,
   "id": "40d12adc",
   "metadata": {},
   "outputs": [],
   "source": [
    "from nlpia2.spacy_language_model import load\n",
    "nlp = load('en_core_web_sm')\n",
    "%timeit nlp(text)  # <1>"
   ]
  },
  {
   "cell_type": "markdown",
   "id": "68919461",
   "metadata": {},
   "source": [
    "#### "
   ]
  },
  {
   "cell_type": "code",
   "execution_count": null,
   "id": "2a8ca5f0",
   "metadata": {},
   "outputs": [],
   "source": [
    "f'{round(len(text) / 10_000)}0k'"
   ]
  },
  {
   "cell_type": "markdown",
   "id": "84cfe7e0",
   "metadata": {},
   "source": [
    "#### "
   ]
  },
  {
   "cell_type": "code",
   "execution_count": null,
   "id": "63c6fe23",
   "metadata": {},
   "outputs": [],
   "source": [
    "doc = nlp(text)\n",
    "f'{round(len(list(doc)) / 10_000)}0k'"
   ]
  },
  {
   "cell_type": "markdown",
   "id": "0d4a1557",
   "metadata": {},
   "source": [
    "#### "
   ]
  },
  {
   "cell_type": "code",
   "execution_count": null,
   "id": "caaca5ca",
   "metadata": {},
   "outputs": [],
   "source": [
    "f'{round(len(doc) / 1_000 / 4.67)}kWPS'  # <2>"
   ]
  },
  {
   "cell_type": "markdown",
   "id": "9d6ed39d",
   "metadata": {},
   "source": [
    "#### "
   ]
  },
  {
   "cell_type": "code",
   "execution_count": null,
   "id": "0ff444c4",
   "metadata": {},
   "outputs": [],
   "source": [
    "nlp.pipe_names  # <1>"
   ]
  },
  {
   "cell_type": "markdown",
   "id": "da9555b5",
   "metadata": {},
   "source": [
    "#### "
   ]
  },
  {
   "cell_type": "code",
   "execution_count": null,
   "id": "2dc1897c",
   "metadata": {},
   "outputs": [],
   "source": [
    "nlp = load('en_core_web_sm', disable=['tok2vec', 'tagger', 'parser'])\n",
    "nlp.pipe_names"
   ]
  },
  {
   "cell_type": "markdown",
   "id": "175fce6e",
   "metadata": {},
   "source": [
    "#### "
   ]
  },
  {
   "cell_type": "code",
   "execution_count": null,
   "id": "2edd59fc",
   "metadata": {},
   "outputs": [],
   "source": [
    "%timeit nlp(text)"
   ]
  },
  {
   "cell_type": "markdown",
   "id": "24eead3b",
   "metadata": {},
   "source": [
    "#### "
   ]
  },
  {
   "cell_type": "code",
   "execution_count": null,
   "id": "dda7d9ad",
   "metadata": {},
   "outputs": [],
   "source": [
    "import nltk"
   ]
  },
  {
   "cell_type": "markdown",
   "id": "2c29e60c",
   "metadata": {},
   "source": [
    "#### "
   ]
  },
  {
   "cell_type": "code",
   "execution_count": null,
   "id": "f4c24ea4",
   "metadata": {},
   "outputs": [],
   "source": [
    "pattern = r'\\w+(?:\\'\\w+)?|[^\\w\\s]'\n",
    "tokens = re.findall(pattern, text)  # <1>\n",
    "f'{round(len(tokens) / 10_000)}0k'"
   ]
  },
  {
   "cell_type": "markdown",
   "id": "c1ac1916",
   "metadata": {},
   "source": [
    "#### "
   ]
  },
  {
   "cell_type": "code",
   "execution_count": null,
   "id": "cbe104c5",
   "metadata": {},
   "outputs": [],
   "source": [
    "%timeit re.findall(pattern, text)"
   ]
  },
  {
   "cell_type": "markdown",
   "id": "afdb2337",
   "metadata": {},
   "source": [
    "#### "
   ]
  },
  {
   "cell_type": "code",
   "execution_count": null,
   "id": "805c8892",
   "metadata": {},
   "outputs": [],
   "source": [
    "import pandas as pd\n",
    "from sklearn.feature_extraction.text import CountVectorizer\n",
    "vectorizer = CountVectorizer(ngram_range=(1, 2), analyzer='char')\n",
    "vectorizer.fit(texts)"
   ]
  },
  {
   "cell_type": "markdown",
   "id": "4dd05279",
   "metadata": {},
   "source": [
    "#### "
   ]
  },
  {
   "cell_type": "code",
   "execution_count": null,
   "id": "244b0f63",
   "metadata": {},
   "outputs": [],
   "source": [
    "bpevocab_list = [\n",
    "   sorted((i, s) for s, i in vectorizer.vocabulary_.items())]\n",
    "bpevocab_dict = dict(bpevocab_list[0])\n",
    "list(bpevocab_dict.values())[:7]"
   ]
  },
  {
   "cell_type": "markdown",
   "id": "91e487dd",
   "metadata": {},
   "source": [
    "#### "
   ]
  },
  {
   "cell_type": "code",
   "execution_count": null,
   "id": "b07b1852",
   "metadata": {},
   "outputs": [],
   "source": [
    "vectors = vectorizer.transform(texts)\n",
    "df = pd.DataFrame(\n",
    "    vectors.todense(),\n",
    "    columns=vectorizer.vocabulary_)\n",
    "df.index = [t[:8] + '...' for t in texts]\n",
    "df = df.T\n",
    "df['total'] = df.T.sum()\n",
    "df"
   ]
  },
  {
   "cell_type": "markdown",
   "id": "598a877b",
   "metadata": {},
   "source": [
    "#### "
   ]
  },
  {
   "cell_type": "code",
   "execution_count": null,
   "id": "9396110c",
   "metadata": {},
   "outputs": [],
   "source": [
    "df.sort_values('total').tail(3)"
   ]
  },
  {
   "cell_type": "markdown",
   "id": "7f430532",
   "metadata": {},
   "source": [
    "#### "
   ]
  },
  {
   "cell_type": "code",
   "execution_count": null,
   "id": "9eb81bd5",
   "metadata": {},
   "outputs": [],
   "source": [
    "df['n'] = [len(tok) for tok in vectorizer.vocabulary_]\n",
    "df[df['n'] > 1].sort_values('total').tail()"
   ]
  },
  {
   "cell_type": "markdown",
   "id": "776ad7c6",
   "metadata": {},
   "source": [
    "#### "
   ]
  },
  {
   "cell_type": "code",
   "execution_count": null,
   "id": "c8244e3e",
   "metadata": {},
   "outputs": [],
   "source": [
    "hi_text = 'Hiking home now'\n",
    "hi_text.startswith('Hi')"
   ]
  },
  {
   "cell_type": "markdown",
   "id": "29d2c520",
   "metadata": {},
   "source": [
    "#### "
   ]
  },
  {
   "cell_type": "code",
   "execution_count": null,
   "id": "8e54aaec",
   "metadata": {},
   "outputs": [],
   "source": [
    "pattern = r'\\w+(?:\\'\\w+)?|[^\\w\\s]'  # <1>\n",
    "'Hi' in re.findall(pattern, hi_text)  # <2>"
   ]
  },
  {
   "cell_type": "markdown",
   "id": "0e369a4c",
   "metadata": {},
   "source": [
    "#### "
   ]
  },
  {
   "cell_type": "code",
   "execution_count": null,
   "id": "899336a9",
   "metadata": {},
   "outputs": [],
   "source": [
    "'Hi' == re.findall(pattern, hi_text)[0]  # <3>"
   ]
  },
  {
   "cell_type": "markdown",
   "id": "9015ab81",
   "metadata": {},
   "source": [
    "#### "
   ]
  },
  {
   "cell_type": "code",
   "execution_count": null,
   "id": "b7c1a31b",
   "metadata": {},
   "outputs": [],
   "source": [
    "bow = sorted(set(re.findall(pattern, text)))\n",
    "bow[:9]"
   ]
  },
  {
   "cell_type": "markdown",
   "id": "0d5c4a15",
   "metadata": {},
   "source": [
    "#### "
   ]
  },
  {
   "cell_type": "code",
   "execution_count": null,
   "id": "aeefadde",
   "metadata": {},
   "outputs": [],
   "source": [
    "bow[9:19]"
   ]
  },
  {
   "cell_type": "markdown",
   "id": "52cec523",
   "metadata": {},
   "source": [
    "#### "
   ]
  },
  {
   "cell_type": "code",
   "execution_count": null,
   "id": "6c6f4526",
   "metadata": {},
   "outputs": [],
   "source": [
    "bow[19:27]"
   ]
  },
  {
   "cell_type": "markdown",
   "id": "20aa2fb1",
   "metadata": {},
   "source": [
    "#### .Example dot product calculation"
   ]
  },
  {
   "cell_type": "code",
   "execution_count": null,
   "id": "bc5be1a2",
   "metadata": {},
   "outputs": [],
   "source": [
    "v1 = np.array([1, 2, 3])\n",
    "v2 = np.array([2, 3, 4])\n",
    "v1.dot(v2)"
   ]
  },
  {
   "cell_type": "markdown",
   "id": "42c827d3",
   "metadata": {},
   "source": [
    "#### .Example dot product calculation"
   ]
  },
  {
   "cell_type": "code",
   "execution_count": null,
   "id": "22a700dd",
   "metadata": {},
   "outputs": [],
   "source": [
    "(v1 * v2).sum()  # <1>"
   ]
  },
  {
   "cell_type": "markdown",
   "id": "1ad753b2",
   "metadata": {},
   "source": [
    "#### .Example dot product calculation"
   ]
  },
  {
   "cell_type": "code",
   "execution_count": null,
   "id": "5fd96ea6",
   "metadata": {},
   "outputs": [],
   "source": [
    "sum([x1 * x2 for x1, x2 in zip(v1, v2)])  # <2>"
   ]
  },
  {
   "cell_type": "markdown",
   "id": "c2f9deff",
   "metadata": {},
   "source": [
    "#### .Example dot product calculation"
   ]
  },
  {
   "cell_type": "code",
   "execution_count": null,
   "id": "4d2a4230",
   "metadata": {},
   "outputs": [],
   "source": [
    "from nltk.tokenize import TreebankWordTokenizer\n",
    "texts.append(\n",
    "  \"If conscience and empathy were impediments to the advancement of \"\n",
    "  \"self-interest, then we would have evolved to be amoral sociopaths.\"\n",
    "  )  # <1>\n",
    "tokenizer = TreebankWordTokenizer()\n",
    "tokens = tokenizer.tokenize(texts[-1])[:6]\n",
    "tokens[:8]"
   ]
  },
  {
   "cell_type": "markdown",
   "id": "5e0fb062",
   "metadata": {},
   "source": [
    "#### .Example dot product calculation"
   ]
  },
  {
   "cell_type": "code",
   "execution_count": null,
   "id": "f8cdfa17",
   "metadata": {},
   "outputs": [],
   "source": [
    "tokens[8:16]"
   ]
  },
  {
   "cell_type": "markdown",
   "id": "8c9e3ac5",
   "metadata": {},
   "source": [
    "#### .Example dot product calculation"
   ]
  },
  {
   "cell_type": "code",
   "execution_count": null,
   "id": "2b53f89c",
   "metadata": {},
   "outputs": [],
   "source": [
    "tokens[16:]"
   ]
  },
  {
   "cell_type": "markdown",
   "id": "29610b28",
   "metadata": {},
   "source": [
    "#### "
   ]
  },
  {
   "cell_type": "code",
   "execution_count": null,
   "id": "d44cc9fe",
   "metadata": {},
   "outputs": [],
   "source": [
    "import spacy\n",
    "nlp = spacy.load(\"en_core_web_sm\")\n",
    "text = \"Nice guys finish first.\"  # <1>\n",
    "doc = nlp(text)\n",
    "for token in doc:\n",
    "    print(f\"{token.text:<11}{token.pos_:<10}{token.dep:<10}\")"
   ]
  },
  {
   "cell_type": "markdown",
   "id": "38f3c7f5",
   "metadata": {},
   "source": [
    "#### "
   ]
  },
  {
   "cell_type": "code",
   "execution_count": null,
   "id": "dbb34d65",
   "metadata": {},
   "outputs": [],
   "source": [
    "import jieba\n",
    "seg_list = jieba.cut(\"西安是一座举世闻名的文化古城\")  # <1>\n",
    "list(seg_list)"
   ]
  },
  {
   "cell_type": "markdown",
   "id": "8e807a3c",
   "metadata": {},
   "source": [
    "#### "
   ]
  },
  {
   "cell_type": "code",
   "execution_count": null,
   "id": "258028d9",
   "metadata": {},
   "outputs": [],
   "source": [
    "import jieba\n",
    "seg_list = jieba.cut(\"西安是一座举世闻名的文化古城\", cut_all=True)  # <1>\n",
    "list(seg_list)"
   ]
  },
  {
   "cell_type": "markdown",
   "id": "e964176c",
   "metadata": {},
   "source": [
    "#### "
   ]
  },
  {
   "cell_type": "code",
   "execution_count": null,
   "id": "f4d9da1f",
   "metadata": {},
   "outputs": [],
   "source": [
    "import jieba\n",
    "from jieba import posseg\n",
    "words = posseg.cut(\"西安是一座举世闻名的文化古城\")\n",
    "jieba.enable_paddle()  # <1>\n",
    "words = posseg.cut(\"西安是一座举世闻名的文化古城\", use_paddle=True)\n",
    "list(words)"
   ]
  },
  {
   "cell_type": "markdown",
   "id": "33d9e74c",
   "metadata": {},
   "source": [
    "#### "
   ]
  },
  {
   "cell_type": "code",
   "execution_count": null,
   "id": "e8f3e12f",
   "metadata": {},
   "outputs": [],
   "source": [
    "import spacy\n",
    "spacy.cli.download(\"zh_core_web_sm\")  # <1>\n",
    "nlpzh = spacy.load(\"zh_core_web_sm\")\n",
    "doc = nlpzh(\"西安是一座举世闻名的文化古城\")\n",
    "[(tok.text, tok.pos_) for tok in doc]"
   ]
  },
  {
   "cell_type": "markdown",
   "id": "7b9692ba",
   "metadata": {},
   "source": [
    "#### "
   ]
  },
  {
   "cell_type": "code",
   "execution_count": null,
   "id": "895033ca",
   "metadata": {},
   "outputs": [],
   "source": [
    "from nltk.tokenize.casual import casual_tokenize\n",
    "texts.append(\"@rickrau mind BLOOOOOOOOWWWWWN by latest lex :*) !!!!!!!!\")\n",
    "casual_tokenize(texts[-1], reduce_len=True)"
   ]
  },
  {
   "cell_type": "markdown",
   "id": "0fea121a",
   "metadata": {},
   "source": [
    "#### .Broad list of stop words"
   ]
  },
  {
   "cell_type": "code",
   "execution_count": null,
   "id": "75a0a312",
   "metadata": {},
   "outputs": [],
   "source": [
    "import requests\n",
    "url = (\"https://gitlab.com/tangibleai/nlpia/-/raw/master/\"\n",
    "       \"src/nlpia/data/stopword_lists.json\")\n",
    "response = requests.get(url)\n",
    "stopwords = response.json()['exhaustive']  # <1>\n",
    "tokens = 'the words were just as I remembered them'.split()  # <2>\n",
    "tokens_without_stopwords = [x for x in tokens if x not in stopwords]\n",
    "print(tokens_without_stopwords)"
   ]
  },
  {
   "cell_type": "markdown",
   "id": "d8d4fe3b",
   "metadata": {},
   "source": [
    "#### .Broad list of stop words"
   ]
  },
  {
   "cell_type": "code",
   "execution_count": null,
   "id": "8a7becc5",
   "metadata": {},
   "outputs": [],
   "source": [
    "import nltk\n",
    "nltk.download('stopwords')\n",
    "stop_words = nltk.corpus.stopwords.words('english')\n",
    "len(stop_words)"
   ]
  },
  {
   "cell_type": "markdown",
   "id": "21dd8452",
   "metadata": {},
   "source": [
    "#### .Broad list of stop words"
   ]
  },
  {
   "cell_type": "code",
   "execution_count": null,
   "id": "ff218766",
   "metadata": {},
   "outputs": [],
   "source": [
    "stop_words[:7]"
   ]
  },
  {
   "cell_type": "markdown",
   "id": "b5b11a39",
   "metadata": {},
   "source": [
    "#### .Broad list of stop words"
   ]
  },
  {
   "cell_type": "code",
   "execution_count": null,
   "id": "0da3f6f2",
   "metadata": {},
   "outputs": [],
   "source": [
    "[sw for sw in stopwords if len(sw) == 1]"
   ]
  },
  {
   "cell_type": "markdown",
   "id": "569e31ac",
   "metadata": {},
   "source": [
    "#### .Broad list of stop words"
   ]
  },
  {
   "cell_type": "code",
   "execution_count": null,
   "id": "7bda05bd",
   "metadata": {},
   "outputs": [],
   "source": [
    "resp = requests.get(url)"
   ]
  },
  {
   "cell_type": "markdown",
   "id": "59c043fe",
   "metadata": {},
   "source": [
    "#### "
   ]
  },
  {
   "cell_type": "code",
   "execution_count": null,
   "id": "34d07e29",
   "metadata": {},
   "outputs": [],
   "source": [
    "tokens = ['House', 'Visitor', 'Center']\n",
    "normalized_tokens = [x.lower() for x in tokens]\n",
    "print(normalized_tokens)"
   ]
  },
  {
   "cell_type": "markdown",
   "id": "6c83d641",
   "metadata": {},
   "source": [
    "#### "
   ]
  },
  {
   "cell_type": "code",
   "execution_count": null,
   "id": "f240a91e",
   "metadata": {},
   "outputs": [],
   "source": [
    "def stem(phrase):\n",
    "    return ' '.join([re.findall('^(.*ss|.*?)(s)?$',\n",
    "        word)[0][0].strip(\"'\") for word in phrase.lower().split()])\n",
    "stem('houses')"
   ]
  },
  {
   "cell_type": "markdown",
   "id": "a5c1c6a0",
   "metadata": {},
   "source": [
    "#### "
   ]
  },
  {
   "cell_type": "code",
   "execution_count": null,
   "id": "2d4a3242",
   "metadata": {},
   "outputs": [],
   "source": [
    "stem(\"Doctor House's calls\")"
   ]
  },
  {
   "cell_type": "markdown",
   "id": "1722f2eb",
   "metadata": {},
   "source": [
    "#### "
   ]
  },
  {
   "cell_type": "code",
   "execution_count": null,
   "id": "34388cdd",
   "metadata": {},
   "outputs": [],
   "source": [
    "from nltk.stem.porter import PorterStemmer\n",
    "stemmer = PorterStemmer()\n",
    "' '.join([stemmer.stem(w).strip(\"'\") for w in\n",
    "  \"dish washer's fairly washed dishes\".split()])"
   ]
  },
  {
   "cell_type": "markdown",
   "id": "623749a6",
   "metadata": {},
   "source": [
    "#### "
   ]
  },
  {
   "cell_type": "code",
   "execution_count": null,
   "id": "bcf488a4",
   "metadata": {},
   "outputs": [],
   "source": [
    "from nltk.stem.snowball import SnowballStemmer\n",
    "stemmer = SnowballStemmer(language='english')\n",
    "' '.join([stemmer.stem(w).strip(\"'\") for w in\n",
    "  \"dish washer's fairly washed dishes\".split()])"
   ]
  },
  {
   "cell_type": "markdown",
   "id": "763f1d6b",
   "metadata": {},
   "source": [
    "#### "
   ]
  },
  {
   "cell_type": "code",
   "execution_count": null,
   "id": "71a8a2ff",
   "metadata": {},
   "outputs": [],
   "source": [
    "nltk.download('wordnet')"
   ]
  },
  {
   "cell_type": "markdown",
   "id": "1b490f60",
   "metadata": {},
   "source": [
    "#### "
   ]
  },
  {
   "cell_type": "code",
   "execution_count": null,
   "id": "7beaee54",
   "metadata": {},
   "outputs": [],
   "source": [
    "nltk.download('omw-1.4')"
   ]
  },
  {
   "cell_type": "markdown",
   "id": "1c033dcf",
   "metadata": {},
   "source": [
    "#### "
   ]
  },
  {
   "cell_type": "code",
   "execution_count": null,
   "id": "9a8d60eb",
   "metadata": {},
   "outputs": [],
   "source": [
    "from nltk.stem import WordNetLemmatizer\n",
    "lemmatizer = WordNetLemmatizer()\n",
    "lemmatizer.lemmatize(\"better\")  # <1>"
   ]
  },
  {
   "cell_type": "markdown",
   "id": "0b9f3353",
   "metadata": {},
   "source": [
    "#### "
   ]
  },
  {
   "cell_type": "code",
   "execution_count": null,
   "id": "8690916a",
   "metadata": {},
   "outputs": [],
   "source": [
    "lemmatizer.lemmatize(\"better\", pos=\"a\")  # <2>"
   ]
  },
  {
   "cell_type": "markdown",
   "id": "3aad7818",
   "metadata": {},
   "source": [
    "#### "
   ]
  },
  {
   "cell_type": "code",
   "execution_count": null,
   "id": "82f44e75",
   "metadata": {},
   "outputs": [],
   "source": [
    "lemmatizer.lemmatize(\"good\", pos=\"a\")"
   ]
  },
  {
   "cell_type": "markdown",
   "id": "3d9ee4ea",
   "metadata": {},
   "source": [
    "#### "
   ]
  },
  {
   "cell_type": "code",
   "execution_count": null,
   "id": "447dc06d",
   "metadata": {},
   "outputs": [],
   "source": [
    "stemmer.stem('goodness')"
   ]
  },
  {
   "cell_type": "markdown",
   "id": "a2a11d5f",
   "metadata": {},
   "source": [
    "#### "
   ]
  },
  {
   "cell_type": "code",
   "execution_count": null,
   "id": "adfebd55",
   "metadata": {},
   "outputs": [],
   "source": [
    "import spacy\n",
    "nlp = spacy.load(\"en_core_web_sm\")\n",
    "doc = nlp(\"better good goods goodness best\")\n",
    "for token in doc:\n",
    "    print(token.text, token.lemma_)"
   ]
  },
  {
   "cell_type": "markdown",
   "id": "d0cca2dd",
   "metadata": {},
   "source": [
    "#### "
   ]
  },
  {
   "cell_type": "code",
   "execution_count": null,
   "id": "135443c3",
   "metadata": {},
   "outputs": [],
   "source": [
    "from vaderSentiment.vaderSentiment import SentimentIntensityAnalyzer\n",
    "sa = SentimentIntensityAnalyzer()\n",
    "sa.lexicon  # <1>"
   ]
  },
  {
   "cell_type": "markdown",
   "id": "98950ee3",
   "metadata": {},
   "source": [
    "#### "
   ]
  },
  {
   "cell_type": "code",
   "execution_count": null,
   "id": "d4c25399",
   "metadata": {},
   "outputs": [],
   "source": [
    "[(tok, score) for tok, score in sa.lexicon.items()\n",
    "  if \" \" in tok]  # <4>"
   ]
  },
  {
   "cell_type": "markdown",
   "id": "3d5bf5a8",
   "metadata": {},
   "source": [
    "#### "
   ]
  },
  {
   "cell_type": "code",
   "execution_count": null,
   "id": "59b1a5b6",
   "metadata": {},
   "outputs": [],
   "source": [
    "sa.polarity_scores(text=\\\n",
    "  \"Python is very readable and it's great for NLP.\")"
   ]
  },
  {
   "cell_type": "markdown",
   "id": "3ceb3c91",
   "metadata": {},
   "source": [
    "#### "
   ]
  },
  {
   "cell_type": "code",
   "execution_count": null,
   "id": "b5c10095",
   "metadata": {},
   "outputs": [],
   "source": [
    "sa.polarity_scores(text=\\\n",
    "  \"Python is not a bad choice for most applications.\")"
   ]
  },
  {
   "cell_type": "markdown",
   "id": "c0622e88",
   "metadata": {},
   "source": [
    "#### "
   ]
  },
  {
   "cell_type": "code",
   "execution_count": null,
   "id": "e9ec5ea2",
   "metadata": {},
   "outputs": [],
   "source": [
    "corpus = [\"Absolutely perfect! Love it! :-) :-) :-)\",\n",
    "          \"Horrible! Completely useless. :(\",\n",
    "          \"It was OK. Some good and some bad things.\"]\n",
    "for doc in corpus:\n",
    "    scores = sa.polarity_scores(doc)\n",
    "    print('{:+}: {}'.format(scores['compound'], doc))"
   ]
  },
  {
   "cell_type": "markdown",
   "id": "6c289d2a",
   "metadata": {},
   "source": [
    "#### "
   ]
  },
  {
   "cell_type": "code",
   "execution_count": null,
   "id": "c1713510",
   "metadata": {},
   "outputs": [],
   "source": [
    "movies = pd.read_csv('https://proai.org/movie-reviews.csv.gz',\n",
    "    index_col=0)\n",
    "movies.head().round(2)"
   ]
  },
  {
   "cell_type": "markdown",
   "id": "e674a227",
   "metadata": {},
   "source": [
    "#### "
   ]
  },
  {
   "cell_type": "code",
   "execution_count": null,
   "id": "23c8cc3a",
   "metadata": {},
   "outputs": [],
   "source": [
    "movies.describe().round(2)"
   ]
  },
  {
   "cell_type": "markdown",
   "id": "bae50e45",
   "metadata": {},
   "source": [
    "#### "
   ]
  },
  {
   "cell_type": "code",
   "execution_count": null,
   "id": "97c34974",
   "metadata": {},
   "outputs": [],
   "source": [
    "import pandas as pd\n",
    "pd.options.display.width = 75  # <1>\n",
    "from nltk.tokenize import casual_tokenize  # <2>\n",
    "bows = []\n",
    "from collections import Counter  # <3>\n",
    "for text in movies.text:\n",
    "    bows.append(Counter(casual_tokenize(text)))\n",
    "df_movies = pd.DataFrame.from_records(bows)  # <4>\n",
    "df_movies = df_movies.fillna(0).astype(int)  # <5>\n",
    "df_movies.shape  # <6>"
   ]
  },
  {
   "cell_type": "markdown",
   "id": "4d8099fa",
   "metadata": {},
   "source": [
    "#### "
   ]
  },
  {
   "cell_type": "code",
   "execution_count": null,
   "id": "e55dd845",
   "metadata": {},
   "outputs": [],
   "source": [
    "df_movies.head()"
   ]
  },
  {
   "cell_type": "markdown",
   "id": "913ff967",
   "metadata": {},
   "source": [
    "#### "
   ]
  },
  {
   "cell_type": "code",
   "execution_count": null,
   "id": "23242e10",
   "metadata": {},
   "outputs": [],
   "source": [
    "df_movies.head()[list(bows[0].keys())]"
   ]
  },
  {
   "cell_type": "markdown",
   "id": "1f3c162c",
   "metadata": {},
   "source": [
    "#### "
   ]
  },
  {
   "cell_type": "code",
   "execution_count": null,
   "id": "56488804",
   "metadata": {},
   "outputs": [],
   "source": [
    "from sklearn.naive_bayes import MultinomialNB\n",
    "nb = MultinomialNB()\n",
    "nb = nb.fit(df_movies, movies.sentiment > 0)  # <1>\n",
    "movies['pred_senti'] = (\n",
    "  nb.predict_proba(df_movies))[:, 1] * 8 - 4  # <2>\n",
    "movies['error'] = movies.pred_senti - movies.sentiment\n",
    "mae = movies['error'].abs().mean().round(1)  # <3>\n",
    "mae"
   ]
  },
  {
   "cell_type": "markdown",
   "id": "a0547399",
   "metadata": {},
   "source": [
    "#### "
   ]
  },
  {
   "cell_type": "code",
   "execution_count": null,
   "id": "115247ff",
   "metadata": {},
   "outputs": [],
   "source": [
    "movies['senti_ispos'] = (movies['sentiment'] > 0).astype(int)\n",
    "movies['pred_ispos'] = (movies['pred_senti'] > 0).astype(int)\n",
    "columns = [c for c in movies.columns if 'senti' in c or 'pred' in c]\n",
    "movies[columns].head(8)"
   ]
  },
  {
   "cell_type": "markdown",
   "id": "0b5f7030",
   "metadata": {},
   "source": [
    "#### "
   ]
  },
  {
   "cell_type": "code",
   "execution_count": null,
   "id": "25589537",
   "metadata": {},
   "outputs": [],
   "source": [
    "(movies.pred_ispos ==\n",
    "  movies.senti_ispos).sum() / len(movies)"
   ]
  },
  {
   "cell_type": "markdown",
   "id": "592d80d8",
   "metadata": {},
   "source": [
    "#### "
   ]
  },
  {
   "cell_type": "code",
   "execution_count": null,
   "id": "fabcee6b",
   "metadata": {},
   "outputs": [],
   "source": [
    "products = pd.read_csv('https://proai.org/product-reviews.csv.gz')\n",
    "products.columns"
   ]
  },
  {
   "cell_type": "markdown",
   "id": "3d472509",
   "metadata": {},
   "source": [
    "#### "
   ]
  },
  {
   "cell_type": "code",
   "execution_count": null,
   "id": "3405fd52",
   "metadata": {},
   "outputs": [],
   "source": [
    "products.head()"
   ]
  },
  {
   "cell_type": "markdown",
   "id": "60599ba0",
   "metadata": {},
   "source": [
    "#### "
   ]
  },
  {
   "cell_type": "code",
   "execution_count": null,
   "id": "b4f7092c",
   "metadata": {},
   "outputs": [],
   "source": [
    "bows = []\n",
    "for text in products['text']:\n",
    "    bows.append(Counter(casual_tokenize(text)))\n",
    "df_products = pd.DataFrame.from_records(bows)\n",
    "df_products = df_products.fillna(0).astype(int)\n",
    "df_products.shape # <1>"
   ]
  },
  {
   "cell_type": "markdown",
   "id": "14472ffe",
   "metadata": {},
   "source": [
    "#### "
   ]
  },
  {
   "cell_type": "code",
   "execution_count": null,
   "id": "ad9c19f9",
   "metadata": {},
   "outputs": [],
   "source": [
    "df_all_bows = pd.concat([df_movies, df_products])\n",
    "df_all_bows.columns  # <1>"
   ]
  },
  {
   "cell_type": "markdown",
   "id": "3d4704a9",
   "metadata": {},
   "source": [
    "#### "
   ]
  },
  {
   "cell_type": "code",
   "execution_count": null,
   "id": "2ed523c5",
   "metadata": {},
   "outputs": [],
   "source": [
    "vocab = list(df_movies.columns)  # <1>\n",
    "df_products = df_all_bows.iloc[len(movies):]  # <2>\n",
    "df_products = df_products[vocab]  # <3>\n",
    "df_products.shape"
   ]
  },
  {
   "cell_type": "markdown",
   "id": "289c2a03",
   "metadata": {},
   "source": [
    "#### "
   ]
  },
  {
   "cell_type": "code",
   "execution_count": null,
   "id": "613db2c2",
   "metadata": {},
   "outputs": [],
   "source": [
    "df_movies.shape  # <4>"
   ]
  },
  {
   "cell_type": "markdown",
   "id": "38bef988",
   "metadata": {},
   "source": [
    "#### "
   ]
  },
  {
   "cell_type": "code",
   "execution_count": null,
   "id": "358bb37d",
   "metadata": {},
   "outputs": [],
   "source": [
    "products['senti_ispos'] = (products['sentiment'] > 0).astype(int)\n",
    "products['pred_ispos'] = nb.predict(df_products).astype(int)\n",
    "correct = (products['pred_ispos']\n",
    "        == products['senti_ispos'])  # <1>\n",
    "correct.sum() / len(products)"
   ]
  }
 ],
 "metadata": {
  "kernelspec": {
   "display_name": "Python 3 (ipykernel)",
   "language": "python",
   "name": "python3"
  },
  "language_info": {
   "codemirror_mode": {
    "name": "ipython",
    "version": 3
   },
   "file_extension": ".py",
   "mimetype": "text/x-python",
   "name": "python",
   "nbconvert_exporter": "python",
   "pygments_lexer": "ipython3",
   "version": "3.10.12"
  }
 },
 "nbformat": 4,
 "nbformat_minor": 5
}
