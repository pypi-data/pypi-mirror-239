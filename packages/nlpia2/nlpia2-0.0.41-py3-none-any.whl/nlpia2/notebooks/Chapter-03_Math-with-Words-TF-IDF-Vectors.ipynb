{
 "cells": [
  {
   "cell_type": "markdown",
   "id": "6cf7e789",
   "metadata": {},
   "source": [
    "#### [`Chapter-03_Math-with-Words-TF-IDF-Vectors`](/home/hobs/code/hobs/nlpia-manuscript/manuscript/adoc/Chapter-03_Math-with-Words-TF-IDF-Vectors.adoc)"
   ]
  },
  {
   "cell_type": "markdown",
   "id": "bd184529",
   "metadata": {},
   "source": [
    "#### "
   ]
  },
  {
   "cell_type": "code",
   "execution_count": 1,
   "id": "4cdcdc1a",
   "metadata": {},
   "outputs": [
    {
     "data": {
      "text/plain": [
       "['It',\n",
       " 'has',\n",
       " 'also',\n",
       " 'arisen',\n",
       " 'in',\n",
       " 'criminal',\n",
       " 'justice',\n",
       " ',',\n",
       " 'healthcare',\n",
       " ',',\n",
       " 'and',\n",
       " 'hiring',\n",
       " ',',\n",
       " 'compounding',\n",
       " 'existing',\n",
       " 'racial',\n",
       " ',',\n",
       " 'economic',\n",
       " ',',\n",
       " 'and',\n",
       " 'gender',\n",
       " 'biases',\n",
       " '.']"
      ]
     },
     "execution_count": 1,
     "metadata": {},
     "output_type": "execute_result"
    }
   ],
   "source": [
    "import spacy\n",
    "# spacy.cli.download(\"en_core_web_sm\")\n",
    "nlp = spacy.load(\"en_core_web_sm\")\n",
    "sentence = ('It has also arisen in criminal justice, healthcare, and '\n",
    "    'hiring, compounding existing racial, economic, and gender biases.')\n",
    "doc = nlp(sentence)\n",
    "tokens = [token.text for token in doc]\n",
    "tokens"
   ]
  },
  {
   "cell_type": "markdown",
   "id": "12c27058",
   "metadata": {},
   "source": [
    "#### "
   ]
  },
  {
   "cell_type": "code",
   "execution_count": 2,
   "id": "32a497d8",
   "metadata": {},
   "outputs": [
    {
     "data": {
      "text/plain": [
       "Counter({',': 5,\n",
       "         'and': 2,\n",
       "         'It': 1,\n",
       "         'has': 1,\n",
       "         'also': 1,\n",
       "         'arisen': 1,\n",
       "         'in': 1,\n",
       "         'criminal': 1,\n",
       "         'justice': 1,\n",
       "         'healthcare': 1,\n",
       "         'hiring': 1,\n",
       "         'compounding': 1,\n",
       "         'existing': 1,\n",
       "         'racial': 1,\n",
       "         'economic': 1,\n",
       "         'gender': 1,\n",
       "         'biases': 1,\n",
       "         '.': 1})"
      ]
     },
     "execution_count": 2,
     "metadata": {},
     "output_type": "execute_result"
    }
   ],
   "source": [
    "from collections import Counter\n",
    "bag_of_words = Counter(tokens)\n",
    "bag_of_words"
   ]
  },
  {
   "cell_type": "markdown",
   "id": "ea3a745c",
   "metadata": {},
   "source": [
    "#### "
   ]
  },
  {
   "cell_type": "code",
   "execution_count": 3,
   "id": "c0d9ea89",
   "metadata": {},
   "outputs": [
    {
     "data": {
      "text/plain": [
       "[(',', 5), ('and', 2), ('It', 1)]"
      ]
     },
     "execution_count": 3,
     "metadata": {},
     "output_type": "execute_result"
    }
   ],
   "source": [
    "bag_of_words.most_common(3)  # <1>"
   ]
  },
  {
   "cell_type": "markdown",
   "id": "196bd8a0",
   "metadata": {},
   "source": [
    "#### "
   ]
  },
  {
   "cell_type": "code",
   "execution_count": 4,
   "id": "70c7a4f7",
   "metadata": {},
   "outputs": [
    {
     "data": {
      "text/plain": [
       ",              5\n",
       "and            2\n",
       "It             1\n",
       "has            1\n",
       "also           1\n",
       "arisen         1\n",
       "in             1\n",
       "criminal       1\n",
       "justice        1\n",
       "healthcare     1\n",
       "hiring         1\n",
       "compounding    1\n",
       "existing       1\n",
       "racial         1\n",
       "economic       1\n",
       "gender         1\n",
       "biases         1\n",
       ".              1\n",
       "dtype: int64"
      ]
     },
     "execution_count": 4,
     "metadata": {},
     "output_type": "execute_result"
    }
   ],
   "source": [
    "import pandas as pd\n",
    "most_common = dict(bag_of_words.most_common())  # <1>\n",
    "counts = pd.Series(most_common)  # <2>\n",
    "counts"
   ]
  },
  {
   "cell_type": "markdown",
   "id": "40a523a8",
   "metadata": {},
   "source": [
    "#### "
   ]
  },
  {
   "cell_type": "code",
   "execution_count": 5,
   "id": "d6eba2b6",
   "metadata": {},
   "outputs": [
    {
     "data": {
      "text/plain": [
       "18"
      ]
     },
     "execution_count": 5,
     "metadata": {},
     "output_type": "execute_result"
    }
   ],
   "source": [
    "len(counts)  # <1>"
   ]
  },
  {
   "cell_type": "markdown",
   "id": "e999c828",
   "metadata": {},
   "source": [
    "#### "
   ]
  },
  {
   "cell_type": "code",
   "execution_count": 6,
   "id": "b3a96b94",
   "metadata": {},
   "outputs": [
    {
     "data": {
      "text/plain": [
       "23"
      ]
     },
     "execution_count": 6,
     "metadata": {},
     "output_type": "execute_result"
    }
   ],
   "source": [
    "counts.sum()"
   ]
  },
  {
   "cell_type": "markdown",
   "id": "32934be1",
   "metadata": {},
   "source": [
    "#### "
   ]
  },
  {
   "cell_type": "code",
   "execution_count": 7,
   "id": "af14a5d0",
   "metadata": {},
   "outputs": [
    {
     "data": {
      "text/plain": [
       "23"
      ]
     },
     "execution_count": 7,
     "metadata": {},
     "output_type": "execute_result"
    }
   ],
   "source": [
    "len(tokens)  # <2>"
   ]
  },
  {
   "cell_type": "markdown",
   "id": "4ea8ce7e",
   "metadata": {},
   "source": [
    "#### "
   ]
  },
  {
   "cell_type": "code",
   "execution_count": 8,
   "id": "aa78d68f",
   "metadata": {},
   "outputs": [
    {
     "data": {
      "text/plain": [
       ",              0.217391\n",
       "and            0.086957\n",
       "It             0.043478\n",
       "has            0.043478\n",
       "also           0.043478\n",
       "arisen         0.043478\n",
       "in             0.043478\n",
       "criminal       0.043478\n",
       "justice        0.043478\n",
       "healthcare     0.043478\n",
       "hiring         0.043478\n",
       "compounding    0.043478\n",
       "existing       0.043478\n",
       "racial         0.043478\n",
       "economic       0.043478\n",
       "gender         0.043478\n",
       "biases         0.043478\n",
       ".              0.043478\n",
       "dtype: float64"
      ]
     },
     "execution_count": 8,
     "metadata": {},
     "output_type": "execute_result"
    }
   ],
   "source": [
    "counts / counts.sum()  # <3>"
   ]
  },
  {
   "cell_type": "markdown",
   "id": "8d569473",
   "metadata": {},
   "source": [
    "#### "
   ]
  },
  {
   "cell_type": "code",
   "execution_count": 9,
   "id": "2b1d47dd",
   "metadata": {},
   "outputs": [
    {
     "data": {
      "text/plain": [
       "1"
      ]
     },
     "execution_count": 9,
     "metadata": {},
     "output_type": "execute_result"
    }
   ],
   "source": [
    "counts['justice']"
   ]
  },
  {
   "cell_type": "markdown",
   "id": "77b02227",
   "metadata": {},
   "source": [
    "#### "
   ]
  },
  {
   "cell_type": "code",
   "execution_count": 10,
   "id": "84545f54",
   "metadata": {},
   "outputs": [
    {
     "data": {
      "text/plain": [
       "0.043478260869565216"
      ]
     },
     "execution_count": 10,
     "metadata": {},
     "output_type": "execute_result"
    }
   ],
   "source": [
    "counts['justice'] / counts.sum()"
   ]
  },
  {
   "cell_type": "markdown",
   "id": "99e08c7b",
   "metadata": {},
   "source": [
    "#### "
   ]
  },
  {
   "cell_type": "code",
   "execution_count": 11,
   "id": "91c20753",
   "metadata": {},
   "outputs": [
    {
     "data": {
      "text/plain": [
       "{'Algorithmic': 1,\n",
       " 'bias': 1,\n",
       " 'has': 1,\n",
       " 'been': 1,\n",
       " 'cited': 1,\n",
       " 'in': 1,\n",
       " 'cases': 1,\n",
       " 'ranging': 1,\n",
       " 'from': 1,\n",
       " 'election': 1,\n",
       " 'outcomes': 1,\n",
       " 'to': 1,\n",
       " 'the': 1,\n",
       " 'spread': 1,\n",
       " 'of': 1,\n",
       " 'online': 1,\n",
       " 'hate': 1,\n",
       " 'speech': 1,\n",
       " '.': 1}"
      ]
     },
     "execution_count": 11,
     "metadata": {},
     "output_type": "execute_result"
    }
   ],
   "source": [
    "sentence = \"Algorithmic bias has been cited in cases ranging from \" \\\n",
    "    \"election outcomes to the spread of online hate speech.\"\n",
    "tokens = [tok.text for tok in nlp(sentence)]\n",
    "counts = Counter(tokens)\n",
    "dict(counts)"
   ]
  },
  {
   "cell_type": "markdown",
   "id": "d4dd630a",
   "metadata": {},
   "source": [
    "#### "
   ]
  },
  {
   "cell_type": "code",
   "execution_count": 12,
   "id": "75799dbd",
   "metadata": {},
   "outputs": [
    {
     "data": {
      "text/plain": [
       "<Response [200]>"
      ]
     },
     "execution_count": 12,
     "metadata": {},
     "output_type": "execute_result"
    }
   ],
   "source": [
    "import requests\n",
    "url = ('https://gitlab.com/tangibleai/nlpia2/'\n",
    "       '-/raw/main/src/nlpia2/ch03/bias_intro.txt')\n",
    "response = requests.get(url)\n",
    "response"
   ]
  },
  {
   "cell_type": "code",
   "execution_count": 27,
   "id": "cbcbedc5-1b0a-4935-800f-a16cecb2db96",
   "metadata": {},
   "outputs": [
    {
     "data": {
      "text/plain": [
       "{'Date': 'Sat, 04 Nov 2023 18:31:28 GMT', 'Content-Type': 'text/plain; charset=utf-8', 'Content-Length': '2849', 'Connection': 'keep-alive', 'cache-control': 'max-age=60, public, must-revalidate, stale-while-revalidate=60, stale-if-error=300, s-maxage=60', 'content-disposition': 'inline', 'content-security-policy': \"base-uri 'self'; child-src https://www.google.com/recaptcha/ https://www.recaptcha.net/ https://content.googleapis.com https://content-compute.googleapis.com https://content-cloudbilling.googleapis.com https://content-cloudresourcemanager.googleapis.com https://www.googletagmanager.com/ns.html https://*.zuora.com/apps/PublicHostedPageLite.do https://gitlab.com/admin/ https://gitlab.com/assets/ https://gitlab.com/-/speedscope/index.html https://gitlab.com/-/sandbox/ https://gitlab.com/assets/ blob: data:; connect-src 'self' https://gitlab.com wss://gitlab.com https://sentry.gitlab.net https://new-sentry.gitlab.net https://customers.gitlab.com https://snowplow.trx.gitlab.net https://sourcegraph.com https://collector.prd-278964.gl-product-analytics.com snowplow.trx.gitlab.net; default-src 'self'; font-src 'self'; frame-ancestors 'self'; frame-src 'self' https://www.google.com/recaptcha/ https://www.recaptcha.net/ https://content.googleapis.com https://content-cloudresourcemanager.googleapis.com https://content-compute.googleapis.com https://content-cloudbilling.googleapis.com https://*.codesandbox.io https://customers.gitlab.com https://*.zuora.com/apps/PublicHostedPageLite.do; img-src * data: blob:; manifest-src 'self'; media-src 'self' data: blob: http: https:; object-src 'none'; report-uri https://new-sentry.gitlab.net/api/4/security/?sentry_key=f5573e26de8f4293b285e556c35dfd6e&sentry_environment=gprd; script-src 'strict-dynamic' 'self' 'unsafe-inline' 'unsafe-eval' https://www.google.com/recaptcha/ https://www.gstatic.com/recaptcha/ https://www.recaptcha.net/ https://apis.google.com https://*.zuora.com/apps/PublicHostedPageLite.do 'nonce-XYMDQTUiHAi0L/tdRB4BkA=='; style-src 'self' 'unsafe-inline'; worker-src https://gitlab.com blob: data:; form-action 'self' https: http: http: http: http:\", 'etag': '\"567f084dd188ff3779f37e576b1ebc7c\"', 'permissions-policy': 'interest-cohort=()', 'referrer-policy': 'strict-origin-when-cross-origin', 'vary': 'Accept, Accept-Encoding', 'x-content-type-options': 'nosniff', 'x-download-options': 'noopen', 'x-frame-options': 'SAMEORIGIN', 'x-gitlab-meta': '{\"correlation_id\":\"01HEDSNBYEK5JEM3KHXDPF6ZXR\",\"version\":\"1\"}', 'x-permitted-cross-domain-policies': 'none', 'x-request-id': '01HEDSNBYEK5JEM3KHXDPF6ZXR', 'x-runtime': '0.111164', 'x-ua-compatible': 'IE=edge', 'x-xss-protection': '1; mode=block', 'gitlab-lb': 'haproxy-main-17-lb-gprd', 'gitlab-sv': 'web-gke-us-east1-d', 'CF-Cache-Status': 'MISS', 'Accept-Ranges': 'bytes', 'Report-To': '{\"endpoints\":[{\"url\":\"https:\\\\/\\\\/a.nel.cloudflare.com\\\\/report\\\\/v3?s=P0Bl%2FvOOAVM3StFre65C4S6pEmVkKf8oI5iSR4PWAaGV%2F1OmNrifXYPg%2BmPyLAGy%2Bo1RH%2FO%2Bou7nxMA3W7Z2W2DFeWq9hthmwjM6PIA0HTUpf5L4JVUXMSZgmDU%3D\"}],\"group\":\"cf-nel\",\"max_age\":604800}', 'NEL': '{\"success_fraction\":0.01,\"report_to\":\"cf-nel\",\"max_age\":604800}', 'Strict-Transport-Security': 'max-age=31536000', 'Set-Cookie': '_cfuvid=VexyHyKKe.1e.zo7ZAyPevSALjoTH0lCQ_yRxJCoj18-1699122688100-0-604800000; path=/; domain=.gitlab.com; HttpOnly; Secure; SameSite=None', 'Server': 'cloudflare', 'CF-RAY': '820eef1f780da71b-PHX'}"
      ]
     },
     "execution_count": 27,
     "metadata": {},
     "output_type": "execute_result"
    }
   ],
   "source": [
    "response.headers"
   ]
  },
  {
   "cell_type": "markdown",
   "id": "5680716f",
   "metadata": {},
   "source": [
    "#### "
   ]
  },
  {
   "cell_type": "code",
   "execution_count": 13,
   "id": "8220476d",
   "metadata": {},
   "outputs": [
    {
     "data": {
      "text/plain": [
       "'Algorithmic bias describes systematic and repeatable errors in a compu'"
      ]
     },
     "execution_count": 13,
     "metadata": {},
     "output_type": "execute_result"
    }
   ],
   "source": [
    "bias_intro_bytes = response.content  # <1>\n",
    "bias_intro = response.text  # <2>\n",
    "assert bias_intro_bytes.decode() == bias_intro    # <3>\n",
    "bias_intro[:70]"
   ]
  },
  {
   "cell_type": "markdown",
   "id": "efc3e01f",
   "metadata": {},
   "source": [
    "#### "
   ]
  },
  {
   "cell_type": "code",
   "execution_count": 14,
   "id": "21dad63e",
   "metadata": {},
   "outputs": [
    {
     "data": {
      "text/plain": [
       "Counter({',': 35,\n",
       "         'of': 16,\n",
       "         '.': 16,\n",
       "         'to': 15,\n",
       "         'and': 14,\n",
       "         '\\n': 14,\n",
       "         'the': 13,\n",
       "         'or': 11,\n",
       "         'in': 10,\n",
       "         'can': 7,\n",
       "         'algorithms': 7,\n",
       "         'bias': 6,\n",
       "         'is': 6,\n",
       "         'a': 5,\n",
       "         'as': 5,\n",
       "         'not': 4,\n",
       "         '\"': 4,\n",
       "         'has': 4,\n",
       "         'their': 4,\n",
       "         'Algorithmic': 3,\n",
       "         'that': 3,\n",
       "         'outcomes': 3,\n",
       "         'many': 3,\n",
       "         'but': 3,\n",
       "         'design': 3,\n",
       "         'algorithm': 3,\n",
       "         'unanticipated': 3,\n",
       "         'data': 3,\n",
       "         'social': 3,\n",
       "         'from': 3,\n",
       "         'algorithmic': 3,\n",
       "         'been': 3,\n",
       "         'are': 3,\n",
       "         'cases': 3,\n",
       "         'systematic': 2,\n",
       "         'unfair': 2,\n",
       "         'such': 2,\n",
       "         'users': 2,\n",
       "         'Bias': 2,\n",
       "         'due': 2,\n",
       "         'including': 2,\n",
       "         'limited': 2,\n",
       "         'used': 2,\n",
       "         'platforms': 2,\n",
       "         'have': 2,\n",
       "         'ranging': 2,\n",
       "         'biases': 2,\n",
       "         'gender': 2,\n",
       "         'The': 2,\n",
       "         'concerned': 2,\n",
       "         'with': 2,\n",
       "         \"'s\": 2,\n",
       "         'become': 2,\n",
       "         '\\n\\n': 2,\n",
       "         'ways': 2,\n",
       "         'which': 2,\n",
       "         'output': 2,\n",
       "         'considered': 2,\n",
       "         'be': 2,\n",
       "         'human': 2,\n",
       "         'for': 2,\n",
       "         '-': 2,\n",
       "         'existing': 2,\n",
       "         ';': 2,\n",
       "         'by': 2,\n",
       "         'understanding': 2,\n",
       "         'even': 2,\n",
       "         'single': 2,\n",
       "         'describes': 1,\n",
       "         'repeatable': 1,\n",
       "         'errors': 1,\n",
       "         'computer': 1,\n",
       "         'system': 1,\n",
       "         'create': 1,\n",
       "         'privileging': 1,\n",
       "         'one': 1,\n",
       "         'arbitrary': 1,\n",
       "         'group': 1,\n",
       "         'over': 1,\n",
       "         'others': 1,\n",
       "         'emerge': 1,\n",
       "         'factors': 1,\n",
       "         'unintended': 1,\n",
       "         'use': 1,\n",
       "         'decisions': 1,\n",
       "         'relating': 1,\n",
       "         'way': 1,\n",
       "         'coded': 1,\n",
       "         'collected': 1,\n",
       "         'selected': 1,\n",
       "         'train': 1,\n",
       "         'found': 1,\n",
       "         'across': 1,\n",
       "         'search': 1,\n",
       "         'engine': 1,\n",
       "         'results': 1,\n",
       "         'media': 1,\n",
       "         'impacts': 1,\n",
       "         'inadvertent': 1,\n",
       "         'privacy': 1,\n",
       "         'violations': 1,\n",
       "         'reinforcing': 1,\n",
       "         'race': 1,\n",
       "         'sexuality': 1,\n",
       "         'ethnicity': 1,\n",
       "         'study': 1,\n",
       "         'most': 1,\n",
       "         'reflect': 1,\n",
       "         'discrimination': 1,\n",
       "         'This': 1,\n",
       "         'only': 1,\n",
       "         'recently': 1,\n",
       "         'addressed': 1,\n",
       "         'legal': 1,\n",
       "         'frameworks': 1,\n",
       "         '2018': 1,\n",
       "         'European': 1,\n",
       "         'Union': 1,\n",
       "         'General': 1,\n",
       "         'Data': 1,\n",
       "         'Protection': 1,\n",
       "         'Regulation': 1,\n",
       "         'More': 1,\n",
       "         'comprehensive': 1,\n",
       "         'regulation': 1,\n",
       "         'needed': 1,\n",
       "         'emerging': 1,\n",
       "         'technologies': 1,\n",
       "         'increasingly': 1,\n",
       "         'advanced': 1,\n",
       "         'opaque': 1,\n",
       "         'As': 1,\n",
       "         'expand': 1,\n",
       "         'ability': 1,\n",
       "         'organize': 1,\n",
       "         'society': 1,\n",
       "         'politics': 1,\n",
       "         'institutions': 1,\n",
       "         'behavior': 1,\n",
       "         'sociologists': 1,\n",
       "         'manipulation': 1,\n",
       "         'impact': 1,\n",
       "         'physical': 1,\n",
       "         'world': 1,\n",
       "         'Because': 1,\n",
       "         'often': 1,\n",
       "         'neutral': 1,\n",
       "         'unbiased': 1,\n",
       "         'they': 1,\n",
       "         'inaccurately': 1,\n",
       "         'project': 1,\n",
       "         'greater': 1,\n",
       "         'authority': 1,\n",
       "         'than': 1,\n",
       "         'expertise': 1,\n",
       "         'some': 1,\n",
       "         'reliance': 1,\n",
       "         'on': 1,\n",
       "         'displace': 1,\n",
       "         'responsibility': 1,\n",
       "         'enter': 1,\n",
       "         'into': 1,\n",
       "         'systems': 1,\n",
       "         'result': 1,\n",
       "         'pre': 1,\n",
       "         'cultural': 1,\n",
       "         'institutional': 1,\n",
       "         'expectations': 1,\n",
       "         'because': 1,\n",
       "         'technical': 1,\n",
       "         'limitations': 1,\n",
       "         'being': 1,\n",
       "         'contexts': 1,\n",
       "         'audiences': 1,\n",
       "         'who': 1,\n",
       "         'software': 1,\n",
       "         'initial': 1,\n",
       "         'cited': 1,\n",
       "         'election': 1,\n",
       "         'spread': 1,\n",
       "         'online': 1,\n",
       "         'hate': 1,\n",
       "         'speech': 1,\n",
       "         'It': 1,\n",
       "         'also': 1,\n",
       "         'arisen': 1,\n",
       "         'criminal': 1,\n",
       "         'justice': 1,\n",
       "         'healthcare': 1,\n",
       "         'hiring': 1,\n",
       "         'compounding': 1,\n",
       "         'racial': 1,\n",
       "         'economic': 1,\n",
       "         'relative': 1,\n",
       "         'inability': 1,\n",
       "         'facial': 1,\n",
       "         'recognition': 1,\n",
       "         'technology': 1,\n",
       "         'accurately': 1,\n",
       "         'identify': 1,\n",
       "         'darker': 1,\n",
       "         'skinned': 1,\n",
       "         'faces': 1,\n",
       "         'linked': 1,\n",
       "         'multiple': 1,\n",
       "         'wrongful': 1,\n",
       "         'arrests': 1,\n",
       "         'men': 1,\n",
       "         'color': 1,\n",
       "         'an': 1,\n",
       "         'issue': 1,\n",
       "         'stemming': 1,\n",
       "         'imbalanced': 1,\n",
       "         'datasets': 1,\n",
       "         'Problems': 1,\n",
       "         'researching': 1,\n",
       "         'discovering': 1,\n",
       "         'persist': 1,\n",
       "         'proprietary': 1,\n",
       "         'nature': 1,\n",
       "         'typically': 1,\n",
       "         'treated': 1,\n",
       "         'trade': 1,\n",
       "         'secrets': 1,\n",
       "         'Even': 1,\n",
       "         'when': 1,\n",
       "         'full': 1,\n",
       "         'transparency': 1,\n",
       "         'provided': 1,\n",
       "         'complexity': 1,\n",
       "         'certain': 1,\n",
       "         'poses': 1,\n",
       "         'barrier': 1,\n",
       "         'functioning': 1,\n",
       "         'Furthermore': 1,\n",
       "         'may': 1,\n",
       "         'change': 1,\n",
       "         'respond': 1,\n",
       "         'input': 1,\n",
       "         'anticipated': 1,\n",
       "         'easily': 1,\n",
       "         'reproduced': 1,\n",
       "         'analysis': 1,\n",
       "         'In': 1,\n",
       "         'within': 1,\n",
       "         'website': 1,\n",
       "         'application': 1,\n",
       "         'there': 1,\n",
       "         'no': 1,\n",
       "         'examine': 1,\n",
       "         'network': 1,\n",
       "         'interrelated': 1,\n",
       "         'programs': 1,\n",
       "         'inputs': 1,\n",
       "         'between': 1,\n",
       "         'same': 1,\n",
       "         'service': 1})"
      ]
     },
     "execution_count": 14,
     "metadata": {},
     "output_type": "execute_result"
    }
   ],
   "source": [
    "tokens = [tok.text for tok in nlp(bias_intro)]\n",
    "counts = Counter(tokens)\n",
    "counts"
   ]
  },
  {
   "cell_type": "markdown",
   "id": "b2b811e1",
   "metadata": {},
   "source": [
    "#### "
   ]
  },
  {
   "cell_type": "code",
   "execution_count": 15,
   "id": "fd5d8c6a",
   "metadata": {},
   "outputs": [
    {
     "data": {
      "text/plain": [
       "[(',', 35), ('of', 16), ('.', 16), ('to', 15), ('and', 14)]"
      ]
     },
     "execution_count": 15,
     "metadata": {},
     "output_type": "execute_result"
    }
   ],
   "source": [
    "counts.most_common(5)"
   ]
  },
  {
   "cell_type": "markdown",
   "id": "35af4e1f",
   "metadata": {},
   "source": [
    "#### "
   ]
  },
  {
   "cell_type": "code",
   "execution_count": 16,
   "id": "be2783f2",
   "metadata": {},
   "outputs": [
    {
     "data": {
      "text/plain": [
       "[('inputs', 1), ('between', 1), ('same', 1), ('service', 1)]"
      ]
     },
     "execution_count": 16,
     "metadata": {},
     "output_type": "execute_result"
    }
   ],
   "source": [
    "counts.most_common()[-4:]"
   ]
  },
  {
   "cell_type": "markdown",
   "id": "0d86e6f5",
   "metadata": {},
   "source": [
    "#### "
   ]
  },
  {
   "cell_type": "code",
   "execution_count": 17,
   "id": "30ed0c1e",
   "metadata": {},
   "outputs": [
    {
     "data": {
      "text/plain": [
       "16"
      ]
     },
     "execution_count": 17,
     "metadata": {},
     "output_type": "execute_result"
    }
   ],
   "source": [
    "docs = [nlp(s) for s in bias_intro.split('\\n')\n",
    "        if s.strip()]  # <1>\n",
    "counts = []\n",
    "for doc in docs:\n",
    "    counts.append(Counter([\n",
    "        t.text.lower() for t in doc]))  # <2>\n",
    "df = pd.DataFrame(counts)\n",
    "df = df.fillna(0).astype(int)  # <3>\n",
    "len(df)"
   ]
  },
  {
   "cell_type": "markdown",
   "id": "4ecfc22e",
   "metadata": {},
   "source": [
    "#### "
   ]
  },
  {
   "cell_type": "code",
   "execution_count": 18,
   "id": "6e369b86",
   "metadata": {},
   "outputs": [
    {
     "data": {
      "text/html": [
       "<div>\n",
       "<style scoped>\n",
       "    .dataframe tbody tr th:only-of-type {\n",
       "        vertical-align: middle;\n",
       "    }\n",
       "\n",
       "    .dataframe tbody tr th {\n",
       "        vertical-align: top;\n",
       "    }\n",
       "\n",
       "    .dataframe thead th {\n",
       "        text-align: right;\n",
       "    }\n",
       "</style>\n",
       "<table border=\"1\" class=\"dataframe\">\n",
       "  <thead>\n",
       "    <tr style=\"text-align: right;\">\n",
       "      <th></th>\n",
       "      <th>algorithmic</th>\n",
       "      <th>bias</th>\n",
       "      <th>describes</th>\n",
       "      <th>systematic</th>\n",
       "      <th>and</th>\n",
       "      <th>repeatable</th>\n",
       "      <th>errors</th>\n",
       "      <th>in</th>\n",
       "      <th>a</th>\n",
       "      <th>computer</th>\n",
       "      <th>...</th>\n",
       "      <th>there</th>\n",
       "      <th>no</th>\n",
       "      <th>examine</th>\n",
       "      <th>network</th>\n",
       "      <th>interrelated</th>\n",
       "      <th>programs</th>\n",
       "      <th>inputs</th>\n",
       "      <th>between</th>\n",
       "      <th>same</th>\n",
       "      <th>service</th>\n",
       "    </tr>\n",
       "  </thead>\n",
       "  <tbody>\n",
       "    <tr>\n",
       "      <th>0</th>\n",
       "      <td>1</td>\n",
       "      <td>1</td>\n",
       "      <td>1</td>\n",
       "      <td>1</td>\n",
       "      <td>1</td>\n",
       "      <td>1</td>\n",
       "      <td>1</td>\n",
       "      <td>1</td>\n",
       "      <td>1</td>\n",
       "      <td>1</td>\n",
       "      <td>...</td>\n",
       "      <td>0</td>\n",
       "      <td>0</td>\n",
       "      <td>0</td>\n",
       "      <td>0</td>\n",
       "      <td>0</td>\n",
       "      <td>0</td>\n",
       "      <td>0</td>\n",
       "      <td>0</td>\n",
       "      <td>0</td>\n",
       "      <td>0</td>\n",
       "    </tr>\n",
       "    <tr>\n",
       "      <th>1</th>\n",
       "      <td>0</td>\n",
       "      <td>1</td>\n",
       "      <td>0</td>\n",
       "      <td>0</td>\n",
       "      <td>0</td>\n",
       "      <td>0</td>\n",
       "      <td>0</td>\n",
       "      <td>0</td>\n",
       "      <td>0</td>\n",
       "      <td>0</td>\n",
       "      <td>...</td>\n",
       "      <td>0</td>\n",
       "      <td>0</td>\n",
       "      <td>0</td>\n",
       "      <td>0</td>\n",
       "      <td>0</td>\n",
       "      <td>0</td>\n",
       "      <td>0</td>\n",
       "      <td>0</td>\n",
       "      <td>0</td>\n",
       "      <td>0</td>\n",
       "    </tr>\n",
       "    <tr>\n",
       "      <th>2</th>\n",
       "      <td>1</td>\n",
       "      <td>1</td>\n",
       "      <td>0</td>\n",
       "      <td>0</td>\n",
       "      <td>3</td>\n",
       "      <td>0</td>\n",
       "      <td>0</td>\n",
       "      <td>0</td>\n",
       "      <td>0</td>\n",
       "      <td>0</td>\n",
       "      <td>...</td>\n",
       "      <td>0</td>\n",
       "      <td>0</td>\n",
       "      <td>0</td>\n",
       "      <td>0</td>\n",
       "      <td>0</td>\n",
       "      <td>0</td>\n",
       "      <td>0</td>\n",
       "      <td>0</td>\n",
       "      <td>0</td>\n",
       "      <td>0</td>\n",
       "    </tr>\n",
       "    <tr>\n",
       "      <th>3</th>\n",
       "      <td>1</td>\n",
       "      <td>1</td>\n",
       "      <td>0</td>\n",
       "      <td>1</td>\n",
       "      <td>1</td>\n",
       "      <td>0</td>\n",
       "      <td>0</td>\n",
       "      <td>0</td>\n",
       "      <td>0</td>\n",
       "      <td>0</td>\n",
       "      <td>...</td>\n",
       "      <td>0</td>\n",
       "      <td>0</td>\n",
       "      <td>0</td>\n",
       "      <td>0</td>\n",
       "      <td>0</td>\n",
       "      <td>0</td>\n",
       "      <td>0</td>\n",
       "      <td>0</td>\n",
       "      <td>0</td>\n",
       "      <td>0</td>\n",
       "    </tr>\n",
       "    <tr>\n",
       "      <th>4</th>\n",
       "      <td>0</td>\n",
       "      <td>1</td>\n",
       "      <td>0</td>\n",
       "      <td>0</td>\n",
       "      <td>0</td>\n",
       "      <td>0</td>\n",
       "      <td>0</td>\n",
       "      <td>1</td>\n",
       "      <td>0</td>\n",
       "      <td>0</td>\n",
       "      <td>...</td>\n",
       "      <td>0</td>\n",
       "      <td>0</td>\n",
       "      <td>0</td>\n",
       "      <td>0</td>\n",
       "      <td>0</td>\n",
       "      <td>0</td>\n",
       "      <td>0</td>\n",
       "      <td>0</td>\n",
       "      <td>0</td>\n",
       "      <td>0</td>\n",
       "    </tr>\n",
       "  </tbody>\n",
       "</table>\n",
       "<p>5 rows × 246 columns</p>\n",
       "</div>"
      ],
      "text/plain": [
       "   algorithmic  bias  describes  systematic  and  repeatable  errors  in  a  \\\n",
       "0            1     1          1           1    1           1       1   1  1   \n",
       "1            0     1          0           0    0           0       0   0  0   \n",
       "2            1     1          0           0    3           0       0   0  0   \n",
       "3            1     1          0           1    1           0       0   0  0   \n",
       "4            0     1          0           0    0           0       0   1  0   \n",
       "\n",
       "   computer  ...  there  no  examine  network  interrelated  programs  inputs  \\\n",
       "0         1  ...      0   0        0        0             0         0       0   \n",
       "1         0  ...      0   0        0        0             0         0       0   \n",
       "2         0  ...      0   0        0        0             0         0       0   \n",
       "3         0  ...      0   0        0        0             0         0       0   \n",
       "4         0  ...      0   0        0        0             0         0       0   \n",
       "\n",
       "   between  same  service  \n",
       "0        0     0        0  \n",
       "1        0     0        0  \n",
       "2        0     0        0  \n",
       "3        0     0        0  \n",
       "4        0     0        0  \n",
       "\n",
       "[5 rows x 246 columns]"
      ]
     },
     "execution_count": 18,
     "metadata": {},
     "output_type": "execute_result"
    }
   ],
   "source": [
    "df.head()"
   ]
  },
  {
   "cell_type": "markdown",
   "id": "f06faa56",
   "metadata": {},
   "source": [
    "#### "
   ]
  },
  {
   "cell_type": "code",
   "execution_count": 19,
   "id": "2e21d37d",
   "metadata": {},
   "outputs": [
    {
     "data": {
      "text/plain": [
       "algorithmic    0\n",
       "bias           0\n",
       "describes      0\n",
       "systematic     0\n",
       "and            2\n",
       "              ..\n",
       "programs       0\n",
       "inputs         0\n",
       "between        0\n",
       "same           0\n",
       "service        0\n",
       "Name: 10, Length: 246, dtype: int64"
      ]
     },
     "execution_count": 19,
     "metadata": {},
     "output_type": "execute_result"
    }
   ],
   "source": [
    "df.iloc[10]  # <1>"
   ]
  },
  {
   "cell_type": "markdown",
   "id": "c6c428c6",
   "metadata": {},
   "source": [
    "#### "
   ]
  },
  {
   "cell_type": "code",
   "execution_count": 20,
   "id": "70579e21",
   "metadata": {},
   "outputs": [
    {
     "data": {
      "text/plain": [
       "27"
      ]
     },
     "execution_count": 20,
     "metadata": {},
     "output_type": "execute_result"
    }
   ],
   "source": [
    "docs_tokens = []\n",
    "for doc in docs:\n",
    "    docs_tokens.append([\n",
    "        tok.text.lower() for tok in nlp(doc.text)])  # <1>\n",
    "len(docs_tokens[0])"
   ]
  },
  {
   "cell_type": "markdown",
   "id": "cea1145d",
   "metadata": {},
   "source": [
    "#### "
   ]
  },
  {
   "cell_type": "code",
   "execution_count": 21,
   "id": "caab466e",
   "metadata": {},
   "outputs": [
    {
     "data": {
      "text/plain": [
       "482"
      ]
     },
     "execution_count": 21,
     "metadata": {},
     "output_type": "execute_result"
    }
   ],
   "source": [
    "all_doc_tokens = []\n",
    "for tokens in docs_tokens:\n",
    "    all_doc_tokens.extend(tokens)\n",
    "len(all_doc_tokens)"
   ]
  },
  {
   "cell_type": "markdown",
   "id": "c9bee718",
   "metadata": {},
   "source": [
    "#### "
   ]
  },
  {
   "cell_type": "code",
   "execution_count": 22,
   "id": "ed8e1a31",
   "metadata": {},
   "outputs": [
    {
     "data": {
      "text/plain": [
       "246"
      ]
     },
     "execution_count": 22,
     "metadata": {},
     "output_type": "execute_result"
    }
   ],
   "source": [
    "vocab = sorted(  # <1>\n",
    "    set(all_doc_tokens))  # <2>\n",
    "len(vocab)"
   ]
  },
  {
   "cell_type": "markdown",
   "id": "75f90fde",
   "metadata": {},
   "source": [
    "#### "
   ]
  },
  {
   "cell_type": "code",
   "execution_count": 23,
   "id": "957c7080",
   "metadata": {},
   "outputs": [
    {
     "data": {
      "text/plain": [
       "1.9593495934959348"
      ]
     },
     "execution_count": 23,
     "metadata": {},
     "output_type": "execute_result"
    }
   ],
   "source": [
    "len(all_doc_tokens) / len(vocab)  # <3>"
   ]
  },
  {
   "cell_type": "markdown",
   "id": "c80454ee",
   "metadata": {},
   "source": [
    "#### "
   ]
  },
  {
   "cell_type": "code",
   "execution_count": 24,
   "id": "dfd3aafe",
   "metadata": {},
   "outputs": [
    {
     "data": {
      "text/plain": [
       "['\"',\n",
       " \"'s\",\n",
       " ',',\n",
       " '-',\n",
       " '.',\n",
       " '2018',\n",
       " ';',\n",
       " 'a',\n",
       " 'ability',\n",
       " 'accurately',\n",
       " 'across',\n",
       " 'addressed',\n",
       " 'advanced',\n",
       " 'algorithm',\n",
       " 'algorithmic',\n",
       " 'algorithms',\n",
       " 'also',\n",
       " 'an',\n",
       " 'analysis',\n",
       " 'and',\n",
       " 'anticipated',\n",
       " 'application',\n",
       " 'arbitrary',\n",
       " 'are',\n",
       " 'arisen',\n",
       " 'arrests',\n",
       " 'as',\n",
       " 'audiences',\n",
       " 'authority',\n",
       " 'barrier',\n",
       " 'be',\n",
       " 'because',\n",
       " 'become',\n",
       " 'been',\n",
       " 'behavior',\n",
       " 'being',\n",
       " 'between',\n",
       " 'bias',\n",
       " 'biases',\n",
       " 'but',\n",
       " 'by',\n",
       " 'can',\n",
       " 'cases',\n",
       " 'certain',\n",
       " 'change',\n",
       " 'cited',\n",
       " 'coded',\n",
       " 'collected',\n",
       " 'color',\n",
       " 'complexity',\n",
       " 'compounding',\n",
       " 'comprehensive',\n",
       " 'computer',\n",
       " 'concerned',\n",
       " 'considered',\n",
       " 'contexts',\n",
       " 'create',\n",
       " 'criminal',\n",
       " 'cultural',\n",
       " 'darker',\n",
       " 'data',\n",
       " 'datasets',\n",
       " 'decisions',\n",
       " 'describes',\n",
       " 'design',\n",
       " 'discovering',\n",
       " 'discrimination',\n",
       " 'displace',\n",
       " 'due',\n",
       " 'easily',\n",
       " 'economic',\n",
       " 'election',\n",
       " 'emerge',\n",
       " 'emerging',\n",
       " 'engine',\n",
       " 'enter',\n",
       " 'errors',\n",
       " 'ethnicity',\n",
       " 'european',\n",
       " 'even',\n",
       " 'examine',\n",
       " 'existing',\n",
       " 'expand',\n",
       " 'expectations',\n",
       " 'expertise',\n",
       " 'faces',\n",
       " 'facial',\n",
       " 'factors',\n",
       " 'for',\n",
       " 'found',\n",
       " 'frameworks',\n",
       " 'from',\n",
       " 'full',\n",
       " 'functioning',\n",
       " 'furthermore',\n",
       " 'gender',\n",
       " 'general',\n",
       " 'greater',\n",
       " 'group',\n",
       " 'has',\n",
       " 'hate',\n",
       " 'have',\n",
       " 'healthcare',\n",
       " 'hiring',\n",
       " 'human',\n",
       " 'identify',\n",
       " 'imbalanced',\n",
       " 'impact',\n",
       " 'impacts',\n",
       " 'in',\n",
       " 'inability',\n",
       " 'inaccurately',\n",
       " 'inadvertent',\n",
       " 'including',\n",
       " 'increasingly',\n",
       " 'initial',\n",
       " 'input',\n",
       " 'inputs',\n",
       " 'institutional',\n",
       " 'institutions',\n",
       " 'interrelated',\n",
       " 'into',\n",
       " 'is',\n",
       " 'issue',\n",
       " 'it',\n",
       " 'justice',\n",
       " 'legal',\n",
       " 'limitations',\n",
       " 'limited',\n",
       " 'linked',\n",
       " 'manipulation',\n",
       " 'many',\n",
       " 'may',\n",
       " 'media',\n",
       " 'men',\n",
       " 'more',\n",
       " 'most',\n",
       " 'multiple',\n",
       " 'nature',\n",
       " 'needed',\n",
       " 'network',\n",
       " 'neutral',\n",
       " 'no',\n",
       " 'not',\n",
       " 'of',\n",
       " 'often',\n",
       " 'on',\n",
       " 'one',\n",
       " 'online',\n",
       " 'only',\n",
       " 'opaque',\n",
       " 'or',\n",
       " 'organize',\n",
       " 'others',\n",
       " 'outcomes',\n",
       " 'output',\n",
       " 'over',\n",
       " 'persist',\n",
       " 'physical',\n",
       " 'platforms',\n",
       " 'politics',\n",
       " 'poses',\n",
       " 'pre',\n",
       " 'privacy',\n",
       " 'privileging',\n",
       " 'problems',\n",
       " 'programs',\n",
       " 'project',\n",
       " 'proprietary',\n",
       " 'protection',\n",
       " 'provided',\n",
       " 'race',\n",
       " 'racial',\n",
       " 'ranging',\n",
       " 'recently',\n",
       " 'recognition',\n",
       " 'reflect',\n",
       " 'regulation',\n",
       " 'reinforcing',\n",
       " 'relating',\n",
       " 'relative',\n",
       " 'reliance',\n",
       " 'repeatable',\n",
       " 'reproduced',\n",
       " 'researching',\n",
       " 'respond',\n",
       " 'responsibility',\n",
       " 'result',\n",
       " 'results',\n",
       " 'same',\n",
       " 'search',\n",
       " 'secrets',\n",
       " 'selected',\n",
       " 'service',\n",
       " 'sexuality',\n",
       " 'single',\n",
       " 'skinned',\n",
       " 'social',\n",
       " 'society',\n",
       " 'sociologists',\n",
       " 'software',\n",
       " 'some',\n",
       " 'speech',\n",
       " 'spread',\n",
       " 'stemming',\n",
       " 'study',\n",
       " 'such',\n",
       " 'system',\n",
       " 'systematic',\n",
       " 'systems',\n",
       " 'technical',\n",
       " 'technologies',\n",
       " 'technology',\n",
       " 'than',\n",
       " 'that',\n",
       " 'the',\n",
       " 'their',\n",
       " 'there',\n",
       " 'they',\n",
       " 'this',\n",
       " 'to',\n",
       " 'trade',\n",
       " 'train',\n",
       " 'transparency',\n",
       " 'treated',\n",
       " 'typically',\n",
       " 'unanticipated',\n",
       " 'unbiased',\n",
       " 'understanding',\n",
       " 'unfair',\n",
       " 'unintended',\n",
       " 'union',\n",
       " 'use',\n",
       " 'used',\n",
       " 'users',\n",
       " 'violations',\n",
       " 'way',\n",
       " 'ways',\n",
       " 'website',\n",
       " 'when',\n",
       " 'which',\n",
       " 'who',\n",
       " 'with',\n",
       " 'within',\n",
       " 'world',\n",
       " 'wrongful']"
      ]
     },
     "execution_count": 24,
     "metadata": {},
     "output_type": "execute_result"
    }
   ],
   "source": [
    "vocab  # <1>"
   ]
  },
  {
   "cell_type": "markdown",
   "id": "0c39c364",
   "metadata": {},
   "source": [
    "#### "
   ]
  },
  {
   "cell_type": "code",
   "execution_count": 25,
   "id": "dbc069ee",
   "metadata": {},
   "outputs": [],
   "source": [
    "count_vectors = []"
   ]
  },
  {
   "cell_type": "markdown",
   "id": "c07b1f6a",
   "metadata": {},
   "source": [
    "#### "
   ]
  },
  {
   "cell_type": "code",
   "execution_count": 26,
   "id": "ab09bccc",
   "metadata": {},
   "outputs": [
    {
     "name": "stdout",
     "output_type": "stream",
     "text": [
      "[[0 0 0 ... 0 0 0]\n",
      " [0 0 0 ... 0 0 0]\n",
      " [0 0 0 ... 0 0 0]\n",
      " ...\n",
      " [0 0 0 ... 0 0 0]\n",
      " [0 0 0 ... 0 0 0]\n",
      " [0 0 0 ... 1 0 0]]\n"
     ]
    }
   ],
   "source": [
    "from sklearn.feature_extraction.text import CountVectorizer\n",
    "corpus = [doc.text for doc in docs]\n",
    "vectorizer = CountVectorizer()\n",
    "count_vectors = vectorizer.fit_transform(corpus)  # <1>\n",
    "print(count_vectors.toarray()) # <2>"
   ]
  },
  {
   "cell_type": "markdown",
   "id": "76ec43c7",
   "metadata": {},
   "source": [
    "#### "
   ]
  },
  {
   "cell_type": "code",
   "execution_count": null,
   "id": "25bc9fe8",
   "metadata": {},
   "outputs": [],
   "source": [
    "v1 = np.array(list(range(5)))\n",
    "v2 = pd.Series(reversed(range(5)))\n",
    "slow_answer = sum([4.2 * (x1 * x2) for x1, x2 in zip(v1, v2)])\n",
    "slow_answer"
   ]
  },
  {
   "cell_type": "markdown",
   "id": "ce7f2982",
   "metadata": {},
   "source": [
    "#### "
   ]
  },
  {
   "cell_type": "code",
   "execution_count": null,
   "id": "05f61021",
   "metadata": {},
   "outputs": [],
   "source": [
    "faster_answer = sum(4.2 * v1 * v2)  # <1>\n",
    "faster_answer"
   ]
  },
  {
   "cell_type": "markdown",
   "id": "24a424ea",
   "metadata": {},
   "source": [
    "#### "
   ]
  },
  {
   "cell_type": "code",
   "execution_count": null,
   "id": "7862b30c",
   "metadata": {},
   "outputs": [],
   "source": [
    "fastest_answer = 4.2 * v1.dot(v2)  # <2>\n",
    "fastest_answer"
   ]
  },
  {
   "cell_type": "markdown",
   "id": "2663c4f0",
   "metadata": {},
   "source": [
    "#### "
   ]
  },
  {
   "cell_type": "code",
   "execution_count": null,
   "id": "0ff3d0e2",
   "metadata": {},
   "outputs": [],
   "source": [
    "A.dot(B) == (np.linalg.norm(A) * np.linalg.norm(B)) * \\\n",
    "    np.cos(angle_between_A_and_B)"
   ]
  },
  {
   "cell_type": "markdown",
   "id": "f893adf8",
   "metadata": {},
   "source": [
    "#### "
   ]
  },
  {
   "cell_type": "code",
   "execution_count": null,
   "id": "122dc8a6",
   "metadata": {},
   "outputs": [],
   "source": [
    "cos_similarity_between_A_and_B = np.cos(angle_between_A_and_B) \\\n",
    "   = A.dot(B) / (np.linalg.norm(A) * np.linalg.norm(B))"
   ]
  },
  {
   "cell_type": "markdown",
   "id": "d1e05845",
   "metadata": {},
   "source": [
    "#### "
   ]
  },
  {
   "cell_type": "code",
   "execution_count": null,
   "id": "f3ccc573",
   "metadata": {},
   "outputs": [],
   "source": [
    "import math\n",
    "def cosine_sim(vec1, vec2):\n",
    "    vec1 = [val for val in vec1.values()] # <1>\n",
    "    vec2 = [val for val in vec2.values()]\n",
    "\n",
    "    dot_prod = 0\n",
    "    for i, v in enumerate(vec1):\n",
    "        dot_prod += v * vec2[i]\n",
    "\n",
    "    mag_1 = math.sqrt(sum([x**2 for x in vec1]))\n",
    "    mag_2 = math.sqrt(sum([x**2 for x in vec2]))\n",
    "\n",
    "    return dot_prod / (mag_1 * mag_2)"
   ]
  },
  {
   "cell_type": "markdown",
   "id": "4106e89a",
   "metadata": {},
   "source": [
    "#### .Cosine similarity"
   ]
  },
  {
   "cell_type": "code",
   "execution_count": null,
   "id": "67b49db6",
   "metadata": {},
   "outputs": [],
   "source": [
    "from sklearn.metrics.pairwise import cosine_similarity\n",
    "vec1 = count_vectors[1,:]\n",
    "vec2 = count_vectors[2,:]\n",
    "cosine_similarity(vec1, vec2)"
   ]
  },
  {
   "cell_type": "markdown",
   "id": "b43a37c9",
   "metadata": {},
   "source": [
    "#### .Cosine similarity"
   ]
  },
  {
   "cell_type": "code",
   "execution_count": null,
   "id": "bfa8a457",
   "metadata": {},
   "outputs": [],
   "source": [
    "import copy\n",
    "question = \"What is algorithmic bias?\"\n",
    "ngram_docs = copy.copy(docs)\n",
    "ngram_docs.append(question)"
   ]
  },
  {
   "cell_type": "markdown",
   "id": "b6f561d5",
   "metadata": {},
   "source": [
    "#### .Cosine similarity"
   ]
  },
  {
   "cell_type": "code",
   "execution_count": null,
   "id": "ce3f03f4",
   "metadata": {},
   "outputs": [],
   "source": [
    "question_vec = vectorizer.transform([new_sentence])\n",
    "question_vec"
   ]
  },
  {
   "cell_type": "markdown",
   "id": "43b42f6b",
   "metadata": {},
   "source": [
    "#### .Cosine similarity"
   ]
  },
  {
   "cell_type": "code",
   "execution_count": null,
   "id": "4f31d4b2",
   "metadata": {},
   "outputs": [],
   "source": [
    "question_vec.to_array()"
   ]
  },
  {
   "cell_type": "markdown",
   "id": "c02334e1",
   "metadata": {},
   "source": [
    "#### .Cosine similarity"
   ]
  },
  {
   "cell_type": "code",
   "execution_count": null,
   "id": "817f9212",
   "metadata": {},
   "outputs": [],
   "source": [
    "vocab = list(zip(*sorted((i, tok) for tok, i in\n",
    "    vectorizer.vocabulary_.items())))[1]\n",
    "pd.Series(question_vec.to_array()[0], index=vocab).head(8)"
   ]
  },
  {
   "cell_type": "markdown",
   "id": "ae6f96d0",
   "metadata": {},
   "source": [
    "#### "
   ]
  },
  {
   "cell_type": "code",
   "execution_count": null,
   "id": "e37b33e0",
   "metadata": {},
   "outputs": [],
   "source": [
    "cosine_similarity(count_vectors, question_vector)"
   ]
  },
  {
   "cell_type": "markdown",
   "id": "3d66f22b",
   "metadata": {},
   "source": [
    "#### "
   ]
  },
  {
   "cell_type": "code",
   "execution_count": null,
   "id": "c71870a5",
   "metadata": {},
   "outputs": [],
   "source": [
    "docs[3]"
   ]
  },
  {
   "cell_type": "markdown",
   "id": "64950ab8",
   "metadata": {},
   "source": [
    "#### "
   ]
  },
  {
   "cell_type": "code",
   "execution_count": null,
   "id": "f4157d90",
   "metadata": {},
   "outputs": [],
   "source": [
    "ngram_vectorizer = CountVectorizer(ngram_range=(1, 2))\n",
    "ngram_vectors = ngram_vectorizer.fit_transform(corpus)\n",
    "ngram_vectors"
   ]
  },
  {
   "cell_type": "markdown",
   "id": "9151f915",
   "metadata": {},
   "source": [
    "#### "
   ]
  },
  {
   "cell_type": "code",
   "execution_count": null,
   "id": "e1af03ca",
   "metadata": {},
   "outputs": [],
   "source": [
    "vocab = list(zip(*sorted((i, tok) for tok, i in\n",
    "    ngram_vectorizer.vocabulary_.items())))[1]\n",
    "pd.DataFrame(ngram_vectors.toarray(),\n",
    "    columns=vocab)['algorithmic bias']"
   ]
  },
  {
   "cell_type": "markdown",
   "id": "a30a7d6f",
   "metadata": {},
   "source": [
    "#### "
   ]
  },
  {
   "cell_type": "code",
   "execution_count": null,
   "id": "c21c6741",
   "metadata": {},
   "outputs": [],
   "source": [
    "from this import s\n",
    "print(s)"
   ]
  },
  {
   "cell_type": "markdown",
   "id": "e1442d83",
   "metadata": {},
   "source": [
    "#### "
   ]
  },
  {
   "cell_type": "code",
   "execution_count": null,
   "id": "7352770e",
   "metadata": {},
   "outputs": [],
   "source": [
    "char_vectorizer = CountVectorizer(\n",
    "    ngram_range=(1,1), analyzer='char')  # <1>\n",
    "s_char_frequencies = char_vectorizer.fit_transform(s)\n",
    "generate_histogram(\n",
    "    s_char_frequencies, s_char_vectorizer)  # <2>"
   ]
  },
  {
   "cell_type": "markdown",
   "id": "1521d9d5",
   "metadata": {},
   "source": [
    "#### "
   ]
  },
  {
   "cell_type": "code",
   "execution_count": null,
   "id": "23586d4d",
   "metadata": {},
   "outputs": [],
   "source": [
    "DATA_DIR = ('https://gitlab.com/tangibleai/nlpia/'\n",
    "            '-/raw/master/src/nlpia/data')\n",
    "url = DATA_DIR + '/machine_learning_full_article.txt'\n",
    "ml_text = requests.get(url).content.decode()\n",
    "ml_char_frequencies = char_vectorizer.fit_transform(ml_text)\n",
    "generate_histogram(s_char_frequencies, s_char_vectorizer)"
   ]
  },
  {
   "cell_type": "markdown",
   "id": "1e995ece",
   "metadata": {},
   "source": [
    "#### "
   ]
  },
  {
   "cell_type": "code",
   "execution_count": null,
   "id": "88e3012e",
   "metadata": {},
   "outputs": [],
   "source": [
    "chr(ord('W') - peak_distance)"
   ]
  },
  {
   "cell_type": "markdown",
   "id": "8821dd92",
   "metadata": {},
   "source": [
    "#### "
   ]
  },
  {
   "cell_type": "code",
   "execution_count": null,
   "id": "5572e369",
   "metadata": {},
   "outputs": [],
   "source": [
    "import codecs\n",
    "print(codecs.decode(s, 'rot-13'))"
   ]
  },
  {
   "cell_type": "markdown",
   "id": "cc70c29b",
   "metadata": {},
   "source": [
    "#### "
   ]
  },
  {
   "cell_type": "code",
   "execution_count": null,
   "id": "26b8695f",
   "metadata": {},
   "outputs": [],
   "source": [
    "nltk.download('brown')  # <1>\n",
    "from nltk.corpus import brown\n",
    "brown.words()[:10]  # <2>"
   ]
  },
  {
   "cell_type": "markdown",
   "id": "052ce37c",
   "metadata": {},
   "source": [
    "#### "
   ]
  },
  {
   "cell_type": "code",
   "execution_count": null,
   "id": "c56d19ac",
   "metadata": {},
   "outputs": [],
   "source": [
    "brown.tagged_words()[:5]  # <3>"
   ]
  },
  {
   "cell_type": "markdown",
   "id": "378a4db9",
   "metadata": {},
   "source": [
    "#### "
   ]
  },
  {
   "cell_type": "code",
   "execution_count": null,
   "id": "7fa37aeb",
   "metadata": {},
   "outputs": [],
   "source": [
    "len(brown.words())"
   ]
  },
  {
   "cell_type": "markdown",
   "id": "4bd516b6",
   "metadata": {},
   "source": [
    "#### "
   ]
  },
  {
   "cell_type": "code",
   "execution_count": null,
   "id": "3d92e336",
   "metadata": {},
   "outputs": [],
   "source": [
    "from collections import Counter\n",
    "puncs = set((',', '.', '--', '-', '!', '?',\n",
    "    ':', ';', '``', \"''\", '(', ')', '[', ']'))\n",
    "word_list = (x.lower() for x in brown.words() if x not in puncs)\n",
    "token_counts = Counter(word_list)\n",
    "token_counts.most_common(10)"
   ]
  },
  {
   "cell_type": "markdown",
   "id": "07a47860",
   "metadata": {},
   "source": [
    "#### "
   ]
  },
  {
   "cell_type": "code",
   "execution_count": null,
   "id": "f9bcb5f8",
   "metadata": {},
   "outputs": [],
   "source": [
    "DATA_DIR = ('https://gitlab.com/tangibleai/nlpia/'\n",
    "            '-/raw/master/src/nlpia/data')\n",
    "url = DATA_DIR + '/bias_discrimination.txt'\n",
    "bias_discrimination = requests.get(url).content.decode()\n",
    "intro_tokens = [token.text for token in nlp(bias_intro.lower())]\n",
    "disc_tokens = [token.text for token in nlp(bias_discrimination.lower())]\n",
    "intro_total = len(intro_tokens)\n",
    "intro_total"
   ]
  },
  {
   "cell_type": "markdown",
   "id": "6c033d74",
   "metadata": {},
   "source": [
    "#### "
   ]
  },
  {
   "cell_type": "code",
   "execution_count": null,
   "id": "631cdcbb",
   "metadata": {},
   "outputs": [],
   "source": [
    "disc_total = len (disc_tokens)\n",
    "disc_total"
   ]
  },
  {
   "cell_type": "markdown",
   "id": "011c4ff5",
   "metadata": {},
   "source": [
    "#### "
   ]
  },
  {
   "cell_type": "code",
   "execution_count": null,
   "id": "53fc0f44",
   "metadata": {},
   "outputs": [],
   "source": [
    "intro_tf = {}\n",
    "disc_tf = {}\n",
    "intro_counts = Counter(intro_tokens)\n",
    "intro_tf['bias'] = intro_counts['bias'] / intro_total\n",
    "disc_counts = Counter(disc_tokens)\n",
    "disc_tf['bias'] = disc_counts['bias'] / disc_total\n",
    "'Term Frequency of \"bias\" in intro is:{:.4f}'.format(intro_tf['bias'])"
   ]
  },
  {
   "cell_type": "markdown",
   "id": "7901c162",
   "metadata": {},
   "source": [
    "#### "
   ]
  },
  {
   "cell_type": "code",
   "execution_count": null,
   "id": "64cc4abc",
   "metadata": {},
   "outputs": [],
   "source": [
    "'Term Frequency of \"bias\" in discrimination chapter is: {:.4f}'\\\n",
    "    .format(disc_tf['bias'])"
   ]
  },
  {
   "cell_type": "markdown",
   "id": "b9beb6be",
   "metadata": {},
   "source": [
    "#### "
   ]
  },
  {
   "cell_type": "code",
   "execution_count": null,
   "id": "b63afd2f",
   "metadata": {},
   "outputs": [],
   "source": [
    "intro_tf['and'] = intro_counts['and'] / intro_total\n",
    "disc_tf['and'] = disc_counts['and'] / disc_total\n",
    "print('Term Frequency of \"and\" in intro is: {:.4f}'\\\n",
    "    .format(intro_tf['and']))"
   ]
  },
  {
   "cell_type": "markdown",
   "id": "9f457924",
   "metadata": {},
   "source": [
    "#### "
   ]
  },
  {
   "cell_type": "code",
   "execution_count": null,
   "id": "6cdd5b50",
   "metadata": {},
   "outputs": [],
   "source": [
    "print('Term Frequency of \"and\" in discrimination chapter is: {:.4f}'\\\n",
    "    .format(disc_tf['and']))"
   ]
  },
  {
   "cell_type": "markdown",
   "id": "6936a185",
   "metadata": {},
   "source": [
    "#### "
   ]
  },
  {
   "cell_type": "code",
   "execution_count": null,
   "id": "9ce46723",
   "metadata": {},
   "outputs": [],
   "source": [
    "num_docs_containing_and = 0\n",
    "for doc in [intro_tokens, disc_tokens]:\n",
    "    if 'and' in doc:\n",
    "        num_docs_containing_and += 1  # <1>"
   ]
  },
  {
   "cell_type": "markdown",
   "id": "29814e91",
   "metadata": {},
   "source": [
    "#### "
   ]
  },
  {
   "cell_type": "code",
   "execution_count": null,
   "id": "c02eabd8",
   "metadata": {},
   "outputs": [],
   "source": [
    "intro_tf['black'] = intro_counts['black'] / intro_total\n",
    "disc_tf['black'] = disc_counts['black'] / disc_total"
   ]
  },
  {
   "cell_type": "markdown",
   "id": "7f24a48d",
   "metadata": {},
   "source": [
    "#### "
   ]
  },
  {
   "cell_type": "code",
   "execution_count": null,
   "id": "461ab313",
   "metadata": {},
   "outputs": [],
   "source": [
    "num_docs = 2\n",
    "intro_idf = {}\n",
    "disc_idf = {}\n",
    "intro_idf['and'] = num_docs / num_docs_containing_and\n",
    "disc_idf['and'] = num_docs / num_docs_containing_and\n",
    "intro_idf['bias'] = num_docs / num_docs_containing_bias\n",
    "disc_idf['bias'] = num_docs / num_docs_containing_bias\n",
    "intro_idf['black'] = num_docs / num_docs_containing_black\n",
    "disc_idf['black'] = num_docs / num_docs_containing_black"
   ]
  },
  {
   "cell_type": "markdown",
   "id": "cd1f595c",
   "metadata": {},
   "source": [
    "#### "
   ]
  },
  {
   "cell_type": "code",
   "execution_count": null,
   "id": "29036c04",
   "metadata": {},
   "outputs": [],
   "source": [
    "intro_tfidf = {}\n",
    "intro_tfidf['and'] = intro_tf['and'] * intro_idf['and']\n",
    "intro_tfidf['bias'] = intro_tf['bias'] * intro_idf['bias']\n",
    "intro_tfidf['black'] = intro_tf['black'] * intro_idf['black']"
   ]
  },
  {
   "cell_type": "markdown",
   "id": "f98e7617",
   "metadata": {},
   "source": [
    "#### "
   ]
  },
  {
   "cell_type": "code",
   "execution_count": null,
   "id": "fa68057e",
   "metadata": {},
   "outputs": [],
   "source": [
    "disc_tfidf = {}\n",
    "disc_tfidf['and'] = disc_tf['and'] * disc_idf['and']\n",
    "disc_tfidf['bias'] = disc_tf['bias'] * disc_idf['bias']\n",
    "disc_tfidf['black'] = disc_tf['black'] * disc_idf['black']"
   ]
  },
  {
   "cell_type": "markdown",
   "id": "963d53c2",
   "metadata": {},
   "source": [
    "#### "
   ]
  },
  {
   "cell_type": "code",
   "execution_count": null,
   "id": "d173d7ec",
   "metadata": {},
   "outputs": [],
   "source": [
    "doc_tfidf_vectors = []\n",
    "for doc in docs:  # <1>\n",
    "    vec = copy.copy(zero_vector)  # <2>\n",
    "    tokens = [token.text for token in nlp(doc.lower())]\n",
    "    token_counts = Counter(tokens)\n",
    "\n",
    "    for token, count in token_counts.items():\n",
    "        docs_containing_key = 0\n",
    "        for d in docs:\n",
    "            if token in d:\n",
    "                docs_containing_key += 1\n",
    "        tf = value / len(vocab)\n",
    "        if docs_containing_key:\n",
    "            idf = len(docs) / docs_containing_key\n",
    "        else:\n",
    "            idf = 0\n",
    "        vec[key] = tf * idf\n",
    "    doc_tfidf_vectors.append(vec)"
   ]
  },
  {
   "cell_type": "markdown",
   "id": "dea3d021",
   "metadata": {},
   "source": [
    "#### "
   ]
  },
  {
   "cell_type": "code",
   "execution_count": null,
   "id": "0674edd6",
   "metadata": {},
   "outputs": [],
   "source": [
    "query = \"How long does it take to get to the store?\"\n",
    "query_vec = copy.copy(zero_vector)  # <1>\n",
    "tokens = [token.text for token in nlp(query.lower())]\n",
    "token_counts = Counter(tokens)\n",
    "for key, value in token_counts.items():\n",
    "    docs_containing_key = 0\n",
    "    for _doc in docs:\n",
    "      if key in _doc.lower():\n",
    "        docs_containing_key += 1\n",
    "    if docs_containing_key == 0:  # <1>\n",
    "        continue\n",
    "    tf = value / len(tokens)\n",
    "    idf = len(docs) / docs_containing_key\n",
    "    query_vec[key] = tf * idf\n",
    "cosine_sim(query_vec, doc_tfidf_vectors[0])"
   ]
  },
  {
   "cell_type": "markdown",
   "id": "2fbaf34e",
   "metadata": {},
   "source": [
    "#### "
   ]
  },
  {
   "cell_type": "code",
   "execution_count": null,
   "id": "5f492f42",
   "metadata": {},
   "outputs": [],
   "source": [
    "cosine_sim(query_vec, doc_tfidf_vectors[1])"
   ]
  },
  {
   "cell_type": "markdown",
   "id": "68abeb7d",
   "metadata": {},
   "source": [
    "#### "
   ]
  },
  {
   "cell_type": "code",
   "execution_count": null,
   "id": "368300a9",
   "metadata": {},
   "outputs": [],
   "source": [
    "cosine_sim(query_vec, doc_tfidf_vectors[2])"
   ]
  },
  {
   "cell_type": "markdown",
   "id": "8cfcd85a",
   "metadata": {},
   "source": [
    "#### .Computing TF-IDF matrix using Scikit-Learn"
   ]
  },
  {
   "cell_type": "code",
   "execution_count": null,
   "id": "fbd8fe82",
   "metadata": {},
   "outputs": [],
   "source": [
    "from sklearn.feature_extraction.text import TfidfVectorizer\n",
    "corpus = docs\n",
    "vectorizer = TfidfVectorizer(min_df=1) # <1>\n",
    "vectorizer = vectorizer.fit(corpus)  # <2>\n",
    "vectors = vectorizer.transform(corpus)  # <3>\n",
    "print(vectors.todense().round(2))  # <4>"
   ]
  },
  {
   "cell_type": "markdown",
   "id": "a5e63bec",
   "metadata": {},
   "source": [
    "#### "
   ]
  },
  {
   "cell_type": "code",
   "execution_count": null,
   "id": "0d1ac08b",
   "metadata": {},
   "outputs": [],
   "source": [
    "DS_FAQ_URL = ('https://gitlab.com/tangibleai/qary/-/raw/main/'\n",
    "    'src/qary/data/faq/faq-python-data-science-cleaned.csv')\n",
    "qa_dataset = pd.read_csv(DS_FAQ_URL)"
   ]
  },
  {
   "cell_type": "markdown",
   "id": "bdb323d4",
   "metadata": {},
   "source": [
    "#### "
   ]
  },
  {
   "cell_type": "code",
   "execution_count": null,
   "id": "c9996db3",
   "metadata": {},
   "outputs": [],
   "source": [
    "vectorizer = TfidfVectorizer()\n",
    "vectorizer.fit(df['question'])\n",
    "tfidfvectors_sparse = vectorizer.transform(df['question'])  # <1>\n",
    "tfidfvectors = tfidfvectors_sparse.todense()  # <2>"
   ]
  },
  {
   "cell_type": "markdown",
   "id": "0f330f48",
   "metadata": {},
   "source": [
    "#### "
   ]
  },
  {
   "cell_type": "code",
   "execution_count": null,
   "id": "11cbf8ab",
   "metadata": {},
   "outputs": [],
   "source": [
    "def bot_reply(question):\n",
    "   question_vector = vectorizer.transform([question]).todense()\n",
    "   idx = question_vector.dot(tfidfvectors.T).argmax() # <1>\n",
    "\n",
    "   print(\n",
    "       f\"Your question:\\n  {question}\\n\\n\"\n",
    "       f\"Most similar FAQ question:\\n  {df['question'][idx]}\\n\\n\"\n",
    "       f\"Answer to that FAQ question:\\n  {df['answer'][idx]}\\n\\n\"\n",
    "   )"
   ]
  },
  {
   "cell_type": "markdown",
   "id": "bacc0a55",
   "metadata": {},
   "source": [
    "#### "
   ]
  },
  {
   "cell_type": "code",
   "execution_count": null,
   "id": "a87e1ed3",
   "metadata": {},
   "outputs": [],
   "source": [
    "bot_reply(\"What's overfitting a model?\")"
   ]
  },
  {
   "cell_type": "markdown",
   "id": "eca05a94",
   "metadata": {},
   "source": [
    "#### "
   ]
  },
  {
   "cell_type": "code",
   "execution_count": null,
   "id": "892c69e2",
   "metadata": {},
   "outputs": [],
   "source": [
    "bot_reply('How do I decrease overfitting for Logistic Regression?')"
   ]
  }
 ],
 "metadata": {
  "kernelspec": {
   "display_name": "Python 3 (ipykernel)",
   "language": "python",
   "name": "python3"
  },
  "language_info": {
   "codemirror_mode": {
    "name": "ipython",
    "version": 3
   },
   "file_extension": ".py",
   "mimetype": "text/x-python",
   "name": "python",
   "nbconvert_exporter": "python",
   "pygments_lexer": "ipython3",
   "version": "3.10.12"
  }
 },
 "nbformat": 4,
 "nbformat_minor": 5
}
