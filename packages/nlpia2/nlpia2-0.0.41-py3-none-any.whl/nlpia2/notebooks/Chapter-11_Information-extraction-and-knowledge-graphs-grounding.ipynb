{
 "cells": [
  {
   "cell_type": "markdown",
   "id": "c2fa0a26",
   "metadata": {},
   "source": [
    "#### [`Chapter-11_Information-extraction-and-knowledge-graphs-grounding`](/home/hobs/code/hobs/nlpia-manuscript/manuscript/adoc/Chapter-11_Information-extraction-and-knowledge-graphs-grounding.adoc)"
   ]
  },
  {
   "cell_type": "markdown",
   "id": "2e538c95",
   "metadata": {},
   "source": [
    "#### "
   ]
  },
  {
   "cell_type": "code",
   "execution_count": null,
   "id": "325b781f",
   "metadata": {},
   "outputs": [],
   "source": [
    "re.split(r'[!.?]+[\\s$]+',\n",
    "    \"Hello World.... Are you there?!?! I'm going to Mars!\")"
   ]
  },
  {
   "cell_type": "markdown",
   "id": "b6fb2ce0",
   "metadata": {},
   "source": [
    "#### "
   ]
  },
  {
   "cell_type": "code",
   "execution_count": null,
   "id": "2532bf6a",
   "metadata": {},
   "outputs": [],
   "source": [
    "re.split(\n",
    "   r'[!.?]+[\\s$]+',\n",
    "   \"The author wrote \\\"'It isn't conscious.' Turing said.\\\"\")"
   ]
  },
  {
   "cell_type": "markdown",
   "id": "2fb4c645",
   "metadata": {},
   "source": [
    "#### "
   ]
  },
  {
   "cell_type": "code",
   "execution_count": null,
   "id": "6233adf2",
   "metadata": {},
   "outputs": [],
   "source": [
    "re.split(r'(?<!\\d)\\.|\\.(?!\\d)', \"I went to GT.You?\")"
   ]
  },
  {
   "cell_type": "markdown",
   "id": "f8e9d5e2",
   "metadata": {},
   "source": [
    "#### "
   ]
  },
  {
   "cell_type": "code",
   "execution_count": null,
   "id": "3648ce24",
   "metadata": {},
   "outputs": [],
   "source": [
    "import spacy\n",
    "nlp = spacy.load('en_core_web_md')\n",
    "doc = nlp(\"Are you an M.D. Dr. Gebru? either way you are brilliant.\")\n",
    "[s.text for s in doc.sents]"
   ]
  },
  {
   "cell_type": "markdown",
   "id": "fa690514",
   "metadata": {},
   "source": [
    "#### "
   ]
  },
  {
   "cell_type": "code",
   "execution_count": null,
   "id": "680ae631",
   "metadata": {},
   "outputs": [],
   "source": [
    "nlp.pipeline"
   ]
  },
  {
   "cell_type": "markdown",
   "id": "6a3a7986",
   "metadata": {},
   "source": [
    "#### "
   ]
  },
  {
   "cell_type": "code",
   "execution_count": null,
   "id": "89623d38",
   "metadata": {},
   "outputs": [],
   "source": [
    "nlp = spacy.load(\"en_core_web_md\", exclude=[\n",
    "   'tok2vec', 'parser', 'lemmatizer',  # <1>\n",
    "   'ner', 'tagger', 'attribute_ruler'])\n",
    "nlp.pipeline  # <2>"
   ]
  },
  {
   "cell_type": "markdown",
   "id": "5e4aad7e",
   "metadata": {},
   "source": [
    "#### "
   ]
  },
  {
   "cell_type": "code",
   "execution_count": null,
   "id": "e81fa808",
   "metadata": {},
   "outputs": [],
   "source": [
    "nlp.enable_pipe('senter')\n",
    "nlp.pipeline"
   ]
  },
  {
   "cell_type": "markdown",
   "id": "27e63fb7",
   "metadata": {},
   "source": [
    "#### "
   ]
  },
  {
   "cell_type": "code",
   "execution_count": null,
   "id": "f2a0dc14",
   "metadata": {},
   "outputs": [],
   "source": [
    "t0 = time.time(); lines2 = extract_lines(nlp=nlp); t1=time.time()\n",
    "t1 - t0"
   ]
  },
  {
   "cell_type": "markdown",
   "id": "bc2b0093",
   "metadata": {},
   "source": [
    "#### "
   ]
  },
  {
   "cell_type": "code",
   "execution_count": null,
   "id": "2f3d43c4",
   "metadata": {},
   "outputs": [],
   "source": [
    "df_md = pd.DataFrame(lines)  # <1>\n",
    "df_fast = pd.DataFrame(lines2)  # <2>\n",
    "(df_md['sents_spacy'][df_md.is_body]\n",
    " == df_fast['sents_spacy'][df_fast.is_body]\n",
    " ).sum() / df_md.is_body.sum()"
   ]
  },
  {
   "cell_type": "markdown",
   "id": "8e5eb1aa",
   "metadata": {},
   "source": [
    "#### "
   ]
  },
  {
   "cell_type": "code",
   "execution_count": null,
   "id": "f9edbcd6",
   "metadata": {},
   "outputs": [],
   "source": [
    "df_md['sents_spacy'][df_md.is_body]"
   ]
  },
  {
   "cell_type": "markdown",
   "id": "5d89520a",
   "metadata": {},
   "source": [
    "#### "
   ]
  },
  {
   "cell_type": "code",
   "execution_count": null,
   "id": "36fd795e",
   "metadata": {},
   "outputs": [],
   "source": [
    "df_fast['sents_spacy'][df_fast.is_body]"
   ]
  },
  {
   "cell_type": "markdown",
   "id": "046807b6",
   "metadata": {},
   "source": [
    "#### "
   ]
  },
  {
   "cell_type": "code",
   "execution_count": null,
   "id": "03c581db",
   "metadata": {},
   "outputs": [],
   "source": [
    "import pandas as pd\n",
    "url = 'https://gitlab.com/tangibleai/nlpia2/-/raw/main/'\n",
    "url += 'src/nlpia2/data/nlpia_lines.csv'  # <1>\n",
    "df = pd.read_csv(url, index_col=0)\n",
    "df9 = df[df.chapter == 9].copy()\n",
    "df9.shape"
   ]
  },
  {
   "cell_type": "markdown",
   "id": "0397f7dd",
   "metadata": {},
   "source": [
    "#### "
   ]
  },
  {
   "cell_type": "code",
   "execution_count": null,
   "id": "d8076ba3",
   "metadata": {},
   "outputs": [],
   "source": [
    "pd.options.display.max_colwidth=25\n",
    "df9[['text', 'is_title', 'is_body', 'is_bullet']]"
   ]
  },
  {
   "cell_type": "markdown",
   "id": "739e2b7a",
   "metadata": {},
   "source": [
    "#### "
   ]
  },
  {
   "cell_type": "code",
   "execution_count": null,
   "id": "bcdaf824",
   "metadata": {},
   "outputs": [],
   "source": [
    "texts = df9.text[df9.is_body]\n",
    "texts.shape"
   ]
  },
  {
   "cell_type": "markdown",
   "id": "7de40c56",
   "metadata": {},
   "source": [
    "#### "
   ]
  },
  {
   "cell_type": "code",
   "execution_count": null,
   "id": "c57f6931",
   "metadata": {},
   "outputs": [],
   "source": [
    "from sentence_transformers import SentenceTransformer\n",
    "minibert = SentenceTransformer('all-MiniLM-L12-v2')\n",
    "vecs = minibert.encode(list(texts))\n",
    "vecs.shape"
   ]
  },
  {
   "cell_type": "markdown",
   "id": "7d604588",
   "metadata": {},
   "source": [
    "#### "
   ]
  },
  {
   "cell_type": "code",
   "execution_count": null,
   "id": "4afce616",
   "metadata": {},
   "outputs": [],
   "source": [
    "from numpy.linalg import norm\n",
    "dfe = pd.DataFrame([list(v / norm(v)) for v in vecs])\n",
    "cos_sim = dfe.values.dot(dfe.values.T)\n",
    "cos_sim.shape"
   ]
  },
  {
   "cell_type": "markdown",
   "id": "fe148456",
   "metadata": {},
   "source": [
    "#### "
   ]
  },
  {
   "cell_type": "code",
   "execution_count": null,
   "id": "5a1f01b2",
   "metadata": {},
   "outputs": [],
   "source": [
    "import seaborn as sns\n",
    "from matplotlib import pyplot as plt\n",
    "sns.heatmap(cos_sim)"
   ]
  },
  {
   "cell_type": "markdown",
   "id": "52f10662",
   "metadata": {},
   "source": [
    "#### "
   ]
  },
  {
   "cell_type": "code",
   "execution_count": null,
   "id": "7283ca65",
   "metadata": {},
   "outputs": [],
   "source": [
    "plt.xticks(rotation=-35, ha='left')\n",
    "plt.show(block=False)"
   ]
  },
  {
   "cell_type": "markdown",
   "id": "813dd556",
   "metadata": {},
   "source": [
    "#### "
   ]
  },
  {
   "cell_type": "code",
   "execution_count": null,
   "id": "907b5a54",
   "metadata": {},
   "outputs": [],
   "source": [
    "from nlpia2 import wikipedia as wiki\n",
    "page = wiki.page('Timnit Gebru')\n",
    "text = page.content"
   ]
  },
  {
   "cell_type": "markdown",
   "id": "a1647e1d",
   "metadata": {},
   "source": [
    "#### "
   ]
  },
  {
   "cell_type": "code",
   "execution_count": null,
   "id": "a507cc79",
   "metadata": {},
   "outputs": [],
   "source": [
    "i1 = text.index('Stochastic')\n",
    "text[i1:i1+51]"
   ]
  },
  {
   "cell_type": "markdown",
   "id": "4469715e",
   "metadata": {},
   "source": [
    "#### "
   ]
  },
  {
   "cell_type": "code",
   "execution_count": null,
   "id": "faff77d4",
   "metadata": {},
   "outputs": [],
   "source": [
    "import re\n",
    "lat = r'([-]?[0-9]?[0-9][.][0-9]{2,10})'\n",
    "lon = r'([-]?1?[0-9]?[0-9][.][0-9]{2,10})'\n",
    "sep = r'[,/ ]{1,3}'\n",
    "re_gps = re.compile(lat + sep + lon)\n",
    "re_gps.findall('http://...maps/@34.0551066,-118.2496763...')"
   ]
  },
  {
   "cell_type": "markdown",
   "id": "c5b67dfd",
   "metadata": {},
   "source": [
    "#### "
   ]
  },
  {
   "cell_type": "code",
   "execution_count": null,
   "id": "d7da88f6",
   "metadata": {},
   "outputs": [],
   "source": [
    "doc = nlp(text)\n",
    "doc.ents[:6]  # <1>"
   ]
  },
  {
   "cell_type": "markdown",
   "id": "c2e23148",
   "metadata": {},
   "source": [
    "#### "
   ]
  },
  {
   "cell_type": "code",
   "execution_count": null,
   "id": "8216eb6b",
   "metadata": {},
   "outputs": [],
   "source": [
    "first_sentence = list(doc.sents)[0]\n",
    "' '.join(['{}_{}'.format(tok, tok.pos_) for tok in first_sentence])"
   ]
  },
  {
   "cell_type": "markdown",
   "id": "e20d3726",
   "metadata": {},
   "source": [
    "#### "
   ]
  },
  {
   "cell_type": "code",
   "execution_count": null,
   "id": "3d67d079",
   "metadata": {},
   "outputs": [],
   "source": [
    "spacy.explain('CCONJ')"
   ]
  },
  {
   "cell_type": "markdown",
   "id": "beb7c86e",
   "metadata": {},
   "source": [
    "#### "
   ]
  },
  {
   "cell_type": "code",
   "execution_count": null,
   "id": "0a86dc12",
   "metadata": {},
   "outputs": [],
   "source": [
    "' '.join(['{}_{}'.format(tok, tok.tag_) for tok in first_sentence])"
   ]
  },
  {
   "cell_type": "markdown",
   "id": "edd1c6d6",
   "metadata": {},
   "source": [
    "#### "
   ]
  },
  {
   "cell_type": "code",
   "execution_count": null,
   "id": "edd3a216",
   "metadata": {},
   "outputs": [],
   "source": [
    "spacy.explain('VBZ')"
   ]
  },
  {
   "cell_type": "markdown",
   "id": "451aa143",
   "metadata": {},
   "source": [
    "#### "
   ]
  },
  {
   "cell_type": "code",
   "execution_count": null,
   "id": "baf85f10",
   "metadata": {},
   "outputs": [],
   "source": [
    "import pandas as pd\n",
    "def token_dict(token):\n",
    "   return dict(TOK=token.text,\n",
    "       POS=token.pos_, TAG=token.tag_,"
   ]
  },
  {
   "cell_type": "markdown",
   "id": "5ad09f60",
   "metadata": {},
   "source": [
    "#### "
   ]
  },
  {
   "cell_type": "code",
   "execution_count": null,
   "id": "23abb694",
   "metadata": {},
   "outputs": [],
   "source": [
    "def doc2df(doc):\n",
    "   return pd.DataFrame([token_dict(tok) for tok in doc])\n",
    "pd.options.display.max_colwidth=20\n",
    "doc2df(doc)"
   ]
  },
  {
   "cell_type": "markdown",
   "id": "b8c2ffd1",
   "metadata": {},
   "source": [
    "#### "
   ]
  },
  {
   "cell_type": "code",
   "execution_count": null,
   "id": "1a9c4b69",
   "metadata": {},
   "outputs": [],
   "source": [
    "nlp = spacy.load('en_core_web_lg')\n",
    "doc = nlp(text)\n",
    "doc2df(doc)"
   ]
  },
  {
   "cell_type": "markdown",
   "id": "5e7443fb",
   "metadata": {},
   "source": [
    "#### "
   ]
  },
  {
   "cell_type": "code",
   "execution_count": null,
   "id": "96c5f9c4",
   "metadata": {},
   "outputs": [],
   "source": [
    "i0 = text.index('In a six')\n",
    "text_gebru = text[i0:i0+308]\n",
    "text_gebru"
   ]
  },
  {
   "cell_type": "markdown",
   "id": "3e6bea54",
   "metadata": {},
   "source": [
    "#### "
   ]
  },
  {
   "cell_type": "code",
   "execution_count": null,
   "id": "6be999bd",
   "metadata": {},
   "outputs": [],
   "source": [
    "!python -m spacy.cli download 'en_core_web_trf'  # <1>\n",
    "import spacy, coreferee  # <2>\n",
    "nlptrf = spacy.load('en_core_web_trf')\n",
    "nlptrf.add_pipe('coreferee')"
   ]
  },
  {
   "cell_type": "markdown",
   "id": "5a2a89d9",
   "metadata": {},
   "source": [
    "#### "
   ]
  },
  {
   "cell_type": "code",
   "execution_count": null,
   "id": "49de6cf0",
   "metadata": {},
   "outputs": [],
   "source": [
    "doc_gebru = nlptrf(text_gebru)\n",
    "doc_gebru._.coref_chains"
   ]
  },
  {
   "cell_type": "markdown",
   "id": "1ea4bf31",
   "metadata": {},
   "source": [
    "#### "
   ]
  },
  {
   "cell_type": "code",
   "execution_count": null,
   "id": "05c7efd8",
   "metadata": {},
   "outputs": [],
   "source": [
    "doc_gebru._.coref_chains.print()"
   ]
  },
  {
   "cell_type": "markdown",
   "id": "fd9aee66",
   "metadata": {},
   "source": [
    "#### "
   ]
  },
  {
   "cell_type": "code",
   "execution_count": null,
   "id": "6010d94b",
   "metadata": {},
   "outputs": [],
   "source": [
    "text = \"Gebru was unethically fired from her Ethical AI team.\"\n",
    "doc = nlp(text)\n",
    "doc2df(doc)"
   ]
  },
  {
   "cell_type": "markdown",
   "id": "208fb152",
   "metadata": {},
   "source": [
    "#### "
   ]
  },
  {
   "cell_type": "code",
   "execution_count": null,
   "id": "d9fabe84",
   "metadata": {},
   "outputs": [],
   "source": [
    "def token_dict2(token):\n",
    "   d = token_dict(token)\n",
    "   d['children'] = list(token.children)  # <1>\n",
    "   return d\n",
    "token_dict2(doc[0])"
   ]
  },
  {
   "cell_type": "markdown",
   "id": "85b8f131",
   "metadata": {},
   "source": [
    "#### "
   ]
  },
  {
   "cell_type": "code",
   "execution_count": null,
   "id": "8841bcf3",
   "metadata": {},
   "outputs": [],
   "source": [
    "def doc2df(doc):\n",
    "    df = pd.DataFrame([token_dict2(t) for t in doc])\n",
    "    return df.set_index('TOK')\n",
    "doc2df(doc)"
   ]
  },
  {
   "cell_type": "markdown",
   "id": "ca034bd3",
   "metadata": {},
   "source": [
    "#### "
   ]
  },
  {
   "cell_type": "code",
   "execution_count": null,
   "id": "4891a0a2",
   "metadata": {},
   "outputs": [],
   "source": [
    "doc2df(doc)['children']['fired']"
   ]
  },
  {
   "cell_type": "markdown",
   "id": "e68524dd",
   "metadata": {},
   "source": [
    "#### "
   ]
  },
  {
   "cell_type": "code",
   "execution_count": null,
   "id": "ee0e91ee",
   "metadata": {},
   "outputs": [],
   "source": [
    "from spacy.displacy import render\n",
    "sentence = \"In 1541 Desoto wrote in his journal about the Pascagoula.\"\n",
    "parsed_sent = nlp(sentence)\n",
    "with open('pascagoula.html', 'w') as f:\n",
    "    f.write(render(docs=parsed_sent, page=True, options=dict(compact=True)))"
   ]
  },
  {
   "cell_type": "markdown",
   "id": "508da3c1",
   "metadata": {},
   "source": [
    "#### "
   ]
  },
  {
   "cell_type": "code",
   "execution_count": null,
   "id": "78fbc6a5",
   "metadata": {},
   "outputs": [],
   "source": [
    "import benepar\n",
    "benepar.download('benepar_en3')"
   ]
  },
  {
   "cell_type": "markdown",
   "id": "08f8bed4",
   "metadata": {},
   "source": [
    "#### "
   ]
  },
  {
   "cell_type": "code",
   "execution_count": null,
   "id": "745e577c",
   "metadata": {},
   "outputs": [],
   "source": [
    "import spacy\n",
    "nlp = spacy.load(\"en_core_web_md\")\n",
    "if spacy.__version__.startswith('2'):\n",
    "    nlp.add_pipe(benepar.BeneparComponent(\"benepar_en3\"))\n",
    "else:"
   ]
  },
  {
   "cell_type": "markdown",
   "id": "7f7908aa",
   "metadata": {},
   "source": [
    "#### "
   ]
  },
  {
   "cell_type": "code",
   "execution_count": null,
   "id": "d841287a",
   "metadata": {},
   "outputs": [],
   "source": [
    "doc_dataframe(nlp(\"In 1541 Desoto met the Pascagoula.\"))"
   ]
  },
  {
   "cell_type": "markdown",
   "id": "f4e2137d",
   "metadata": {},
   "source": [
    "#### "
   ]
  },
  {
   "cell_type": "code",
   "execution_count": null,
   "id": "8f1615de",
   "metadata": {},
   "outputs": [],
   "source": [
    "pattern = [\n",
    "    {'POS': {'IN': ['NOUN', 'PROPN']}, 'OP': '+'},"
   ]
  },
  {
   "cell_type": "markdown",
   "id": "d5b006af",
   "metadata": {},
   "source": [
    "#### .Creating a POS pattern matcher with spaCy"
   ]
  },
  {
   "cell_type": "code",
   "execution_count": null,
   "id": "f41f4e4f",
   "metadata": {},
   "outputs": [],
   "source": [
    "from spacy.matcher import Matcher\n",
    "doc = nlp(\"In 1541 Desoto met the Pascagoula.\")\n",
    "matcher = Matcher(nlp.vocab)\n",
    "matcher.add(\n",
    "    key='met',\n",
    "    patterns=[pattern])\n",
    "matches = matcher(doc)\n",
    "matches"
   ]
  },
  {
   "cell_type": "markdown",
   "id": "bf9fc6cd",
   "metadata": {},
   "source": [
    "#### .Creating a POS pattern matcher with spaCy"
   ]
  },
  {
   "cell_type": "code",
   "execution_count": null,
   "id": "d0b18f9b",
   "metadata": {},
   "outputs": [],
   "source": [
    "start = matches[0][1]\n",
    "stop = matches[0][2]\n",
    "doc[start:stop]  # <2>"
   ]
  },
  {
   "cell_type": "markdown",
   "id": "623eb187",
   "metadata": {},
   "source": [
    "#### .Creating a POS pattern matcher with spaCy"
   ]
  },
  {
   "cell_type": "code",
   "execution_count": null,
   "id": "54874e8a",
   "metadata": {},
   "outputs": [],
   "source": [
    "doc = nlp(\"October 24: Lewis and Clark met their\" \\\n",
    "    \"first Mandan Chief, Big White.\")\n",
    "m = matcher(doc)[0]\n",
    "m"
   ]
  },
  {
   "cell_type": "markdown",
   "id": "f74a0133",
   "metadata": {},
   "source": [
    "#### .Creating a POS pattern matcher with spaCy"
   ]
  },
  {
   "cell_type": "code",
   "execution_count": null,
   "id": "83466e1f",
   "metadata": {},
   "outputs": [],
   "source": [
    "doc[m[1]:m[2]]"
   ]
  },
  {
   "cell_type": "markdown",
   "id": "280ee386",
   "metadata": {},
   "source": [
    "#### .Creating a POS pattern matcher with spaCy"
   ]
  },
  {
   "cell_type": "code",
   "execution_count": null,
   "id": "da17491e",
   "metadata": {},
   "outputs": [],
   "source": [
    "doc = nlp(\"On 11 October 1986, Gorbachev and Reagan met at Höfði house\")\n",
    "matcher(doc)"
   ]
  },
  {
   "cell_type": "markdown",
   "id": "73ecd66b",
   "metadata": {},
   "source": [
    "#### .Creating a POS pattern matcher with spaCy"
   ]
  },
  {
   "cell_type": "code",
   "execution_count": null,
   "id": "c2da2f68",
   "metadata": {},
   "outputs": [],
   "source": [
    "doc = nlp(\n",
    "    \"On 11 October 1986, Gorbachev and Reagan met at Hofoi house\"\n",
    "    )\n",
    "pattern = [\n",
    "    {'POS': {'IN': ['NOUN', 'PROPN']}, 'OP': '+'},\n",
    "    {'LEMMA': 'and'},\n",
    "    {'POS': {'IN': ['NOUN', 'PROPN']}, 'OP': '+'},\n",
    "    {'IS_ALPHA': True, 'OP': '*'},\n",
    "    {'LEMMA': 'meet'}\n",
    "    ]\n",
    "matcher.add('met', None, pattern)  # <1>\n",
    "matches = matcher(doc)\n",
    "pd.DataFrame(matches, columns=)"
   ]
  },
  {
   "cell_type": "markdown",
   "id": "7d28335f",
   "metadata": {},
   "source": [
    "#### .Creating a POS pattern matcher with spaCy"
   ]
  },
  {
   "cell_type": "code",
   "execution_count": null,
   "id": "53a9935d",
   "metadata": {},
   "outputs": [],
   "source": [
    "doc[m[-1][1]:m[-1][2]]  # <3>"
   ]
  },
  {
   "cell_type": "markdown",
   "id": "dd1b4b2d",
   "metadata": {},
   "source": [
    "#### "
   ]
  },
  {
   "cell_type": "code",
   "execution_count": null,
   "id": "f8edaef3",
   "metadata": {},
   "outputs": [],
   "source": [
    "import pandas as pd\n",
    "pd.options.display.max_colwidth = 20\n",
    "from nlpia2.nell import read_nell_tsv, simplify_names\n",
    "df = read_nell_tsv(nrows=1000)\n",
    "df[df.columns[:4]].head()"
   ]
  },
  {
   "cell_type": "markdown",
   "id": "c8571991",
   "metadata": {},
   "source": [
    "#### "
   ]
  },
  {
   "cell_type": "code",
   "execution_count": null,
   "id": "ed566060",
   "metadata": {},
   "outputs": [],
   "source": [
    "pd.options.display.max_colwidth = 40\n",
    "df['entity'].str.split(':').str[1:].str.join(':')"
   ]
  },
  {
   "cell_type": "markdown",
   "id": "c3a810d3",
   "metadata": {},
   "source": [
    "#### "
   ]
  },
  {
   "cell_type": "code",
   "execution_count": null,
   "id": "8573343a",
   "metadata": {},
   "outputs": [],
   "source": [
    "df['entity'].str.split(':').str[-1]"
   ]
  },
  {
   "cell_type": "markdown",
   "id": "3bf6d0df",
   "metadata": {},
   "source": [
    "#### "
   ]
  },
  {
   "cell_type": "code",
   "execution_count": null,
   "id": "129ab867",
   "metadata": {},
   "outputs": [],
   "source": [
    "df = simplify_names(df)  # <1>\n",
    "df[df.columns[[0, 1, 2, 4]]].head()"
   ]
  },
  {
   "cell_type": "markdown",
   "id": "83c8dfae",
   "metadata": {},
   "source": [
    "#### "
   ]
  },
  {
   "cell_type": "code",
   "execution_count": null,
   "id": "7d5880e7",
   "metadata": {},
   "outputs": [],
   "source": [
    "islatlon = df['relation'] == 'latlon'\n",
    "df[islatlon].head()"
   ]
  },
  {
   "cell_type": "markdown",
   "id": "d3087e47",
   "metadata": {},
   "source": [
    "#### "
   ]
  },
  {
   "cell_type": "code",
   "execution_count": null,
   "id": "547cfb2f",
   "metadata": {},
   "outputs": [],
   "source": [
    "def get_wikidata_qid(wikiarticle, wikisite=\"enwiki\"):\n",
    "    WIKIDATA_URL='https://www.wikidata.org/w/api.php'\n",
    "    resp = requests.get(WIKIDATA_URL, timeout=5, params={\n",
    "        'action': 'wbgetentities',\n",
    "        'titles': wikiarticle,\n",
    "        'sites': wikisite,\n",
    "        'props': '',\n",
    "        'format': 'json'\n",
    "    }).json()\n",
    "    return list(resp['entities'])[0]\n",
    "tg_qid = get_wikidata_qid('Timnit Gebru')\n",
    "tg_qid"
   ]
  },
  {
   "cell_type": "markdown",
   "id": "9be2d37e",
   "metadata": {},
   "source": [
    "#### "
   ]
  },
  {
   "cell_type": "code",
   "execution_count": null,
   "id": "b7dd797f",
   "metadata": {},
   "outputs": [],
   "source": [
    "NOTABLE_WORK_PID = 'P800'     # <1>\n",
    "INSTANCE_OF_PID = 'P31'       # <2>\n",
    "SCH_ARTICLE_QID= 'Q13442814'  # <3>\n",
    "query = f\"\"\"\n",
    "    SELECT ?article WHERE {{"
   ]
  },
  {
   "cell_type": "markdown",
   "id": "8ecba21d",
   "metadata": {},
   "source": [
    "#### "
   ]
  },
  {
   "cell_type": "code",
   "execution_count": null,
   "id": "54442199",
   "metadata": {},
   "outputs": [],
   "source": [
    "from SPARQLWrapper import SPARQLWrapper, JSON\n",
    "endpoint_url = \"https://query.wikidata.org/sparql\"\n",
    "sparql = SPARQLWrapper(endpoint_url)\n",
    "sparql.setReturnFormat(JSON)  # <1>"
   ]
  },
  {
   "cell_type": "markdown",
   "id": "cf70e6fe",
   "metadata": {},
   "source": [
    "#### "
   ]
  },
  {
   "cell_type": "code",
   "execution_count": null,
   "id": "d0489b06",
   "metadata": {},
   "outputs": [],
   "source": [
    "sparql.setQuery(query)\n",
    "result = sparql.queryAndConvert()\n",
    "result"
   ]
  },
  {
   "cell_type": "markdown",
   "id": "f35567d6",
   "metadata": {},
   "source": [
    "#### "
   ]
  },
  {
   "cell_type": "code",
   "execution_count": null,
   "id": "4a30a8c7",
   "metadata": {},
   "outputs": [],
   "source": [
    "import re\n",
    "uri = result['results']['bindings'][0]['article']['value']\n",
    "match_id = re.search(r'entity/(Q\\d+)', uri)\n",
    "article_qid = match_id.group(1)\n",
    "AUTHOR_PID = 'P50'\n",
    "query = f\"\"\"\n",
    "     SELECT ?author ?authorLabel WHERE {{\n",
    "     wd:{article_qid} wdt:{AUTHOR_PID} ?author.\n",
    "     SERVICE wikibase:label {{ bd:serviceParam wikibase:language \"en\". }}\n",
    "     }}\n",
    "     \"\"\"\n",
    "sparql.setQuery(query)\n",
    "result = sparql.queryAndConvert()['results']['bindings']\n",
    "authors = [record['authorLabel']['value'] for record in result]\n",
    "authors"
   ]
  },
  {
   "cell_type": "markdown",
   "id": "5416116b",
   "metadata": {},
   "source": [
    "#### "
   ]
  },
  {
   "cell_type": "code",
   "execution_count": null,
   "id": "f8c53628",
   "metadata": {},
   "outputs": [],
   "source": [
    "query = \"\"\"\n",
    "SELECT ?author ?authorLabel WHERE {\n",
    "    {\n",
    "    SELECT ?article WHERE {\n",
    "        wd:Q59753117 wdt:P800 ?article.\n",
    "        ?article wdt:P31 wd:Q13442814.\n",
    "        }\n",
    "    }\n",
    "    ?article wdt:P50 ?author.\n",
    "    SERVICE wikibase:label {"
   ]
  }
 ],
 "metadata": {},
 "nbformat": 4,
 "nbformat_minor": 5
}
