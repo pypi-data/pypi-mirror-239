{
 "cells": [
  {
   "cell_type": "markdown",
   "id": "20a8c9d2",
   "metadata": {},
   "source": [
    "#### [`Chapter-01_Machines-that-can-read-and-write-NLP-overview`](/home/hobs/code/hobs/nlpia-manuscript/manuscript/adoc/Chapter-01_Machines-that-can-read-and-write-NLP-overview.adoc)"
   ]
  },
  {
   "cell_type": "markdown",
   "id": "c7788242",
   "metadata": {},
   "source": [
    "#### "
   ]
  },
  {
   "cell_type": "code",
   "execution_count": null,
   "id": "3b0eb29d",
   "metadata": {},
   "outputs": [],
   "source": [
    "import re  # <1>\n",
    "r = \"(hi|hello|hey)[ ,:.!]*([a-z]*)\"  # <2>\n",
    "re.match(r, 'Hello Rosa', flags=re.IGNORECASE)  # <3>"
   ]
  },
  {
   "cell_type": "markdown",
   "id": "34728df5",
   "metadata": {},
   "source": [
    "#### "
   ]
  },
  {
   "cell_type": "code",
   "execution_count": null,
   "id": "cc03c327",
   "metadata": {},
   "outputs": [],
   "source": [
    "re.match(r, \"hi ho, hi ho, it's off to work ...\", flags=re.IGNORECASE)"
   ]
  },
  {
   "cell_type": "markdown",
   "id": "078c2624",
   "metadata": {},
   "source": [
    "#### "
   ]
  },
  {
   "cell_type": "code",
   "execution_count": null,
   "id": "a90af884",
   "metadata": {},
   "outputs": [],
   "source": [
    "re.match(r, \"hey, what's up\", flags=re.IGNORECASE)"
   ]
  },
  {
   "cell_type": "markdown",
   "id": "6d654ada",
   "metadata": {},
   "source": [
    "#### "
   ]
  },
  {
   "cell_type": "code",
   "execution_count": null,
   "id": "c57b1143",
   "metadata": {},
   "outputs": [],
   "source": [
    "r = r\"[^a-z]*([y]o|[h']?ello|ok|hey|(good[ ])(morn[gin']{0,3}|\"\n",
    "r += r\"afternoon|even[gin']{0,3}))[\\s,;:]{1,3}([a-z]{1,20})\"\n",
    "re_greeting = re.compile(r, flags=re.IGNORECASE)  # <1>\n",
    "re_greeting.match('Hello Rosa')"
   ]
  },
  {
   "cell_type": "markdown",
   "id": "5b5f4752",
   "metadata": {},
   "source": [
    "#### "
   ]
  },
  {
   "cell_type": "code",
   "execution_count": null,
   "id": "b6c9da56",
   "metadata": {},
   "outputs": [],
   "source": [
    "re_greeting.match('Hello Rosa').groups()"
   ]
  },
  {
   "cell_type": "markdown",
   "id": "e0daf6d5",
   "metadata": {},
   "source": [
    "#### "
   ]
  },
  {
   "cell_type": "code",
   "execution_count": null,
   "id": "b9f95fde",
   "metadata": {},
   "outputs": [],
   "source": [
    "re_greeting.match(\"Good morning Rosa\")"
   ]
  },
  {
   "cell_type": "markdown",
   "id": "e920a2a3",
   "metadata": {},
   "source": [
    "#### "
   ]
  },
  {
   "cell_type": "code",
   "execution_count": null,
   "id": "b370587f",
   "metadata": {},
   "outputs": [],
   "source": [
    "re_greeting.match(\"Good Manning Rosa\")  # <2>\n",
    "re_greeting.match('Good evening Rosa Parks').groups()  # <3>"
   ]
  },
  {
   "cell_type": "markdown",
   "id": "e0c3212a",
   "metadata": {},
   "source": [
    "#### "
   ]
  },
  {
   "cell_type": "code",
   "execution_count": null,
   "id": "5c96eeb3",
   "metadata": {},
   "outputs": [],
   "source": [
    "re_greeting.match(\"Good Morn'n Rosa\")"
   ]
  },
  {
   "cell_type": "markdown",
   "id": "287ad756",
   "metadata": {},
   "source": [
    "#### "
   ]
  },
  {
   "cell_type": "code",
   "execution_count": null,
   "id": "e0721b17",
   "metadata": {},
   "outputs": [],
   "source": [
    "re_greeting.match(\"yo Rosa\")"
   ]
  },
  {
   "cell_type": "markdown",
   "id": "a022d942",
   "metadata": {},
   "source": [
    "#### "
   ]
  },
  {
   "cell_type": "code",
   "execution_count": null,
   "id": "83e3f282",
   "metadata": {},
   "outputs": [],
   "source": [
    "my_names = set(['rosa', 'rose', 'chatty', 'chatbot', 'bot',\n",
    "    'chatterbot'])\n",
    "curt_names = set(['hal', 'you', 'u'])\n",
    "greeter_name = ''  # <1>\n",
    "match = re_greeting.match(input())\n",
    "if match:\n",
    "    at_name = match.groups()[-1]\n",
    "    if at_name in curt_names:\n",
    "        print(\"Good one.\")\n",
    "    elif at_name.lower() in my_names:\n",
    "        print(\"Hi {}, How are you?\".format(greeter_name))"
   ]
  },
  {
   "cell_type": "markdown",
   "id": "7ef8c316",
   "metadata": {},
   "source": [
    "#### "
   ]
  },
  {
   "cell_type": "code",
   "execution_count": null,
   "id": "efde136e",
   "metadata": {},
   "outputs": [],
   "source": [
    "from collections import Counter\n",
    "Counter(\"Guten Morgen Rosa\".split())"
   ]
  },
  {
   "cell_type": "markdown",
   "id": "f261ebd9",
   "metadata": {},
   "source": [
    "#### "
   ]
  },
  {
   "cell_type": "code",
   "execution_count": null,
   "id": "cad8bed4",
   "metadata": {},
   "outputs": [],
   "source": [
    "Counter(\"Good morning, Rosa!\".split())"
   ]
  },
  {
   "cell_type": "markdown",
   "id": "617794e4",
   "metadata": {},
   "source": [
    "#### "
   ]
  },
  {
   "cell_type": "code",
   "execution_count": null,
   "id": "3e25ff08",
   "metadata": {},
   "outputs": [],
   "source": [
    "from itertools import permutations\n",
    "[\" \".join(combo) for combo in\\\n",
    "    permutations(\"Good morning Rosa!\".split(), 3)]"
   ]
  },
  {
   "cell_type": "markdown",
   "id": "9199ea93",
   "metadata": {},
   "source": [
    "#### "
   ]
  },
  {
   "cell_type": "code",
   "execution_count": null,
   "id": "9985bcc2",
   "metadata": {},
   "outputs": [],
   "source": [
    "s = \"\"\"Find textbooks with titles containing 'NLP',\n",
    "    or 'natural' and 'language', or\n",
    "    'computational' and  'linguistics'.\"\"\"\n",
    "len(set(s.split()))"
   ]
  },
  {
   "cell_type": "markdown",
   "id": "e90b1de6",
   "metadata": {},
   "source": [
    "#### "
   ]
  },
  {
   "cell_type": "code",
   "execution_count": null,
   "id": "8f345c9a",
   "metadata": {},
   "outputs": [],
   "source": [
    "import numpy as np\n",
    "np.arange(1, 12 + 1).prod()  # factorial(12) = arange(1, 13).prod()"
   ]
  }
 ],
 "metadata": {},
 "nbformat": 4,
 "nbformat_minor": 5
}
