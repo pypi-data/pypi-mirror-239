{
 "cells": [
  {
   "cell_type": "markdown",
   "id": "a7dc410e",
   "metadata": {},
   "source": [
    "#### [`Chapter-05_Word-Brain-artificial-neural-networks-for-NLP`](/home/hobs/code/hobs/nlpia-manuscript/manuscript/adoc/Chapter-05_Word-Brain-artificial-neural-networks-for-NLP.adoc)"
   ]
  },
  {
   "cell_type": "markdown",
   "id": "8202d505",
   "metadata": {},
   "source": [
    "#### "
   ]
  },
  {
   "cell_type": "code",
   "execution_count": null,
   "id": "4f9f8162",
   "metadata": {},
   "outputs": [],
   "source": [
    "def logistic(x, w=1., phase=0, gain=1):\n",
    "   return gain / (1. + np.exp(-w * (x - phase)))"
   ]
  },
  {
   "cell_type": "markdown",
   "id": "28932429",
   "metadata": {},
   "source": [
    "#### "
   ]
  },
  {
   "cell_type": "code",
   "execution_count": null,
   "id": "74c5bcfc",
   "metadata": {},
   "outputs": [],
   "source": [
    "import pandas as pd\n",
    "import numpy as np\n",
    "import seaborn as sns\n",
    "sns.set_style()\n",
    "xy = pd.DataFrame(np.arange(-50, 50) / 10., columns=['x'])\n",
    "for w, phase in zip([1, 3, 1, 1, .5], [0, 0, 2, -1, 0]):\n",
    "   kwargs = dict(w=w, phase=phase)\n",
    "   xy[f'{kwargs}'] = logistic(xy['x'], **kwargs)\n",
    "xy.plot(grid=\"on\", ylabel=\"y\")"
   ]
  },
  {
   "cell_type": "markdown",
   "id": "a2aa422b",
   "metadata": {},
   "source": [
    "#### "
   ]
  },
  {
   "cell_type": "code",
   "execution_count": null,
   "id": "80a7b88e",
   "metadata": {},
   "outputs": [],
   "source": [
    "from collections import Counter\n",
    "np.random.seed(451)\n",
    "tokens = \"green egg egg ham ham ham spam spam spam spam\".split()\n",
    "bow = Counter(tokens)\n",
    "x = pd.Series(bow)\n",
    "x"
   ]
  },
  {
   "cell_type": "markdown",
   "id": "8d9e7bc3",
   "metadata": {},
   "source": [
    "#### "
   ]
  },
  {
   "cell_type": "code",
   "execution_count": null,
   "id": "d33d5f5b",
   "metadata": {},
   "outputs": [],
   "source": [
    "x1, x2, x3, x4 = x\n",
    "x1, x2, x3, x4"
   ]
  },
  {
   "cell_type": "markdown",
   "id": "9f67db46",
   "metadata": {},
   "source": [
    "#### "
   ]
  },
  {
   "cell_type": "code",
   "execution_count": null,
   "id": "716d2d1b",
   "metadata": {},
   "outputs": [],
   "source": [
    "w0 = np.round(.1 * np.random.randn(), 2)\n",
    "w0"
   ]
  },
  {
   "cell_type": "markdown",
   "id": "24f9b2a2",
   "metadata": {},
   "source": [
    "#### "
   ]
  },
  {
   "cell_type": "code",
   "execution_count": null,
   "id": "eff8eefd",
   "metadata": {},
   "outputs": [],
   "source": [
    "w1, w2, w3, w4 = (.1 * np.random.randn(len(x))).round(2)\n",
    "w1, w2, w3, w4"
   ]
  },
  {
   "cell_type": "markdown",
   "id": "ba6350d5",
   "metadata": {},
   "source": [
    "#### "
   ]
  },
  {
   "cell_type": "code",
   "execution_count": null,
   "id": "82a12680",
   "metadata": {},
   "outputs": [],
   "source": [
    "x = np.array([1, x1, x2, x3, x4])  # <1>\n",
    "w = np.array([w0, w1, w2, w3, w4])  # <2>\n",
    "y = np.sum(w * x)  # <3>\n",
    "y"
   ]
  },
  {
   "cell_type": "markdown",
   "id": "b5d93cf2",
   "metadata": {},
   "source": [
    "#### "
   ]
  },
  {
   "cell_type": "code",
   "execution_count": null,
   "id": "51c1e300",
   "metadata": {},
   "outputs": [],
   "source": [
    "threshold = 0.0\n",
    "y = int(y > threshold)"
   ]
  },
  {
   "cell_type": "markdown",
   "id": "0c99ec79",
   "metadata": {},
   "source": [
    "#### "
   ]
  },
  {
   "cell_type": "code",
   "execution_count": null,
   "id": "c381bebb",
   "metadata": {},
   "outputs": [],
   "source": [
    "y = logistic(x)"
   ]
  },
  {
   "cell_type": "markdown",
   "id": "0115ae8f",
   "metadata": {},
   "source": [
    "#### "
   ]
  },
  {
   "cell_type": "code",
   "execution_count": null,
   "id": "2166b673",
   "metadata": {},
   "outputs": [],
   "source": [
    "def neuron(x, w):\n",
    "   z = sum(wi * xi for xi, wi in zip(x, w))  # <1>\n",
    "   return z > 0  # <2>"
   ]
  },
  {
   "cell_type": "markdown",
   "id": "43d0badc",
   "metadata": {},
   "source": [
    "#### "
   ]
  },
  {
   "cell_type": "code",
   "execution_count": null,
   "id": "98073258",
   "metadata": {},
   "outputs": [],
   "source": [
    "def neuron(x, w):\n",
    "   z = np.array(wi).dot(w)\n",
    "   return z > 0"
   ]
  },
  {
   "cell_type": "markdown",
   "id": "03e699e8",
   "metadata": {},
   "source": [
    "#### "
   ]
  },
  {
   "cell_type": "code",
   "execution_count": null,
   "id": "96091eb0",
   "metadata": {},
   "outputs": [],
   "source": [
    "import pandas as pd\n",
    "import numpy as np\n",
    "pd.options.display.max_rows = 7"
   ]
  },
  {
   "cell_type": "markdown",
   "id": "7d1df723",
   "metadata": {},
   "source": [
    "#### "
   ]
  },
  {
   "cell_type": "code",
   "execution_count": null,
   "id": "d2e47ddb",
   "metadata": {},
   "outputs": [],
   "source": [
    "np.random.seed(451)\n",
    "df = pd.read_csv(  # <1>\n",
    "    'https://proai.org/baby-names-us.csv.gz')\n",
    "df.to_csv(  # <2>\n",
    "    'baby-names-us.csv.gz', compression='gzip')\n",
    "df = df.sample(10_000)  # <3>\n",
    "df.shape"
   ]
  },
  {
   "cell_type": "markdown",
   "id": "b0855436",
   "metadata": {},
   "source": [
    "#### "
   ]
  },
  {
   "cell_type": "code",
   "execution_count": null,
   "id": "9b455111",
   "metadata": {},
   "outputs": [],
   "source": [
    "df.groupby(['name', 'sex'])['count'].sum()[('Timothy',)]"
   ]
  },
  {
   "cell_type": "markdown",
   "id": "66450077",
   "metadata": {},
   "source": [
    "#### "
   ]
  },
  {
   "cell_type": "code",
   "execution_count": null,
   "id": "e76bdab4",
   "metadata": {},
   "outputs": [],
   "source": [
    "df = df.set_index(['name', 'sex'])\n",
    "groups = df.groupby(['name', 'sex'])"
   ]
  },
  {
   "cell_type": "markdown",
   "id": "308628ba",
   "metadata": {},
   "source": [
    "#### "
   ]
  },
  {
   "cell_type": "code",
   "execution_count": null,
   "id": "a926363e",
   "metadata": {},
   "outputs": [],
   "source": [
    "from sklearn.feature_extraction.text import TfidfVectorizer\n",
    "vectorizer = TfidfVectorizer(\n",
    "    use_idf=False,  # <1>\n",
    "    analyzer='char',\n",
    "    ngram_range=(1, 3)  # <2>\n",
    "    )\n",
    "vectorizer"
   ]
  },
  {
   "cell_type": "markdown",
   "id": "470a8650",
   "metadata": {},
   "source": [
    "#### "
   ]
  },
  {
   "cell_type": "code",
   "execution_count": null,
   "id": "299656e7",
   "metadata": {},
   "outputs": [],
   "source": [
    "df = pd.DataFrame([list(tup) for tup in counts.index.values],\n",
    "                  columns=['name', 'sex'])\n",
    "df['count'] = counts.values\n",
    "df"
   ]
  },
  {
   "cell_type": "markdown",
   "id": "7dc6d64f",
   "metadata": {},
   "source": [
    "#### "
   ]
  },
  {
   "cell_type": "code",
   "execution_count": null,
   "id": "fbc404a3",
   "metadata": {},
   "outputs": [],
   "source": [
    "df['istrain'] = np.random.rand(len(df)) < .9\n",
    "df"
   ]
  },
  {
   "cell_type": "markdown",
   "id": "6fd9bdf9",
   "metadata": {},
   "source": [
    "#### "
   ]
  },
  {
   "cell_type": "code",
   "execution_count": null,
   "id": "8c2dc47f",
   "metadata": {},
   "outputs": [],
   "source": [
    "df.index = pd.MultiIndex.from_tuples(\n",
    "    zip(df['name'], df['sex']), names=['name_', 'sex_'])\n",
    "df"
   ]
  },
  {
   "cell_type": "markdown",
   "id": "3bc6c605",
   "metadata": {},
   "source": [
    "#### "
   ]
  },
  {
   "cell_type": "code",
   "execution_count": null,
   "id": "71abac35",
   "metadata": {},
   "outputs": [],
   "source": [
    "df_most_common = {}  # <1>\n",
    "for name, group in df.groupby('name'):\n",
    "    row_dict = group.iloc[group['count'].argmax()].to_dict()  # <2>\n",
    "    df_most_common[(name, row_dict['sex'])] = row_dict\n",
    "df_most_common = pd.DataFrame(df_most_common).T  # <3>        "
   ]
  },
  {
   "cell_type": "markdown",
   "id": "52ad3106",
   "metadata": {},
   "source": [
    "#### "
   ]
  },
  {
   "cell_type": "code",
   "execution_count": null,
   "id": "b1713b00",
   "metadata": {},
   "outputs": [],
   "source": [
    "df_most_common['istest'] = ~df_most_common['istrain'].astype(bool)\n",
    "df_most_common"
   ]
  },
  {
   "cell_type": "markdown",
   "id": "b4a25e3f",
   "metadata": {},
   "source": [
    "#### "
   ]
  },
  {
   "cell_type": "code",
   "execution_count": null,
   "id": "6661a712",
   "metadata": {},
   "outputs": [],
   "source": [
    "df['istest'] = df_most_common['istest']\n",
    "df['istest'] = df['istest'].fillna(False)\n",
    "df['istrain'] = ~df['istest']\n",
    "istrain = df['istrain']\n",
    "df['istrain'].sum() / len(df)"
   ]
  },
  {
   "cell_type": "markdown",
   "id": "0cc75f73",
   "metadata": {},
   "source": [
    "#### "
   ]
  },
  {
   "cell_type": "code",
   "execution_count": null,
   "id": "17a9d24c",
   "metadata": {},
   "outputs": [],
   "source": [
    "df['istest'].sum() / len(df)"
   ]
  },
  {
   "cell_type": "markdown",
   "id": "f96fd6ea",
   "metadata": {},
   "source": [
    "#### "
   ]
  },
  {
   "cell_type": "code",
   "execution_count": null,
   "id": "412d7244",
   "metadata": {},
   "outputs": [],
   "source": [
    "(df['istrain'].sum() + df['istest'].sum()) / len(df)"
   ]
  },
  {
   "cell_type": "markdown",
   "id": "f29a67a5",
   "metadata": {},
   "source": [
    "#### "
   ]
  },
  {
   "cell_type": "code",
   "execution_count": null,
   "id": "ec2a8a17",
   "metadata": {},
   "outputs": [],
   "source": [
    "unique_names = df['name'][istrain].unique()\n",
    "unique_names = df['name'][istrain].unique()\n",
    "vectorizer.fit(unique_names)\n",
    "vecs = vectorizer.transform(df['name'])\n",
    "vecs"
   ]
  },
  {
   "cell_type": "markdown",
   "id": "fca6edf3",
   "metadata": {},
   "source": [
    "#### "
   ]
  },
  {
   "cell_type": "code",
   "execution_count": null,
   "id": "b98152be",
   "metadata": {},
   "outputs": [],
   "source": [
    "vectorizer = TfidfVectorizer(analyzer='char',\n",
    "   ngram_range=(1, 3), use_idf=False, lowercase=False)\n",
    "vectorizer = vectorizer.fit(unique_names)\n",
    "vecs = vectorizer.transform(df['name'])\n",
    "vecs = pd.DataFrame(vecs.toarray())\n",
    "vecs.columns = vectorizer.get_feature_names_out()\n",
    "vecs.index = df.index\n",
    "vecs.iloc[:,:5]"
   ]
  },
  {
   "cell_type": "markdown",
   "id": "c675f54c",
   "metadata": {},
   "source": [
    "#### "
   ]
  },
  {
   "cell_type": "code",
   "execution_count": null,
   "id": "bf99c8f9",
   "metadata": {},
   "outputs": [],
   "source": [
    "import pandas as pd\n",
    "import re\n",
    "dfs = pd.read_html('https://en.wikipedia.org/wiki/'\n",
    "    + 'Comparison_of_deep-learning_software')\n",
    "tabl = dfs[0]"
   ]
  },
  {
   "cell_type": "markdown",
   "id": "471238c1",
   "metadata": {},
   "source": [
    "#### "
   ]
  },
  {
   "cell_type": "code",
   "execution_count": null,
   "id": "8dd968b9",
   "metadata": {},
   "outputs": [],
   "source": [
    "bincols = list(tabl.loc[:, 'OpenMP support':].columns)\n",
    "bincols += ['Open source', 'Platform', 'Interface']"
   ]
  },
  {
   "cell_type": "markdown",
   "id": "7747b038",
   "metadata": {},
   "source": [
    "#### "
   ]
  },
  {
   "cell_type": "code",
   "execution_count": null,
   "id": "bd9a1b36",
   "metadata": {},
   "outputs": [],
   "source": [
    "tabl = pd.DataFrame(dfd).T\n",
    "scores = tabl[bincols].T.sum()  # <1>\n",
    "tabl['Portability'] = scores\n",
    "tabl = tabl.sort_values('Portability', ascending=False)\n",
    "tabl = tabl.reset_index()\n",
    "tabl[['Software', 'Portability']][:10]"
   ]
  },
  {
   "cell_type": "markdown",
   "id": "56b79ce8",
   "metadata": {},
   "source": [
    "#### "
   ]
  },
  {
   "cell_type": "code",
   "execution_count": null,
   "id": "968941d9",
   "metadata": {},
   "outputs": [],
   "source": [
    "loss_func_train = torch.nn.BCELoss(\n",
    "    weight=torch.Tensor(df[['count']][istrain].values))\n",
    "loss_func_test = torch.nn.BCELoss(  # <1>\n",
    "    weight=torch.Tensor(df[['count']][~istrain].values))\n",
    "loss_func_train"
   ]
  },
  {
   "cell_type": "markdown",
   "id": "f1fc36f8",
   "metadata": {},
   "source": [
    "#### "
   ]
  },
  {
   "cell_type": "code",
   "execution_count": null,
   "id": "a4d98296",
   "metadata": {},
   "outputs": [],
   "source": [
    "from torch.optim import SGD\n",
    "hyperparams = {'momentum': 0.001, 'lr': 0.02}  # <1>\n",
    "optimizer = SGD(\n",
    "    model.parameters(), **hyperparams)  # <2>\n",
    "optimizer"
   ]
  },
  {
   "cell_type": "markdown",
   "id": "e3533ba2",
   "metadata": {},
   "source": [
    "#### "
   ]
  },
  {
   "cell_type": "code",
   "execution_count": null,
   "id": "0ed211a8",
   "metadata": {},
   "outputs": [],
   "source": [
    "X = vecs.values\n",
    "y = (df[['sex']] == 'F').values\n",
    "X_train = torch.Tensor(X[istrain])\n",
    "X_test = torch.Tensor(X[~istrain])\n",
    "y_train = torch.Tensor(y[istrain])\n",
    "y_test = torch.Tensor(y[~istrain])"
   ]
  },
  {
   "cell_type": "markdown",
   "id": "64491216",
   "metadata": {},
   "source": [
    "#### "
   ]
  },
  {
   "cell_type": "code",
   "execution_count": null,
   "id": "fec0204c",
   "metadata": {},
   "outputs": [],
   "source": [
    "from tqdm import tqdm"
   ]
  },
  {
   "cell_type": "markdown",
   "id": "bd033ff7",
   "metadata": {},
   "source": [
    "#### "
   ]
  },
  {
   "cell_type": "code",
   "execution_count": null,
   "id": "881dcff8",
   "metadata": {},
   "outputs": [],
   "source": [
    "def make_array(x):\n",
    "    if hasattr(x, 'detach'):\n",
    "        return torch.squeeze(x).detach().numpy()\n",
    "    return x"
   ]
  },
  {
   "cell_type": "markdown",
   "id": "e92fb13e",
   "metadata": {},
   "source": [
    "#### "
   ]
  },
  {
   "cell_type": "code",
   "execution_count": null,
   "id": "a2870d4b",
   "metadata": {},
   "outputs": [],
   "source": [
    "def measure_binary_accuracy(y_pred, y):\n",
    "    y_pred = make_array(y_pred).round()\n",
    "    y = make_array(y).round()\n",
    "    num_correct = (y_pred == y).sum()\n",
    "    return num_correct / len(y)"
   ]
  },
  {
   "cell_type": "markdown",
   "id": "3547c920",
   "metadata": {},
   "source": [
    "#### "
   ]
  },
  {
   "cell_type": "code",
   "execution_count": null,
   "id": "c2dccd92",
   "metadata": {},
   "outputs": [],
   "source": [
    "X = vectorizer.transform(\n",
    "    ['John', 'Greg', 'Vishvesh',  # <1>\n",
    "model(torch.Tensor(X.todense()))"
   ]
  }
 ],
 "metadata": {},
 "nbformat": 4,
 "nbformat_minor": 5
}
