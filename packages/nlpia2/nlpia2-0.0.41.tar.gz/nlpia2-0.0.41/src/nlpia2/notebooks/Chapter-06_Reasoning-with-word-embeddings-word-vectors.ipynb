{
 "cells": [
  {
   "cell_type": "markdown",
   "id": "d753f4e8",
   "metadata": {},
   "source": [
    "#### [`Chapter-06_Reasoning-with-word-embeddings-word-vectors`](/home/hobs/code/hobs/nlpia-manuscript/manuscript/adoc/Chapter-06_Reasoning-with-word-embeddings-word-vectors.adoc)"
   ]
  },
  {
   "cell_type": "markdown",
   "id": "54d6aea4",
   "metadata": {},
   "source": [
    "#### "
   ]
  },
  {
   "cell_type": "code",
   "execution_count": null,
   "id": "e564567d",
   "metadata": {},
   "outputs": [],
   "source": [
    "from nessvec.indexers import Index  # <1>\n",
    "index = Index(num_vecs=100_000)  # <2>\n",
    "index.get_nearest(\"Engineer\").round(2)"
   ]
  },
  {
   "cell_type": "markdown",
   "id": "09cc0c0c",
   "metadata": {},
   "source": [
    "#### "
   ]
  },
  {
   "cell_type": "code",
   "execution_count": null,
   "id": "efd87c44",
   "metadata": {},
   "outputs": [],
   "source": [
    "index.get_nearest(\"Programmer\").round(2)"
   ]
  },
  {
   "cell_type": "markdown",
   "id": "653ea6ff",
   "metadata": {},
   "source": [
    "#### "
   ]
  },
  {
   "cell_type": "code",
   "execution_count": null,
   "id": "2f5437b9",
   "metadata": {},
   "outputs": [],
   "source": [
    "index.get_nearest(\"Developer\").round(2)"
   ]
  },
  {
   "cell_type": "markdown",
   "id": "2b829c68",
   "metadata": {},
   "source": [
    "#### "
   ]
  },
  {
   "cell_type": "code",
   "execution_count": null,
   "id": "af84be19",
   "metadata": {},
   "outputs": [],
   "source": [
    "\"Chief\" + \"Engineer\""
   ]
  },
  {
   "cell_type": "markdown",
   "id": "cf0f405f",
   "metadata": {},
   "source": [
    "#### "
   ]
  },
  {
   "cell_type": "code",
   "execution_count": null,
   "id": "4fbe06d7",
   "metadata": {},
   "outputs": [],
   "source": [
    "\"Chief\" + \" \" + \"Engineer\""
   ]
  },
  {
   "cell_type": "markdown",
   "id": "e4a038f6",
   "metadata": {},
   "source": [
    "#### "
   ]
  },
  {
   "cell_type": "code",
   "execution_count": null,
   "id": "24a1a7e8",
   "metadata": {},
   "outputs": [],
   "source": [
    "chief = (index.data[index.vocab[\"Chief\"]]\n",
    "    + index.data[index.vocab[\"Engineer\"]])\n",
    "index.get_nearest(chief)"
   ]
  },
  {
   "cell_type": "markdown",
   "id": "1f47b761",
   "metadata": {},
   "source": [
    "#### "
   ]
  },
  {
   "cell_type": "code",
   "execution_count": null,
   "id": "f60cf483",
   "metadata": {},
   "outputs": [],
   "source": [
    "answer_vector = wv['woman'] + wv['Europe'] + wv['physics'] +\n",
    "    wv['scientist']"
   ]
  },
  {
   "cell_type": "markdown",
   "id": "c5dde93a",
   "metadata": {},
   "source": [
    "#### "
   ]
  },
  {
   "cell_type": "code",
   "execution_count": null,
   "id": "427ff9a8",
   "metadata": {},
   "outputs": [],
   "source": [
    "answer_vector = wv['woman'] + wv['Europe'] + wv['physics'] +\\\n",
    "    wv['scientist'] - wv['male'] - 2 * wv['man']"
   ]
  },
  {
   "cell_type": "markdown",
   "id": "8030c307",
   "metadata": {},
   "source": [
    "#### "
   ]
  },
  {
   "cell_type": "code",
   "execution_count": null,
   "id": "7811db62",
   "metadata": {},
   "outputs": [],
   "source": [
    "answer_vector = wv['Louis_Pasteur'] - wv['germs'] + wv['physics']"
   ]
  },
  {
   "cell_type": "markdown",
   "id": "fc4b0ea5",
   "metadata": {},
   "source": [
    "#### "
   ]
  },
  {
   "cell_type": "code",
   "execution_count": null,
   "id": "7b3d7786",
   "metadata": {},
   "outputs": [],
   "source": [
    "wv['Marie_Curie'] - wv['science'] + wv['music']"
   ]
  },
  {
   "cell_type": "markdown",
   "id": "637a1e63",
   "metadata": {},
   "source": [
    "#### .Compute nessvector"
   ]
  },
  {
   "cell_type": "code",
   "execution_count": null,
   "id": "54d3b917",
   "metadata": {},
   "outputs": [],
   "source": [
    "from nessvec.examples.ch06.nessvectors import *  # <1>\n",
    "nessvector('Marie_Curie').round(2)"
   ]
  },
  {
   "cell_type": "markdown",
   "id": "389f725a",
   "metadata": {},
   "source": [
    "#### "
   ]
  },
  {
   "cell_type": "code",
   "execution_count": null,
   "id": "4e53f9a1",
   "metadata": {},
   "outputs": [],
   "source": [
    "import torchtext\n",
    "dsets = torchtext.datasets.WikiText2()\n",
    "num_texts = 10000\n",
    "filepath = DATA_DIR / f'WikiText2-{num_texts}.txt'\n",
    "with open(filepath, 'wt') as fout:\n",
    "    fout.writelines(list(dsets[0])[:num_texts])"
   ]
  },
  {
   "cell_type": "markdown",
   "id": "0b59d655",
   "metadata": {},
   "source": [
    "#### "
   ]
  },
  {
   "cell_type": "code",
   "execution_count": null,
   "id": "01a42bb7",
   "metadata": {},
   "outputs": [],
   "source": [
    "!tail -n 3 ~/nessvec-data/WikiText2-10000.txt\n",
    "import datasets\n",
    "dset = datasets.load_dataset('text', data_files=str(filepath))\n",
    "dset"
   ]
  },
  {
   "cell_type": "markdown",
   "id": "ee8f5dd0",
   "metadata": {},
   "source": [
    "#### "
   ]
  },
  {
   "cell_type": "code",
   "execution_count": null,
   "id": "43388e4f",
   "metadata": {},
   "outputs": [],
   "source": [
    "dset = dset.map(tokenize_row)\n",
    "dset\n",
    "vocab = list(set(\n",
    "    [tok for row in dset['train']['tokens'] for tok in row]))\n",
    "vocab[:4]"
   ]
  },
  {
   "cell_type": "markdown",
   "id": "79cfa5b5",
   "metadata": {},
   "source": [
    "#### "
   ]
  },
  {
   "cell_type": "code",
   "execution_count": null,
   "id": "5b8813bd",
   "metadata": {},
   "outputs": [],
   "source": [
    "id2tok = dict(enumerate(vocab))\n",
    "list(id2tok.items())[:4]"
   ]
  },
  {
   "cell_type": "markdown",
   "id": "eb6994b8",
   "metadata": {},
   "source": [
    "#### "
   ]
  },
  {
   "cell_type": "code",
   "execution_count": null,
   "id": "dfe48610",
   "metadata": {},
   "outputs": [],
   "source": [
    "tok2id = {tok: i for (i, tok) in id2tok.items()}\n",
    "list(tok2id.items())[:4]"
   ]
  },
  {
   "cell_type": "markdown",
   "id": "daff701d",
   "metadata": {},
   "source": [
    "#### "
   ]
  },
  {
   "cell_type": "code",
   "execution_count": null,
   "id": "d1f6517e",
   "metadata": {},
   "outputs": [],
   "source": [
    "def windowizer(row, wsize=WINDOW_WIDTH):"
   ]
  },
  {
   "cell_type": "markdown",
   "id": "751ac1cf",
   "metadata": {},
   "source": [
    "#### "
   ]
  },
  {
   "cell_type": "code",
   "execution_count": null,
   "id": "cf6b0508",
   "metadata": {},
   "outputs": [],
   "source": [
    "def skip_grams(tokens, window_width=WINDOW_WIDTH):\n",
    "   pairs = []\n",
    "   for i, wd in enumerate(tokens):\n",
    "       target = tok2id[wd]\n",
    "       window = [\n",
    "           i + j for j in\n",
    "           range(-window_width, window_width + 1, 1)\n",
    "           if (i + j >= 0)\n",
    "           & (i + j < len(tokens))\n",
    "           & (j != 0)\n",
    "       ]\n",
    "from torch.utils.data import Dataset\n",
    "class Word2VecDataset(Dataset):\n",
    "   def __init__(self, dataset, vocab_size, wsize=WINDOW_WIDTH):\n",
    "       self.dataset = dataset\n",
    "       self.vocab_size = vocab_size\n",
    "       self.data = [i for s in dataset['moving_window'] for i in s]\n",
    "\n",
    "   def __len__(self):\n",
    "       return len(self.data)\n",
    "\n",
    "   def __getitem__(self, idx):\n",
    "       return self.data[idx]"
   ]
  },
  {
   "cell_type": "markdown",
   "id": "892fb8e0",
   "metadata": {},
   "source": [
    "#### "
   ]
  },
  {
   "cell_type": "code",
   "execution_count": null,
   "id": "549b6d84",
   "metadata": {},
   "outputs": [],
   "source": [
    "model = Word2Vec()\n",
    "model\n",
    "import torch\n",
    "if torch.cuda.is_available():\n",
    "    device = torch.device('cuda')\n",
    "else:\n",
    "    device = torch.device('cpu')\n",
    "device\n",
    "model.to(device)"
   ]
  },
  {
   "cell_type": "markdown",
   "id": "3efc9530",
   "metadata": {},
   "source": [
    "#### "
   ]
  },
  {
   "cell_type": "code",
   "execution_count": null,
   "id": "72d4c5ec",
   "metadata": {},
   "outputs": [],
   "source": [
    "from tqdm import tqdm  # noqa\n",
    "EPOCHS = 10\n",
    "LEARNING_RATE = 5e-4"
   ]
  },
  {
   "cell_type": "markdown",
   "id": "8cee2a96",
   "metadata": {},
   "source": [
    "#### "
   ]
  },
  {
   "cell_type": "code",
   "execution_count": null,
   "id": "4e3733d1",
   "metadata": {},
   "outputs": [],
   "source": [
    "from gensim.models.keyedvectors import KeyedVectors\n",
    "from nlpia.loaders import get_data\n",
    "word_vectors = get_data('w2v', limit=200000)  # <1>"
   ]
  },
  {
   "cell_type": "markdown",
   "id": "250876c1",
   "metadata": {},
   "source": [
    "#### "
   ]
  },
  {
   "cell_type": "code",
   "execution_count": null,
   "id": "a3672b6a",
   "metadata": {},
   "outputs": [],
   "source": [
    "word_vectors.most_similar(positive=['cooking', 'potatoes'], topn=5)"
   ]
  },
  {
   "cell_type": "markdown",
   "id": "60456917",
   "metadata": {},
   "source": [
    "#### "
   ]
  },
  {
   "cell_type": "code",
   "execution_count": null,
   "id": "17969ae4",
   "metadata": {},
   "outputs": [],
   "source": [
    "word_vectors.most_similar(positive=['germany', 'france'], topn=1)"
   ]
  },
  {
   "cell_type": "markdown",
   "id": "8a53725b",
   "metadata": {},
   "source": [
    "#### "
   ]
  },
  {
   "cell_type": "code",
   "execution_count": null,
   "id": "e71b84f2",
   "metadata": {},
   "outputs": [],
   "source": [
    "word_vectors.doesnt_match(\"potatoes milk cake computer\".split())"
   ]
  },
  {
   "cell_type": "markdown",
   "id": "433e8454",
   "metadata": {},
   "source": [
    "#### "
   ]
  },
  {
   "cell_type": "code",
   "execution_count": null,
   "id": "3b08bd1e",
   "metadata": {},
   "outputs": [],
   "source": [
    "word_vectors.most_similar(positive=['king', 'woman'],\n",
    "    negative=['man'], topn=2)"
   ]
  },
  {
   "cell_type": "markdown",
   "id": "bd34d67d",
   "metadata": {},
   "source": [
    "#### "
   ]
  },
  {
   "cell_type": "code",
   "execution_count": null,
   "id": "ec8882b9",
   "metadata": {},
   "outputs": [],
   "source": [
    "word_vectors.similarity('princess', 'queen')"
   ]
  },
  {
   "cell_type": "markdown",
   "id": "4abfb4e4",
   "metadata": {},
   "source": [
    "#### "
   ]
  },
  {
   "cell_type": "code",
   "execution_count": null,
   "id": "fbd37c56",
   "metadata": {},
   "outputs": [],
   "source": [
    "token_list"
   ]
  },
  {
   "cell_type": "markdown",
   "id": "e4a71430",
   "metadata": {},
   "source": [
    "#### "
   ]
  },
  {
   "cell_type": "code",
   "execution_count": null,
   "id": "602ce0d2",
   "metadata": {},
   "outputs": [],
   "source": [
    "from gensim.models.word2vec import Word2Vec"
   ]
  },
  {
   "cell_type": "markdown",
   "id": "0cb640eb",
   "metadata": {},
   "source": [
    "#### "
   ]
  },
  {
   "cell_type": "code",
   "execution_count": null,
   "id": "e62911fb",
   "metadata": {},
   "outputs": [],
   "source": [
    "num_features = 300  # <1>\n",
    "min_word_count = 3  # <2>\n",
    "num_workers = 2  # <3>\n",
    "window_size = 6  # <4>\n",
    "subsampling = 1e-3  # <5>"
   ]
  },
  {
   "cell_type": "markdown",
   "id": "8f68896d",
   "metadata": {},
   "source": [
    "#### "
   ]
  },
  {
   "cell_type": "code",
   "execution_count": null,
   "id": "7ca7db51",
   "metadata": {},
   "outputs": [],
   "source": [
    "model = Word2Vec(\n",
    "    token_list,\n",
    "    workers=num_workers,\n",
    "    size=num_features,\n",
    "    min_count=min_word_count,\n",
    "    window=window_size,\n",
    "    sample=subsampling)"
   ]
  },
  {
   "cell_type": "markdown",
   "id": "9f103d63",
   "metadata": {},
   "source": [
    "#### "
   ]
  },
  {
   "cell_type": "code",
   "execution_count": null,
   "id": "affb93a6",
   "metadata": {},
   "outputs": [],
   "source": [
    "model.init_sims(replace=True)"
   ]
  },
  {
   "cell_type": "markdown",
   "id": "6f39b146",
   "metadata": {},
   "source": [
    "#### "
   ]
  },
  {
   "cell_type": "code",
   "execution_count": null,
   "id": "d29c582f",
   "metadata": {},
   "outputs": [],
   "source": [
    "model_name = \"my_domain_specific_word2vec_model\"\n",
    "model.save(model_name)"
   ]
  },
  {
   "cell_type": "markdown",
   "id": "75fac1f7",
   "metadata": {},
   "source": [
    "#### "
   ]
  },
  {
   "cell_type": "code",
   "execution_count": null,
   "id": "45d22062",
   "metadata": {},
   "outputs": [],
   "source": [
    "from gensim.models.word2vec import Word2Vec\n",
    "model_name = \"my_domain_specific_word2vec_model\"\n",
    "model = Word2Vec.load(model_name)\n",
    "model.most_similar('radiology')"
   ]
  },
  {
   "cell_type": "markdown",
   "id": "ee1a0824",
   "metadata": {},
   "source": [
    "#### "
   ]
  },
  {
   "cell_type": "code",
   "execution_count": null,
   "id": "3222ad8e",
   "metadata": {},
   "outputs": [],
   "source": [
    "import spacy\n",
    "nlp = spacy.load(\"en_core_web_sm\")\n",
    "text = \"This is an example sentence.\"\n",
    "doc = nlp(text)\n",
    "for token in doc:\n",
    "   print(token.text, token.vector)"
   ]
  },
  {
   "cell_type": "markdown",
   "id": "d8139989",
   "metadata": {},
   "source": [
    "#### "
   ]
  },
  {
   "cell_type": "code",
   "execution_count": null,
   "id": "c7336356",
   "metadata": {},
   "outputs": [],
   "source": [
    "from nessvec.files import load_fasttext\n",
    "df = load_fasttext()  # <1>\n",
    "df.head().round(2)"
   ]
  },
  {
   "cell_type": "markdown",
   "id": "f132ecf2",
   "metadata": {},
   "source": [
    "#### "
   ]
  },
  {
   "cell_type": "code",
   "execution_count": null,
   "id": "e785f793",
   "metadata": {},
   "outputs": [],
   "source": [
    "df.loc['prosocial']  # <2>"
   ]
  },
  {
   "cell_type": "markdown",
   "id": "d5efed64",
   "metadata": {},
   "source": [
    "#### .Examine word2vec vocabulary frequencies"
   ]
  },
  {
   "cell_type": "code",
   "execution_count": null,
   "id": "ef6618a7",
   "metadata": {},
   "outputs": [],
   "source": [
    "import pandas as pd\n",
    "vocab = pd.Series(wv.vocab)\n",
    "vocab.iloc[1000000:100006]"
   ]
  },
  {
   "cell_type": "markdown",
   "id": "8248adff",
   "metadata": {},
   "source": [
    "#### .Examine word2vec vocabulary frequencies"
   ]
  },
  {
   "cell_type": "code",
   "execution_count": null,
   "id": "19ddea22",
   "metadata": {},
   "outputs": [],
   "source": [
    "wv['Illini']"
   ]
  },
  {
   "cell_type": "markdown",
   "id": "385678a1",
   "metadata": {},
   "source": [
    "#### .Examine word2vec vocabulary frequencies"
   ]
  },
  {
   "cell_type": "code",
   "execution_count": null,
   "id": "c03ea0f1",
   "metadata": {},
   "outputs": [],
   "source": [
    "import numpy as np\n",
    "np.linalg.norm(wv['Illinois'] - wv['Illini'])  # <1>"
   ]
  },
  {
   "cell_type": "markdown",
   "id": "727feabf",
   "metadata": {},
   "source": [
    "#### .Examine word2vec vocabulary frequencies"
   ]
  },
  {
   "cell_type": "code",
   "execution_count": null,
   "id": "fe047b77",
   "metadata": {},
   "outputs": [],
   "source": [
    "cos_similarity = np.dot(wv['Illinois'], wv['Illini']) / (\n",
    "    np.linalg.norm(wv['Illinois']) *\\\n",
    "    np.linalg.norm(wv['Illini']))  # <2>\n",
    "cos_similarity"
   ]
  },
  {
   "cell_type": "markdown",
   "id": "29f0f054",
   "metadata": {},
   "source": [
    "#### .Examine word2vec vocabulary frequencies"
   ]
  },
  {
   "cell_type": "code",
   "execution_count": null,
   "id": "86724ca0",
   "metadata": {},
   "outputs": [],
   "source": [
    "1 - cos_similarity # <3>"
   ]
  },
  {
   "cell_type": "markdown",
   "id": "e15c2cba",
   "metadata": {},
   "source": [
    "#### .Examine word2vec vocabulary frequencies"
   ]
  },
  {
   "cell_type": "code",
   "execution_count": null,
   "id": "e9e99f79",
   "metadata": {},
   "outputs": [],
   "source": [
    "from nlpia.data.loaders import get_data\n",
    "cities = get_data('cities')\n",
    "cities.head(1).T"
   ]
  },
  {
   "cell_type": "markdown",
   "id": "27894d64",
   "metadata": {},
   "source": [
    "#### .Some US state data"
   ]
  },
  {
   "cell_type": "code",
   "execution_count": null,
   "id": "10a99074",
   "metadata": {},
   "outputs": [],
   "source": [
    "us = cities[(cities.country_code == 'US') &\\\n",
    "    (cities.admin1_code.notnull())].copy()\n",
    "states = pd.read_csv(\\\n",
    "    'http://www.fonz.net/blog/wp-content/uploads/2008/04/states.csv')\n",
    "states = dict(zip(states.Abbreviation, states.State))\n",
    "us['city'] = us.name.copy()\n",
    "us['st'] = us.admin1_code.copy()\n",
    "us['state'] = us.st.map(states)\n",
    "us[us.columns[-3:]].head()"
   ]
  },
  {
   "cell_type": "markdown",
   "id": "03623aee",
   "metadata": {},
   "source": [
    "#### .Some US state data"
   ]
  },
  {
   "cell_type": "code",
   "execution_count": null,
   "id": "b06e0750",
   "metadata": {},
   "outputs": [],
   "source": [
    "vocab = pd.np.concatenate([us.city, us.st, us.state])\n",
    "vocab = np.array([word for word in vocab if word in wv.wv])\n",
    "vocab[:10]"
   ]
  },
  {
   "cell_type": "markdown",
   "id": "da5c6de3",
   "metadata": {},
   "source": [
    "#### .Some US state data"
   ]
  },
  {
   "cell_type": "code",
   "execution_count": null,
   "id": "5be6102a",
   "metadata": {},
   "outputs": [],
   "source": [
    "city_plus_state = []\n",
    "for c, state, st in zip(us.city, us.state, us.st):\n",
    "    if c not in vocab:\n",
    "        continue\n",
    "    row = []\n",
    "    if state in vocab:\n",
    "        row.extend(wv[c] + wv[state])\n",
    "    else:\n",
    "        row.extend(wv[c] + wv[st])\n",
    "    city_plus_state.append(row)\n",
    "us_300D = pd.DataFrame(city_plus_state)"
   ]
  },
  {
   "cell_type": "markdown",
   "id": "02bc1647",
   "metadata": {},
   "source": [
    "#### "
   ]
  },
  {
   "cell_type": "code",
   "execution_count": null,
   "id": "9bed9766",
   "metadata": {},
   "outputs": [],
   "source": [
    "word_model.distance('man', 'nurse')"
   ]
  },
  {
   "cell_type": "markdown",
   "id": "828c481c",
   "metadata": {},
   "source": [
    "#### "
   ]
  },
  {
   "cell_type": "code",
   "execution_count": null,
   "id": "951b5f26",
   "metadata": {},
   "outputs": [],
   "source": [
    "word_model.distance('woman', 'nurse')"
   ]
  },
  {
   "cell_type": "markdown",
   "id": "aae5576e",
   "metadata": {},
   "source": [
    "#### "
   ]
  },
  {
   "cell_type": "code",
   "execution_count": null,
   "id": "eaba8c40",
   "metadata": {},
   "outputs": [],
   "source": [
    "from sklearn.decomposition import PCA\n",
    "pca = PCA(n_components=2)  # <1>\n",
    "us_300D = get_data('cities_us_wordvectors')\n",
    "us_2D = pca.fit_transform(us_300D.iloc[:, :300])  # <2>"
   ]
  },
  {
   "cell_type": "markdown",
   "id": "5f7334b1",
   "metadata": {},
   "source": [
    "#### "
   ]
  },
  {
   "cell_type": "code",
   "execution_count": null,
   "id": "7ae38a16",
   "metadata": {},
   "outputs": [],
   "source": [
    "import seaborn\n",
    "from matplotlib import pyplot as plt\n",
    "from nlpia.plots import offline_plotly_scatter_bubble\n",
    "df = get_data('cities_us_wordvectors_pca2_meta')\n",
    "html = offline_plotly_scatter_bubble(\n",
    "    df.sort_values('population', ascending=False)[:350].copy()\\\n",
    "        .sort_values('population'),\n",
    "    filename='plotly_scatter_bubble.html',"
   ]
  },
  {
   "cell_type": "markdown",
   "id": "380b723b",
   "metadata": {},
   "source": [
    "#### "
   ]
  },
  {
   "cell_type": "code",
   "execution_count": null,
   "id": "c213fc82",
   "metadata": {},
   "outputs": [],
   "source": [
    "import requests\n",
    "repo = 'https://gitlab.com/tangibleai/nlpia2/-/raw/main'\n",
    "name = 'Chapter-06_Reasoning-with-word-embeddings-word-vectors.adoc'\n",
    "url = f'{repo}/src/nlpia2/data/{name}'\n",
    "adoc_text = requests.get(url)"
   ]
  },
  {
   "cell_type": "markdown",
   "id": "5a9daa0a",
   "metadata": {},
   "source": [
    "#### "
   ]
  },
  {
   "cell_type": "code",
   "execution_count": null,
   "id": "d6bdb4f3",
   "metadata": {},
   "outputs": [],
   "source": [
    "from pathlib import Path\n",
    "path = Path.cwd() / name\n",
    "with path.open('w') as fout:\n",
    "    fout.write(adoc_text)"
   ]
  },
  {
   "cell_type": "markdown",
   "id": "53ee112d",
   "metadata": {},
   "source": [
    "#### "
   ]
  },
  {
   "cell_type": "code",
   "execution_count": null,
   "id": "7fff3c75",
   "metadata": {},
   "outputs": [],
   "source": [
    "import subprocess\n",
    "subprocess.run(args=[   # <1>\n",
    "    'asciidoc3', '-a', '-n', '-a', 'icons', path.name])"
   ]
  },
  {
   "cell_type": "markdown",
   "id": "534a0689",
   "metadata": {},
   "source": [
    "#### "
   ]
  },
  {
   "cell_type": "code",
   "execution_count": null,
   "id": "4e04c5a8",
   "metadata": {},
   "outputs": [],
   "source": [
    "if os.path.exists(chapt6_html) and os.path.getsize(chapt6_html) > 0:\n",
    "    chapter6_html = open(chapt6_html, 'r').read()\n",
    "    bsoup = BeautifulSoup(chapter6_html, 'html.parser')\n",
    "    text = bsoup.get_text()  # <1>"
   ]
  },
  {
   "cell_type": "markdown",
   "id": "315c6303",
   "metadata": {},
   "source": [
    "#### "
   ]
  },
  {
   "cell_type": "code",
   "execution_count": null,
   "id": "b4184371",
   "metadata": {},
   "outputs": [],
   "source": [
    "import spacy\n",
    "nlp = spacy.load('en_core_web_md')"
   ]
  },
  {
   "cell_type": "markdown",
   "id": "42b09869",
   "metadata": {},
   "source": [
    "#### "
   ]
  },
  {
   "cell_type": "code",
   "execution_count": null,
   "id": "ecbfe1c7",
   "metadata": {},
   "outputs": [],
   "source": [
    "import numpy as np\n",
    "vector = np.array([1, 2, 3, 4])  # <1>\n",
    "np.sqrt(sum(vector**2)) "
   ]
  },
  {
   "cell_type": "markdown",
   "id": "7028df69",
   "metadata": {},
   "source": [
    "#### "
   ]
  },
  {
   "cell_type": "code",
   "execution_count": null,
   "id": "77005fac",
   "metadata": {},
   "outputs": [],
   "source": [
    "np.linalg.norm(vector)  # <2>"
   ]
  },
  {
   "cell_type": "markdown",
   "id": "2b8df5a2",
   "metadata": {},
   "source": [
    "#### "
   ]
  },
  {
   "cell_type": "code",
   "execution_count": null,
   "id": "8d07a710",
   "metadata": {},
   "outputs": [],
   "source": [
    "import numpy as np\n",
    "for i, sent_vec in enumerate(sent_vecs):\n",
    "    sent_vecs[i] = sent_vec / np.linalg.norm(sent_vec)"
   ]
  },
  {
   "cell_type": "markdown",
   "id": "7791794e",
   "metadata": {},
   "source": [
    "#### "
   ]
  },
  {
   "cell_type": "code",
   "execution_count": null,
   "id": "8ac0d264",
   "metadata": {},
   "outputs": [],
   "source": [
    "np_array_sent_vecs_norm = np.array(sent_vecs)\n",
    "similarity_matrix = np_array_sent_vecs_norm.dot(\n",
    "    np_array_sent_vecs_norm.T)  # <1>"
   ]
  },
  {
   "cell_type": "markdown",
   "id": "a56d9470",
   "metadata": {},
   "source": [
    "#### "
   ]
  },
  {
   "cell_type": "code",
   "execution_count": null,
   "id": "0c3edeba",
   "metadata": {},
   "outputs": [],
   "source": [
    "import re\n",
    "import networkx as nx\n",
    "similarity_matrix = np.triu(similarity_matrix, k=1)  # <1>\n",
    "iterator = np.nditer(similarity_matrix,\n",
    "    flags=['multi_index'], order='C')\n",
    "node_labels = dict()\n",
    "G = nx.Graph()\n",
    "pattern = re.compile(\n",
    "   r'[\\w\\s]*[\\'\\\"]?[\\w\\s]+\\-?[\\w\\s]*[\\'\\\"]?[\\w\\s]*'\n",
    "   )  # <2>"
   ]
  },
  {
   "cell_type": "markdown",
   "id": "8360faf1",
   "metadata": {},
   "source": [
    "#### .Plot an undirected graph"
   ]
  },
  {
   "cell_type": "code",
   "execution_count": null,
   "id": "5f0fb7ff",
   "metadata": {},
   "outputs": [],
   "source": [
    "import matplotlib.pyplot as plt\n",
    "plt.subplot(1, 1, 1)  # <1>\n",
    "pos = nx.spring_layout(G, k=0.15, seed=42)  # <2>\n",
    "nx.draw_networkx(G,\n",
    "   pos=pos,  # <3>\n",
    "   with_labels=True,\n",
    "   labels=node_labels,\n",
    "   font_weight='bold')\n",
    "plt.show()"
   ]
  }
 ],
 "metadata": {},
 "nbformat": 4,
 "nbformat_minor": 5
}
