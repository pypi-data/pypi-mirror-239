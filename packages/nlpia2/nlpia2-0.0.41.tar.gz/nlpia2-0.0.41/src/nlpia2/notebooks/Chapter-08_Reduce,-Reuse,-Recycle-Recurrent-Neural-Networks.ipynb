{
 "cells": [
  {
   "cell_type": "markdown",
   "id": "b6e13e9a",
   "metadata": {},
   "source": [
    "#### [`Chapter-08_Reduce,-Reuse,-Recycle-Recurrent-Neural-Networks`](/home/hobs/code/hobs/nlpia-manuscript/manuscript/adoc/Chapter-08_Reduce,-Reuse,-Recycle-Recurrent-Neural-Networks.adoc)"
   ]
  },
  {
   "cell_type": "markdown",
   "id": "561051ac",
   "metadata": {},
   "source": [
    "#### .Recurrence in PyTorch"
   ]
  },
  {
   "cell_type": "code",
   "execution_count": null,
   "id": "c3d2691d",
   "metadata": {},
   "outputs": [],
   "source": [
    "from torch import nn\n",
    "class RNN(nn.Module):\n",
    "\n",
    "    def __init__(self,\n",
    "            vocab_size, hidden_size, output_size):  # <1>\n",
    "        super().__init__()\n",
    "        self.W_c2h = nn.Linear(\n",
    "            vocab_size + hidden_size, hidden_size)  # <2>\n",
    "        self.W_c2y = nn.Linear(vocab_size + hidden_size, output_size)\n",
    "        self.softmax = nn.LogSoftmax(dim=1)\n",
    "\n",
    "    def forward(self, x, hidden):  # <3>\n",
    "        combined = torch.cat((x, hidden), axis=1)  # <4>\n",
    "        hidden = self.W_c2h(combined)  # <5>\n",
    "        y = self.W_c2y(combined)  # <6>\n",
    "        y = self.softmax(y)\n",
    "        return y, hidden  # <7>"
   ]
  },
  {
   "cell_type": "markdown",
   "id": "a680a72a",
   "metadata": {},
   "source": [
    "#### .SpaCy tags tokens with RNNs"
   ]
  },
  {
   "cell_type": "code",
   "execution_count": null,
   "id": "868d6e7b",
   "metadata": {},
   "outputs": [],
   "source": [
    "import pandas as pd\n",
    "from nlpia2.spacy_language_model import nlp\n",
    "tagged_tokens = list(nlp('Hello world. Goodbye now!'))\n",
    "interesting_tags = 'text dep_ head lang_ lemma_ pos_ sentiment'\n",
    "interesting_tags = (interesting_tags +  'shape_ tag_').split()\n",
    "pd.DataFrame([\n",
    "        [getattr(t, a) for a in interesting_tags]\n",
    "        for t in tagged_tokens],\n",
    "    columns=interesting_tags)"
   ]
  },
  {
   "cell_type": "markdown",
   "id": "d7712a88",
   "metadata": {},
   "source": [
    "#### .SpaCy tags tokens with RNNs"
   ]
  },
  {
   "cell_type": "code",
   "execution_count": null,
   "id": "70ba218e",
   "metadata": {},
   "outputs": [],
   "source": [
    "from nlpia2.string_normalizers import Asciifier\n",
    "asciify = Asciifier()\n",
    "asciify(\"O’Néàl\")"
   ]
  },
  {
   "cell_type": "markdown",
   "id": "542b3105",
   "metadata": {},
   "source": [
    "#### .SpaCy tags tokens with RNNs"
   ]
  },
  {
   "cell_type": "code",
   "execution_count": null,
   "id": "94efff5d",
   "metadata": {},
   "outputs": [],
   "source": [
    "asciify(\"Çetin\")"
   ]
  },
  {
   "cell_type": "markdown",
   "id": "a60a8453",
   "metadata": {},
   "source": [
    "#### .Load the"
   ]
  },
  {
   "cell_type": "code",
   "execution_count": null,
   "id": "c515ff3b",
   "metadata": {},
   "outputs": [],
   "source": [
    "repo = 'tangibleai/nlpia2'  # <1>\n",
    "filepath = 'src/nlpia2/data/surname-nationality.csv.gz'\n",
    "url = f\"https://gitlab.com/{repo}/-/raw/main/{filepath}\"\n",
    "df = pd.read_csv(url)  # <2>\n",
    "df[['surname', 'nationality']].sort_values('surname').head(9)"
   ]
  },
  {
   "cell_type": "markdown",
   "id": "f8794388",
   "metadata": {},
   "source": [
    "#### .Load the"
   ]
  },
  {
   "cell_type": "code",
   "execution_count": null,
   "id": "dc227290",
   "metadata": {},
   "outputs": [],
   "source": [
    "df['nationality'].nunique()"
   ]
  },
  {
   "cell_type": "markdown",
   "id": "70b7f8ac",
   "metadata": {},
   "source": [
    "#### .Load the"
   ]
  },
  {
   "cell_type": "code",
   "execution_count": null,
   "id": "8291d72c",
   "metadata": {},
   "outputs": [],
   "source": [
    "sorted(df['nationality'].unique())"
   ]
  },
  {
   "cell_type": "markdown",
   "id": "6fdf0782",
   "metadata": {},
   "source": [
    "#### "
   ]
  },
  {
   "cell_type": "code",
   "execution_count": null,
   "id": "1a18a174",
   "metadata": {},
   "outputs": [],
   "source": [
    "fraction_unique = {}\n",
    "for i, g in df.groupby('nationality'):\n",
    "    fraction_unique[i] = g['surname'].nunique() / len(g)\n",
    "pd.Series(fraction_unique).sort_values().head(7)"
   ]
  },
  {
   "cell_type": "markdown",
   "id": "298dc466",
   "metadata": {},
   "source": [
    "#### "
   ]
  },
  {
   "cell_type": "code",
   "execution_count": null,
   "id": "2971175c",
   "metadata": {},
   "outputs": [],
   "source": [
    "arabic = [x.strip() for x in open('.nlpia2-data/names/Arabic.txt')]\n",
    "arabic = pd.Series(sorted(arabic))"
   ]
  },
  {
   "cell_type": "markdown",
   "id": "d8a65f01",
   "metadata": {},
   "source": [
    "#### "
   ]
  },
  {
   "cell_type": "code",
   "execution_count": null,
   "id": "407647eb",
   "metadata": {},
   "outputs": [],
   "source": [
    "df.groupby('surname')\n",
    "overlap = {}\n",
    "for i, g in df.groupby('surname'):\n",
    "    n = g['nationality'].nunique()\n",
    "    if n > 1:\n",
    "        overlap[i] = {'nunique': n, 'unique': list(g['nationality'].unique())}\n",
    "overlap.sort_values('nunique', ascending=False)"
   ]
  },
  {
   "cell_type": "markdown",
   "id": "ee6df3e0",
   "metadata": {},
   "source": [
    "#### .Heart of an RNN"
   ]
  },
  {
   "cell_type": "code",
   "execution_count": null,
   "id": "c8757669",
   "metadata": {},
   "outputs": [],
   "source": [
    "class RNN(nn.Module):\n",
    "def __init__(self, n_hidden=128, categories, char2i):  # <1>\n",
    "    super().__init__()\n",
    "    self.categories = categories\n",
    "    self.n_categories = len(self.categories)  # <2>\n",
    "    print(f'RNN.categories: {self.categories}')\n",
    "    print(f'RNN.n_categories: {self.n_categories}')\n",
    "def forward(self, x, hidden):  # <3>\n",
    "    combined = torch.cat((x, hidden), 1)\n",
    "    hidden = self.W_c2h(combined)\n",
    "    y = self.W_c2y(combined)\n",
    "    y = self.softmax(y)\n",
    "    return y, hidden  # <4>"
   ]
  },
  {
   "cell_type": "markdown",
   "id": "89cfb47d",
   "metadata": {},
   "source": [
    "#### .Heart of an RNN"
   ]
  },
  {
   "cell_type": "code",
   "execution_count": null,
   "id": "f3ca7b0c",
   "metadata": {},
   "outputs": [],
   "source": [
    "def train_sample(model, category_tensor, char_seq_tens,\n",
    "                criterion=nn.NLLLoss(), lr=.005):"
   ]
  },
  {
   "cell_type": "markdown",
   "id": "a67940e6",
   "metadata": {},
   "source": [
    "#### "
   ]
  },
  {
   "cell_type": "code",
   "execution_count": null,
   "id": "eb218343",
   "metadata": {},
   "outputs": [],
   "source": [
    "%run classify_name_nationality.py  # <1>"
   ]
  },
  {
   "cell_type": "markdown",
   "id": "721da4f1",
   "metadata": {},
   "source": [
    "#### "
   ]
  },
  {
   "cell_type": "code",
   "execution_count": null,
   "id": "7a22c2f6",
   "metadata": {},
   "outputs": [],
   "source": [
    "model.predict_category(\"Khalid\")"
   ]
  },
  {
   "cell_type": "markdown",
   "id": "3b562933",
   "metadata": {},
   "source": [
    "#### "
   ]
  },
  {
   "cell_type": "code",
   "execution_count": null,
   "id": "966d1029",
   "metadata": {},
   "outputs": [],
   "source": [
    "predictions = topk_predictions(model, 'Khalid', topk=4)\n",
    "predictions"
   ]
  },
  {
   "cell_type": "markdown",
   "id": "c5521f3c",
   "metadata": {},
   "source": [
    "#### "
   ]
  },
  {
   "cell_type": "code",
   "execution_count": null,
   "id": "1fce0e53",
   "metadata": {},
   "outputs": [],
   "source": [
    "predictions = topk_predictions(model, 'Khalid', topk=4)\n",
    "predictions['likelihood'] = np.exp(predictions['log_loss'])\n",
    "predictions"
   ]
  },
  {
   "cell_type": "markdown",
   "id": "a6f40cf7",
   "metadata": {},
   "source": [
    "#### "
   ]
  },
  {
   "cell_type": "code",
   "execution_count": null,
   "id": "99353ac2",
   "metadata": {},
   "outputs": [],
   "source": [
    "def predict_hidden(self, text=\"Khalid\"):"
   ]
  },
  {
   "cell_type": "markdown",
   "id": "d890deaf",
   "metadata": {},
   "source": [
    "#### "
   ]
  },
  {
   "cell_type": "code",
   "execution_count": null,
   "id": "b2d60ae9",
   "metadata": {},
   "outputs": [],
   "source": [
    "def predict_proba(self, text=\"Khalid\"):\n",
    "   text_tensor = self.encode_one_hot_seq(text)\n",
    "   with torch.no_grad():\n",
    "       hidden = self.hidden_init\n",
    "       for i in range(text_tensor.shape[0]):\n",
    "           y, hidden = self(text_tensor[i], hidden)\n",
    "   return y  # <1>"
   ]
  },
  {
   "cell_type": "markdown",
   "id": "27b90730",
   "metadata": {},
   "source": [
    "#### "
   ]
  },
  {
   "cell_type": "code",
   "execution_count": null,
   "id": "e5dd8a69",
   "metadata": {},
   "outputs": [],
   "source": [
    "def predict_category(self, text):\n",
    "   tensor = self.encode_one_hot_seq(text)\n",
    "   y = self.predict_proba(tensor)  # <1>\n",
    "   pred_i = y.topk(1)[1][0].item()  # <2>\n",
    "   return self.categories[pred_i]"
   ]
  },
  {
   "cell_type": "markdown",
   "id": "4656c8aa",
   "metadata": {},
   "source": [
    "#### "
   ]
  },
  {
   "cell_type": "code",
   "execution_count": null,
   "id": "de2cb7a0",
   "metadata": {},
   "outputs": [],
   "source": [
    "text = 'Khalid'\n",
    "pred_categories = []\n",
    "pred_hiddens = []\n",
    "for i in range(1, len(text) + 1):\n",
    "   pred_hiddens.append(model.predict_hidden(text[:i]))  # <1>\n",
    "   pred_categories.append(model.predict_category(text[:i]))\n",
    "pd.Series(pred_categories, input_texts)"
   ]
  },
  {
   "cell_type": "markdown",
   "id": "efb38c6c",
   "metadata": {},
   "source": [
    "#### "
   ]
  },
  {
   "cell_type": "code",
   "execution_count": null,
   "id": "848c5370",
   "metadata": {},
   "outputs": [],
   "source": [
    "hiddens = [h[0].tolist() for h in hiddens]\n",
    "df_hidden = pd.DataFrame(hidden_lists, index=list(text))\n",
    "df_hidden = df_hidden.T.round(2)  # <1>"
   ]
  },
  {
   "cell_type": "markdown",
   "id": "fbee732d",
   "metadata": {},
   "source": [
    "#### "
   ]
  },
  {
   "cell_type": "code",
   "execution_count": null,
   "id": "ad3fc1d8",
   "metadata": {},
   "outputs": [],
   "source": [
    "position = pd.Series(range(len(text)), index=df_hidden.index)\n",
    "pd.DataFrame(position).T"
   ]
  },
  {
   "cell_type": "markdown",
   "id": "ac973dc2",
   "metadata": {},
   "source": [
    "#### "
   ]
  },
  {
   "cell_type": "code",
   "execution_count": null,
   "id": "64a551d1",
   "metadata": {},
   "outputs": [],
   "source": [
    "df_hidden_raw.corrwith(position).sort_values()"
   ]
  },
  {
   "cell_type": "markdown",
   "id": "172ce01e",
   "metadata": {},
   "source": [
    "#### "
   ]
  },
  {
   "cell_type": "code",
   "execution_count": null,
   "id": "e42620bd",
   "metadata": {},
   "outputs": [],
   "source": [
    "lines = open('data/wikitext-2/train.txt').readlines()\n",
    "for line in lines[:4]:\n",
    "    print(line.rstrip()[:70])\n",
    "from nlpia2.ch08.data import Corpus\n",
    "corpus = Corpus('data/wikitext-2')\n",
    "corpus.train"
   ]
  },
  {
   "cell_type": "markdown",
   "id": "7499727d",
   "metadata": {},
   "source": [
    "#### "
   ]
  },
  {
   "cell_type": "code",
   "execution_count": null,
   "id": "3ad6903b",
   "metadata": {},
   "outputs": [],
   "source": [
    "vocab = corpus.dictionary\n",
    "[vocab.idx2word[i] for i in corpus.train[:7]]"
   ]
  },
  {
   "cell_type": "markdown",
   "id": "a04552c4",
   "metadata": {},
   "source": [
    "#### "
   ]
  },
  {
   "cell_type": "code",
   "execution_count": null,
   "id": "e0e3827e",
   "metadata": {},
   "outputs": [],
   "source": [
    "def batchify_slow(x, batch_size=8, num_batches=5):\n",
    "   batches = []\n",
    "   for i in range(int(len(x)/batch_size)):\n",
    "       if i > num_batches:\n",
    "           break\n",
    "       batches.append(x[i*batch_size:i*batch_size + batch_size])\n",
    "   return batches\n",
    "batches = batchify_slow(corpus.train)"
   ]
  },
  {
   "cell_type": "markdown",
   "id": "0dec45a9",
   "metadata": {},
   "source": [
    "#### "
   ]
  },
  {
   "cell_type": "code",
   "execution_count": null,
   "id": "3efaf4d5",
   "metadata": {},
   "outputs": [],
   "source": [
    "batches"
   ]
  },
  {
   "cell_type": "markdown",
   "id": "3d53cb2f",
   "metadata": {},
   "source": [
    "#### "
   ]
  },
  {
   "cell_type": "code",
   "execution_count": null,
   "id": "41c850e5",
   "metadata": {},
   "outputs": [],
   "source": [
    "torch.stack(batches)"
   ]
  },
  {
   "cell_type": "markdown",
   "id": "2be99347",
   "metadata": {},
   "source": [
    "#### "
   ]
  },
  {
   "cell_type": "code",
   "execution_count": null,
   "id": "4ab834f2",
   "metadata": {},
   "outputs": [],
   "source": [
    "r = sigmoid(W_i2r.mm(x) + b_i2r +    W_h2r.mm(h) + b_h2r)  # <1>\n",
    "z = sigmoid(W_i2z.mm(x) + b_i2z +    W_h2z.mm(h) + b_h2z)  # <2>\n",
    "n =    tanh(W_i2n.mm(x) + b_i2n + r∗(W_h2n.mm(h) + b_h2n))  # <3>"
   ]
  },
  {
   "cell_type": "markdown",
   "id": "3e5b4901",
   "metadata": {},
   "source": [
    "#### "
   ]
  },
  {
   "cell_type": "code",
   "execution_count": null,
   "id": "8fd26175",
   "metadata": {},
   "outputs": [],
   "source": [
    "def count_parameters(model, learned=True):\n",
    "    return sum(\n",
    "        p.numel() for p in model.parameters()  # <1>\n",
    "        if not learned or p.requires_grad  # <2>\n",
    "    )"
   ]
  },
  {
   "cell_type": "markdown",
   "id": "0bca91b4",
   "metadata": {},
   "source": [
    "#### "
   ]
  },
  {
   "cell_type": "code",
   "execution_count": null,
   "id": "d64fa35e",
   "metadata": {},
   "outputs": [],
   "source": [
    "import jsonlines  # <1>\n",
    "with jsonlines.open('experiments.jsonl') as fin:\n",
    "    lines = list(fin)\n",
    "df = pd.DataFrame(lines)\n",
    "df.to_csv('experiments.csv')\n",
    "cols = 'learned_parameters rnn_type epochs lr num_layers'\n",
    "cols += ' dropout epoch_time test_loss'\n",
    "cols = cols.split()\n",
    "df[cols].round(2).sort_values('test_loss', ascending=False)"
   ]
  },
  {
   "cell_type": "markdown",
   "id": "12d8e3a9",
   "metadata": {},
   "source": [
    "#### "
   ]
  },
  {
   "cell_type": "code",
   "execution_count": null,
   "id": "f7b3df8e",
   "metadata": {},
   "outputs": [],
   "source": [
    "df"
   ]
  },
  {
   "cell_type": "markdown",
   "id": "7b3ed62e",
   "metadata": {},
   "source": [
    "#### "
   ]
  },
  {
   "cell_type": "code",
   "execution_count": null,
   "id": "5378265c",
   "metadata": {},
   "outputs": [],
   "source": [
    "r = sigmoid(W_i2r.mm(x) + b_i2r +    W_h2r.mm(h) + b_h2r)\n",
    "z = sigmoid(W_i2z.mm(x) + b_i2z +    W_h2z.mm(h) + b_h2z)\n",
    "n =    tanh(W_i2n.mm(x) + b_i2n + r∗(W_h2n.mm(h) + b_h2n))\n",
    "\n",
    "f = sigmoid(W_i2f.mm(x) + b_i2f + W_h2f.mm(h) + b_h2f)  # <1>\n",
    "i = sigmoid(W_i2i.mm(x) + b_i2i + W_h2i.mm(h) + b_h2i)  # <2>\n",
    "g = tanh(W_i2g.mm(x) + b_i2g + W_h2y.mm(h) + b_h2g)  # <3>\n",
    "o = sigmoid(W_i2o.mm(x) + b_i2o + W_h2o.mm(h) + b_h2o)  # <4>\n",
    "c = f*c + i*g  # <5>\n",
    "h = o*tanh(c)\n",
    "----\n",
    "<1> LSTM forgetting gate (GRU reset gate)\n",
    "<2> LSTM input relevance gate (GRU update gate)\n",
    "<3> LSTM cell gate, notice the redundant biases b_i2i and b_h2i\n",
    "<4> LSTM output gate\n",
    "<5> cell state\n",
    "\n",
    "\n",
    "=== Give your RNN a tuneup\n",
    "// SUM: Hyperparameter tuning tricks, like increasing dropout percentages and reducing the number of learnable weights can help an RNN improve its accuracy and generalization in the real world. Bigger isn't always better. And to get your model out of a rut, increase the temperature during runtime.\n",
    "\n",
    "As you learned in Chapter 7, hyperparameter tuning becomes more and more important as your neural networks get more and more complicated.\n",
    "Your intuitions about layers, network capacity and training time will get fuzzier and fuzzier as the models get complicated.\n",
    "RNNs are particularly intuitive.\n",
    "To jumpstart your intuition we've trained dozens of different basic RNNs with different combinations of hyperparameters such as the number of layers and number of hidden units in each layer.\n",
    "You can explore all the hyperparameters that you are curious about using the code in `nlpia2/ch08`.footnote:[The `hypertune.py` script in the `ch08/rnn_word` module within the `nlpia2` Python package https://gitlab.com/tangibleai/nlpia2/-/blob/main/src/nlpia2/ch08/rnn_word/hypertune.py]\n",
    "\n",
    "[source,python]\n",
    "----\n",
    "import pandas as pd\n",
    "import jsonlines\n",
    "\n",
    "with jsonlines.open('experiments.jsonl') as fin:\n",
    "    lines = list(fin)\n",
    "df = pd.DataFrame(lines)\n",
    "df.to_csv('experiments.csv')\n",
    "cols = 'rnn_type epochs lr num_layers dropout epoch_time test_loss'\n",
    "cols = cols.split()\n",
    "df[cols].round(2).sort_values('test_loss').head(10)\n",
    "----\n",
    "\n",
    "[source,text]\n",
    "----\n",
    "    epochs   lr  num_layers  dropout  epoch_time  test_loss\n",
    "37      12  2.0           2      0.2       35.43       5.23\n",
    "28      12  2.0           1      0.0       22.66       5.23\n",
    "49      32  0.5           2      0.0       32.35       5.22\n",
    "57      32  0.5           2      0.2       35.50       5.22\n",
    "38      12  2.0           3      0.2       46.14       5.21\n",
    "50      32  0.5           3      0.0       37.36       5.20\n",
    "52      32  2.0           1      0.0       22.90       5.10\n",
    "55      32  2.0           5      0.0       56.23       5.09\n",
    "53      32  2.0           2      0.0       32.49       5.06\n",
    "54      32  2.0           3      0.0       38.78       5.04\n",
    "----\n",
    "\n",
    "It's a really exciting thing to explore the hyperspace of options like this and discover surprising tricks for building accurate models.\n",
    "Surprisingly, for this RNN language model trained on a small subset of Wikipedia, you can get great results without maximizing the size and capacity of the model.\n",
    "You can achieve better accuracy with a 3-layer RNN than with a 5-layer RNN.\n",
    "You just need to start with an aggressive learning rate and keep the dropout to a minimum.\n",
    "And the fewer layers you have the faster the model will train.\n",
    "\n",
    "[TIP]\n",
    "===="
   ]
  },
  {
   "cell_type": "markdown",
   "id": "6c093365",
   "metadata": {},
   "source": [
    "#### "
   ]
  },
  {
   "cell_type": "code",
   "execution_count": null,
   "id": "d55fe3af",
   "metadata": {},
   "outputs": [],
   "source": [
    "from nlpia2.ch08.rnn_word.data import Corpus\n",
    "corpus = Corpus('data/wikitext-2')\n",
    "passage = corpus.train.numpy()[-89:-35]"
   ]
  },
  {
   "cell_type": "markdown",
   "id": "31777589",
   "metadata": {},
   "source": [
    "#### "
   ]
  },
  {
   "cell_type": "code",
   "execution_count": null,
   "id": "58a595ed",
   "metadata": {},
   "outputs": [],
   "source": [
    "' '.join([vocab.idx2word[i] for i in passage])"
   ]
  },
  {
   "cell_type": "markdown",
   "id": "97717247",
   "metadata": {},
   "source": [
    "#### "
   ]
  },
  {
   "cell_type": "code",
   "execution_count": null,
   "id": "d92f8e6a",
   "metadata": {},
   "outputs": [],
   "source": [
    "num_eos = sum([vocab.idx2word[i] == '<eos>' for i in"
   ]
  },
  {
   "cell_type": "markdown",
   "id": "859ff42f",
   "metadata": {},
   "source": [
    "#### "
   ]
  },
  {
   "cell_type": "code",
   "execution_count": null,
   "id": "98f353f5",
   "metadata": {},
   "outputs": [],
   "source": [
    "num_eos"
   ]
  },
  {
   "cell_type": "markdown",
   "id": "bf2b6a3a",
   "metadata": {},
   "source": [
    "#### "
   ]
  },
  {
   "cell_type": "code",
   "execution_count": null,
   "id": "0c8f887f",
   "metadata": {},
   "outputs": [],
   "source": [
    "num_unk = sum([vocab.idx2word[i] == '<unk>' for i in"
   ]
  },
  {
   "cell_type": "markdown",
   "id": "ddacf087",
   "metadata": {},
   "source": [
    "#### "
   ]
  },
  {
   "cell_type": "code",
   "execution_count": null,
   "id": "f5e66c47",
   "metadata": {},
   "outputs": [],
   "source": [
    "num_unk"
   ]
  },
  {
   "cell_type": "markdown",
   "id": "3b4f5821",
   "metadata": {},
   "source": [
    "#### "
   ]
  },
  {
   "cell_type": "code",
   "execution_count": null,
   "id": "f9e129f6",
   "metadata": {},
   "outputs": [],
   "source": [
    "num_normal = sum([\n",
    "    vocab.idx2word[i] not in ('<unk>', '<eos>')\n",
    "    for i in corpus.train.numpy()])\n",
    "num_normal"
   ]
  },
  {
   "cell_type": "markdown",
   "id": "ba95fcb2",
   "metadata": {},
   "source": [
    "#### "
   ]
  },
  {
   "cell_type": "code",
   "execution_count": null,
   "id": "36c28865",
   "metadata": {},
   "outputs": [],
   "source": [
    "num_unk / (num_normal + num_eos + num_unk)"
   ]
  },
  {
   "cell_type": "markdown",
   "id": "c08ce2ce",
   "metadata": {},
   "source": [
    "#### "
   ]
  },
  {
   "cell_type": "code",
   "execution_count": null,
   "id": "3e379a9d",
   "metadata": {},
   "outputs": [],
   "source": [
    "import torch\n",
    "from preprocessing import Corpus\n",
    "from generate import generate_words\n",
    "from model import RNNModel"
   ]
  },
  {
   "cell_type": "markdown",
   "id": "2c7c1948",
   "metadata": {},
   "source": [
    "#### "
   ]
  },
  {
   "cell_type": "code",
   "execution_count": null,
   "id": "90d3b7a7",
   "metadata": {},
   "outputs": [],
   "source": [
    "print(' '.join(w for w in words))"
   ]
  }
 ],
 "metadata": {},
 "nbformat": 4,
 "nbformat_minor": 5
}
