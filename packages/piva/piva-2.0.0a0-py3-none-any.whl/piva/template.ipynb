{
 "cells": [
  {
   "cell_type": "code",
   "execution_count": 1,
   "id": "literary-military",
   "metadata": {},
   "outputs": [],
   "source": [
    "# Kevin's and mine stuff\n",
    "import piva.data_loader as dl\n",
    "import piva.arpys_wp as wp\n",
    "# general python shit\n",
    "import numpy as np\n",
    "from importlib import reload as rl\n",
    "from scipy import optimize as opt\n",
    "from os import listdir\n",
    "# for plotting\n",
    "import matplotlib as mpl\n",
    "from matplotlib import interactive\n",
    "from matplotlib import pyplot as plt\n",
    "from matplotlib import colors\n",
    "# change some default values\n",
    "wp.set_mpl_rcparams(print_params=False)\n",
    "\n",
    "# %matplotlib widget"
   ]
  },
  {
   "cell_type": "code",
   "execution_count": 16,
   "id": "spectacular-course",
   "metadata": {},
   "outputs": [],
   "source": [
    "# imported from piva\n",
    "path = ''\n",
    "fname = ''\n",
    "slit_idx, e_idx = , ,\n",
    "# load data and cuts\n",
    "dataset = dl.load_data(path + fname)\n",
    "data, slit_ax, erg_ax = dataset.data, dataset.yscale, dataset.zscale\n",
    "bm = data[0, :, :]\n",
    "plot_x = data[0, slit_idx, e_idx]\n",
    "plot_y = data[0, :, e_idx]"
   ]
  }
 ],
 "metadata": {
  "kernelspec": {
   "display_name": "Python 3 (ipykernel)",
   "language": "python",
   "name": "python3"
  },
  "language_info": {
   "codemirror_mode": {
    "name": "ipython",
    "version": 3
   },
   "file_extension": ".py",
   "mimetype": "text/x-python",
   "name": "python",
   "nbconvert_exporter": "python",
   "pygments_lexer": "ipython3",
   "version": "3.10.4"
  },
  "varInspector": {
   "cols": {
    "lenName": 16,
    "lenType": 16,
    "lenVar": 40
   },
   "kernels_config": {
    "python": {
     "delete_cmd_postfix": "",
     "delete_cmd_prefix": "del ",
     "library": "var_list.py",
     "varRefreshCmd": "print(var_dic_list())"
    },
    "r": {
     "delete_cmd_postfix": ") ",
     "delete_cmd_prefix": "rm(",
     "library": "var_list.r",
     "varRefreshCmd": "cat(var_dic_list()) "
    }
   },
   "types_to_exclude": [
    "module",
    "function",
    "builtin_function_or_method",
    "instance",
    "_Feature"
   ],
   "window_display": false
  }
 },
 "nbformat": 4,
 "nbformat_minor": 5
}
