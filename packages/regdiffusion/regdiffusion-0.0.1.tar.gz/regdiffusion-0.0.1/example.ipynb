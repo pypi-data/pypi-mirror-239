{
 "cells": [
  {
   "cell_type": "code",
   "execution_count": 1,
   "id": "a50817fb-5988-457f-92ce-3c0f87297088",
   "metadata": {},
   "outputs": [],
   "source": [
    "import numpy as np\n",
    "from regdiffusion import load_beeline, extract_edges, get_metrics, LightLogger\n",
    "from regdiffusion import runRegDiffusion, DEFAULT_REGDIFFUSION_CONFIGS\n",
    "from dazzle import DAZZLE, runDAZZLE, runDAZZLE_ensemble, DEFAULT_DAZZLE_CONFIGS, DEFAULT_DEEPSEM_CONFIGS\n",
    "from datetime import datetime\n",
    "import pandas as pd\n",
    "import matplotlib.pyplot as plt\n",
    "import seaborn as sns"
   ]
  },
  {
   "cell_type": "markdown",
   "id": "9ab8f1ca-eff1-4c14-a7ba-e67781ffcae0",
   "metadata": {},
   "source": [
    "## Load data and configs"
   ]
  },
  {
   "cell_type": "code",
   "execution_count": 2,
   "id": "e1959c22-7c10-4ee8-b116-01d2509edb0f",
   "metadata": {},
   "outputs": [
    {
     "data": {
      "text/plain": [
       "{'T': 5000,\n",
       " 'start_noise': 0.0001,\n",
       " 'end_noise': 0.02,\n",
       " 'lr_nn': 0.001,\n",
       " 'lr_adj': 2e-05,\n",
       " 'weight_decay_nn': 0.1,\n",
       " 'weight_decay_adj': 0.01,\n",
       " 'sparse_loss_coef': 0.25,\n",
       " 'adj_dropout': 0.3,\n",
       " 'batch_size': 128,\n",
       " 'time_dim': 64,\n",
       " 'celltype_dim': 32,\n",
       " 'hidden_dims': [16, 16, 16],\n",
       " 'n_epoch': 250,\n",
       " 'device': 'cuda',\n",
       " 'verbose': False,\n",
       " 'train_split': 1.0,\n",
       " 'train_split_seed': 123,\n",
       " 'eval_on_n_steps': 10}"
      ]
     },
     "execution_count": 2,
     "metadata": {},
     "output_type": "execute_result"
    }
   ],
   "source": [
    "bm = '1000_STRING'\n",
    "dt='mESC'\n",
    "bl_data, bl_gt = load_beeline(benchmark_data=dt, benchmark_setting=bm)\n",
    "configs = DEFAULT_REGDIFFUSION_CONFIGS\n",
    "configs"
   ]
  },
  {
   "cell_type": "markdown",
   "id": "270ae593-7cd4-41f6-b2d7-4d4cf3884e57",
   "metadata": {},
   "source": [
    "## Quick run"
   ]
  },
  {
   "cell_type": "code",
   "execution_count": 3,
   "id": "335372ca-2c75-4ad4-bf84-8ccbef77f6a2",
   "metadata": {},
   "outputs": [
    {
     "name": "stderr",
     "output_type": "stream",
     "text": [
      "100%|███████████████████████████████████████████████████████████████████████████████████████████████████████████| 250/250 [00:07<00:00, 32.96it/s]\n"
     ]
    },
    {
     "name": "stdout",
     "output_type": "stream",
     "text": [
      "{'AUPR': 0.05268355833771964, 'AUPRR': 2.4772953641711473, 'EP': 780, 'EPR': 4.325662754130797}\n"
     ]
    }
   ],
   "source": [
    "rd = runRegDiffusion(bl_data.X, configs)\n",
    "print(get_metrics(rd.get_adj(), bl_gt))"
   ]
  },
  {
   "cell_type": "markdown",
   "id": "10c749f3-3613-4c4b-b858-02115d7e39b1",
   "metadata": {},
   "source": [
    "## Run with logger"
   ]
  },
  {
   "cell_type": "code",
   "execution_count": 5,
   "id": "9e23c3ca-6a62-454d-9050-341306d80fbb",
   "metadata": {},
   "outputs": [
    {
     "name": "stderr",
     "output_type": "stream",
     "text": [
      "100%|███████████████████████████████████████████████████████████████████████████████████████████████████████████| 250/250 [00:08<00:00, 28.28it/s]\n"
     ]
    },
    {
     "data": {
      "text/html": [
       "<div>\n",
       "<style scoped>\n",
       "    .dataframe tbody tr th:only-of-type {\n",
       "        vertical-align: middle;\n",
       "    }\n",
       "\n",
       "    .dataframe tbody tr th {\n",
       "        vertical-align: top;\n",
       "    }\n",
       "\n",
       "    .dataframe thead th {\n",
       "        text-align: right;\n",
       "    }\n",
       "</style>\n",
       "<table border=\"1\" class=\"dataframe\">\n",
       "  <thead>\n",
       "    <tr style=\"text-align: right;\">\n",
       "      <th></th>\n",
       "      <th>steps</th>\n",
       "      <th>AUPRR</th>\n",
       "      <th>EPR</th>\n",
       "    </tr>\n",
       "  </thead>\n",
       "  <tbody>\n",
       "    <tr>\n",
       "      <th>0</th>\n",
       "      <td>0</td>\n",
       "      <td>1.035873</td>\n",
       "      <td>1.103599</td>\n",
       "    </tr>\n",
       "    <tr>\n",
       "      <th>1</th>\n",
       "      <td>1</td>\n",
       "      <td>1.117229</td>\n",
       "      <td>1.414159</td>\n",
       "    </tr>\n",
       "    <tr>\n",
       "      <th>2</th>\n",
       "      <td>2</td>\n",
       "      <td>1.356504</td>\n",
       "      <td>1.968731</td>\n",
       "    </tr>\n",
       "    <tr>\n",
       "      <th>3</th>\n",
       "      <td>3</td>\n",
       "      <td>1.52564</td>\n",
       "      <td>2.30702</td>\n",
       "    </tr>\n",
       "    <tr>\n",
       "      <th>4</th>\n",
       "      <td>4</td>\n",
       "      <td>1.739809</td>\n",
       "      <td>2.894867</td>\n",
       "    </tr>\n",
       "    <tr>\n",
       "      <th>5</th>\n",
       "      <td>5</td>\n",
       "      <td>1.909646</td>\n",
       "      <td>3.371799</td>\n",
       "    </tr>\n",
       "    <tr>\n",
       "      <th>6</th>\n",
       "      <td>6</td>\n",
       "      <td>2.048842</td>\n",
       "      <td>3.682359</td>\n",
       "    </tr>\n",
       "    <tr>\n",
       "      <th>7</th>\n",
       "      <td>7</td>\n",
       "      <td>2.153632</td>\n",
       "      <td>3.882005</td>\n",
       "    </tr>\n",
       "    <tr>\n",
       "      <th>8</th>\n",
       "      <td>8</td>\n",
       "      <td>2.220336</td>\n",
       "      <td>3.987374</td>\n",
       "    </tr>\n",
       "    <tr>\n",
       "      <th>9</th>\n",
       "      <td>9</td>\n",
       "      <td>2.289958</td>\n",
       "      <td>4.059468</td>\n",
       "    </tr>\n",
       "    <tr>\n",
       "      <th>10</th>\n",
       "      <td>10</td>\n",
       "      <td>2.33042</td>\n",
       "      <td>4.065014</td>\n",
       "    </tr>\n",
       "    <tr>\n",
       "      <th>11</th>\n",
       "      <td>11</td>\n",
       "      <td>2.34581</td>\n",
       "      <td>4.059468</td>\n",
       "    </tr>\n",
       "    <tr>\n",
       "      <th>12</th>\n",
       "      <td>12</td>\n",
       "      <td>2.376783</td>\n",
       "      <td>4.07056</td>\n",
       "    </tr>\n",
       "    <tr>\n",
       "      <th>13</th>\n",
       "      <td>13</td>\n",
       "      <td>2.385688</td>\n",
       "      <td>4.087197</td>\n",
       "    </tr>\n",
       "    <tr>\n",
       "      <th>14</th>\n",
       "      <td>14</td>\n",
       "      <td>2.405345</td>\n",
       "      <td>4.1482</td>\n",
       "    </tr>\n",
       "    <tr>\n",
       "      <th>15</th>\n",
       "      <td>15</td>\n",
       "      <td>2.404721</td>\n",
       "      <td>4.137108</td>\n",
       "    </tr>\n",
       "    <tr>\n",
       "      <th>16</th>\n",
       "      <td>16</td>\n",
       "      <td>2.420514</td>\n",
       "      <td>4.209203</td>\n",
       "    </tr>\n",
       "    <tr>\n",
       "      <th>17</th>\n",
       "      <td>17</td>\n",
       "      <td>2.434089</td>\n",
       "      <td>4.242477</td>\n",
       "    </tr>\n",
       "    <tr>\n",
       "      <th>18</th>\n",
       "      <td>18</td>\n",
       "      <td>2.424183</td>\n",
       "      <td>4.214748</td>\n",
       "    </tr>\n",
       "    <tr>\n",
       "      <th>19</th>\n",
       "      <td>19</td>\n",
       "      <td>2.414402</td>\n",
       "      <td>4.220294</td>\n",
       "    </tr>\n",
       "    <tr>\n",
       "      <th>20</th>\n",
       "      <td>20</td>\n",
       "      <td>2.424313</td>\n",
       "      <td>4.253568</td>\n",
       "    </tr>\n",
       "    <tr>\n",
       "      <th>21</th>\n",
       "      <td>21</td>\n",
       "      <td>2.439759</td>\n",
       "      <td>4.309026</td>\n",
       "    </tr>\n",
       "    <tr>\n",
       "      <th>22</th>\n",
       "      <td>22</td>\n",
       "      <td>2.43562</td>\n",
       "      <td>4.286843</td>\n",
       "    </tr>\n",
       "    <tr>\n",
       "      <th>23</th>\n",
       "      <td>23</td>\n",
       "      <td>2.443927</td>\n",
       "      <td>4.26466</td>\n",
       "    </tr>\n",
       "    <tr>\n",
       "      <th>24</th>\n",
       "      <td>24</td>\n",
       "      <td>2.444421</td>\n",
       "      <td>4.259114</td>\n",
       "    </tr>\n",
       "  </tbody>\n",
       "</table>\n",
       "</div>"
      ],
      "text/plain": [
       "   steps     AUPRR       EPR\n",
       "0      0  1.035873  1.103599\n",
       "1      1  1.117229  1.414159\n",
       "2      2  1.356504  1.968731\n",
       "3      3   1.52564   2.30702\n",
       "4      4  1.739809  2.894867\n",
       "5      5  1.909646  3.371799\n",
       "6      6  2.048842  3.682359\n",
       "7      7  2.153632  3.882005\n",
       "8      8  2.220336  3.987374\n",
       "9      9  2.289958  4.059468\n",
       "10    10   2.33042  4.065014\n",
       "11    11   2.34581  4.059468\n",
       "12    12  2.376783   4.07056\n",
       "13    13  2.385688  4.087197\n",
       "14    14  2.405345    4.1482\n",
       "15    15  2.404721  4.137108\n",
       "16    16  2.420514  4.209203\n",
       "17    17  2.434089  4.242477\n",
       "18    18  2.424183  4.214748\n",
       "19    19  2.414402  4.220294\n",
       "20    20  2.424313  4.253568\n",
       "21    21  2.439759  4.309026\n",
       "22    22   2.43562  4.286843\n",
       "23    23  2.443927   4.26466\n",
       "24    24  2.444421  4.259114"
      ]
     },
     "execution_count": 5,
     "metadata": {},
     "output_type": "execute_result"
    }
   ],
   "source": [
    "logger = LightLogger()\n",
    "\n",
    "rd = runRegDiffusion(bl_data.X, configs, ground_truth=bl_gt, logger=logger)\n",
    "\n",
    "logger.to_df()[['steps', 'AUPRR', 'EPR']]"
   ]
  },
  {
   "cell_type": "code",
   "execution_count": null,
   "id": "cc97ed8a-cd97-4505-b662-a7219c34b4aa",
   "metadata": {},
   "outputs": [],
   "source": []
  }
 ],
 "metadata": {
  "kernelspec": {
   "display_name": "grn",
   "language": "python",
   "name": "grn"
  },
  "language_info": {
   "codemirror_mode": {
    "name": "ipython",
    "version": 3
   },
   "file_extension": ".py",
   "mimetype": "text/x-python",
   "name": "python",
   "nbconvert_exporter": "python",
   "pygments_lexer": "ipython3",
   "version": "3.10.8"
  }
 },
 "nbformat": 4,
 "nbformat_minor": 5
}
