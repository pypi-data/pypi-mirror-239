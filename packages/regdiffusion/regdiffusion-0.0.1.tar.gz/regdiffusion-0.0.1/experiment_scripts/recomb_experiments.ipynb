{
 "cells": [
  {
   "cell_type": "code",
   "execution_count": 8,
   "id": "d8e854a7-77b1-4611-ad79-518184fa5244",
   "metadata": {},
   "outputs": [],
   "source": [
    "import os"
   ]
  },
  {
   "cell_type": "code",
   "execution_count": 9,
   "id": "34b34d08-71b2-4d80-b9e4-9e31a9ca167f",
   "metadata": {},
   "outputs": [],
   "source": [
    "fs = os.listdir()\n",
    "fs = [x for x in fs if x.startswith('slurm')]\n",
    "for x in fs:\n",
    "    os.remove(x)"
   ]
  },
  {
   "cell_type": "code",
   "execution_count": 3,
   "id": "fadb0fd8-23b3-4308-ac8e-5c7a4ad28f00",
   "metadata": {},
   "outputs": [
    {
     "name": "stdout",
     "output_type": "stream",
     "text": [
      "Submitted batch job 44851149\n",
      "Submitted batch job 44851150\n",
      "Submitted batch job 44851151\n",
      "Submitted batch job 44851152\n",
      "Submitted batch job 44851153\n",
      "Submitted batch job 44851154\n",
      "Submitted batch job 44851155\n",
      "Submitted batch job 44851156\n",
      "Submitted batch job 44851157\n",
      "Submitted batch job 44851158\n",
      "Submitted batch job 44851159\n",
      "Submitted batch job 44851160\n",
      "Submitted batch job 44851161\n",
      "Submitted batch job 44851162\n",
      "Submitted batch job 44851163\n",
      "Submitted batch job 44851164\n",
      "Submitted batch job 44851165\n",
      "Submitted batch job 44851166\n",
      "Submitted batch job 44851167\n",
      "Submitted batch job 44851168\n",
      "Submitted batch job 44851169\n",
      "Submitted batch job 44851170\n",
      "Submitted batch job 44851171\n",
      "Submitted batch job 44851172\n",
      "Submitted batch job 44851173\n",
      "Submitted batch job 44851174\n",
      "Submitted batch job 44851175\n",
      "Submitted batch job 44851176\n",
      "Submitted batch job 44851177\n",
      "Submitted batch job 44851178\n",
      "Submitted batch job 44851179\n",
      "Submitted batch job 44851180\n",
      "Submitted batch job 44851181\n",
      "Submitted batch job 44851182\n",
      "Submitted batch job 44851183\n",
      "Submitted batch job 44851184\n",
      "Submitted batch job 44851185\n",
      "Submitted batch job 44851186\n",
      "Submitted batch job 44851187\n",
      "Submitted batch job 44851188\n",
      "Submitted batch job 44851189\n",
      "Submitted batch job 44851190\n",
      "Submitted batch job 44851191\n",
      "Submitted batch job 44851192\n",
      "Submitted batch job 44851193\n",
      "Submitted batch job 44851194\n",
      "Submitted batch job 44851195\n",
      "Submitted batch job 44851196\n",
      "Submitted batch job 44851197\n",
      "Submitted batch job 44851198\n",
      "Submitted batch job 44851199\n",
      "Submitted batch job 44851200\n",
      "Submitted batch job 44851201\n",
      "Submitted batch job 44851202\n",
      "Submitted batch job 44851203\n",
      "Submitted batch job 44851204\n",
      "Submitted batch job 44851205\n",
      "Submitted batch job 44851206\n",
      "Submitted batch job 44851207\n",
      "Submitted batch job 44851208\n",
      "Submitted batch job 44851209\n",
      "Submitted batch job 44851210\n",
      "Submitted batch job 44851211\n",
      "Submitted batch job 44851212\n",
      "Submitted batch job 44851213\n",
      "Submitted batch job 44851214\n",
      "Submitted batch job 44851215\n",
      "Submitted batch job 44851216\n",
      "Submitted batch job 44851217\n",
      "Submitted batch job 44851218\n"
     ]
    }
   ],
   "source": [
    "for dt in ['hESC', 'hHep', 'mDC', 'mESC', 'mHSC-E', 'mHSC-GM', 'mHSC-L']:\n",
    "    for _ in range(10):\n",
    "        # os.system(f'sbatch recomb_benchmark.sh grnboost2 {dt} 1000_STRING')\n",
    "        os.system(f'sbatch recomb_benchmark.sh grnboost2 {dt} 1000_Non-ChIP')"
   ]
  },
  {
   "cell_type": "code",
   "execution_count": 4,
   "id": "3988b264-7930-438c-ba18-8ae289579377",
   "metadata": {},
   "outputs": [
    {
     "name": "stdout",
     "output_type": "stream",
     "text": [
      "Submitted batch job 44851352\n",
      "Submitted batch job 44851353\n",
      "Submitted batch job 44851354\n",
      "Submitted batch job 44851355\n",
      "Submitted batch job 44851356\n",
      "Submitted batch job 44851357\n",
      "Submitted batch job 44851358\n",
      "Submitted batch job 44851359\n",
      "Submitted batch job 44851360\n",
      "Submitted batch job 44851361\n",
      "Submitted batch job 44851362\n",
      "Submitted batch job 44851363\n",
      "Submitted batch job 44851364\n",
      "Submitted batch job 44851365\n",
      "Submitted batch job 44851366\n",
      "Submitted batch job 44851367\n",
      "Submitted batch job 44851368\n",
      "Submitted batch job 44851369\n",
      "Submitted batch job 44851370\n",
      "Submitted batch job 44851371\n",
      "Submitted batch job 44851372\n",
      "Submitted batch job 44851373\n",
      "Submitted batch job 44851374\n",
      "Submitted batch job 44851375\n",
      "Submitted batch job 44851376\n",
      "Submitted batch job 44851377\n",
      "Submitted batch job 44851378\n",
      "Submitted batch job 44851379\n",
      "Submitted batch job 44851380\n",
      "Submitted batch job 44851381\n",
      "Submitted batch job 44851382\n",
      "Submitted batch job 44851383\n",
      "Submitted batch job 44851384\n",
      "Submitted batch job 44851385\n",
      "Submitted batch job 44851386\n",
      "Submitted batch job 44851387\n",
      "Submitted batch job 44851388\n",
      "Submitted batch job 44851389\n",
      "Submitted batch job 44851390\n",
      "Submitted batch job 44851391\n",
      "Submitted batch job 44851392\n",
      "Submitted batch job 44851393\n",
      "Submitted batch job 44851394\n",
      "Submitted batch job 44851395\n",
      "Submitted batch job 44851396\n",
      "Submitted batch job 44851397\n",
      "Submitted batch job 44851398\n",
      "Submitted batch job 44851399\n",
      "Submitted batch job 44851400\n",
      "Submitted batch job 44851401\n",
      "Submitted batch job 44851402\n",
      "Submitted batch job 44851403\n",
      "Submitted batch job 44851404\n",
      "Submitted batch job 44851405\n",
      "Submitted batch job 44851406\n",
      "Submitted batch job 44851407\n",
      "Submitted batch job 44851408\n",
      "Submitted batch job 44851409\n",
      "Submitted batch job 44851410\n",
      "Submitted batch job 44851411\n",
      "Submitted batch job 44851412\n",
      "Submitted batch job 44851413\n",
      "Submitted batch job 44851414\n",
      "Submitted batch job 44851415\n",
      "Submitted batch job 44851416\n",
      "Submitted batch job 44851417\n",
      "Submitted batch job 44851418\n",
      "Submitted batch job 44851419\n",
      "Submitted batch job 44851420\n",
      "Submitted batch job 44851421\n"
     ]
    }
   ],
   "source": [
    "for dt in ['hESC', 'hHep', 'mDC', 'mESC', 'mHSC-E', 'mHSC-GM', 'mHSC-L']:\n",
    "    for _ in range(10):\n",
    "        # os.system(f'sbatch recomb_benchmark.sh genie3 {dt} 1000_STRING')\n",
    "        os.system(f'sbatch recomb_benchmark.sh genie3 {dt} 1000_Non-ChIP')"
   ]
  },
  {
   "cell_type": "code",
   "execution_count": 5,
   "id": "f027a4cc-cb02-4fe4-91bc-7ec18eb1070c",
   "metadata": {},
   "outputs": [
    {
     "name": "stdout",
     "output_type": "stream",
     "text": [
      "Submitted batch job 44851424\n",
      "Submitted batch job 44851425\n",
      "Submitted batch job 44851426\n",
      "Submitted batch job 44851427\n",
      "Submitted batch job 44851428\n",
      "Submitted batch job 44851429\n",
      "Submitted batch job 44851430\n",
      "Submitted batch job 44851431\n",
      "Submitted batch job 44851432\n",
      "Submitted batch job 44851433\n"
     ]
    }
   ],
   "source": [
    "for _ in range(10):\n",
    "    # os.system(f'sbatch recomb_benchmark_gpu.sh deepsem 1000_STRING')\n",
    "    os.system(f'sbatch recomb_benchmark_gpu.sh deepsem 1000_Non-ChIP')"
   ]
  },
  {
   "cell_type": "code",
   "execution_count": 6,
   "id": "8ba0f104-8e8e-495d-9b0d-23eaa9300d16",
   "metadata": {},
   "outputs": [
    {
     "name": "stdout",
     "output_type": "stream",
     "text": [
      "Submitted batch job 44851434\n",
      "Submitted batch job 44851435\n",
      "Submitted batch job 44851436\n",
      "Submitted batch job 44851437\n",
      "Submitted batch job 44851438\n",
      "Submitted batch job 44851439\n",
      "Submitted batch job 44851440\n",
      "Submitted batch job 44851441\n",
      "Submitted batch job 44851442\n",
      "Submitted batch job 44851443\n"
     ]
    }
   ],
   "source": [
    "for _ in range(10):\n",
    "    # os.system(f'sbatch recomb_benchmark_gpu.sh deepseme 1000_STRING')\n",
    "    os.system(f'sbatch recomb_benchmark_gpu.sh deepseme 1000_Non-ChIP')"
   ]
  },
  {
   "cell_type": "code",
   "execution_count": 7,
   "id": "c7b7226a-7ed8-4baa-871c-961135ae1d9e",
   "metadata": {},
   "outputs": [
    {
     "name": "stdout",
     "output_type": "stream",
     "text": [
      "Submitted batch job 44851444\n",
      "Submitted batch job 44851445\n",
      "Submitted batch job 44851446\n",
      "Submitted batch job 44851447\n",
      "Submitted batch job 44851448\n",
      "Submitted batch job 44851449\n",
      "Submitted batch job 44851450\n",
      "Submitted batch job 44851451\n",
      "Submitted batch job 44851452\n",
      "Submitted batch job 44851453\n"
     ]
    }
   ],
   "source": [
    "for _ in range(10):\n",
    "    # os.system(f'sbatch recomb_benchmark_gpu.sh dazzle 1000_STRING')\n",
    "    os.system(f'sbatch recomb_benchmark_gpu.sh dazzle 1000_Non-ChIP')"
   ]
  },
  {
   "cell_type": "code",
   "execution_count": 8,
   "id": "94ec0748-25fd-4e2b-bd9f-3b93f9a7189e",
   "metadata": {},
   "outputs": [
    {
     "name": "stdout",
     "output_type": "stream",
     "text": [
      "Submitted batch job 44851454\n",
      "Submitted batch job 44851455\n",
      "Submitted batch job 44851456\n",
      "Submitted batch job 44851457\n",
      "Submitted batch job 44851458\n",
      "Submitted batch job 44851459\n",
      "Submitted batch job 44851460\n",
      "Submitted batch job 44851461\n",
      "Submitted batch job 44851462\n",
      "Submitted batch job 44851463\n"
     ]
    }
   ],
   "source": [
    "for _ in range(10):\n",
    "    # os.system(f'sbatch recomb_benchmark_gpu.sh regdiffusion 1000_STRING')\n",
    "    os.system(f'sbatch recomb_benchmark_gpu.sh regdiffusion 1000_Non-ChIP')"
   ]
  },
  {
   "cell_type": "code",
   "execution_count": null,
   "id": "3ca7e33e-1608-4fae-aae5-4c649f479fc0",
   "metadata": {},
   "outputs": [],
   "source": [
    "for _ in range(10):\n",
    "    os.system(f'sbatch recomb_benchmark_gpu.sh regdiffusionda')"
   ]
  },
  {
   "cell_type": "code",
   "execution_count": 1,
   "id": "6216ac51-1a2f-429c-b86b-dad1e9cba1f0",
   "metadata": {},
   "outputs": [
    {
     "name": "stdout",
     "output_type": "stream",
     "text": [
      "Submitted batch job 44842720\n",
      "Submitted batch job 44842721\n",
      "Submitted batch job 44842722\n",
      "Submitted batch job 44842723\n",
      "Submitted batch job 44842724\n"
     ]
    }
   ],
   "source": [
    "!sbatch recomb_benchmark_reduced.sh genie3 0.9\n",
    "!sbatch recomb_benchmark_reduced.sh genie3 0.8\n",
    "!sbatch recomb_benchmark_reduced.sh genie3 0.5\n",
    "!sbatch recomb_benchmark_reduced.sh genie3 0.2\n",
    "!sbatch recomb_benchmark_reduced.sh genie3 0.1"
   ]
  },
  {
   "cell_type": "code",
   "execution_count": 4,
   "id": "e965d92d-ef2d-411d-82c5-c5292b02ed74",
   "metadata": {},
   "outputs": [
    {
     "name": "stdout",
     "output_type": "stream",
     "text": [
      "Submitted batch job 44842726\n",
      "Submitted batch job 44842727\n",
      "Submitted batch job 44842728\n",
      "Submitted batch job 44842729\n",
      "Submitted batch job 44842730\n"
     ]
    }
   ],
   "source": [
    "for train_split in [0.9, 0.8, 0.5, 0.2, 0.1]:\n",
    "    os.system(f'sbatch recomb_benchmark_reduced.sh grnboost2 {train_split}')"
   ]
  },
  {
   "cell_type": "code",
   "execution_count": 1,
   "id": "6d59758b-1879-462e-84b0-b2b2c59d78d9",
   "metadata": {},
   "outputs": [],
   "source": [
    "import numpy as np\n",
    "from regdiffusion import runRegDiffusion, DEFAULT_REGDIFFUSION_CONFIGS\n",
    "from dazzle import load_beeline, extract_edges, get_metrics, DAZZLE, LightLogger, runDAZZLE, runDAZZLE_ensemble, DEFAULT_DAZZLE_CONFIGS, DEFAULT_DEEPSEM_CONFIGS\n",
    "from datetime import datetime\n",
    "import pandas as pd\n",
    "import matplotlib.pyplot as plt\n",
    "import seaborn as sns"
   ]
  },
  {
   "cell_type": "code",
   "execution_count": 6,
   "id": "905bae08-3cec-4e1e-b002-f0223ce85ecb",
   "metadata": {},
   "outputs": [
    {
     "name": "stdout",
     "output_type": "stream",
     "text": [
      "(758, 1410)\n",
      "(425, 1448)\n",
      "(383, 1321)\n",
      "(421, 1620)\n",
      "(1071, 1204)\n",
      "(889, 1132)\n",
      "(847, 692)\n"
     ]
    }
   ],
   "source": [
    "bm = '1000_Non-ChIP'\n",
    "for dt in ['hESC', 'hHep', 'mDC', 'mESC', 'mHSC-E', 'mHSC-GM', 'mHSC-L']:\n",
    "    bl_data, bl_gt = load_beeline(benchmark_data=dt, benchmark_setting=bm)\n",
    "    print(bl_data.X.shape)"
   ]
  },
  {
   "cell_type": "code",
   "execution_count": 3,
   "id": "651d3042-03f7-4683-81d0-6fea634a63f7",
   "metadata": {},
   "outputs": [
    {
     "data": {
      "text/plain": [
       "{'tf_mask': array([False,  True, False, False, False, False, False, False, False,\n",
       "        False, False, False, False, False, False, False, False, False,\n",
       "        False, False, False, False, False, False, False,  True, False,\n",
       "        False, False, False, False, False, False, False, False, False,\n",
       "        False, False, False, False, False, False, False, False, False,\n",
       "        False, False, False, False, False,  True, False, False, False,\n",
       "        False, False, False, False, False, False, False, False, False,\n",
       "        False, False, False, False, False, False, False, False, False,\n",
       "        False, False, False, False, False, False,  True, False, False,\n",
       "        False, False,  True, False,  True, False, False, False, False,\n",
       "        False, False, False, False, False, False,  True, False, False,\n",
       "        False, False, False, False, False, False, False,  True, False,\n",
       "         True, False, False, False,  True, False, False, False, False,\n",
       "        False, False, False, False, False, False, False, False, False,\n",
       "        False, False, False, False, False, False, False, False, False,\n",
       "        False, False, False, False, False, False, False, False, False,\n",
       "        False, False, False, False, False, False, False, False, False,\n",
       "        False, False, False, False, False, False, False, False, False,\n",
       "        False, False, False, False, False, False, False, False, False,\n",
       "        False, False, False, False, False,  True, False, False, False,\n",
       "        False, False, False, False, False, False, False, False, False,\n",
       "        False,  True, False, False, False, False, False, False, False,\n",
       "        False, False, False, False, False, False, False, False, False,\n",
       "        False, False, False, False, False, False, False, False, False,\n",
       "        False, False, False, False, False, False, False, False, False,\n",
       "        False, False, False, False, False, False, False, False, False,\n",
       "        False, False, False, False, False, False, False, False, False,\n",
       "        False, False, False, False, False, False, False, False, False,\n",
       "        False, False, False, False, False, False, False, False, False,\n",
       "        False, False, False, False, False, False, False, False, False,\n",
       "        False, False,  True, False,  True, False, False, False, False,\n",
       "        False, False, False,  True, False, False, False, False, False,\n",
       "         True, False, False, False, False, False, False, False, False,\n",
       "        False, False, False, False, False, False, False, False,  True,\n",
       "        False, False, False, False, False, False, False, False, False,\n",
       "        False, False, False, False, False, False, False, False, False,\n",
       "        False, False, False, False, False, False, False, False, False,\n",
       "        False, False, False, False, False, False, False, False, False,\n",
       "        False, False, False, False, False, False, False, False, False,\n",
       "        False, False, False, False, False, False, False, False, False,\n",
       "        False, False, False, False, False,  True, False, False, False,\n",
       "        False, False, False, False, False,  True, False, False, False,\n",
       "        False, False, False, False, False, False, False, False, False,\n",
       "        False, False, False, False, False, False, False, False, False,\n",
       "        False, False, False, False, False, False, False, False, False,\n",
       "        False, False, False, False, False, False, False, False, False,\n",
       "        False, False, False, False, False, False, False, False, False,\n",
       "        False, False, False, False, False, False, False, False, False,\n",
       "        False, False, False, False, False, False, False, False, False,\n",
       "        False, False, False, False, False,  True, False, False, False,\n",
       "        False, False,  True, False, False, False, False, False, False,\n",
       "        False, False, False, False, False, False, False, False, False,\n",
       "        False, False, False, False, False, False, False, False, False,\n",
       "         True, False, False, False, False, False, False, False, False,\n",
       "        False,  True, False, False, False, False,  True, False, False,\n",
       "         True, False, False, False, False, False, False,  True, False,\n",
       "        False, False, False, False, False, False, False, False, False,\n",
       "        False, False,  True, False, False, False,  True, False, False,\n",
       "        False, False, False,  True, False, False, False, False, False,\n",
       "        False, False, False, False, False, False, False, False, False,\n",
       "        False, False, False, False, False, False, False, False, False,\n",
       "        False, False, False, False, False, False, False, False, False,\n",
       "        False, False, False, False, False, False, False, False, False,\n",
       "        False, False, False, False, False, False, False, False, False,\n",
       "        False, False, False, False, False, False, False, False, False,\n",
       "        False,  True,  True, False, False, False, False, False,  True,\n",
       "        False, False, False, False, False,  True, False, False, False,\n",
       "        False, False, False, False, False, False, False, False, False,\n",
       "        False, False, False, False, False, False, False, False, False,\n",
       "        False, False, False, False, False, False, False, False, False,\n",
       "        False, False, False, False, False, False, False, False,  True,\n",
       "        False, False, False, False, False, False, False, False, False,\n",
       "        False, False, False, False, False, False, False, False, False,\n",
       "         True, False, False, False, False, False, False, False, False,\n",
       "        False, False, False, False, False, False, False, False, False,\n",
       "        False, False, False, False, False, False, False,  True, False,\n",
       "        False, False, False, False, False, False,  True, False]),\n",
       " 'gene_mask': array([ True,  True, False, False, False,  True, False, False, False,\n",
       "        False, False, False, False, False, False,  True,  True, False,\n",
       "        False, False, False, False, False, False, False,  True, False,\n",
       "        False, False, False, False, False, False, False,  True, False,\n",
       "        False, False, False,  True, False,  True, False, False, False,\n",
       "         True, False, False, False, False,  True, False,  True,  True,\n",
       "        False,  True, False, False, False,  True, False, False,  True,\n",
       "         True,  True, False, False, False, False,  True, False,  True,\n",
       "         True, False, False, False, False, False,  True,  True, False,\n",
       "        False, False,  True,  True,  True,  True,  True,  True, False,\n",
       "        False, False, False, False, False, False,  True, False, False,\n",
       "        False, False, False, False,  True,  True, False,  True, False,\n",
       "         True, False, False,  True,  True, False,  True, False, False,\n",
       "        False, False, False, False, False,  True, False, False, False,\n",
       "         True, False, False, False, False, False, False,  True, False,\n",
       "        False,  True, False, False, False,  True, False, False, False,\n",
       "         True, False,  True, False, False,  True,  True, False, False,\n",
       "        False, False, False, False, False, False, False,  True, False,\n",
       "        False, False, False,  True, False, False,  True, False, False,\n",
       "        False,  True, False, False,  True,  True, False, False,  True,\n",
       "        False,  True, False,  True,  True, False, False, False, False,\n",
       "        False,  True, False,  True,  True, False, False, False,  True,\n",
       "         True, False, False, False, False, False, False,  True, False,\n",
       "         True, False, False, False, False, False, False, False,  True,\n",
       "        False,  True, False,  True, False, False, False, False, False,\n",
       "         True, False, False, False, False, False, False, False,  True,\n",
       "         True, False, False,  True, False,  True, False, False, False,\n",
       "        False, False, False, False, False, False, False, False, False,\n",
       "         True,  True, False, False, False, False, False, False,  True,\n",
       "        False, False, False, False,  True, False, False, False, False,\n",
       "         True, False,  True,  True,  True,  True, False, False, False,\n",
       "         True, False,  True,  True, False,  True,  True, False,  True,\n",
       "         True, False,  True, False, False, False, False, False,  True,\n",
       "        False, False, False, False,  True, False, False,  True,  True,\n",
       "         True, False,  True, False, False, False,  True, False, False,\n",
       "        False, False, False, False, False, False, False, False, False,\n",
       "        False, False, False, False, False, False,  True, False, False,\n",
       "        False, False, False, False, False, False, False, False, False,\n",
       "        False, False,  True, False, False, False, False, False,  True,\n",
       "        False, False, False,  True, False, False,  True, False, False,\n",
       "        False,  True, False, False,  True,  True,  True,  True,  True,\n",
       "        False, False, False, False,  True,  True, False, False,  True,\n",
       "        False, False, False, False, False, False, False, False, False,\n",
       "        False, False,  True, False, False, False, False,  True, False,\n",
       "         True, False, False, False, False, False, False, False,  True,\n",
       "        False, False, False,  True,  True, False, False, False,  True,\n",
       "         True, False,  True, False, False,  True, False,  True, False,\n",
       "        False, False, False,  True,  True,  True, False, False, False,\n",
       "        False, False,  True,  True, False, False, False, False, False,\n",
       "         True, False, False, False, False,  True, False, False, False,\n",
       "         True,  True,  True, False, False, False, False, False, False,\n",
       "         True, False,  True, False, False, False, False,  True,  True,\n",
       "        False, False, False,  True, False, False, False, False, False,\n",
       "         True, False, False, False,  True,  True, False, False, False,\n",
       "         True,  True,  True, False, False,  True,  True,  True, False,\n",
       "         True, False,  True, False, False, False, False,  True, False,\n",
       "        False, False, False,  True, False, False, False, False,  True,\n",
       "        False, False,  True,  True, False, False,  True,  True, False,\n",
       "        False, False, False,  True, False, False, False, False, False,\n",
       "         True,  True, False,  True, False, False,  True, False,  True,\n",
       "         True, False, False, False,  True,  True, False,  True, False,\n",
       "        False,  True, False, False, False, False, False, False, False,\n",
       "         True, False, False, False, False, False,  True, False, False,\n",
       "        False, False, False, False, False, False, False,  True, False,\n",
       "        False, False, False, False, False, False, False, False,  True,\n",
       "        False,  True,  True, False, False, False, False, False,  True,\n",
       "        False, False,  True, False, False,  True,  True, False,  True,\n",
       "        False,  True, False,  True, False, False, False, False, False,\n",
       "        False, False, False, False, False,  True, False, False,  True,\n",
       "        False, False,  True, False, False,  True,  True, False, False,\n",
       "        False,  True, False, False, False, False, False, False,  True,\n",
       "         True, False,  True,  True, False, False, False, False,  True,\n",
       "        False,  True, False, False, False, False, False, False, False,\n",
       "         True, False, False,  True, False, False, False, False, False,\n",
       "        False,  True, False, False,  True, False,  True, False, False,\n",
       "         True, False, False, False, False, False, False,  True, False,\n",
       "        False, False, False, False, False,  True,  True, False]),\n",
       " 'truth_edges': [['ELF1', 'CSF1R'],\n",
       "  ['ELF1', 'DNTT'],\n",
       "  ['ESR1', 'CASP12'],\n",
       "  ['ESR1', 'IGF1'],\n",
       "  ['ESR1', 'MYC'],\n",
       "  ['ESR1', 'PTGS1'],\n",
       "  ['FOXO1', 'CCNG2'],\n",
       "  ['FOXO1', 'CCR7'],\n",
       "  ['FOXO1', 'IKZF1'],\n",
       "  ['FOXO1', 'IL7R'],\n",
       "  ['FOXO1', 'RUNX2'],\n",
       "  ['FOXO1', 'SELL'],\n",
       "  ['FOXO1', 'TRIB3'],\n",
       "  ['GATA2', 'SPI1'],\n",
       "  ['GFI1B', 'MEIS1'],\n",
       "  ['GFI1B', 'RAG2'],\n",
       "  ['HMGB2', 'RUNX2'],\n",
       "  ['HOXA9', 'FLT3'],\n",
       "  ['IKZF1', 'IL7R'],\n",
       "  ['IKZF1', 'MYC'],\n",
       "  ['IKZF1', 'NOTCH1'],\n",
       "  ['IRF8', 'IL12A'],\n",
       "  ['IRF8', 'SPI1'],\n",
       "  ['MEF2C', 'RUNX2'],\n",
       "  ['MEF2C', 'SOCS2'],\n",
       "  ['MEIS1', 'PF4'],\n",
       "  ['MEIS1', 'FLT3'],\n",
       "  ['MYC', 'BCL2'],\n",
       "  ['MYC', 'NFIA'],\n",
       "  ['MYC', 'PDGFRB'],\n",
       "  ['NDN', 'MYC'],\n",
       "  ['NOTCH1', 'GATA2'],\n",
       "  ['NOTCH1', 'RUNX2'],\n",
       "  ['NOTCH1', 'SPI1'],\n",
       "  ['NR3C2', 'MLLT3'],\n",
       "  ['NR3C2', 'TSC22D3'],\n",
       "  ['PBX1', 'PF4'],\n",
       "  ['PGR', 'ESR1'],\n",
       "  ['PGR', 'PTGER2'],\n",
       "  ['REL', 'IL12A'],\n",
       "  ['REL', 'MYC'],\n",
       "  ['RUNX1T1', 'BCL2'],\n",
       "  ['RUNX2', 'IKZF1'],\n",
       "  ['SATB1', 'BCL2'],\n",
       "  ['SATB1', 'SPI1'],\n",
       "  ['SPI1', 'CSF1R'],\n",
       "  ['SPI1', 'ELF1'],\n",
       "  ['SPI1', 'FLT3'],\n",
       "  ['SPI1', 'IGHM'],\n",
       "  ['SPI1', 'IL7R'],\n",
       "  ['SPI1', 'IRF8'],\n",
       "  ['SPI1', 'MEF2C'],\n",
       "  ['SPI1', 'NCF1'],\n",
       "  ['SPI1', 'PIRB'],\n",
       "  ['VDR', 'RUNX2'],\n",
       "  ['YBX1', 'SLC2A3'],\n",
       "  ['CBFB', 'RUNX2'],\n",
       "  ['CBFB', 'TIE1'],\n",
       "  ['ESR1', 'APOE'],\n",
       "  ['ESR1', 'GGTA1'],\n",
       "  ['ESR1', 'ICA1'],\n",
       "  ['ESR1', 'KCTD12'],\n",
       "  ['ESR1', 'MOGS'],\n",
       "  ['ESR1', 'NDRG2'],\n",
       "  ['ESR1', 'NEAT1'],\n",
       "  ['ESR1', 'NOTCH1'],\n",
       "  ['ESR1', 'NUDT19'],\n",
       "  ['ESR1', 'PGR'],\n",
       "  ['ESR1', 'PRR5'],\n",
       "  ['ESR1', 'RASIP1'],\n",
       "  ['ESR1', 'SOCS2'],\n",
       "  ['ESR1', 'VEGFC'],\n",
       "  ['FOXO1', 'ANKRD44'],\n",
       "  ['FOXO1', 'CCDC112'],\n",
       "  ['FOXO1', 'CD44'],\n",
       "  ['FOXO1', 'CSF1R'],\n",
       "  ['FOXO1', 'CTSL'],\n",
       "  ['FOXO1', 'DACH1'],\n",
       "  ['FOXO1', 'EFNA1'],\n",
       "  ['FOXO1', 'GFI1B'],\n",
       "  ['FOXO1', 'H2-DMA'],\n",
       "  ['FOXO1', 'HNF4A'],\n",
       "  ['FOXO1', 'ICA1'],\n",
       "  ['FOXO1', 'INHBA'],\n",
       "  ['FOXO1', 'IPCEF1'],\n",
       "  ['FOXO1', 'ITGB7'],\n",
       "  ['FOXO1', 'RUNX1T1'],\n",
       "  ['FOXO1', 'VAMP5'],\n",
       "  ['FOXO1', 'VEGFC'],\n",
       "  ['GATA2', 'CCNG2'],\n",
       "  ['GATA2', 'CDK6'],\n",
       "  ['GATA2', 'CRIP1'],\n",
       "  ['GATA2', 'DUSP1'],\n",
       "  ['GATA2', 'HDAC7'],\n",
       "  ['GATA2', 'HLF'],\n",
       "  ['GATA2', 'OSGIN1'],\n",
       "  ['GATA2', 'PLEKHG6'],\n",
       "  ['GATA2', 'RARB'],\n",
       "  ['GATA2', 'RUNX1T1'],\n",
       "  ['GATA2', 'TEK'],\n",
       "  ['GATA2', 'TMEM14C'],\n",
       "  ['HDAC7', 'H2AFY'],\n",
       "  ['HDAC7', 'MAML3'],\n",
       "  ['HDAC7', 'MEF2C'],\n",
       "  ['HDAC7', 'NOTCH1'],\n",
       "  ['HLF', 'GATA2'],\n",
       "  ['HMGB2', 'CDT1'],\n",
       "  ['HMGB2', 'MCM4'],\n",
       "  ['HMGB2', 'MCM7'],\n",
       "  ['HMGB2', 'MKI67'],\n",
       "  ['HMGB2', 'PRIM1'],\n",
       "  ['HMGB2', 'TIPIN'],\n",
       "  ['HMGB2', 'TOP2A'],\n",
       "  ['HMGB2', 'UHRF1'],\n",
       "  ['HNF4A', 'FOXO1'],\n",
       "  ['HNF4A', 'VDR'],\n",
       "  ['HOXA9', 'ANGPT1'],\n",
       "  ['HOXA9', 'ARPP21'],\n",
       "  ['HOXA9', 'DACH1'],\n",
       "  ['HOXA9', 'FCHO2'],\n",
       "  ['HOXA9', 'IL1R1'],\n",
       "  ['HOXA9', 'MEIS1'],\n",
       "  ['HOXA9', 'PBX1'],\n",
       "  ['HOXA9', 'SATB1'],\n",
       "  ['HOXA9', 'SYK'],\n",
       "  ['IKZF1', 'BCL2'],\n",
       "  ['IKZF1', 'DENND2D'],\n",
       "  ['IKZF1', 'MPZL1'],\n",
       "  ['IKZF1', 'NCAPD2'],\n",
       "  ['IKZF1', 'PTP4A3'],\n",
       "  ['IKZF1', 'SLC43A2'],\n",
       "  ['IKZF1', 'TUBB4B'],\n",
       "  ['IRF6', 'CD44'],\n",
       "  ['IRF6', 'FDFT1'],\n",
       "  ['IRF6', 'IRF8'],\n",
       "  ['IRF8', 'CD44'],\n",
       "  ['IRF8', 'IRF6'],\n",
       "  ['IRF8', 'LY86'],\n",
       "  ['MAML3', 'HDAC7'],\n",
       "  ['MAML3', 'MYC'],\n",
       "  ['MAML3', 'NOTCH1'],\n",
       "  ['MCM4', 'CDT1'],\n",
       "  ['MCM4', 'CKS1B'],\n",
       "  ['MCM4', 'HMGB2'],\n",
       "  ['MCM4', 'MCM7'],\n",
       "  ['MCM4', 'MKI67'],\n",
       "  ['MCM4', 'POLA2'],\n",
       "  ['MCM4', 'PRIM1'],\n",
       "  ['MCM4', 'SLBP'],\n",
       "  ['MCM4', 'TIPIN'],\n",
       "  ['MCM4', 'TOP2A'],\n",
       "  ['MCM4', 'UHRF1'],\n",
       "  ['MCM7', 'CDT1'],\n",
       "  ['MCM7', 'CKS1B'],\n",
       "  ['MCM7', 'HMGB2'],\n",
       "  ['MCM7', 'MCM4'],\n",
       "  ['MCM7', 'MKI67'],\n",
       "  ['MCM7', 'POLA2'],\n",
       "  ['MCM7', 'PRIM1'],\n",
       "  ['MCM7', 'SLBP'],\n",
       "  ['MCM7', 'TIPIN'],\n",
       "  ['MCM7', 'TOP2A'],\n",
       "  ['MCM7', 'UHRF1'],\n",
       "  ['MECOM', '2810468N07RIK'],\n",
       "  ['MECOM', 'ARHGAP27'],\n",
       "  ['MECOM', 'CAV2'],\n",
       "  ['MECOM', 'ERP29'],\n",
       "  ['MECOM', 'FHL1'],\n",
       "  ['MECOM', 'FOXO1'],\n",
       "  ['MECOM', 'FUT8'],\n",
       "  ['MECOM', 'GNG11'],\n",
       "  ['MECOM', 'GP9'],\n",
       "  ['MECOM', 'GPX3'],\n",
       "  ['MECOM', 'IL7R'],\n",
       "  ['MECOM', 'KCNK5'],\n",
       "  ['MECOM', 'KCTD12'],\n",
       "  ['MECOM', 'KLF6'],\n",
       "  ['MECOM', 'LCP1'],\n",
       "  ['MECOM', 'MGAT1'],\n",
       "  ['MECOM', 'MYCT1'],\n",
       "  ['MECOM', 'PYGL'],\n",
       "  ['MECOM', 'RAG2'],\n",
       "  ['MECOM', 'RUNX1T1'],\n",
       "  ['MECOM', 'RUNX2'],\n",
       "  ['MECOM', 'SATB1'],\n",
       "  ['MECOM', 'ST8SIA4'],\n",
       "  ['MECOM', 'TMEM123'],\n",
       "  ['MECOM', 'TTLL7'],\n",
       "  ['MECOM', 'WLS'],\n",
       "  ['MEF2C', 'HDAC7'],\n",
       "  ['MEIS1', 'ANGPT1'],\n",
       "  ['MEIS1', 'ARPP21'],\n",
       "  ['MEIS1', 'ARRDC4'],\n",
       "  ['MEIS1', 'DACH1'],\n",
       "  ['MEIS1', 'FCHO2'],\n",
       "  ['MEIS1', 'HOXA9'],\n",
       "  ['MEIS1', 'IL1R1'],\n",
       "  ['MEIS1', 'NDN'],\n",
       "  ['MEIS1', 'PBX1'],\n",
       "  ['MEIS1', 'PLEKHB1'],\n",
       "  ['MEIS1', 'RNF38'],\n",
       "  ['MEIS1', 'SATB1'],\n",
       "  ['MEIS1', 'SCRN1'],\n",
       "  ['MEIS1', 'SYK'],\n",
       "  ['MYC', '2810468N07RIK'],\n",
       "  ['MYC', 'AMPD2'],\n",
       "  ['MYC', 'ANGPT1'],\n",
       "  ['MYC', 'AP1S2'],\n",
       "  ['MYC', 'ARRDC4'],\n",
       "  ['MYC', 'ATPIF1'],\n",
       "  ['MYC', 'CCT2'],\n",
       "  ['MYC', 'CD63'],\n",
       "  ['MYC', 'CDK6'],\n",
       "  ['MYC', 'CKS1B'],\n",
       "  ['MYC', 'CTSL'],\n",
       "  ['MYC', 'DNTT'],\n",
       "  ['MYC', 'DUSP1'],\n",
       "  ['MYC', 'EMP1'],\n",
       "  ['MYC', 'FLT3'],\n",
       "  ['MYC', 'GPX1'],\n",
       "  ['MYC', 'H2-DMA'],\n",
       "  ['MYC', 'HNRNPAB'],\n",
       "  ['MYC', 'HSPE1'],\n",
       "  ['MYC', 'IFITM3'],\n",
       "  ['MYC', 'MAML3'],\n",
       "  ['MYC', 'MYCT1'],\n",
       "  ['MYCN', 'AMPD2'],\n",
       "  ['MYCN', 'ATPIF1'],\n",
       "  ['MYCN', 'CADPS2'],\n",
       "  ['MYCN', 'CBX7'],\n",
       "  ['MYCN', 'CCT2'],\n",
       "  ['MYCN', 'CD63'],\n",
       "  ['MYCN', 'CDT1'],\n",
       "  ['MYCN', 'CHRNB1'],\n",
       "  ['MYCN', 'CPXM1'],\n",
       "  ['MYCN', 'CTSF'],\n",
       "  ['MYCN', 'CTSL'],\n",
       "  ['MYCN', 'DENND2D'],\n",
       "  ['MYCN', 'DTL'],\n",
       "  ['MYCN', 'ELL2'],\n",
       "  ['MYCN', 'ENPP5'],\n",
       "  ['MYCN', 'GPX1'],\n",
       "  ['MYCN', 'H2-DMA'],\n",
       "  ['MYCN', 'HNRNPAB'],\n",
       "  ['MYCN', 'HSPE1'],\n",
       "  ['MYCN', 'ITSN1'],\n",
       "  ['MYCN', 'KCNK5'],\n",
       "  ['MYCN', 'KIT'],\n",
       "  ['MYCN', 'LCP1'],\n",
       "  ['MYCN', 'ME2'],\n",
       "  ['MYCN', 'MTUS1'],\n",
       "  ['MYCN', 'MYO5A'],\n",
       "  ['MYCN', 'N4BP3'],\n",
       "  ['MYCN', 'NPM1'],\n",
       "  ['MYCN', 'NT5C3'],\n",
       "  ['MYCN', 'NUDT19'],\n",
       "  ['MYCN', 'NUPR1'],\n",
       "  ['MYC', 'NOTCH1'],\n",
       "  ['MYCN', 'PBLD2'],\n",
       "  ['MYCN', 'PKN3'],\n",
       "  ['MYC', 'NPM1'],\n",
       "  ['MYCN', 'PTP4A3'],\n",
       "  ['MYCN', 'RANBP1'],\n",
       "  ['MYCN', 'RGS19'],\n",
       "  ['MYCN', 'RHOF'],\n",
       "  ['MYCN', 'SGMS1'],\n",
       "  ['MYCN', 'SLC29A1'],\n",
       "  ['MYCN', 'SLC6A15'],\n",
       "  ['MYCN', 'SMTNL1'],\n",
       "  ['MYCN', 'SOCS2'],\n",
       "  ['MYCN', 'TAPT1'],\n",
       "  ['MYCN', 'UHRF1'],\n",
       "  ['MYC', 'NUPR1'],\n",
       "  ['MYCN', 'YBX1'],\n",
       "  ['MYCN', 'ZFP62'],\n",
       "  ['MYCN', 'ZNRF2'],\n",
       "  ['MYC', 'OBSCN'],\n",
       "  ['MYC', 'PBLD2'],\n",
       "  ['MYC', 'POLA2'],\n",
       "  ['MYC', 'PRDM16'],\n",
       "  ['MYC', 'PYGL'],\n",
       "  ['MYC', 'RANBP1'],\n",
       "  ['MYC', 'RASAL3'],\n",
       "  ['MYC', 'SLC29A1'],\n",
       "  ['MYC', 'SLC6A15'],\n",
       "  ['MYC', 'SOCS2'],\n",
       "  ['MYC', 'SPNS2'],\n",
       "  ['MYC', 'TMEM246'],\n",
       "  ['MYC', 'TRIM16'],\n",
       "  ['MYC', 'UHRF1'],\n",
       "  ['MYC', 'UNC93B1'],\n",
       "  ['MYC', 'VEGFC'],\n",
       "  ['MYC', 'YBX1'],\n",
       "  ['MYC', 'ZNRF2'],\n",
       "  ['NDN', 'ITGB5'],\n",
       "  ['NDN', 'MAGED1'],\n",
       "  ['NDN', 'NUCB2'],\n",
       "  ['NR3C2', 'ATP1A3'],\n",
       "  ['PBX1', 'HOXA9'],\n",
       "  ['PBX1', 'MEIS1'],\n",
       "  ['RARB', 'H1F0'],\n",
       "  ['RARB', 'NPDC1'],\n",
       "  ['RARB', 'TGM2'],\n",
       "  ['REL', 'CD74'],\n",
       "  ['REL', 'FKBP9'],\n",
       "  ['REL', 'FOXO1'],\n",
       "  ['REL', 'HSD3B7'],\n",
       "  ['REL', 'MOGS'],\n",
       "  ['REL', 'N4BP3'],\n",
       "  ['REL', 'NCF1'],\n",
       "  ['REL', 'NEO1'],\n",
       "  ['REL', 'TMEM176B'],\n",
       "  ['RUNX1T1', 'CSF1R'],\n",
       "  ['RUNX2', 'CBFB'],\n",
       "  ['TEAD2', 'MPDZ'],\n",
       "  ['VDR', 'HNF4A'],\n",
       "  ['XRCC6', 'CLU']],\n",
       " 'y_true': array([0., 0., 0., ..., 0., 0., 0.])}"
      ]
     },
     "execution_count": 3,
     "metadata": {},
     "output_type": "execute_result"
    }
   ],
   "source": [
    "bl_gt"
   ]
  },
  {
   "cell_type": "code",
   "execution_count": 10,
   "id": "76fb1d67-c61d-44a1-b7e9-77114d219b08",
   "metadata": {},
   "outputs": [
    {
     "name": "stderr",
     "output_type": "stream",
     "text": [
      "100%|██████████| 120/120 [00:08<00:00, 14.29it/s]\n"
     ]
    },
    {
     "name": "stdout",
     "output_type": "stream",
     "text": [
      "Time cost: 8.417756\n"
     ]
    },
    {
     "name": "stderr",
     "output_type": "stream",
     "text": [
      "100%|██████████| 120/120 [00:13<00:00,  9.20it/s]\n"
     ]
    },
    {
     "name": "stdout",
     "output_type": "stream",
     "text": [
      "Time cost: 13.087809\n"
     ]
    },
    {
     "name": "stderr",
     "output_type": "stream",
     "text": [
      "100%|██████████| 120/120 [00:23<00:00,  5.22it/s]\n"
     ]
    },
    {
     "name": "stdout",
     "output_type": "stream",
     "text": [
      "Time cost: 23.083289\n"
     ]
    },
    {
     "name": "stderr",
     "output_type": "stream",
     "text": [
      "100%|██████████| 120/120 [00:49<00:00,  2.43it/s]\n"
     ]
    },
    {
     "name": "stdout",
     "output_type": "stream",
     "text": [
      "Time cost: 49.663373\n"
     ]
    },
    {
     "name": "stderr",
     "output_type": "stream",
     "text": [
      "100%|██████████| 120/120 [03:23<00:00,  1.69s/it]\n"
     ]
    },
    {
     "name": "stdout",
     "output_type": "stream",
     "text": [
      "Time cost: 203.954268\n"
     ]
    },
    {
     "name": "stderr",
     "output_type": "stream",
     "text": [
      "100%|██████████| 120/120 [14:28<00:00,  7.24s/it]\n"
     ]
    },
    {
     "name": "stdout",
     "output_type": "stream",
     "text": [
      "Time cost: 870.759428\n"
     ]
    },
    {
     "name": "stderr",
     "output_type": "stream",
     "text": [
      "100%|██████████| 250/250 [00:10<00:00, 23.07it/s]\n"
     ]
    },
    {
     "name": "stdout",
     "output_type": "stream",
     "text": [
      "Time cost: 11.163813\n"
     ]
    },
    {
     "name": "stderr",
     "output_type": "stream",
     "text": [
      "100%|██████████| 250/250 [00:10<00:00, 22.90it/s]\n"
     ]
    },
    {
     "name": "stdout",
     "output_type": "stream",
     "text": [
      "Time cost: 10.975705\n"
     ]
    },
    {
     "name": "stderr",
     "output_type": "stream",
     "text": [
      "100%|██████████| 250/250 [00:11<00:00, 22.28it/s]\n"
     ]
    },
    {
     "name": "stdout",
     "output_type": "stream",
     "text": [
      "Time cost: 11.299007\n"
     ]
    },
    {
     "name": "stderr",
     "output_type": "stream",
     "text": [
      "100%|██████████| 250/250 [00:14<00:00, 17.12it/s]\n"
     ]
    },
    {
     "name": "stdout",
     "output_type": "stream",
     "text": [
      "Time cost: 14.752962\n"
     ]
    },
    {
     "name": "stderr",
     "output_type": "stream",
     "text": [
      "100%|██████████| 250/250 [00:57<00:00,  4.36it/s]\n"
     ]
    },
    {
     "name": "stdout",
     "output_type": "stream",
     "text": [
      "Time cost: 57.972512\n"
     ]
    },
    {
     "name": "stderr",
     "output_type": "stream",
     "text": [
      "100%|██████████| 250/250 [03:08<00:00,  1.32it/s]"
     ]
    },
    {
     "name": "stdout",
     "output_type": "stream",
     "text": [
      "Time cost: 190.665432\n"
     ]
    },
    {
     "name": "stderr",
     "output_type": "stream",
     "text": [
      "\n"
     ]
    }
   ],
   "source": [
    "configs = DEFAULT_REGDIFFUSION_CONFIGS\n",
    "configs['verbose'] = False\n",
    "ncell = 1000\n",
    "time_log = []\n",
    "for m in ['deepsem*', 'regdiffusion']:\n",
    "    for ngene in [100, 500, 1000, 2000, 5000, 10000]:\n",
    "        start = datetime.now()\n",
    "        fake_data = np.random.randn(ncell, ngene)\n",
    "        if m == 'regdiffusion':\n",
    "            model = runRegDiffusion(fake_data, configs)\n",
    "        else:\n",
    "            model = runDAZZLE(fake_data, DEFAULT_DEEPSEM_CONFIGS)\n",
    "        time_cost = (datetime.now() - start).total_seconds()\n",
    "        print(f'Time cost: {time_cost}')\n",
    "        time_log.append({\n",
    "            'n_cell': ncell, 'n_gene': ngene, 'model': m, \n",
    "            'time_cost': time_cost\n",
    "        })"
   ]
  },
  {
   "cell_type": "code",
   "execution_count": 11,
   "id": "62cd4610-974f-4ab1-baea-8069184c9cf9",
   "metadata": {},
   "outputs": [],
   "source": [
    "pd.DataFrame(time_log).to_csv('time_cost.csv', index=False)"
   ]
  },
  {
   "cell_type": "code",
   "execution_count": null,
   "id": "28cd4ca6-73df-4fc1-a416-6a57e5513133",
   "metadata": {},
   "outputs": [],
   "source": []
  },
  {
   "cell_type": "code",
   "execution_count": null,
   "id": "ecd85111-9350-438a-a14c-f4e341e76f79",
   "metadata": {},
   "outputs": [],
   "source": []
  },
  {
   "cell_type": "code",
   "execution_count": 3,
   "id": "4f2b04bb-b9a4-48c4-93ed-8680acc59642",
   "metadata": {},
   "outputs": [],
   "source": [
    "dt = 'mESC'\n",
    "bl_data, bl_gt = load_beeline(benchmark_data=dt, benchmark_setting='1000_STRING')"
   ]
  },
  {
   "cell_type": "code",
   "execution_count": 4,
   "id": "4146b77b-d0c8-4c3e-b485-a0f2286da269",
   "metadata": {},
   "outputs": [],
   "source": [
    "configs = DEFAULT_REGDIFFUSION_CONFIGS\n",
    "configs['train_split'] = 1.0"
   ]
  },
  {
   "cell_type": "code",
   "execution_count": 7,
   "id": "4a7ab130-17ae-46b5-bf95-da0ae6a6a10e",
   "metadata": {},
   "outputs": [
    {
     "data": {
      "text/plain": [
       "{'T': 5000,\n",
       " 'start_noise': 0.0001,\n",
       " 'end_noise': 0.02,\n",
       " 'lr_nn': 0.001,\n",
       " 'lr_adj': 2e-05,\n",
       " 'weight_decay_nn': 0.1,\n",
       " 'weight_decay_adj': 0.01,\n",
       " 'sparse_loss_coef': 0.25,\n",
       " 'adj_dropout': 0.3,\n",
       " 'batch_size': 128,\n",
       " 'time_dim': 64,\n",
       " 'celltype_dim': 32,\n",
       " 'hidden_dims': [16, 16, 16],\n",
       " 'n_epoch': 250,\n",
       " 'device': 'cuda',\n",
       " 'verbose': False,\n",
       " 'train_split': 1.0,\n",
       " 'train_split_seed': 123,\n",
       " 'eval_on_n_steps': 10}"
      ]
     },
     "execution_count": 7,
     "metadata": {},
     "output_type": "execute_result"
    }
   ],
   "source": [
    "configs"
   ]
  },
  {
   "cell_type": "code",
   "execution_count": 6,
   "id": "47976b28-74be-41e9-a35c-f76afc2b76c5",
   "metadata": {},
   "outputs": [
    {
     "data": {
      "text/plain": [
       "0.002"
      ]
     },
     "execution_count": 6,
     "metadata": {},
     "output_type": "execute_result"
    }
   ],
   "source": [
    "0.02 / 10"
   ]
  },
  {
   "cell_type": "code",
   "execution_count": 9,
   "id": "50e03beb-f8c2-473b-a905-888111535b41",
   "metadata": {},
   "outputs": [
    {
     "name": "stderr",
     "output_type": "stream",
     "text": [
      "100%|██████████| 250/250 [00:10<00:00, 23.98it/s]\n"
     ]
    },
    {
     "name": "stdout",
     "output_type": "stream",
     "text": [
      "{'AUPR': 0.05200386121239633, 'AUPRR': 2.4453345287467423, 'EP': 776, 'EPR': 4.303479868212178}\n"
     ]
    }
   ],
   "source": [
    "configs['start_noise'] = 0.0021\n",
    "regdiff = runRegDiffusion(bl_data.X, configs, ground_truth=bl_gt)\n",
    "metrics = get_metrics(regdiff.get_adj(), bl_gt)\n",
    "print(metrics)"
   ]
  },
  {
   "cell_type": "code",
   "execution_count": 11,
   "id": "a1d500e9-c4ff-49d4-b7cf-609e2aab6f30",
   "metadata": {},
   "outputs": [
    {
     "name": "stderr",
     "output_type": "stream",
     "text": [
      "100%|██████████| 250/250 [00:10<00:00, 24.93it/s]\n"
     ]
    },
    {
     "name": "stdout",
     "output_type": "stream",
     "text": [
      "{'AUPR': 0.051378516993993234, 'AUPRR': 2.4159294850833937, 'EP': 752, 'EPR': 4.170382552700461}\n"
     ]
    }
   ],
   "source": [
    "configs['start_noise'] = 0.0001\n",
    "regdiff = runRegDiffusion(bl_data.X, configs, ground_truth=bl_gt)\n",
    "metrics = get_metrics(regdiff.get_adj(), bl_gt)\n",
    "print(metrics)"
   ]
  },
  {
   "cell_type": "code",
   "execution_count": 6,
   "id": "7bef769c-3cce-4873-9bbc-6e483178da5e",
   "metadata": {},
   "outputs": [
    {
     "name": "stderr",
     "output_type": "stream",
     "text": [
      "100%|██████████| 250/250 [00:10<00:00, 24.76it/s]\n",
      "100%|██████████| 250/250 [00:10<00:00, 24.51it/s]\n",
      "100%|██████████| 250/250 [00:10<00:00, 24.29it/s]\n",
      "100%|██████████| 250/250 [00:10<00:00, 24.34it/s]\n",
      "100%|██████████| 250/250 [00:10<00:00, 24.58it/s]\n",
      "100%|██████████| 250/250 [00:10<00:00, 24.71it/s]\n",
      "100%|██████████| 250/250 [00:10<00:00, 24.09it/s]\n",
      "100%|██████████| 250/250 [00:10<00:00, 24.58it/s]\n",
      "100%|██████████| 250/250 [00:10<00:00, 24.55it/s]\n",
      "100%|██████████| 250/250 [00:10<00:00, 24.34it/s]\n",
      "100%|██████████| 250/250 [00:11<00:00, 20.99it/s]\n",
      "100%|██████████| 250/250 [00:11<00:00, 21.18it/s]\n",
      "100%|██████████| 250/250 [00:11<00:00, 21.26it/s]\n",
      "100%|██████████| 250/250 [00:11<00:00, 21.20it/s]\n",
      "100%|██████████| 250/250 [00:11<00:00, 21.21it/s]\n",
      "100%|██████████| 250/250 [00:11<00:00, 21.46it/s]\n",
      "100%|██████████| 250/250 [00:11<00:00, 21.21it/s]\n",
      "100%|██████████| 250/250 [00:11<00:00, 21.33it/s]\n",
      "100%|██████████| 250/250 [00:11<00:00, 20.99it/s]\n",
      "100%|██████████| 250/250 [00:11<00:00, 21.14it/s]\n",
      "100%|██████████| 250/250 [00:17<00:00, 14.42it/s]\n",
      "100%|██████████| 250/250 [00:17<00:00, 14.49it/s]\n",
      "100%|██████████| 250/250 [00:17<00:00, 14.50it/s]\n",
      "100%|██████████| 250/250 [00:17<00:00, 14.49it/s]\n",
      "100%|██████████| 250/250 [00:17<00:00, 14.52it/s]\n",
      "100%|██████████| 250/250 [00:17<00:00, 14.52it/s]\n",
      "100%|██████████| 250/250 [00:17<00:00, 14.51it/s]\n",
      "100%|██████████| 250/250 [00:17<00:00, 14.50it/s]\n",
      "100%|██████████| 250/250 [00:17<00:00, 14.43it/s]\n",
      "100%|██████████| 250/250 [00:17<00:00, 14.51it/s]\n",
      "100%|██████████| 250/250 [00:26<00:00,  9.36it/s]\n",
      "100%|██████████| 250/250 [00:26<00:00,  9.36it/s]\n",
      "100%|██████████| 250/250 [00:26<00:00,  9.36it/s]\n",
      "100%|██████████| 250/250 [00:26<00:00,  9.38it/s]\n",
      "100%|██████████| 250/250 [00:26<00:00,  9.36it/s]\n",
      "100%|██████████| 250/250 [00:26<00:00,  9.34it/s]\n",
      "100%|██████████| 250/250 [00:26<00:00,  9.38it/s]\n",
      "100%|██████████| 250/250 [00:26<00:00,  9.40it/s]\n",
      "100%|██████████| 250/250 [00:26<00:00,  9.38it/s]\n",
      "100%|██████████| 250/250 [00:26<00:00,  9.35it/s]\n",
      "100%|██████████| 250/250 [00:53<00:00,  4.70it/s]\n",
      "100%|██████████| 250/250 [00:52<00:00,  4.74it/s]\n",
      "100%|██████████| 250/250 [00:52<00:00,  4.72it/s]\n",
      "100%|██████████| 250/250 [00:52<00:00,  4.77it/s]\n",
      "100%|██████████| 250/250 [00:52<00:00,  4.77it/s]\n",
      "100%|██████████| 250/250 [00:52<00:00,  4.77it/s]\n",
      "100%|██████████| 250/250 [00:52<00:00,  4.74it/s]\n",
      "100%|██████████| 250/250 [00:52<00:00,  4.80it/s]\n",
      "100%|██████████| 250/250 [00:52<00:00,  4.80it/s]\n",
      "100%|██████████| 250/250 [00:52<00:00,  4.73it/s]\n"
     ]
    }
   ],
   "source": [
    "configs = DEFAULT_REGDIFFUSION_CONFIGS\n",
    "configs['train_split'] = 1.0\n",
    "\n",
    "logger = LightLogger()\n",
    "final_metrics = []\n",
    "for hd in [16, 32, 64, 128, 256]:\n",
    "    for _ in range(10):\n",
    "        configs['hidden_dims'] = [hd, hd, hd]\n",
    "        start_time = datetime.now()\n",
    "        regdiff = runRegDiffusion(bl_data.X, configs, ground_truth=bl_gt, logger=logger)\n",
    "        metrics = get_metrics(regdiff.get_adj(), bl_gt)\n",
    "        metrics['hidden_dims'] = hd\n",
    "        metrics['time_cost'] = datetime.now() - start_time\n",
    "        final_metrics.append(metrics)"
   ]
  },
  {
   "cell_type": "code",
   "execution_count": 8,
   "id": "3fb23fcc-a604-4e15-8465-a97f21946fa0",
   "metadata": {},
   "outputs": [
    {
     "name": "stderr",
     "output_type": "stream",
     "text": [
      "100%|██████████| 250/250 [00:06<00:00, 40.19it/s]\n",
      "100%|██████████| 250/250 [00:06<00:00, 38.28it/s]\n",
      "100%|██████████| 250/250 [00:06<00:00, 40.18it/s]\n",
      "100%|██████████| 250/250 [00:06<00:00, 39.18it/s]\n",
      "100%|██████████| 250/250 [00:06<00:00, 40.98it/s]\n",
      "100%|██████████| 250/250 [00:06<00:00, 38.85it/s]\n",
      "100%|██████████| 250/250 [00:06<00:00, 39.80it/s]\n",
      "100%|██████████| 250/250 [00:06<00:00, 39.21it/s]\n",
      "100%|██████████| 250/250 [00:06<00:00, 38.29it/s]\n",
      "100%|██████████| 250/250 [00:06<00:00, 39.75it/s]\n"
     ]
    }
   ],
   "source": [
    "for hd in [8]:\n",
    "    for _ in range(10):\n",
    "        configs['hidden_dims'] = [hd, hd, hd]\n",
    "        start_time = datetime.now()\n",
    "        regdiff = runRegDiffusion(bl_data.X, configs, ground_truth=bl_gt, logger=logger)\n",
    "        metrics = get_metrics(regdiff.get_adj(), bl_gt)\n",
    "        metrics['hidden_dims'] = hd\n",
    "        metrics['time_cost'] = datetime.now() - start_time\n",
    "        final_metrics.append(metrics)"
   ]
  },
  {
   "cell_type": "code",
   "execution_count": 9,
   "id": "da19e9b5-b535-4f00-ba91-a11d8cd09a1c",
   "metadata": {},
   "outputs": [],
   "source": [
    "logger.to_df().to_csv('results/hidden_dim.csv', index=False)"
   ]
  },
  {
   "cell_type": "code",
   "execution_count": 6,
   "id": "0f3ddf3d-3329-4a66-b235-34df37d81212",
   "metadata": {},
   "outputs": [
    {
     "data": {
      "text/plain": [
       "[{'AUPR': 0.05174711296582358,\n",
       "  'AUPRR': 2.433261668426327,\n",
       "  'EP': 754,\n",
       "  'EPR': 4.181473995659771,\n",
       "  'hidden_dims': 16,\n",
       "  'time_cost': datetime.timedelta(seconds=9, microseconds=859782)},\n",
       " {'AUPR': 0.05194929324011775,\n",
       "  'AUPRR': 2.442768624145322,\n",
       "  'EP': 760,\n",
       "  'EPR': 4.2147483245377,\n",
       "  'hidden_dims': 32,\n",
       "  'time_cost': datetime.timedelta(seconds=9, microseconds=46477)},\n",
       " {'AUPR': 0.05133098109170356,\n",
       "  'AUPRR': 2.4136942436895037,\n",
       "  'EP': 754,\n",
       "  'EPR': 4.181473995659771,\n",
       "  'hidden_dims': 64,\n",
       "  'time_cost': datetime.timedelta(seconds=14, microseconds=515699)},\n",
       " {'AUPR': 0.05159759438036729,\n",
       "  'AUPRR': 2.4262309797201107,\n",
       "  'EP': 762,\n",
       "  'EPR': 4.22583976749701,\n",
       "  'hidden_dims': 128,\n",
       "  'time_cost': datetime.timedelta(seconds=23, microseconds=720168)},\n",
       " {'AUPR': 0.050639155669202365,\n",
       "  'AUPRR': 2.3811631093839667,\n",
       "  'EP': 753,\n",
       "  'EPR': 4.175928274180116,\n",
       "  'hidden_dims': 256,\n",
       "  'time_cost': datetime.timedelta(seconds=49, microseconds=73753)}]"
      ]
     },
     "execution_count": 6,
     "metadata": {},
     "output_type": "execute_result"
    }
   ],
   "source": [
    "final_metrics"
   ]
  },
  {
   "cell_type": "code",
   "execution_count": null,
   "id": "393c9c0d-5a2f-4565-874a-4a907484df67",
   "metadata": {},
   "outputs": [],
   "source": []
  },
  {
   "cell_type": "code",
   "execution_count": null,
   "id": "3bcaf1f3-d5c8-4910-8ae9-31b252f4b6db",
   "metadata": {},
   "outputs": [],
   "source": []
  },
  {
   "cell_type": "code",
   "execution_count": 5,
   "id": "52c8f7b0-6657-42f3-87c6-084efce27b46",
   "metadata": {},
   "outputs": [
    {
     "name": "stderr",
     "output_type": "stream",
     "text": [
      "100%|█████████████████████████████████████████████████████████████████████████████████████| 120/120 [00:11<00:00, 10.60it/s]\n"
     ]
    }
   ],
   "source": [
    "train_split = 0.5\n",
    "random_state = np.random.RandomState(123)\n",
    "train_test_split = random_state.rand(bl_dt.X.shape[0])\n",
    "train_index = train_test_split <= train_split\n",
    "test_index = train_test_split > train_split\n",
    "\n",
    "dazzle_model, adjs = runDAZZLE(bl_dt.X[train_index, :], DEFAULT_DAZZLE_CONFIGS)"
   ]
  },
  {
   "cell_type": "code",
   "execution_count": 6,
   "id": "5f96e4e9-7df0-43ba-a0fe-60e75efa1a52",
   "metadata": {},
   "outputs": [
    {
     "data": {
      "text/plain": [
       "{'AUPR': 0.044493309462890374,\n",
       " 'AUPRR': 2.092172069367125,\n",
       " 'EP': 629,\n",
       " 'EPR': 3.4882588107029124}"
      ]
     },
     "execution_count": 6,
     "metadata": {},
     "output_type": "execute_result"
    }
   ],
   "source": [
    "get_metrics(dazzle_model.get_adj(), bl_gt)"
   ]
  },
  {
   "cell_type": "code",
   "execution_count": 8,
   "id": "215d882c-adc0-4989-a1c7-098951207462",
   "metadata": {},
   "outputs": [
    {
     "name": "stderr",
     "output_type": "stream",
     "text": [
      "  8%|██████▉                                                                               | 20/250 [00:00<00:02, 95.90it/s]"
     ]
    },
    {
     "name": "stdout",
     "output_type": "stream",
     "text": [
      "{'train_loss': 0.8930535316467285}\n",
      "{'train_loss': 0.829348087310791}\n",
      "{'train_loss': 0.7519440650939941}\n"
     ]
    },
    {
     "name": "stderr",
     "output_type": "stream",
     "text": [
      " 24%|████████████████████▋                                                                | 61/250 [00:00<00:01, 127.68it/s]"
     ]
    },
    {
     "name": "stdout",
     "output_type": "stream",
     "text": [
      "{'train_loss': 0.6766452789306641}\n",
      "{'train_loss': 0.5885483622550964}\n",
      "{'train_loss': 0.5562198162078857}\n"
     ]
    },
    {
     "name": "stderr",
     "output_type": "stream",
     "text": [
      " 36%|██████████████████████████████▉                                                      | 91/250 [00:00<00:01, 135.82it/s]"
     ]
    },
    {
     "name": "stdout",
     "output_type": "stream",
     "text": [
      "{'train_loss': 0.4005648195743561}\n",
      "{'train_loss': 0.35843849182128906}\n",
      "{'train_loss': 0.3203042447566986}\n"
     ]
    },
    {
     "name": "stderr",
     "output_type": "stream",
     "text": [
      " 48%|████████████████████████████████████████▋                                           | 121/250 [00:00<00:00, 140.22it/s]"
     ]
    },
    {
     "name": "stdout",
     "output_type": "stream",
     "text": [
      "{'train_loss': 0.31303882598876953}\n",
      "{'train_loss': 0.31271854043006897}\n",
      "{'train_loss': 0.3013058602809906}\n"
     ]
    },
    {
     "name": "stderr",
     "output_type": "stream",
     "text": [
      " 60%|██████████████████████████████████████████████████▋                                 | 151/250 [00:01<00:00, 142.59it/s]"
     ]
    },
    {
     "name": "stdout",
     "output_type": "stream",
     "text": [
      "{'train_loss': 0.3381757438182831}\n",
      "{'train_loss': 0.2846384048461914}\n",
      "{'train_loss': 0.27685078978538513}\n"
     ]
    },
    {
     "name": "stderr",
     "output_type": "stream",
     "text": [
      " 72%|████████████████████████████████████████████████████████████▊                       | 181/250 [00:01<00:00, 142.53it/s]"
     ]
    },
    {
     "name": "stdout",
     "output_type": "stream",
     "text": [
      "{'train_loss': 0.3020201325416565}\n",
      "{'train_loss': 0.27233996987342834}\n",
      "{'train_loss': 0.30203545093536377}\n"
     ]
    },
    {
     "name": "stderr",
     "output_type": "stream",
     "text": [
      " 84%|██████████████████████████████████████████████████████████████████████▉             | 211/250 [00:01<00:00, 143.72it/s]"
     ]
    },
    {
     "name": "stdout",
     "output_type": "stream",
     "text": [
      "{'train_loss': 0.3433193862438202}\n",
      "{'train_loss': 0.23052509129047394}\n",
      "{'train_loss': 0.2713199257850647}\n"
     ]
    },
    {
     "name": "stderr",
     "output_type": "stream",
     "text": [
      " 96%|████████████████████████████████████████████████████████████████████████████████▉   | 241/250 [00:01<00:00, 143.87it/s]"
     ]
    },
    {
     "name": "stdout",
     "output_type": "stream",
     "text": [
      "{'train_loss': 0.3227381408214569}\n",
      "{'train_loss': 0.27068713307380676}\n",
      "{'train_loss': 0.27692610025405884}\n"
     ]
    },
    {
     "name": "stderr",
     "output_type": "stream",
     "text": [
      "100%|████████████████████████████████████████████████████████████████████████████████████| 250/250 [00:01<00:00, 136.35it/s]\n"
     ]
    },
    {
     "name": "stdout",
     "output_type": "stream",
     "text": [
      "{'train_loss': 0.2838975191116333}\n"
     ]
    },
    {
     "data": {
      "text/plain": [
       "{'AUPR': 0.047127789703433905,\n",
       " 'AUPRR': 2.2160510534908364,\n",
       " 'EP': 676,\n",
       " 'EPR': 3.748907720246691}"
      ]
     },
     "execution_count": 8,
     "metadata": {},
     "output_type": "execute_result"
    }
   ],
   "source": [
    "regdiff_model = runRegDiffusion(bl_dt.X[train_index, :], DEFAULT_REGDIFFUSION_CONFIGS)\n",
    "get_metrics(regdiff_model.get_adj(), bl_gt)"
   ]
  },
  {
   "cell_type": "code",
   "execution_count": null,
   "id": "3f7c289d-aae3-4b33-90f5-3385da252654",
   "metadata": {},
   "outputs": [],
   "source": []
  }
 ],
 "metadata": {
  "kernelspec": {
   "display_name": "grn",
   "language": "python",
   "name": "grn"
  },
  "language_info": {
   "codemirror_mode": {
    "name": "ipython",
    "version": 3
   },
   "file_extension": ".py",
   "mimetype": "text/x-python",
   "name": "python",
   "nbconvert_exporter": "python",
   "pygments_lexer": "ipython3",
   "version": "3.10.8"
  }
 },
 "nbformat": 4,
 "nbformat_minor": 5
}
