{
 "cells": [
  {
   "cell_type": "code",
   "execution_count": 19,
   "metadata": {},
   "outputs": [
    {
     "name": "stdout",
     "output_type": "stream",
     "text": [
      "The [] keeps fish.\n"
     ]
    }
   ],
   "source": [
    "from sympy import symbols, Eq, solve\n",
    "\n",
    "# Define variables\n",
    "red, green, white, yellow, blue = symbols('red green white yellow blue')\n",
    "englishman, swede, dane, norwegian, german = symbols('englishman swede dane norwegian german')\n",
    "tea, coffee, milk, beer, water = symbols('tea coffee milk beer water')\n",
    "pall_mall, dunhill, blend, blue_masters, prince = symbols('pall_mall dunhill blend blue_masters prince')\n",
    "birds, dogs, cats, horses, fish = symbols('birds dogs cats horses fish')\n",
    "\n",
    "# Define constraints\n",
    "constraints = [\n",
    "    Eq(englishman, red),\n",
    "    Eq(swede, dogs),\n",
    "    Eq(dane, tea),\n",
    "    Eq(green - white, -1),\n",
    "    Eq(green, coffee),\n",
    "    Eq(pall_mall, birds),\n",
    "    Eq(yellow, dunhill),\n",
    "    Eq(milk, 3),\n",
    "    Eq(norwegian, 1),\n",
    "    Eq(abs(blend - cats), 1),\n",
    "    Eq(blue_masters, beer),\n",
    "    Eq(abs(horses - dunhill), 1),\n",
    "    Eq(german, prince),\n",
    "    Eq(abs(norwegian - blue), 1),\n",
    "    Eq(abs(blend - water), 1)\n",
    "]\n",
    "\n",
    "# Find solution\n",
    "solution = solve(constraints, [fish])\n",
    "\n",
    "# Print solution\n",
    "print(f\"The {solution} keeps fish.\")"
   ]
  },
  {
   "cell_type": "code",
   "execution_count": null,
   "metadata": {},
   "outputs": [],
   "source": []
  }
 ],
 "metadata": {
  "kernelspec": {
   "display_name": "continualrl",
   "language": "python",
   "name": "python3"
  },
  "language_info": {
   "codemirror_mode": {
    "name": "ipython",
    "version": 3
   },
   "file_extension": ".py",
   "mimetype": "text/x-python",
   "name": "python",
   "nbconvert_exporter": "python",
   "pygments_lexer": "ipython3",
   "version": "3.9.7"
  },
  "orig_nbformat": 4,
  "vscode": {
   "interpreter": {
    "hash": "7f6e76e437f50039fcb1dabeb26a40fb80edddddd3448a5d408bb52a844f2e97"
   }
  }
 },
 "nbformat": 4,
 "nbformat_minor": 2
}
