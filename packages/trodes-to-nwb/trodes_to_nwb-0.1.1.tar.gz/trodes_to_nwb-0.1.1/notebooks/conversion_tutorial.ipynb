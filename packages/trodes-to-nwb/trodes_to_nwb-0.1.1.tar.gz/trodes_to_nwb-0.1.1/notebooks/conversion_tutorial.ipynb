{
    "cells": [
        {
            "cell_type": "markdown",
            "metadata": {},
            "source": [
                "# trodes_to_nwb\n",
                "\n",
                "To create nwb conversions for a set of files in a directory, call the `create_nwbs` function.\n",
                "\n",
                "#### Arguments\n",
                "**`path:`**\\\n",
                "The create function recursively searches the path argument for files matching the naming convention:\\\n",
                "&nbsp;&nbsp;&nbsp;&nbsp;&nbsp;&nbsp;`{date}_{animal}_{epoch}_{tag}.extension`\\\n",
                "Groupings of sessions and epochs are done specifically on these namings, so ensure accuracy. Once the files have been found, a nwb file will be created for each Session (animal+date) with files found in the directory\n",
                "\n",
                "**`header_reconfig_path:`**\\\n",
                "Path to the reconfig file. Important features taken from this file are:\n",
                "* ntrodes groupings\n",
                "* HWchan\n",
                "* reference electrodes\n",
                "\n",
                "**`probe_metadata_paths:`**\n",
                "a list of paths to probe metadata .yaml files\n",
                "\n",
                "**`output_dir:`**\n",
                "where the nwb file will be saved. File is named by the convention {animal}{date}.nwb\n",
                "\n"
            ]
        },
        {
            "cell_type": "code",
            "execution_count": 1,
            "metadata": {},
            "outputs": [],
            "source": [
                "from trodes_to_nwb.convert import get_file_info, _create_nwb, create_nwbs\n",
                "\n",
                "\n",
                "\n",
                "create_nwbs(path,\n",
                "            header_reconfig_path,\n",
                "            probe_metadata_paths,\n",
                "            output_dir)\n",
                "\n"
            ]
        },
        {
            "cell_type": "code",
            "execution_count": null,
            "metadata": {},
            "outputs": [],
            "source": []
        }
    ],
    "metadata": {
        "kernelspec": {
            "display_name": "trodes_to_nwb",
            "language": "python",
            "name": "python3"
        },
        "language_info": {
            "name": "python",
            "version": "3.11.3"
        },
        "orig_nbformat": 4
    },
    "nbformat": 4,
    "nbformat_minor": 2
}