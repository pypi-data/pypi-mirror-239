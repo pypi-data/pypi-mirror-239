{
 "cells": [
  {
   "attachments": {},
   "cell_type": "markdown",
   "id": "55c4879d",
   "metadata": {},
   "source": [
    "# How to solve a linear system using VQLS amd precomputed quantum circuits\n",
    "\n",
    "This how-to guide explain how to sovle a linear systems of equations using VQLS when you already have quantum circuits to represent your matrix $A$ and your vector $b$"
   ]
  },
  {
   "attachments": {},
   "cell_type": "markdown",
   "id": "20467d44",
   "metadata": {},
   "source": [
    "## Step 1: Create the quantum circuits of your linear system\n",
    "\n",
    "Let's assume that your linear system is represented by the matrix $A$ defined by:\n",
    "\n",
    "$$\n",
    "A = \\frac{1}{2}(X_0 X_1 \\text{CNOT}(0,1) + H_0X_1 \\text{CNOT}(0,1))\n",
    "$$\n",
    "\n",
    "and that the be vector is given by:\n",
    "\n",
    "$$\n",
    "|b\\rangle = H_0H_1|0\\rangle\n",
    "$$\n",
    "\n",
    "It is of course possible to use these circuits to solve the linear system. To this end we simply need to use them as input of the `.solve()` method. Let's create these circuits"
   ]
  },
  {
   "cell_type": "code",
   "execution_count": 1,
   "id": "fd3cee68",
   "metadata": {},
   "outputs": [
    {
     "data": {
      "text/plain": [
       "<qiskit.circuit.instructionset.InstructionSet at 0x7f484bbb9730>"
      ]
     },
     "execution_count": 1,
     "metadata": {},
     "output_type": "execute_result"
    }
   ],
   "source": [
    "from qiskit import QuantumCircuit\n",
    "\n",
    "# number of qbit in the circuit\n",
    "nqbit = 2\n",
    "\n",
    "# first quantum circuit for A\n",
    "qc1 = QuantumCircuit(nqbit)\n",
    "qc1.x(0)\n",
    "qc1.x(1)\n",
    "qc1.cnot(0, 1)\n",
    "\n",
    "# second quantum circuit for A\n",
    "qc2 = QuantumCircuit(nqbit)\n",
    "qc2.h(0)\n",
    "qc2.x(1)\n",
    "qc2.cnot(0, 1)\n",
    "\n",
    "# quantum circuit for b\n",
    "rhs = QuantumCircuit(nqbit)\n",
    "rhs.h(0)\n",
    "rhs.h(1)"
   ]
  },
  {
   "attachments": {},
   "cell_type": "markdown",
   "id": "ee4e65e9",
   "metadata": {},
   "source": [
    "## Step 2 : Create the solver\n",
    "As for the previous tutorial we weill firs create the solver. "
   ]
  },
  {
   "cell_type": "code",
   "execution_count": 2,
   "id": "b285e271",
   "metadata": {},
   "outputs": [],
   "source": [
    "from vqls_prototype import VQLS, VQLSLog\n",
    "from qiskit.primitives import Estimator\n",
    "from qiskit.algorithms import optimizers as opt\n",
    "from qiskit.circuit.library.n_local.real_amplitudes import RealAmplitudes\n",
    "\n",
    "\n",
    "ansatz = RealAmplitudes(nqbit, entanglement=\"full\", reps=3, insert_barriers=False)\n",
    "\n",
    "# instantiate an estimator primitive\n",
    "estimator = Estimator()\n",
    "\n",
    "# create a logger\n",
    "log = VQLSLog([], [])\n",
    "\n",
    "# create the vqls solver\n",
    "vqls = VQLS(estimator, ansatz, opt.CG(maxiter=200))"
   ]
  },
  {
   "attachments": {},
   "cell_type": "markdown",
   "id": "6b7d4582",
   "metadata": {},
   "source": [
    "We can now call the `.solve()` method and use a `List` of `(float, QuantumCircuit)` for the matrix and the `QuantumCircuit`  for the vector."
   ]
  },
  {
   "cell_type": "code",
   "execution_count": 3,
   "id": "b5f3e13f",
   "metadata": {},
   "outputs": [
    {
     "name": "stdout",
     "output_type": "stream",
     "text": [
      "VQLS Iteration 153 Cost 6.365497018379074e-119\r"
     ]
    }
   ],
   "source": [
    "solution = vqls.solve([[0.5, qc1], [0.5, qc2]], rhs)"
   ]
  }
 ],
 "metadata": {
  "kernelspec": {
   "display_name": "Python 3",
   "language": "python",
   "name": "python3"
  },
  "language_info": {
   "codemirror_mode": {
    "name": "ipython",
    "version": 3
   },
   "file_extension": ".py",
   "mimetype": "text/x-python",
   "name": "python",
   "nbconvert_exporter": "python",
   "pygments_lexer": "ipython3",
   "version": "3.8.0"
  }
 },
 "nbformat": 4,
 "nbformat_minor": 5
}
