{
 "cells": [
  {
   "attachments": {},
   "cell_type": "markdown",
   "id": "55c4879d",
   "metadata": {},
   "source": [
    "# How to use runtime for VQLS\n",
    "\n",
    "This how-to guide explain how to sovle a linear systems of equations using VQLS and runtime. We will not cover some aspect that were already explained in the previous tutorial."
   ]
  },
  {
   "attachments": {},
   "cell_type": "markdown",
   "id": "20467d44",
   "metadata": {},
   "source": [
    "## Step 1: Create your problem and solver\n",
    "\n",
    "As in the previous tutorial we first have to create a problem, i.e. a matrix $A$ and a vector $b$. We also need to instantiate a solver "
   ]
  },
  {
   "cell_type": "code",
   "execution_count": null,
   "id": "355aaad6",
   "metadata": {},
   "outputs": [],
   "source": [
    "import numpy as np\n",
    "from qiskit.circuit.library.n_local.real_amplitudes import RealAmplitudes\n",
    "\n",
    "# size of the system\n",
    "size = 4\n",
    "nqbit = int(np.log2(size))\n",
    "\n",
    "# matrix of the linear system\n",
    "A = np.random.rand(size, size)\n",
    "A = A + A.T\n",
    "\n",
    "# right hand side of the linear system\n",
    "b = np.random.rand(size)\n",
    "\n",
    "# ansatz for the solver\n",
    "ansatz = RealAmplitudes(nqbit, entanglement=\"full\", reps=3, insert_barriers=False)"
   ]
  },
  {
   "attachments": {},
   "cell_type": "markdown",
   "id": "4241429f",
   "metadata": {},
   "source": [
    "## Step 2 : Open a runtime session and instantiate the solver inside it\n",
    "\n",
    "To access IBM real hardware we will use the runtime environment. "
   ]
  },
  {
   "cell_type": "code",
   "execution_count": null,
   "id": "bf34c6e9",
   "metadata": {},
   "outputs": [],
   "source": [
    "from qiskit_ibm_runtime import QiskitRuntimeService, Estimator, Session, Options\n",
    "from vqls_prototype import VQLS, VQLSLog\n",
    "from qiskit.algorithms import optimizers as opt\n",
    "\n",
    "# make sure your IBMQ account is saved\n",
    "\n",
    "try:\n",
    "    # start the runtime service\n",
    "    service = QiskitRuntimeService()\n",
    "    backend = \"simulator_statevector\"\n",
    "\n",
    "    # start session\n",
    "    with Session(service=service, backend=backend) as session:\n",
    "        # options of the primitives\n",
    "        options = Options()\n",
    "        options.optimization_level = 3\n",
    "\n",
    "        # estimator\n",
    "        estimator = Estimator(session=session, options=options)\n",
    "\n",
    "        # log\n",
    "        log = VQLSLog([], [])\n",
    "\n",
    "        # declare the solver\n",
    "        vqls = VQLS(estimator, ansatz, optimizer=opt.CG(maxiter=200))\n",
    "\n",
    "        # solve the linear system\n",
    "        solution = vqls.solve(A, b)\n",
    "except:\n",
    "    print(\"make sure you have a valid IBMQ account saved\")"
   ]
  }
 ],
 "metadata": {
  "kernelspec": {
   "display_name": "Python 3",
   "language": "python",
   "name": "python3"
  },
  "language_info": {
   "codemirror_mode": {
    "name": "ipython",
    "version": 3
   },
   "file_extension": ".py",
   "mimetype": "text/x-python",
   "name": "python",
   "nbconvert_exporter": "python",
   "pygments_lexer": "ipython3",
   "version": "3.8.0"
  }
 },
 "nbformat": 4,
 "nbformat_minor": 5
}
