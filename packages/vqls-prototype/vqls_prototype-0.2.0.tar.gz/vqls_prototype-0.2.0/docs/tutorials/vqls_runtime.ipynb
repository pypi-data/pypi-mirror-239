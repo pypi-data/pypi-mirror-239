{
 "cells": [
  {
   "cell_type": "code",
   "execution_count": null,
   "metadata": {},
   "outputs": [],
   "source": [
    "from vqls_prototype import VQLS, VQLSLog\n",
    "from qiskit_ibm_runtime import QiskitRuntimeService, Estimator, Session, Options\n",
    "from qiskit.circuit.library.n_local.real_amplitudes import RealAmplitudes\n",
    "from qiskit.algorithms.optimizers import COBYLA\n",
    "import numpy as np"
   ]
  },
  {
   "attachments": {},
   "cell_type": "markdown",
   "metadata": {},
   "source": [
    "# Variational Quantum Linear Solver\n",
    "\n",
    "The VQLS is an hybrod variational method to solve linear systems \n",
    "\n",
    "$$\n",
    "A \\cdot x = b\n",
    "$$\n",
    "\n",
    "where $A$ is a square (symmetric) matrix and $b$ the solution vector. The matrix $A$ should be expressed as a sum of unitary matrices :\n",
    "\n",
    "$$\n",
    "A = \\sum_n c_n A_n\n",
    "$$\n",
    "\n",
    "VQLS soves for $x$ by creating a variational ansatz $|\\Psi(\\theta)\\rangle = V(\\theta)|0\\rangle$ and a transformation $U$ such as $|b\\rangle U|0\\rangle$. The solution vector $|x\\rangle$ is then obtained by optimizing the parameters $\\theta$ to minimize the cost function :\n",
    "\n",
    "$$\n",
    "C = \\langle \\psi(\\theta) A^\\dagger | (\\mathbb{I} - |b\\rangle\\langle b|) | A \\psi(\\theta) \\rangle\n",
    "$$\n",
    "\n",
    "A great tutorial on VQLS can be found on the qiskit [documentation](https://qiskit.org/textbook/ch-paper-implementations/vqls.html), and more details can be found in the original [article](https://arxiv.org/abs/1909.05820)"
   ]
  },
  {
   "attachments": {},
   "cell_type": "markdown",
   "metadata": {},
   "source": [
    "# Define the system\n",
    "Let's start by creating a random symmetric 4x4 matrix $A$"
   ]
  },
  {
   "cell_type": "code",
   "execution_count": null,
   "metadata": {},
   "outputs": [],
   "source": [
    "nqbit = 2\n",
    "size = 2**nqbit\n",
    "A = np.random.rand(size, size)\n",
    "A = A + A.T"
   ]
  },
  {
   "attachments": {},
   "cell_type": "markdown",
   "metadata": {},
   "source": [
    "and a random solution vector $b$"
   ]
  },
  {
   "cell_type": "code",
   "execution_count": null,
   "metadata": {},
   "outputs": [],
   "source": [
    "b = np.random.rand(size)"
   ]
  },
  {
   "attachments": {},
   "cell_type": "markdown",
   "metadata": {},
   "source": [
    "We can use the `numpy.linalg.solve` method to obtain the solution of this very simple system"
   ]
  },
  {
   "cell_type": "code",
   "execution_count": null,
   "metadata": {},
   "outputs": [],
   "source": [
    "ref_solution = np.linalg.solve(A, b / np.linalg.norm(b))\n",
    "ref_solution = ref_solution / np.linalg.norm(ref_solution)"
   ]
  },
  {
   "attachments": {},
   "cell_type": "markdown",
   "metadata": {},
   "source": [
    "# Define the variational ansatz\n",
    "Qiskit contains a series of variational circtuits that can be used to define variational ansatz. We will use here the so-called `RealAmplitude` circuit. Since our matrix is 4x4 we will use 2 qbits."
   ]
  },
  {
   "cell_type": "code",
   "execution_count": null,
   "metadata": {},
   "outputs": [],
   "source": [
    "ansatz = RealAmplitudes(nqbit, entanglement=\"full\", reps=3, insert_barriers=False)"
   ]
  },
  {
   "attachments": {},
   "cell_type": "markdown",
   "metadata": {},
   "source": [
    "## Start the Runtime session\n",
    "We can start the runtime environement as follow:"
   ]
  },
  {
   "cell_type": "code",
   "execution_count": null,
   "metadata": {},
   "outputs": [],
   "source": [
    "# define the runtime\n",
    "# service = QiskitRuntimeService()\n",
    "# backend = \"simulator_statevector\""
   ]
  },
  {
   "attachments": {},
   "cell_type": "markdown",
   "metadata": {},
   "source": [
    "We can now call the VQLS class within a session to initialize the solver. We use here a statevector backend to obtain very accurate results"
   ]
  },
  {
   "cell_type": "code",
   "execution_count": null,
   "metadata": {},
   "outputs": [],
   "source": [
    "# with Session(service=service, backend=backend) as session:\n",
    "#     options = Options()\n",
    "#     estimator = Estimator(session=session, options=options)\n",
    "#     log = VQLSLog([], [])\n",
    "#     vqls = VQLS(estimator, ansatz, COBYLA(maxiter=250, disp=True), callback=log.update)\n",
    "\n",
    "#     res = vqls.solve(A, b)"
   ]
  },
  {
   "attachments": {},
   "cell_type": "markdown",
   "metadata": {},
   "source": [
    "The accuracy of the solution obtained with the VQLS solver can be estimated by comparing the solution vectors obtained with VQLS and the numpy solver"
   ]
  },
  {
   "cell_type": "code",
   "execution_count": null,
   "metadata": {},
   "outputs": [],
   "source": [
    "# from qiskit.quantum_info import Statevector\n",
    "# import matplotlib.pyplot as plt\n",
    "\n",
    "# vqls_solution = np.real(Statevector(res.state).data)\n",
    "\n",
    "# plt.scatter(ref_solution, -vqls_solution)\n",
    "# plt.plot([-1, 1], [-1, 1], \"--\")"
   ]
  },
  {
   "cell_type": "code",
   "execution_count": null,
   "metadata": {},
   "outputs": [],
   "source": [
    "# plt.plot(log.values)"
   ]
  },
  {
   "cell_type": "code",
   "execution_count": null,
   "metadata": {},
   "outputs": [],
   "source": []
  }
 ],
 "metadata": {
  "kernelspec": {
   "display_name": "qalcore",
   "language": "python",
   "name": "python3"
  },
  "language_info": {
   "codemirror_mode": {
    "name": "ipython",
    "version": 3
   },
   "file_extension": ".py",
   "mimetype": "text/x-python",
   "name": "python",
   "nbconvert_exporter": "python",
   "pygments_lexer": "ipython3",
   "version": "3.8.0"
  },
  "orig_nbformat": 4,
  "vscode": {
   "interpreter": {
    "hash": "390591a6667b05d6f83558ed597f55be1305d4de992db830679d199a6a0e520c"
   }
  }
 },
 "nbformat": 4,
 "nbformat_minor": 2
}
